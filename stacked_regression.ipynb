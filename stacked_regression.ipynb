{
  "nbformat": 4,
  "nbformat_minor": 0,
  "metadata": {
    "colab": {
      "name": "stacked regression.ipynb",
      "provenance": [],
      "authorship_tag": "ABX9TyOz+KUqXkrqs6uJXhr24495",
      "include_colab_link": true
    },
    "kernelspec": {
      "name": "ir",
      "display_name": "R"
    },
    "language_info": {
      "name": "R"
    }
  },
  "cells": [
    {
      "cell_type": "markdown",
      "metadata": {
        "id": "view-in-github",
        "colab_type": "text"
      },
      "source": [
        "<a href=\"https://colab.research.google.com/github/yuna1998/datamining/blob/main/stacked_regression.ipynb\" target=\"_parent\"><img src=\"https://colab.research.google.com/assets/colab-badge.svg\" alt=\"Open In Colab\"/></a>"
      ]
    },
    {
      "cell_type": "code",
      "metadata": {
        "id": "ryE7nAvUW9zD"
      },
      "source": [
        "##Stacked regression with Boston data"
      ],
      "execution_count": null,
      "outputs": []
    },
    {
      "cell_type": "code",
      "metadata": {
        "id": "ALq-5LNlXEMq"
      },
      "source": [
        "library(MASS)"
      ],
      "execution_count": 1,
      "outputs": []
    },
    {
      "cell_type": "code",
      "metadata": {
        "colab": {
          "base_uri": "https://localhost:8080/"
        },
        "id": "dBuCGp9nXLo4",
        "outputId": "e7584d28-33cc-45a0-adbb-30260259341f"
      },
      "source": [
        "install.packages(\"caret\")"
      ],
      "execution_count": 2,
      "outputs": [
        {
          "output_type": "stream",
          "text": [
            "Installing package into ‘/usr/local/lib/R/site-library’\n",
            "(as ‘lib’ is unspecified)\n",
            "\n",
            "also installing the dependencies ‘numDeriv’, ‘SQUAREM’, ‘lava’, ‘prodlim’, ‘iterators’, ‘gower’, ‘ipred’, ‘timeDate’, ‘foreach’, ‘plyr’, ‘ModelMetrics’, ‘reshape2’, ‘recipes’, ‘pROC’\n",
            "\n",
            "\n"
          ],
          "name": "stderr"
        }
      ]
    },
    {
      "cell_type": "code",
      "metadata": {
        "colab": {
          "base_uri": "https://localhost:8080/"
        },
        "id": "F1bOxc3dXNtq",
        "outputId": "6dcc6620-b304-42db-a028-11675213b636"
      },
      "source": [
        "install.packages(\"caretEnsemble\")"
      ],
      "execution_count": 3,
      "outputs": [
        {
          "output_type": "stream",
          "text": [
            "Installing package into ‘/usr/local/lib/R/site-library’\n",
            "(as ‘lib’ is unspecified)\n",
            "\n",
            "also installing the dependencies ‘pbapply’, ‘gridExtra’\n",
            "\n",
            "\n"
          ],
          "name": "stderr"
        }
      ]
    },
    {
      "cell_type": "code",
      "metadata": {
        "colab": {
          "base_uri": "https://localhost:8080/"
        },
        "id": "oQ4Gb9JCXVU2",
        "outputId": "4de81d31-a0b0-436a-f0d9-7f9fd2854b33"
      },
      "source": [
        "install.packages(\"doParallel\")"
      ],
      "execution_count": 6,
      "outputs": [
        {
          "output_type": "stream",
          "text": [
            "Installing package into ‘/usr/local/lib/R/site-library’\n",
            "(as ‘lib’ is unspecified)\n",
            "\n"
          ],
          "name": "stderr"
        }
      ]
    },
    {
      "cell_type": "code",
      "metadata": {
        "colab": {
          "base_uri": "https://localhost:8080/"
        },
        "id": "BFoqsh5DXFNU",
        "outputId": "0583644c-319e-427b-a316-f639f8d82963"
      },
      "source": [
        "library(caret)\n",
        "library(caretEnsemble)\n",
        "library(doParallel)"
      ],
      "execution_count": 7,
      "outputs": [
        {
          "output_type": "stream",
          "text": [
            "Loading required package: lattice\n",
            "\n",
            "Loading required package: ggplot2\n",
            "\n",
            "Warning message in system(\"timedatectl\", intern = TRUE):\n",
            "“running command 'timedatectl' had status 1”\n",
            "\n",
            "Attaching package: ‘caretEnsemble’\n",
            "\n",
            "\n",
            "The following object is masked from ‘package:ggplot2’:\n",
            "\n",
            "    autoplot\n",
            "\n",
            "\n",
            "Loading required package: foreach\n",
            "\n",
            "Loading required package: iterators\n",
            "\n",
            "Loading required package: parallel\n",
            "\n"
          ],
          "name": "stderr"
        }
      ]
    },
    {
      "cell_type": "code",
      "metadata": {
        "id": "d8O_IITuXYT-"
      },
      "source": [
        "nc = detectCores()"
      ],
      "execution_count": 8,
      "outputs": []
    },
    {
      "cell_type": "code",
      "metadata": {
        "id": "8ezgWHVXXZp_"
      },
      "source": [
        "registerDoParallel(nc)"
      ],
      "execution_count": 9,
      "outputs": []
    },
    {
      "cell_type": "code",
      "metadata": {
        "colab": {
          "base_uri": "https://localhost:8080/",
          "height": 35
        },
        "id": "_uOx5tR5YHDH",
        "outputId": "2724c7cf-d9a6-4b97-b958-4e6bb82fb208"
      },
      "source": [
        "nc"
      ],
      "execution_count": 10,
      "outputs": [
        {
          "output_type": "display_data",
          "data": {
            "text/plain": [
              "[1] 2"
            ],
            "text/latex": "2",
            "text/markdown": "2",
            "text/html": [
              "2"
            ]
          },
          "metadata": {
            "tags": []
          }
        }
      ]
    },
    {
      "cell_type": "code",
      "metadata": {
        "id": "aCPV543uYHfz"
      },
      "source": [
        "n = dim(Boston)[1]"
      ],
      "execution_count": 11,
      "outputs": []
    },
    {
      "cell_type": "code",
      "metadata": {
        "colab": {
          "base_uri": "https://localhost:8080/",
          "height": 35
        },
        "id": "W42TnRx9YMhQ",
        "outputId": "8f9128c0-2221-4119-bc9b-78dcf814bfee"
      },
      "source": [
        "n"
      ],
      "execution_count": 12,
      "outputs": [
        {
          "output_type": "display_data",
          "data": {
            "text/plain": [
              "[1] 506"
            ],
            "text/latex": "506",
            "text/markdown": "506",
            "text/html": [
              "506"
            ]
          },
          "metadata": {
            "tags": []
          }
        }
      ]
    },
    {
      "cell_type": "code",
      "metadata": {
        "id": "th5nZbDmYNdy"
      },
      "source": [
        "set.seed(1)"
      ],
      "execution_count": 13,
      "outputs": []
    },
    {
      "cell_type": "code",
      "metadata": {
        "id": "cT33ax0lYOPJ"
      },
      "source": [
        "train = sample(n, n/2)"
      ],
      "execution_count": 15,
      "outputs": []
    },
    {
      "cell_type": "code",
      "metadata": {
        "id": "sX7HwBJTYPp-"
      },
      "source": [
        "X_train = Boston[train, -14]"
      ],
      "execution_count": 16,
      "outputs": []
    },
    {
      "cell_type": "code",
      "metadata": {
        "id": "81ox-PmzYZPV"
      },
      "source": [
        "y_train = Boston[train, 14]"
      ],
      "execution_count": 17,
      "outputs": []
    },
    {
      "cell_type": "code",
      "metadata": {
        "id": "09GMnlUeYcEP"
      },
      "source": [
        "X_test = Boston[-train, -14]"
      ],
      "execution_count": 18,
      "outputs": []
    },
    {
      "cell_type": "code",
      "metadata": {
        "id": "32q6QBt4Yex4"
      },
      "source": [
        "y_test= Boston[-train, 14]"
      ],
      "execution_count": 19,
      "outputs": []
    },
    {
      "cell_type": "code",
      "metadata": {
        "id": "dTQxfNrGYyCd"
      },
      "source": [
        "my_control = trainControl(method = \"cv\", number = 10, savePredictions = \"final\", allowParallel =TRUE )"
      ],
      "execution_count": 20,
      "outputs": []
    },
    {
      "cell_type": "code",
      "metadata": {
        "id": "txhQMRixZAGu"
      },
      "source": [
        "set.seed(2)"
      ],
      "execution_count": 23,
      "outputs": []
    },
    {
      "cell_type": "code",
      "metadata": {
        "colab": {
          "base_uri": "https://localhost:8080/"
        },
        "id": "IdHOiqPRYg7u",
        "outputId": "44096be2-513c-4c1a-f3fc-c05cc531fb00"
      },
      "source": [
        "model_list = caretList(X_train, y_train, methodList = c(\"lm\", \"rf\", \"xgbTree\", \"xgbLinear\", \"svmRadial\"),\n",
        "preProcess = c(\"center\", \"scale\"), trConrol = my_control)"
      ],
      "execution_count": null,
      "outputs": [
        {
          "output_type": "stream",
          "text": [
            "Warning message in trControlCheck(x = trControl, y = target):\n",
            "“trControl$savePredictions not 'all' or 'final'.  Setting to 'final' so we can ensemble the models.”\n",
            "Warning message in trControlCheck(x = trControl, y = target):\n",
            "“indexes not defined in trControl.  Attempting to set them ourselves, so each model in the ensemble will have the same resampling indexes.”\n"
          ],
          "name": "stderr"
        }
      ]
    },
    {
      "cell_type": "code",
      "metadata": {
        "id": "Ldf-mwduZHNV"
      },
      "source": [
        "model_list$lm\n",
        "model_list$rf\n",
        "model_list$xgbTree\n",
        "model_list$xgbLinear\n",
        "model_list$svmRadial"
      ],
      "execution_count": null,
      "outputs": []
    },
    {
      "cell_type": "code",
      "metadata": {
        "id": "wwu3tQFCb4-B"
      },
      "source": [
        "rs = resample(model_list)\n",
        "rs$values\n",
        "dotplot(rs, metric = \"RMSE\")\n",
        "modelCor(rs) #model correlations if high then not so much imporvement by ensemble"
      ],
      "execution_count": null,
      "outputs": []
    },
    {
      "cell_type": "code",
      "metadata": {
        "id": "BU4OkJugb457"
      },
      "source": [
        "#test RMSE\n",
        "p_lm = predeict.train(model_list$lm, newdata = X_test)\n",
        "p_rf = predeict.train(model_list$rf, newdata = X_test)\n",
        "p_xgbTree = predeict.train(model_list$xgbTree, newdata = X_test)\n",
        "p_xgbLinear = predeict.train(model_list$xgbLinear, newdata = X_test)\n",
        "p_svmRadial = predeict.train(model_list$svmRadial, newdata = X_test)"
      ],
      "execution_count": null,
      "outputs": []
    },
    {
      "cell_type": "code",
      "metadata": {
        "id": "n70MEU_8b43N"
      },
      "source": [
        "RMSE(p_lm, y_test)\n",
        "RMSE(p_rf, y_test)\n",
        "RMSE(p_xgbTree, y_test)\n",
        "RMSE(p_xgbLinear, y_test)\n",
        "RMSE(p_svmRadial, y_test)"
      ],
      "execution_count": null,
      "outputs": []
    },
    {
      "cell_type": "code",
      "metadata": {
        "id": "WEbBzJwab4pm"
      },
      "source": [
        "#stacked regression using a linear model\n",
        "set.seed(3)\n",
        "ens1 = caretEnsemble(model_list, metric = \"RMSE\", trConrol = my_control)\n",
        "print(ens1)\n",
        "summary(ens1)"
      ],
      "execution_count": null,
      "outputs": []
    },
    {
      "cell_type": "code",
      "metadata": {
        "id": "BFhcvhNmb4lb"
      },
      "source": [
        "p_ens1 = predict(ens1, newdata = X_test)\n",
        "results = data.frame(\n",
        "    lm = RMSE(p_lm, y_test),\n",
        "    rf = RMSE(p_rf, y_test),\n",
        "    xgbTree = RMSE(p_xgbTree, y_test),\n",
        "    xgbLinear = RMSE(p_xgbLinear, y_test),\n",
        "    svmRadial = RMSE(p_svmRadial, y_test) ,\n",
        "    stacked_regression = RMSE(p_ens1, y_test)\n",
        ")\n"
      ],
      "execution_count": null,
      "outputs": []
    },
    {
      "cell_type": "code",
      "metadata": {
        "id": "o24bf5nnb4i-"
      },
      "source": [
        "#other meta learner  : elastic net : mixture of ridge and LASSO\n",
        "set.seed(4)\n",
        "ens2 = caret$Stack(model_list, method = \"glmnet\", trControl = my_control,\n",
        "matric = \"RMSE\")\n",
        "ens2"
      ],
      "execution_count": null,
      "outputs": []
    },
    {
      "cell_type": "code",
      "metadata": {
        "id": "lCcaxDlKb4gR"
      },
      "source": [
        "p_ens2 = predict(ens2, newdata = X_test)\n",
        "RMSE(p_ens2, y_test)\n",
        "results$SSL = RMSE(p_ens2, y_test)\n",
        "results"
      ],
      "execution_count": null,
      "outputs": []
    },
    {
      "cell_type": "code",
      "metadata": {
        "id": "aP90gP0Ie9rD"
      },
      "source": [
        "set.seed(4)\n",
        "ens3 = caret$Stack(model_list, method = \"gbm\", trConrol = my_contol, metric = \"RMSE\")\n",
        "ens3\n",
        "p_ens3 = predict(ens3, newdata = X_test)\n",
        "RMSE(p_ens3, y_test)"
      ],
      "execution_count": null,
      "outputs": []
    },
    {
      "cell_type": "code",
      "metadata": {
        "id": "iVjuARk9fTkE"
      },
      "source": [
        "set.seed(4)\n",
        "ens3 = caret$Stack(model_list, method = \"rf\", trConrol = my_contol, metric = \"RMSE\")\n",
        "ens3\n",
        "p_ens3 = predict(ens3, newdata = X_test)\n",
        "RMSE(p_ens3, y_test)"
      ],
      "execution_count": null,
      "outputs": []
    }
  ]
}