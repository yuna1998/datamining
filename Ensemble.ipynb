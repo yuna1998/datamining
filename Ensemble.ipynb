{
  "nbformat": 4,
  "nbformat_minor": 0,
  "metadata": {
    "colab": {
      "name": "Ensemble.ipynb",
      "provenance": [],
      "authorship_tag": "ABX9TyMc6M3+mJhMoJn6Zns1hxiy",
      "include_colab_link": true
    },
    "kernelspec": {
      "name": "ir",
      "display_name": "R"
    },
    "language_info": {
      "name": "R"
    }
  },
  "cells": [
    {
      "cell_type": "markdown",
      "metadata": {
        "id": "view-in-github",
        "colab_type": "text"
      },
      "source": [
        "<a href=\"https://colab.research.google.com/github/yuna1998/datamining/blob/main/Ensemble.ipynb\" target=\"_parent\"><img src=\"https://colab.research.google.com/assets/colab-badge.svg\" alt=\"Open In Colab\"/></a>"
      ]
    },
    {
      "cell_type": "markdown",
      "metadata": {
        "id": "JCaG_oZDRk1U"
      },
      "source": [
        "Bagging and RFs\n",
        "\n",
        "randomForest or ranger packages : ranger package can perform parallel computation"
      ]
    },
    {
      "cell_type": "code",
      "metadata": {
        "colab": {
          "base_uri": "https://localhost:8080/"
        },
        "id": "dqBNdi54Rea2",
        "outputId": "3ab0c5ad-5a33-4a19-f685-47fcf431b6b8"
      },
      "source": [
        "install.packages(\"randomForest\")"
      ],
      "execution_count": 1,
      "outputs": [
        {
          "output_type": "stream",
          "text": [
            "Installing package into ‘/usr/local/lib/R/site-library’\n",
            "(as ‘lib’ is unspecified)\n",
            "\n"
          ],
          "name": "stderr"
        }
      ]
    },
    {
      "cell_type": "code",
      "metadata": {
        "colab": {
          "base_uri": "https://localhost:8080/"
        },
        "id": "qa6mvOQYR2oT",
        "outputId": "0b9a6743-5c18-4ec9-ee4d-24e8652283ed"
      },
      "source": [
        "library(randomForest)"
      ],
      "execution_count": 2,
      "outputs": [
        {
          "output_type": "stream",
          "text": [
            "randomForest 4.6-14\n",
            "\n",
            "Type rfNews() to see new features/changes/bug fixes.\n",
            "\n"
          ],
          "name": "stderr"
        }
      ]
    },
    {
      "cell_type": "code",
      "metadata": {
        "id": "3HF7h8SaR4Jw"
      },
      "source": [
        "hdata = read.csv(file = \"Heart.csv\", header = T, stringsAsFacotrs = T)"
      ],
      "execution_count": null,
      "outputs": []
    },
    {
      "cell_type": "code",
      "metadata": {
        "id": "AySzQptUSVi0"
      },
      "source": [
        "head(hdata)"
      ],
      "execution_count": null,
      "outputs": []
    },
    {
      "cell_type": "code",
      "metadata": {
        "id": "HmkEP697Srs2"
      },
      "source": [
        "hdata$X = NULL"
      ],
      "execution_count": null,
      "outputs": []
    },
    {
      "cell_type": "code",
      "metadata": {
        "id": "fBI0_G4XSwmP"
      },
      "source": [
        "str(hdata)"
      ],
      "execution_count": null,
      "outputs": []
    },
    {
      "cell_type": "markdown",
      "metadata": {
        "id": "aFzbQE77SyC1"
      },
      "source": [
        "check missing"
      ]
    },
    {
      "cell_type": "code",
      "metadata": {
        "id": "Ae_4k-elSzAN"
      },
      "source": [
        "sum(is.na(hdatas))"
      ],
      "execution_count": null,
      "outputs": []
    },
    {
      "cell_type": "markdown",
      "metadata": {
        "id": "jgHskRFnS0X_"
      },
      "source": [
        "small number of missing - > remove them"
      ]
    },
    {
      "cell_type": "code",
      "metadata": {
        "id": "esS4yCyTS317"
      },
      "source": [
        "hdata = na.omit(hadta)"
      ],
      "execution_count": null,
      "outputs": []
    },
    {
      "cell_type": "code",
      "metadata": {
        "id": "lPgp98ptS57f"
      },
      "source": [
        "n = dim(hdata)[1]"
      ],
      "execution_count": null,
      "outputs": []
    },
    {
      "cell_type": "code",
      "metadata": {
        "id": "BOZ-cezXS79X"
      },
      "source": [
        "n"
      ],
      "execution_count": null,
      "outputs": []
    },
    {
      "cell_type": "markdown",
      "metadata": {
        "id": "ZmiVowpKTBhR"
      },
      "source": [
        "13 predictors and a binary response"
      ]
    },
    {
      "cell_type": "code",
      "metadata": {
        "id": "6Se-E7i4TaB3"
      },
      "source": [
        "set.seed(10)"
      ],
      "execution_count": null,
      "outputs": []
    },
    {
      "cell_type": "code",
      "metadata": {
        "id": "6USCkIgNS-Ed"
      },
      "source": [
        "train = sample(n, n/2)\n",
        "htrain = hdata[train,]\n",
        "htest = hdata[-train,]"
      ],
      "execution_count": null,
      "outputs": []
    },
    {
      "cell_type": "code",
      "metadata": {
        "id": "r0cnttZXTY9w"
      },
      "source": [
        "hb =randomForest(AHD~., data = htrain, mtry = 13, importance =T )"
      ],
      "execution_count": null,
      "outputs": []
    },
    {
      "cell_type": "code",
      "metadata": {
        "id": "Q2Tn1k7ETv-M"
      },
      "source": [
        "hb"
      ],
      "execution_count": null,
      "outputs": []
    },
    {
      "cell_type": "code",
      "metadata": {
        "id": "iRdS0Z7ITxyz"
      },
      "source": [
        "predb = predict(hb, newdata = htest)"
      ],
      "execution_count": null,
      "outputs": []
    },
    {
      "cell_type": "code",
      "metadata": {
        "id": "-LJ-BT0hT71x"
      },
      "source": [
        "predb"
      ],
      "execution_count": null,
      "outputs": []
    },
    {
      "cell_type": "code",
      "metadata": {
        "id": "dRhHv6KbT87C"
      },
      "source": [
        "mean(predb!=htest$AHD) #test classification error estimate for bagging"
      ],
      "execution_count": null,
      "outputs": []
    },
    {
      "cell_type": "code",
      "metadata": {
        "id": "LJjLyFhbUEmK"
      },
      "source": [
        "sqrt(13)"
      ],
      "execution_count": null,
      "outputs": []
    },
    {
      "cell_type": "code",
      "metadata": {
        "id": "hYjDSqNoUCe7"
      },
      "source": [
        "hrf =randomForest(AHD~., data = htrain, mtry = 4, importance =T )"
      ],
      "execution_count": null,
      "outputs": []
    },
    {
      "cell_type": "code",
      "metadata": {
        "id": "K1h0lLjHUHpc"
      },
      "source": [
        "hrf"
      ],
      "execution_count": null,
      "outputs": []
    },
    {
      "cell_type": "code",
      "metadata": {
        "id": "7wpHX4f5UJSX"
      },
      "source": [
        "predrf = predict(hrf, newdata = htest)"
      ],
      "execution_count": null,
      "outputs": []
    },
    {
      "cell_type": "code",
      "metadata": {
        "id": "-sxQKwnlUNjV"
      },
      "source": [
        "predrf"
      ],
      "execution_count": null,
      "outputs": []
    },
    {
      "cell_type": "code",
      "metadata": {
        "id": "0opVF99TUOoB"
      },
      "source": [
        "mean(predrf != htest$AHD) #test classification error estimate for rf"
      ],
      "execution_count": null,
      "outputs": []
    },
    {
      "cell_type": "code",
      "metadata": {
        "id": "nWyk93-_UhLQ"
      },
      "source": [
        "hrf$err"
      ],
      "execution_count": null,
      "outputs": []
    },
    {
      "cell_type": "code",
      "metadata": {
        "id": "Lo-SJs_YUbtZ"
      },
      "source": [
        "we may want to tune mtry by OOB errors"
      ],
      "execution_count": null,
      "outputs": []
    },
    {
      "cell_type": "code",
      "metadata": {
        "id": "iiHtz5FPUfuK"
      },
      "source": [
        "error = numeric()"
      ],
      "execution_count": null,
      "outputs": []
    },
    {
      "cell_type": "code",
      "metadata": {
        "id": "73ykpt68Us_6"
      },
      "source": [
        "for (i in 1 : 13){\n",
        "    f = randomForest(AHD~., data = htrain, mtry = i, importance = T)\n",
        "    err[i] f$err[500,1]\n",
        "}"
      ],
      "execution_count": null,
      "outputs": []
    },
    {
      "cell_type": "code",
      "metadata": {
        "id": "06X9OVOBU39V"
      },
      "source": [
        "which.min(err)"
      ],
      "execution_count": null,
      "outputs": []
    },
    {
      "cell_type": "code",
      "metadata": {
        "id": "JdvYGwikU5cU"
      },
      "source": [
        "hrf = randomForest(AHD~., data = htrain, mtry = 2, importance = T)\n",
        "hrf"
      ],
      "execution_count": null,
      "outputs": []
    },
    {
      "cell_type": "code",
      "metadata": {
        "id": "-yDfr-3FVBWm"
      },
      "source": [
        "predrf = predict(hrf, newdata = htest)\n",
        "predrf"
      ],
      "execution_count": null,
      "outputs": []
    },
    {
      "cell_type": "code",
      "metadata": {
        "id": "y-RUfVcCVEkg"
      },
      "source": [
        "mean(predrf != htest$AHD) #test classification error estimate for rf with m=2"
      ],
      "execution_count": null,
      "outputs": []
    },
    {
      "cell_type": "code",
      "metadata": {
        "id": "_N2uLOlnVL1C"
      },
      "source": [
        "importance(hrf)\n",
        "varImpPlot(hrf)"
      ],
      "execution_count": null,
      "outputs": []
    },
    {
      "cell_type": "markdown",
      "metadata": {
        "id": "EHTkxZrxVh8n"
      },
      "source": [
        "regression bagging RFs"
      ]
    },
    {
      "cell_type": "code",
      "metadata": {
        "id": "Mw4aMIhhVkkA"
      },
      "source": [
        "library(MASS)"
      ],
      "execution_count": 3,
      "outputs": []
    },
    {
      "cell_type": "code",
      "metadata": {
        "id": "CgXEtnr2Vlhv"
      },
      "source": [
        "dim(Boston)[1] -> n"
      ],
      "execution_count": 12,
      "outputs": []
    },
    {
      "cell_type": "code",
      "metadata": {
        "colab": {
          "base_uri": "https://localhost:8080/",
          "height": 35
        },
        "id": "RQkQFwnUVqhI",
        "outputId": "a5fcd2c0-7b54-49e3-a7b5-763b32d9dbe2"
      },
      "source": [
        "n"
      ],
      "execution_count": 5,
      "outputs": [
        {
          "output_type": "display_data",
          "data": {
            "text/plain": [
              "[1] 506"
            ],
            "text/latex": "506",
            "text/markdown": "506",
            "text/html": [
              "506"
            ]
          },
          "metadata": {
            "tags": []
          }
        }
      ]
    },
    {
      "cell_type": "code",
      "metadata": {
        "colab": {
          "base_uri": "https://localhost:8080/",
          "height": 35
        },
        "id": "D-6HASO1Vqqq",
        "outputId": "1d95a3b1-e684-4ae7-a570-42ee459065b1"
      },
      "source": [
        "sum(is.na(Boston))"
      ],
      "execution_count": 6,
      "outputs": [
        {
          "output_type": "display_data",
          "data": {
            "text/plain": [
              "[1] 0"
            ],
            "text/latex": "0",
            "text/markdown": "0",
            "text/html": [
              "0"
            ]
          },
          "metadata": {
            "tags": []
          }
        }
      ]
    },
    {
      "cell_type": "code",
      "metadata": {
        "colab": {
          "base_uri": "https://localhost:8080/"
        },
        "id": "bfYBOFc4Vs-N",
        "outputId": "65f389bb-a9ef-4fe9-a1e9-5da6779b393c"
      },
      "source": [
        "str(Boston)"
      ],
      "execution_count": 7,
      "outputs": [
        {
          "output_type": "stream",
          "text": [
            "'data.frame':\t506 obs. of  14 variables:\n",
            " $ crim   : num  0.00632 0.02731 0.02729 0.03237 0.06905 ...\n",
            " $ zn     : num  18 0 0 0 0 0 12.5 12.5 12.5 12.5 ...\n",
            " $ indus  : num  2.31 7.07 7.07 2.18 2.18 2.18 7.87 7.87 7.87 7.87 ...\n",
            " $ chas   : int  0 0 0 0 0 0 0 0 0 0 ...\n",
            " $ nox    : num  0.538 0.469 0.469 0.458 0.458 0.458 0.524 0.524 0.524 0.524 ...\n",
            " $ rm     : num  6.58 6.42 7.18 7 7.15 ...\n",
            " $ age    : num  65.2 78.9 61.1 45.8 54.2 58.7 66.6 96.1 100 85.9 ...\n",
            " $ dis    : num  4.09 4.97 4.97 6.06 6.06 ...\n",
            " $ rad    : int  1 2 2 3 3 3 5 5 5 5 ...\n",
            " $ tax    : num  296 242 242 222 222 222 311 311 311 311 ...\n",
            " $ ptratio: num  15.3 17.8 17.8 18.7 18.7 18.7 15.2 15.2 15.2 15.2 ...\n",
            " $ black  : num  397 397 393 395 397 ...\n",
            " $ lstat  : num  4.98 9.14 4.03 2.94 5.33 ...\n",
            " $ medv   : num  24 21.6 34.7 33.4 36.2 28.7 22.9 27.1 16.5 18.9 ...\n"
          ],
          "name": "stdout"
        }
      ]
    },
    {
      "cell_type": "code",
      "metadata": {
        "id": "Fm0Q_I7SVtjn"
      },
      "source": [
        "set.seed(10)"
      ],
      "execution_count": 8,
      "outputs": []
    },
    {
      "cell_type": "code",
      "metadata": {
        "id": "rhqERgDkVv3b"
      },
      "source": [
        "train = sample(n, n/2)"
      ],
      "execution_count": 13,
      "outputs": []
    },
    {
      "cell_type": "code",
      "metadata": {
        "id": "cNhp7K3TVw7A"
      },
      "source": [
        "btrain = Boston[train,]"
      ],
      "execution_count": 14,
      "outputs": []
    },
    {
      "cell_type": "code",
      "metadata": {
        "id": "5NawVxOrVzHN"
      },
      "source": [
        "btest = Boston[-train,]"
      ],
      "execution_count": 15,
      "outputs": []
    },
    {
      "cell_type": "code",
      "metadata": {
        "id": "vc0Fy58uWQOR"
      },
      "source": [
        "bb = randomForest(medv~., data = btrain, mtry = 13, importance = T)"
      ],
      "execution_count": 16,
      "outputs": []
    },
    {
      "cell_type": "code",
      "metadata": {
        "colab": {
          "base_uri": "https://localhost:8080/",
          "height": 185
        },
        "id": "Dge6sXd6WWon",
        "outputId": "319dc36e-67c0-4be8-9e26-8b73c01d0172"
      },
      "source": [
        "bb"
      ],
      "execution_count": 17,
      "outputs": [
        {
          "output_type": "display_data",
          "data": {
            "text/plain": [
              "\n",
              "Call:\n",
              " randomForest(formula = medv ~ ., data = btrain, mtry = 13, importance = T) \n",
              "               Type of random forest: regression\n",
              "                     Number of trees: 500\n",
              "No. of variables tried at each split: 13\n",
              "\n",
              "          Mean of squared residuals: 11.68507\n",
              "                    % Var explained: 84.78"
            ]
          },
          "metadata": {
            "tags": []
          }
        }
      ]
    },
    {
      "cell_type": "code",
      "metadata": {
        "id": "f6sfyCIUWaev"
      },
      "source": [
        "pb = predict(bb, newdata = btest)"
      ],
      "execution_count": 18,
      "outputs": []
    },
    {
      "cell_type": "code",
      "metadata": {
        "colab": {
          "base_uri": "https://localhost:8080/",
          "height": 35
        },
        "id": "qWbtY0pwWfk1",
        "outputId": "531997e4-0384-4d3c-c782-97be8203dc81"
      },
      "source": [
        "mean( (pb-btest$medv)^2) #test MSE"
      ],
      "execution_count": 20,
      "outputs": [
        {
          "output_type": "display_data",
          "data": {
            "text/plain": [
              "[1] 13.76681"
            ],
            "text/latex": "13.7668146930683",
            "text/markdown": "13.7668146930683",
            "text/html": [
              "13.7668146930683"
            ]
          },
          "metadata": {
            "tags": []
          }
        }
      ]
    },
    {
      "cell_type": "code",
      "metadata": {
        "colab": {
          "base_uri": "https://localhost:8080/",
          "height": 35
        },
        "id": "A4jFLDFLWjRY",
        "outputId": "3d0e3f4a-b0ee-4e54-941d-a96019c7e732"
      },
      "source": [
        "sqrt(mean( (pb-btest$medv)^2)) # test  RMSE"
      ],
      "execution_count": 21,
      "outputs": [
        {
          "output_type": "display_data",
          "data": {
            "text/plain": [
              "[1] 3.710366"
            ],
            "text/latex": "3.71036584356156",
            "text/markdown": "3.71036584356156",
            "text/html": [
              "3.71036584356156"
            ]
          },
          "metadata": {
            "tags": []
          }
        }
      ]
    },
    {
      "cell_type": "code",
      "metadata": {
        "colab": {
          "base_uri": "https://localhost:8080/",
          "height": 220
        },
        "id": "mFfFYNVRWo9N",
        "outputId": "3ee514be-b9a2-45f0-ee77-b9696eb498ae"
      },
      "source": [
        "brf = randomForest(medv~., data = btrain, mtry = 4, importance = T)\n",
        "brf\n",
        "prf = predict(brf, newdata = btest)\n",
        "mean((prf-btest$medv)^2)\n",
        "sqrt(mean((prf-btest$medv)^2))"
      ],
      "execution_count": 23,
      "outputs": [
        {
          "output_type": "display_data",
          "data": {
            "text/plain": [
              "\n",
              "Call:\n",
              " randomForest(formula = medv ~ ., data = btrain, mtry = 4, importance = T) \n",
              "               Type of random forest: regression\n",
              "                     Number of trees: 500\n",
              "No. of variables tried at each split: 4\n",
              "\n",
              "          Mean of squared residuals: 12.26687\n",
              "                    % Var explained: 84.03"
            ]
          },
          "metadata": {
            "tags": []
          }
        },
        {
          "output_type": "display_data",
          "data": {
            "text/plain": [
              "[1] 13.46026"
            ],
            "text/latex": "13.4602582515829",
            "text/markdown": "13.4602582515829",
            "text/html": [
              "13.4602582515829"
            ]
          },
          "metadata": {
            "tags": []
          }
        },
        {
          "output_type": "display_data",
          "data": {
            "text/plain": [
              "[1] 3.668822"
            ],
            "text/latex": "3.66882246116965",
            "text/markdown": "3.66882246116965",
            "text/html": [
              "3.66882246116965"
            ]
          },
          "metadata": {
            "tags": []
          }
        }
      ]
    },
    {
      "cell_type": "code",
      "metadata": {
        "colab": {
          "base_uri": "https://localhost:8080/",
          "height": 35
        },
        "id": "UqsNupChXE_X",
        "outputId": "c161b9ca-c9ed-426a-c2d2-c3c0d478559e"
      },
      "source": [
        "cor(prf, btest$medv)"
      ],
      "execution_count": 24,
      "outputs": [
        {
          "output_type": "display_data",
          "data": {
            "text/plain": [
              "[1] 0.9369665"
            ],
            "text/latex": "0.936966523631793",
            "text/markdown": "0.936966523631793",
            "text/html": [
              "0.936966523631793"
            ]
          },
          "metadata": {
            "tags": []
          }
        }
      ]
    },
    {
      "cell_type": "code",
      "metadata": {
        "colab": {
          "base_uri": "https://localhost:8080/",
          "height": 437
        },
        "id": "kHMC4sNQXUfB",
        "outputId": "5559134a-4b26-4f46-814c-fb1d7f966c4e"
      },
      "source": [
        "plot(prf, btest$medv)\n",
        "abline(0,1)"
      ],
      "execution_count": 27,
      "outputs": [
        {
          "output_type": "display_data",
          "data": {
            "image/png": "[encoded data removed]",
            "text/plain": [
              "plot without title"
            ]
          },
          "metadata": {
            "tags": [],
            "image/png": {
              "width": 420,
              "height": 420
            }
          }
        }
      ]
    },
    {
      "cell_type": "code",
      "metadata": {
        "colab": {
          "base_uri": "https://localhost:8080/",
          "height": 465
        },
        "id": "JUHbKQ-kXXby",
        "outputId": "ffeca1b5-f5ab-4205-b0c1-09c901bf3f14"
      },
      "source": [
        "importance(brf)"
      ],
      "execution_count": 28,
      "outputs": [
        {
          "output_type": "display_data",
          "data": {
            "text/plain": [
              "        %IncMSE   IncNodePurity\n",
              "crim    13.621071 1340.1894    \n",
              "zn       5.437845  258.0891    \n",
              "indus   10.296384 1078.7063    \n",
              "chas     3.745029  113.0382    \n",
              "nox     12.875510 1216.4255    \n",
              "rm      32.065028 5031.9006    \n",
              "age     10.561017  610.3803    \n",
              "dis      9.837023  959.9739    \n",
              "rad      4.941800  156.7917    \n",
              "tax      8.025318  583.5752    \n",
              "ptratio 12.616650 1372.0413    \n",
              "black    6.903659  374.0038    \n",
              "lstat   27.200642 5778.5414    "
            ],
            "text/latex": "A matrix: 13 × 2 of type dbl\n\\begin{tabular}{r|ll}\n  & \\%IncMSE & IncNodePurity\\\\\n\\hline\n\tcrim & 13.621071 & 1340.1894\\\\\n\tzn &  5.437845 &  258.0891\\\\\n\tindus & 10.296384 & 1078.7063\\\\\n\tchas &  3.745029 &  113.0382\\\\\n\tnox & 12.875510 & 1216.4255\\\\\n\trm & 32.065028 & 5031.9006\\\\\n\tage & 10.561017 &  610.3803\\\\\n\tdis &  9.837023 &  959.9739\\\\\n\trad &  4.941800 &  156.7917\\\\\n\ttax &  8.025318 &  583.5752\\\\\n\tptratio & 12.616650 & 1372.0413\\\\\n\tblack &  6.903659 &  374.0038\\\\\n\tlstat & 27.200642 & 5778.5414\\\\\n\\end{tabular}\n",
            "text/markdown": "\nA matrix: 13 × 2 of type dbl\n\n| <!--/--> | %IncMSE | IncNodePurity |\n|---|---|---|\n| crim | 13.621071 | 1340.1894 |\n| zn |  5.437845 |  258.0891 |\n| indus | 10.296384 | 1078.7063 |\n| chas |  3.745029 |  113.0382 |\n| nox | 12.875510 | 1216.4255 |\n| rm | 32.065028 | 5031.9006 |\n| age | 10.561017 |  610.3803 |\n| dis |  9.837023 |  959.9739 |\n| rad |  4.941800 |  156.7917 |\n| tax |  8.025318 |  583.5752 |\n| ptratio | 12.616650 | 1372.0413 |\n| black |  6.903659 |  374.0038 |\n| lstat | 27.200642 | 5778.5414 |\n\n",
            "text/html": [
              "<table class=\"dataframe\">\n",
              "<caption>A matrix: 13 × 2 of type dbl</caption>\n",
              "<thead>\n",
              "\t<tr><th></th><th scope=col>%IncMSE</th><th scope=col>IncNodePurity</th></tr>\n",
              "</thead>\n",
              "<tbody>\n",
              "\t<tr><th scope=row>crim</th><td>13.621071</td><td>1340.1894</td></tr>\n",
              "\t<tr><th scope=row>zn</th><td> 5.437845</td><td> 258.0891</td></tr>\n",
              "\t<tr><th scope=row>indus</th><td>10.296384</td><td>1078.7063</td></tr>\n",
              "\t<tr><th scope=row>chas</th><td> 3.745029</td><td> 113.0382</td></tr>\n",
              "\t<tr><th scope=row>nox</th><td>12.875510</td><td>1216.4255</td></tr>\n",
              "\t<tr><th scope=row>rm</th><td>32.065028</td><td>5031.9006</td></tr>\n",
              "\t<tr><th scope=row>age</th><td>10.561017</td><td> 610.3803</td></tr>\n",
              "\t<tr><th scope=row>dis</th><td> 9.837023</td><td> 959.9739</td></tr>\n",
              "\t<tr><th scope=row>rad</th><td> 4.941800</td><td> 156.7917</td></tr>\n",
              "\t<tr><th scope=row>tax</th><td> 8.025318</td><td> 583.5752</td></tr>\n",
              "\t<tr><th scope=row>ptratio</th><td>12.616650</td><td>1372.0413</td></tr>\n",
              "\t<tr><th scope=row>black</th><td> 6.903659</td><td> 374.0038</td></tr>\n",
              "\t<tr><th scope=row>lstat</th><td>27.200642</td><td>5778.5414</td></tr>\n",
              "</tbody>\n",
              "</table>\n"
            ]
          },
          "metadata": {
            "tags": []
          }
        }
      ]
    },
    {
      "cell_type": "code",
      "metadata": {
        "id": "g5ABuRDDXYMI"
      },
      "source": [
        ""
      ],
      "execution_count": null,
      "outputs": []
    }
  ]
}