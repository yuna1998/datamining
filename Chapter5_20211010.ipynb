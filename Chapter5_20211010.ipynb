{
  "nbformat": 4,
  "nbformat_minor": 0,
  "metadata": {
    "colab": {
      "name": "Chapter5_20211010.ipynb",
      "provenance": [],
      "authorship_tag": "ABX9TyPwUBzO98Bu6B4pXQjufyoT",
      "include_colab_link": true
    },
    "kernelspec": {
      "name": "python3",
      "display_name": "Python 3"
    },
    "language_info": {
      "name": "python"
    }
  },
  "cells": [
    {
      "cell_type": "markdown",
      "metadata": {
        "id": "view-in-github",
        "colab_type": "text"
      },
      "source": [
        "<a href=\"https://colab.research.google.com/github/yuna1998/datamining/blob/main/Chapter5_20211010.ipynb\" target=\"_parent\"><img src=\"https://colab.research.google.com/assets/colab-badge.svg\" alt=\"Open In Colab\"/></a>"
      ]
    },
    {
      "cell_type": "code",
      "metadata": {
        "id": "vhukuO8FeaN7"
      },
      "source": [
        "import sklearn"
      ],
      "execution_count": 1,
      "outputs": []
    },
    {
      "cell_type": "code",
      "metadata": {
        "id": "iNpwHp9qfCut"
      },
      "source": [
        "%matplotlib inline\n",
        "import matplotlib as mpl\n",
        "import matplotlib.pyplot as plt\n",
        "mpl.rc('axes', labelsize = 14)\n",
        "mpl.rc('xtick', labelsize = 12)\n",
        "mpl.rc('ytick',labelsize = 12)"
      ],
      "execution_count": 2,
      "outputs": []
    },
    {
      "cell_type": "code",
      "metadata": {
        "id": "1z3aSg-hfQ4z"
      },
      "source": [
        "## SVM : 선형, 비선형 분류, 회귀, 이상치 탐색 모두에 사용할 수 있음\n"
      ],
      "execution_count": 3,
      "outputs": []
    },
    {
      "cell_type": "code",
      "metadata": {
        "id": "54Qh5P_IiWF_"
      },
      "source": [
        "from sklearn.svm import SVC\n",
        "from sklearn import datasets"
      ],
      "execution_count": 4,
      "outputs": []
    },
    {
      "cell_type": "code",
      "metadata": {
        "id": "Ek_l1vc4iaI-"
      },
      "source": [
        "## 모든 샘플이 바깥쪽에 올바르게 분류 : 하드 마진 분류\n",
        "## 문제점 1. 데이터가 선형적으로 구분될 수 있어야 제대로 작동\n",
        "## 문제점 2. 이상치에 매우 민감"
      ],
      "execution_count": 5,
      "outputs": []
    },
    {
      "cell_type": "code",
      "metadata": {
        "id": "Gw00FFM6jEFb"
      },
      "source": [
        "## 불꽃 데이터set 적재 후 특성 스케일 변경\n",
        "## 품종 감지 위해 선형 SVM 훈련 시킴"
      ],
      "execution_count": 6,
      "outputs": []
    },
    {
      "cell_type": "code",
      "metadata": {
        "id": "ywpTJjGVjOhR"
      },
      "source": [
        "import numpy as np"
      ],
      "execution_count": 7,
      "outputs": []
    },
    {
      "cell_type": "code",
      "metadata": {
        "id": "_IoYbKxLjPP5"
      },
      "source": [
        "from sklearn.pipeline import Pipeline"
      ],
      "execution_count": 8,
      "outputs": []
    },
    {
      "cell_type": "code",
      "metadata": {
        "id": "KUpLn3idjW3-"
      },
      "source": [
        "from sklearn.preprocessing import StandardScaler\n",
        "from sklearn.svm import LinearSVC"
      ],
      "execution_count": 9,
      "outputs": []
    },
    {
      "cell_type": "code",
      "metadata": {
        "id": "GCoM3SG7jchA"
      },
      "source": [
        "iris = datasets.load_iris()"
      ],
      "execution_count": 10,
      "outputs": []
    },
    {
      "cell_type": "code",
      "metadata": {
        "id": "97ZOkPYHjiDO"
      },
      "source": [
        "X = iris[\"data\"][:, (2,3)] ## 꽃잎 길이, 꽃잎 넓이\n",
        "y = (iris[\"target\"] ==2).astype(np.float64) ##Iris -Virginica인 것만 추출"
      ],
      "execution_count": 11,
      "outputs": []
    },
    {
      "cell_type": "code",
      "metadata": {
        "id": "g7n9NfJaj4x4"
      },
      "source": [
        "svm_clf = Pipeline([\n",
        "                    (\"scaler\", StandardScaler()),\n",
        "                    (\"Linear_scv\", LinearSVC(C= 1, loss = 'hinge')),\n",
        "])"
      ],
      "execution_count": 12,
      "outputs": []
    },
    {
      "cell_type": "code",
      "metadata": {
        "colab": {
          "base_uri": "https://localhost:8080/"
        },
        "id": "F0LmSPw0kG_U",
        "outputId": "a4a4e5c3-eea9-4b9a-96d7-a01117b60a8d"
      },
      "source": [
        "svm_clf.fit(X,y)"
      ],
      "execution_count": 13,
      "outputs": [
        {
          "output_type": "execute_result",
          "data": {
            "text/plain": [
              "Pipeline(memory=None,\n",
              "         steps=[('scaler',\n",
              "                 StandardScaler(copy=True, with_mean=True, with_std=True)),\n",
              "                ('Linear_scv',\n",
              "                 LinearSVC(C=1, class_weight=None, dual=True,\n",
              "                           fit_intercept=True, intercept_scaling=1,\n",
              "                           loss='hinge', max_iter=1000, multi_class='ovr',\n",
              "                           penalty='l2', random_state=None, tol=0.0001,\n",
              "                           verbose=0))],\n",
              "         verbose=False)"
            ]
          },
          "metadata": {},
          "execution_count": 13
        }
      ]
    },
    {
      "cell_type": "code",
      "metadata": {
        "colab": {
          "base_uri": "https://localhost:8080/"
        },
        "id": "ZpvYETFHkf1j",
        "outputId": "57d9d5b8-a860-4405-b6e3-4c8ab629c5d0"
      },
      "source": [
        "svm_clf.predict([[5.5, 1.7]])"
      ],
      "execution_count": 14,
      "outputs": [
        {
          "output_type": "execute_result",
          "data": {
            "text/plain": [
              "array([1.])"
            ]
          },
          "metadata": {},
          "execution_count": 14
        }
      ]
    },
    {
      "cell_type": "code",
      "metadata": {
        "id": "fpuRQQqhksfy"
      },
      "source": [
        "## 비선형 SVM 분류\n",
        "## 비선형 dataset 다루는 방법 1. 다항 특성 같은 특성 추가\n",
        "## PolynomialFeatures 변환기와 StandardScaler, LinearSVC 연결해 Pipeline 만듦"
      ],
      "execution_count": 15,
      "outputs": []
    },
    {
      "cell_type": "code",
      "metadata": {
        "id": "sVc3FarjlK91"
      },
      "source": [
        "from sklearn.datasets import make_moons\n",
        "from sklearn.preprocessing import PolynomialFeatures"
      ],
      "execution_count": 16,
      "outputs": []
    },
    {
      "cell_type": "code",
      "metadata": {
        "id": "MgKfnFoMlRUo"
      },
      "source": [
        "X,y = make_moons(n_samples = 100, noise = 0.15)"
      ],
      "execution_count": 17,
      "outputs": []
    },
    {
      "cell_type": "code",
      "metadata": {
        "id": "LfSWDt8alVPu"
      },
      "source": [
        "polynomial_svm_clf = Pipeline([\n",
        "                               (\"poly_features\", PolynomialFeatures( degree = 3)),\n",
        "                               (\"scaler\", StandardScaler()),\n",
        "                               (\"svm_clf\", LinearSVC(C = 10, loss = \"hinge\"))\n",
        "])"
      ],
      "execution_count": 19,
      "outputs": []
    },
    {
      "cell_type": "code",
      "metadata": {
        "colab": {
          "base_uri": "https://localhost:8080/"
        },
        "id": "TFlC-TIYlrm8",
        "outputId": "4036f14a-e56b-4f8a-de3b-d7af95663d57"
      },
      "source": [
        "polynomial_svm_clf.fit(X,y)"
      ],
      "execution_count": 20,
      "outputs": [
        {
          "output_type": "execute_result",
          "data": {
            "text/plain": [
              "Pipeline(memory=None,\n",
              "         steps=[('poly_features',\n",
              "                 PolynomialFeatures(degree=3, include_bias=True,\n",
              "                                    interaction_only=False, order='C')),\n",
              "                ('scaler',\n",
              "                 StandardScaler(copy=True, with_mean=True, with_std=True)),\n",
              "                ('svm_clf',\n",
              "                 LinearSVC(C=10, class_weight=None, dual=True,\n",
              "                           fit_intercept=True, intercept_scaling=1,\n",
              "                           loss='hinge', max_iter=1000, multi_class='ovr',\n",
              "                           penalty='l2', random_state=None, tol=0.0001,\n",
              "                           verbose=0))],\n",
              "         verbose=False)"
            ]
          },
          "metadata": {},
          "execution_count": 20
        }
      ]
    },
    {
      "cell_type": "code",
      "metadata": {
        "id": "Iki5RLOzl0Mz"
      },
      "source": [
        "## 커널 트릭(kernel trick) : 실제로는 특성을 추가하지 않지만. 다항식의 특성을 많이 추가한 것 같은 결과 얻을 수 있음"
      ],
      "execution_count": 21,
      "outputs": []
    },
    {
      "cell_type": "code",
      "metadata": {
        "id": "QAiQ6bl0mGTW"
      },
      "source": [
        "poly_kernel_svm_clf = Pipeline([\n",
        "                                (\"scaler\", StandardScaler()),\n",
        "                                (\"svm_clf\", SVC(kernel = \"poly\", degree = 3, coef0 = 1, C = 5)) ## coef0 : 모델이 높은 차수와 낮은 차수에 얼마나 영향을 받을 지 조절\n",
        "])"
      ],
      "execution_count": 22,
      "outputs": []
    },
    {
      "cell_type": "code",
      "metadata": {
        "colab": {
          "base_uri": "https://localhost:8080/"
        },
        "id": "AY6H6jpFmXQU",
        "outputId": "e40d455b-1bf6-48cc-bbdf-c4d55fb4f3f8"
      },
      "source": [
        "poly_kernel_svm_clf.fit(X,y)"
      ],
      "execution_count": 23,
      "outputs": [
        {
          "output_type": "execute_result",
          "data": {
            "text/plain": [
              "Pipeline(memory=None,\n",
              "         steps=[('scaler',\n",
              "                 StandardScaler(copy=True, with_mean=True, with_std=True)),\n",
              "                ('svm_clf',\n",
              "                 SVC(C=5, break_ties=False, cache_size=200, class_weight=None,\n",
              "                     coef0=1, decision_function_shape='ovr', degree=3,\n",
              "                     gamma='scale', kernel='poly', max_iter=-1,\n",
              "                     probability=False, random_state=None, shrinking=True,\n",
              "                     tol=0.001, verbose=False))],\n",
              "         verbose=False)"
            ]
          },
          "metadata": {},
          "execution_count": 23
        }
      ]
    },
    {
      "cell_type": "code",
      "metadata": {
        "id": "NpvMdbsAmaMR"
      },
      "source": [
        "## 적절한 하이퍼파러미터를 찾기 위해서는 그리드 탐색 사용해야 함\n",
        "## 처음에는 그리드 폭 크게 해서 -> 최적의 값 찾기 위해 그리드 세밀하게 검색\n"
      ],
      "execution_count": 24,
      "outputs": []
    },
    {
      "cell_type": "code",
      "metadata": {
        "id": "TiqjSQ3OnKjt"
      },
      "source": [
        "## 비선형 다루는 법 2 : 각 샘플이 특정 랜드마크와 얼마나 닮았는지 측정(유사도 함수)\n",
        "## ex) x1 = -2, x2 = 1 추가 tau = 0.3인 가우시안 방사 기저 함수(RBF)를 유사도 함수로 정의\n",
        "## FBF는 0~1까지 변화하며 종 모양으로 나타남"
      ],
      "execution_count": 25,
      "outputs": []
    },
    {
      "cell_type": "code",
      "metadata": {
        "id": "MzCE-xqcn6Qr"
      },
      "source": [
        "rbf_kernel_svm_clf = Pipeline([\n",
        "                               (\"scaler\", StandardScaler()),\n",
        "                               (\"svm_clf\", SVC(kernel = \"rbf\", gamma = 5, C = 0.001))\n",
        "])"
      ],
      "execution_count": 27,
      "outputs": []
    },
    {
      "cell_type": "code",
      "metadata": {
        "colab": {
          "base_uri": "https://localhost:8080/"
        },
        "id": "sAz0i4_aoIKc",
        "outputId": "11e9a5ab-4819-43a8-ad61-64bade32f5bb"
      },
      "source": [
        "rbf_kernel_svm_clf.fit(X,y)"
      ],
      "execution_count": 28,
      "outputs": [
        {
          "output_type": "execute_result",
          "data": {
            "text/plain": [
              "Pipeline(memory=None,\n",
              "         steps=[('scaler',\n",
              "                 StandardScaler(copy=True, with_mean=True, with_std=True)),\n",
              "                ('svm_clf',\n",
              "                 SVC(C=0.001, break_ties=False, cache_size=200,\n",
              "                     class_weight=None, coef0=0.0,\n",
              "                     decision_function_shape='ovr', degree=3, gamma=5,\n",
              "                     kernel='rbf', max_iter=-1, probability=False,\n",
              "                     random_state=None, shrinking=True, tol=0.001,\n",
              "                     verbose=False))],\n",
              "         verbose=False)"
            ]
          },
          "metadata": {},
          "execution_count": 28
        }
      ]
    },
    {
      "cell_type": "code",
      "metadata": {
        "id": "tlr536DRoPhc"
      },
      "source": [
        "## kernel의 종류 : 문자열 커널(string)은 텍스트 문서나 DNA 서열 분류할 때 사용\n",
        "## 제일 먼저 선형 커널 가장 먼저 시도해야 함. LinearSVC가 SVC(kernel = \"linear\")보다 훨씬 빠름\n",
        "## 훈련 세트가 너무 크지 않다면 RBF 커널 사용해봐도 좋음\n"
      ],
      "execution_count": 29,
      "outputs": []
    },
    {
      "cell_type": "code",
      "metadata": {
        "id": "5nw7pGyvpSeB"
      },
      "source": [
        "## SVM 회귀\n",
        "## 제한된 마진 오류 안에서 선 안에 가능한 한 많은 샘플이 들어가도록 함\n",
        "## 선의 폭은 하이퍼파러미터 e로 조절함."
      ],
      "execution_count": 30,
      "outputs": []
    },
    {
      "cell_type": "code",
      "metadata": {
        "id": "zEKFBnMXpeXq"
      },
      "source": [
        "from sklearn.svm import LinearSVR"
      ],
      "execution_count": 31,
      "outputs": []
    },
    {
      "cell_type": "code",
      "metadata": {
        "id": "x5dbvcRcpib-"
      },
      "source": [
        "svm_reg = LinearSVR(epsilon = 1.5)"
      ],
      "execution_count": 33,
      "outputs": []
    },
    {
      "cell_type": "code",
      "metadata": {
        "colab": {
          "base_uri": "https://localhost:8080/"
        },
        "id": "AANrr-L8pniq",
        "outputId": "3f7f38e3-0015-4e81-ecaa-631787a383af"
      },
      "source": [
        "svm_reg.fit(X,y)"
      ],
      "execution_count": 34,
      "outputs": [
        {
          "output_type": "execute_result",
          "data": {
            "text/plain": [
              "LinearSVR(C=1.0, dual=True, epsilon=1.5, fit_intercept=True,\n",
              "          intercept_scaling=1.0, loss='epsilon_insensitive', max_iter=1000,\n",
              "          random_state=None, tol=0.0001, verbose=0)"
            ]
          },
          "metadata": {},
          "execution_count": 34
        }
      ]
    },
    {
      "cell_type": "code",
      "metadata": {
        "id": "qjIaIUEnprbX"
      },
      "source": [
        "from sklearn.svm import SVR"
      ],
      "execution_count": 35,
      "outputs": []
    },
    {
      "cell_type": "code",
      "metadata": {
        "id": "3AoblLWgpxdp"
      },
      "source": [
        "svm_poly_reg = SVR(kernel = \"poly\", degree = 2, C = 100, epsilon = 0.1)"
      ],
      "execution_count": 36,
      "outputs": []
    },
    {
      "cell_type": "code",
      "metadata": {
        "colab": {
          "base_uri": "https://localhost:8080/"
        },
        "id": "9220Pyump8Xq",
        "outputId": "515b121c-9d3b-429c-d7a1-9d7f021d992c"
      },
      "source": [
        "svm_poly_reg.fit(X,y)"
      ],
      "execution_count": 37,
      "outputs": [
        {
          "output_type": "execute_result",
          "data": {
            "text/plain": [
              "SVR(C=100, cache_size=200, coef0=0.0, degree=2, epsilon=0.1, gamma='scale',\n",
              "    kernel='poly', max_iter=-1, shrinking=True, tol=0.001, verbose=False)"
            ]
          },
          "metadata": {},
          "execution_count": 37
        }
      ]
    },
    {
      "cell_type": "code",
      "metadata": {
        "id": "LDKISY3lp-cC"
      },
      "source": [
        "## 연습문제 8\n",
        "iris = datasets.load_iris()"
      ],
      "execution_count": 38,
      "outputs": []
    },
    {
      "cell_type": "code",
      "metadata": {
        "id": "HdKiaNSOqY8v"
      },
      "source": [
        "X = iris[\"data\"][:, (2,3)]\n",
        "y = iris[\"target\"]"
      ],
      "execution_count": 45,
      "outputs": []
    },
    {
      "cell_type": "code",
      "metadata": {
        "id": "p0-mjgZkqaLH"
      },
      "source": [
        "setosa_or_versicolor = (y==0) | ( y==1) ## setosa와 versicolor 클래스는 선형적으로 구분 가능"
      ],
      "execution_count": 47,
      "outputs": []
    },
    {
      "cell_type": "code",
      "metadata": {
        "id": "_WpIFF26qsU1"
      },
      "source": [
        "X = X[setosa_or_versicolor]\n",
        "y = y[setosa_or_versicolor]"
      ],
      "execution_count": 48,
      "outputs": []
    },
    {
      "cell_type": "code",
      "metadata": {
        "id": "EOU9YGvsqyEa"
      },
      "source": [
        "from sklearn.linear_model import SGDClassifier"
      ],
      "execution_count": 51,
      "outputs": []
    },
    {
      "cell_type": "code",
      "metadata": {
        "id": "YKzJgcU5qytU"
      },
      "source": [
        "## 1. C = 3\n",
        "C = 3\n",
        "alpha = 1 / ( C * len(X))"
      ],
      "execution_count": 54,
      "outputs": []
    },
    {
      "cell_type": "code",
      "metadata": {
        "id": "WF-JDHG3rKQf"
      },
      "source": [
        "lin_clf = LinearSVC(loss = \"hinge\", C = C, random_state = 42)\n",
        "svm_clf = SVC(kernel = \"linear\", C = C)\n",
        "sgd_clf = SGDClassifier(loss = \"hinge\", learning_rate = \"constant\", eta0 = 0.001, alpha = alpha,\n",
        "                        max_iter = 1000, tol = 1e-3, random_state = 42)"
      ],
      "execution_count": 57,
      "outputs": []
    },
    {
      "cell_type": "code",
      "metadata": {
        "id": "KMG_EhowrzFL"
      },
      "source": [
        "scaler = StandardScaler()\n",
        "X_scaled = scaler.fit_transform(X)"
      ],
      "execution_count": 58,
      "outputs": []
    },
    {
      "cell_type": "code",
      "metadata": {
        "colab": {
          "base_uri": "https://localhost:8080/"
        },
        "id": "vho-jhURsCjv",
        "outputId": "65fcfb61-1536-4c96-d723-eac12997c339"
      },
      "source": [
        "lin_clf.fit(X_scaled, y)\n",
        "svm_clf.fit(X_scaled, y)\n",
        "sgd_clf.fit(X_scaled, y)\n",
        "print(\"LinearSVC:\", lin_clf.intercept_, lin_clf.coef_)\n",
        "print(\"SVC:\", svm_clf.intercept_, svm_clf.coef_)\n",
        "print(\"SGDClassifier(alpha = {:.5f}):\", format(sgd_clf.alpha), sgd_clf.intercept_, sgd_clf.coef_)"
      ],
      "execution_count": 62,
      "outputs": [
        {
          "output_type": "stream",
          "name": "stdout",
          "text": [
            "LinearSVC: [0.28474272] [[1.05364736 1.09903308]]\n",
            "SVC: [0.31896852] [[1.1203284  1.02625193]]\n",
            "SGDClassifier(alpha = {:.5f}): 0.0033333333333333335 [0.116] [[0.77555005 0.72820513]]\n"
          ]
        }
      ]
    },
    {
      "cell_type": "code",
      "metadata": {
        "id": "TZX8iyLZsK6_"
      },
      "source": [
        "## 모델의 결정 경계\n",
        "##각 결정 경계의 기울기 & 편향 계산\n",
        "w1 = - lin_clf.coef_[0,0] / lin_clf.coef_[0,1] # 기울기\n",
        "b1 = - lin_clf.intercept_[0] / lin_clf.coef_[0,1] # 편향\n",
        "\n",
        "w2 = - svm_clf.coef_[0,0] / svm_clf.coef_[0,1]\n",
        "b2 = - svm_clf.intercept_[0] / svm_clf.coef_[0,1]\n",
        "\n",
        "w3 = - sgd_clf.coef_[0,0] / sgd_clf.coef_[0,1]\n",
        "b3 = - sgd_clf.intercept_[0] / sgd_clf.coef_[0,1]"
      ],
      "execution_count": 63,
      "outputs": []
    },
    {
      "cell_type": "code",
      "metadata": {
        "id": "tqdjpUljujNO"
      },
      "source": [
        "## 결정 경계를 원본 스케일로 변환\n",
        "line1 = scaler.inverse_transform([[-10, -10 * w1 + b1], [10, 10 * w1 + b1]])\n",
        "line2 = scaler.inverse_transform([[-10, -10 * w2 + b2], [10, 10 * w2 + b2]])\n",
        "line3 = scaler.inverse_transform([[-10, -10 * w3 + b3], [10, 10 * w3 + b3]])"
      ],
      "execution_count": 64,
      "outputs": []
    },
    {
      "cell_type": "code",
      "metadata": {
        "colab": {
          "base_uri": "https://localhost:8080/",
          "height": 291
        },
        "id": "wzzm5e5Pu1xN",
        "outputId": "5d8ee162-329a-4d3f-e085-b86944e5875e"
      },
      "source": [
        "## 결정 경계 그리기\n",
        "plt.figure(figsize=(11, 4))\n",
        "plt.plot(line1[:, 0], line1[:, 1], \"k:\", label=\"LinearSVC\")\n",
        "plt.plot(line2[:, 0], line2[:, 1], \"b--\", linewidth=2, label=\"SVC\")\n",
        "plt.plot(line3[:, 0], line3[:, 1], \"r-\", label=\"SGDClassifier\")\n",
        "plt.plot(X[:, 0][y==1], X[:, 1][y==1], \"bs\") # label=\"Iris versicolor\"\n",
        "plt.plot(X[:, 0][y==0], X[:, 1][y==0], \"yo\") # label=\"Iris setosa\"\n",
        "plt.xlabel(\"Petal length\", fontsize=14)\n",
        "plt.ylabel(\"Petal width\", fontsize=14)\n",
        "plt.legend(loc=\"upper center\", fontsize=14)\n",
        "plt.axis([0, 5.5, 0, 2])\n",
        "\n",
        "plt.show()"
      ],
      "execution_count": 65,
      "outputs": [
        {
          "output_type": "display_data",
          "data": {
            "image/png": "[encoded data removed]",
            "text/plain": [
              "<Figure size 792x288 with 1 Axes>"
            ]
          },
          "metadata": {
            "needs_background": "light"
          }
        }
      ]
    },
    {
      "cell_type": "code",
      "metadata": {
        "colab": {
          "base_uri": "https://localhost:8080/",
          "height": 347
        },
        "id": "vIjYR2Kcu5qv",
        "outputId": "56f9d176-53bb-467f-f035-a24b9f721bb1"
      },
      "source": [
        "## 1. C = 5\n",
        "C = 5\n",
        "alpha = 1 / ( C * len(X))\n",
        "\n",
        "lin_clf = LinearSVC(loss = \"hinge\", C = C, random_state = 42)\n",
        "svm_clf = SVC(kernel = \"linear\", C = C)\n",
        "sgd_clf = SGDClassifier(loss = \"hinge\", learning_rate = \"constant\", eta0 = 0.001, alpha = alpha,\n",
        "                        max_iter = 1000, tol = 1e-3, random_state = 42)\n",
        "\n",
        "scaler = StandardScaler()\n",
        "X_scaled = scaler.fit_transform(X)\n",
        "\n",
        "lin_clf.fit(X_scaled, y)\n",
        "svm_clf.fit(X_scaled, y)\n",
        "sgd_clf.fit(X_scaled, y)\n",
        "print(\"LinearSVC:\", lin_clf.intercept_, lin_clf.coef_)\n",
        "print(\"SVC:\", svm_clf.intercept_, svm_clf.coef_)\n",
        "print(\"SGDClassifier(alpha = {:.5f}):\", format(sgd_clf.alpha), sgd_clf.intercept_, sgd_clf.coef_)\n",
        "\n",
        "w1 = - lin_clf.coef_[0,0] / lin_clf.coef_[0,1] \n",
        "b1 = - lin_clf.intercept_[0] / lin_clf.coef_[0,1] \n",
        "\n",
        "w2 = - svm_clf.coef_[0,0] / svm_clf.coef_[0,1]\n",
        "b2 = - svm_clf.intercept_[0] / svm_clf.coef_[0,1]\n",
        "\n",
        "w3 = - sgd_clf.coef_[0,0] / sgd_clf.coef_[0,1]\n",
        "b3 = - sgd_clf.intercept_[0] / sgd_clf.coef_[0,1]\n",
        "\n",
        "line1 = scaler.inverse_transform([[-10, -10 * w1 + b1], [10, 10 * w1 + b1]])\n",
        "line2 = scaler.inverse_transform([[-10, -10 * w2 + b2], [10, 10 * w2 + b2]])\n",
        "line3 = scaler.inverse_transform([[-10, -10 * w3 + b3], [10, 10 * w3 + b3]])\n",
        "\n",
        "plt.figure(figsize=(11, 4))\n",
        "plt.plot(line1[:, 0], line1[:, 1], \"k:\", label=\"LinearSVC\")\n",
        "plt.plot(line2[:, 0], line2[:, 1], \"b--\", linewidth=2, label=\"SVC\")\n",
        "plt.plot(line3[:, 0], line3[:, 1], \"r-\", label=\"SGDClassifier\")\n",
        "plt.plot(X[:, 0][y==1], X[:, 1][y==1], \"bs\") # label=\"Iris versicolor\"\n",
        "plt.plot(X[:, 0][y==0], X[:, 1][y==0], \"yo\") # label=\"Iris setosa\"\n",
        "plt.xlabel(\"Petal length\", fontsize=14)\n",
        "plt.ylabel(\"Petal width\", fontsize=14)\n",
        "plt.legend(loc=\"upper center\", fontsize=14)\n",
        "plt.axis([0, 5.5, 0, 2])\n",
        "\n",
        "plt.show()"
      ],
      "execution_count": 66,
      "outputs": [
        {
          "output_type": "stream",
          "name": "stdout",
          "text": [
            "LinearSVC: [0.28474272] [[1.05364736 1.09903308]]\n",
            "SVC: [0.31896852] [[1.1203284  1.02625193]]\n",
            "SGDClassifier(alpha = {:.5f}): 0.002 [0.117] [[0.77714169 0.72981762]]\n"
          ]
        },
        {
          "output_type": "display_data",
          "data": {
            "image/png": "[encoded data removed]",
            "text/plain": [
              "<Figure size 792x288 with 1 Axes>"
            ]
          },
          "metadata": {
            "needs_background": "light"
          }
        }
      ]
    },
    {
      "cell_type": "code",
      "metadata": {
        "id": "uXrD20CxxCRi"
      },
      "source": [
        "## 비슷한 모델이 만들어짐"
      ],
      "execution_count": null,
      "outputs": []
    }
  ]
}