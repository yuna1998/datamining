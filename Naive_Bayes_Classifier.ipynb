{
  "nbformat": 4,
  "nbformat_minor": 0,
  "metadata": {
    "colab": {
      "name": "Naive Bayes Classifier.ipynb",
      "provenance": [],
      "authorship_tag": "ABX9TyOraHWRoLqy+EpZGFm1wSpJ",
      "include_colab_link": true
    },
    "kernelspec": {
      "name": "ir",
      "display_name": "R"
    },
    "language_info": {
      "name": "R"
    }
  },
  "cells": [
    {
      "cell_type": "markdown",
      "metadata": {
        "id": "view-in-github",
        "colab_type": "text"
      },
      "source": [
        "<a href=\"https://colab.research.google.com/github/yuna1998/datamining/blob/main/Naive_Bayes_Classifier.ipynb\" target=\"_parent\"><img src=\"https://colab.research.google.com/assets/colab-badge.svg\" alt=\"Open In Colab\"/></a>"
      ]
    },
    {
      "cell_type": "code",
      "metadata": {
        "id": "HulmTl_3uF1S"
      },
      "source": [
        "#naive Bayes"
      ],
      "execution_count": 1,
      "outputs": []
    },
    {
      "cell_type": "code",
      "metadata": {
        "id": "ej75y7fVuT8Z"
      },
      "source": [
        "n <- dim(iris)[1]"
      ],
      "execution_count": 3,
      "outputs": []
    },
    {
      "cell_type": "code",
      "metadata": {
        "id": "vuYQBmY-uWhl"
      },
      "source": [
        "set.seed(1)"
      ],
      "execution_count": 4,
      "outputs": []
    },
    {
      "cell_type": "code",
      "metadata": {
        "id": "_55i1BAvuPR5"
      },
      "source": [
        "  train <- sample(n, n/2)"
      ],
      "execution_count": 5,
      "outputs": []
    },
    {
      "cell_type": "code",
      "metadata": {
        "id": "CtuerS5WudAK"
      },
      "source": [
        "iris.train <- iris[train,]"
      ],
      "execution_count": 6,
      "outputs": []
    },
    {
      "cell_type": "code",
      "metadata": {
        "id": "Q4aloalLue2F"
      },
      "source": [
        "iris.test <- iris[-train,]"
      ],
      "execution_count": 7,
      "outputs": []
    },
    {
      "cell_type": "code",
      "metadata": {
        "colab": {
          "base_uri": "https://localhost:8080/"
        },
        "id": "4NVqEGM4ukva",
        "outputId": "d714179c-2081-4d98-f44b-5cb9468b70f4"
      },
      "source": [
        "install.packages(\"e1071\")"
      ],
      "execution_count": 9,
      "outputs": [
        {
          "output_type": "stream",
          "text": [
            "Installing package into ‘/usr/local/lib/R/site-library’\n",
            "(as ‘lib’ is unspecified)\n",
            "\n",
            "also installing the dependency ‘proxy’\n",
            "\n",
            "\n"
          ],
          "name": "stderr"
        }
      ]
    },
    {
      "cell_type": "code",
      "metadata": {
        "id": "CmSqy7Y_uhYx"
      },
      "source": [
        "library(e1071)"
      ],
      "execution_count": 10,
      "outputs": []
    },
    {
      "cell_type": "code",
      "metadata": {
        "id": "ZloOeNEBujqu"
      },
      "source": [
        "fnb <- naiveBayes(Species~., data = iris.train)"
      ],
      "execution_count": 11,
      "outputs": []
    },
    {
      "cell_type": "code",
      "metadata": {
        "colab": {
          "base_uri": "https://localhost:8080/",
          "height": 671
        },
        "id": "hyY8BIeKu5Me",
        "outputId": "23950545-9212-444b-8d01-123bf48b531f"
      },
      "source": [
        "fnb"
      ],
      "execution_count": 12,
      "outputs": [
        {
          "output_type": "display_data",
          "data": {
            "text/plain": [
              "\n",
              "Naive Bayes Classifier for Discrete Predictors\n",
              "\n",
              "Call:\n",
              "naiveBayes.default(x = X, y = Y, laplace = laplace)\n",
              "\n",
              "A-priori probabilities:\n",
              "Y\n",
              "    setosa versicolor  virginica \n",
              " 0.3733333  0.2666667  0.3600000 \n",
              "\n",
              "Conditional probabilities:\n",
              "            Sepal.Length\n",
              "Y                [,1]      [,2]\n",
              "  setosa     4.978571 0.3541888\n",
              "  versicolor 5.975000 0.4540751\n",
              "  virginica  6.748148 0.6441275\n",
              "\n",
              "            Sepal.Width\n",
              "Y                [,1]      [,2]\n",
              "  setosa     3.432143 0.3925732\n",
              "  versicolor 2.810000 0.2174009\n",
              "  virginica  2.988889 0.3693376\n",
              "\n",
              "            Petal.Length\n",
              "Y                [,1]      [,2]\n",
              "  setosa     1.460714 0.2024650\n",
              "  versicolor 4.395000 0.4135533\n",
              "  virginica  5.637037 0.6245910\n",
              "\n",
              "            Petal.Width\n",
              "Y                 [,1]      [,2]\n",
              "  setosa     0.2607143 0.1257254\n",
              "  versicolor 1.3400000 0.1788854\n",
              "  virginica  2.0296296 0.2700638\n"
            ]
          },
          "metadata": {
            "tags": []
          }
        }
      ]
    },
    {
      "cell_type": "code",
      "metadata": {
        "id": "RVGGoeiGu6BX"
      },
      "source": [
        "pred <- predict(fnb, newdata = iris.test)"
      ],
      "execution_count": 13,
      "outputs": []
    },
    {
      "cell_type": "code",
      "metadata": {
        "colab": {
          "base_uri": "https://localhost:8080/",
          "height": 173
        },
        "id": "V_rrEE1Au-3I",
        "outputId": "0a7171e3-9920-4df6-e062-a0aac7cbcde0"
      },
      "source": [
        "pred"
      ],
      "execution_count": 14,
      "outputs": [
        {
          "output_type": "display_data",
          "data": {
            "text/plain": [
              " [1] setosa     setosa     setosa     setosa     setosa     setosa    \n",
              " [7] setosa     setosa     setosa     setosa     setosa     setosa    \n",
              "[13] setosa     setosa     setosa     setosa     setosa     setosa    \n",
              "[19] setosa     setosa     setosa     setosa     versicolor virginica \n",
              "[25] versicolor versicolor versicolor versicolor versicolor versicolor\n",
              "[31] versicolor versicolor versicolor versicolor versicolor versicolor\n",
              "[37] versicolor virginica  versicolor versicolor versicolor versicolor\n",
              "[43] versicolor versicolor versicolor versicolor versicolor versicolor\n",
              "[49] versicolor versicolor versicolor versicolor virginica  virginica \n",
              "[55] versicolor virginica  virginica  virginica  virginica  virginica \n",
              "[61] virginica  virginica  virginica  virginica  virginica  virginica \n",
              "[67] versicolor virginica  virginica  virginica  virginica  virginica \n",
              "[73] virginica  virginica  virginica \n",
              "Levels: setosa versicolor virginica"
            ],
            "text/latex": "\\begin{enumerate*}\n\\item setosa\n\\item setosa\n\\item setosa\n\\item setosa\n\\item setosa\n\\item setosa\n\\item setosa\n\\item setosa\n\\item setosa\n\\item setosa\n\\item setosa\n\\item setosa\n\\item setosa\n\\item setosa\n\\item setosa\n\\item setosa\n\\item setosa\n\\item setosa\n\\item setosa\n\\item setosa\n\\item setosa\n\\item setosa\n\\item versicolor\n\\item virginica\n\\item versicolor\n\\item versicolor\n\\item versicolor\n\\item versicolor\n\\item versicolor\n\\item versicolor\n\\item versicolor\n\\item versicolor\n\\item versicolor\n\\item versicolor\n\\item versicolor\n\\item versicolor\n\\item versicolor\n\\item virginica\n\\item versicolor\n\\item versicolor\n\\item versicolor\n\\item versicolor\n\\item versicolor\n\\item versicolor\n\\item versicolor\n\\item versicolor\n\\item versicolor\n\\item versicolor\n\\item versicolor\n\\item versicolor\n\\item versicolor\n\\item versicolor\n\\item virginica\n\\item virginica\n\\item versicolor\n\\item virginica\n\\item virginica\n\\item virginica\n\\item virginica\n\\item virginica\n\\item virginica\n\\item virginica\n\\item virginica\n\\item virginica\n\\item virginica\n\\item virginica\n\\item versicolor\n\\item virginica\n\\item virginica\n\\item virginica\n\\item virginica\n\\item virginica\n\\item virginica\n\\item virginica\n\\item virginica\n\\end{enumerate*}\n\n\\emph{Levels}: \\begin{enumerate*}\n\\item 'setosa'\n\\item 'versicolor'\n\\item 'virginica'\n\\end{enumerate*}\n",
            "text/markdown": "1. setosa\n2. setosa\n3. setosa\n4. setosa\n5. setosa\n6. setosa\n7. setosa\n8. setosa\n9. setosa\n10. setosa\n11. setosa\n12. setosa\n13. setosa\n14. setosa\n15. setosa\n16. setosa\n17. setosa\n18. setosa\n19. setosa\n20. setosa\n21. setosa\n22. setosa\n23. versicolor\n24. virginica\n25. versicolor\n26. versicolor\n27. versicolor\n28. versicolor\n29. versicolor\n30. versicolor\n31. versicolor\n32. versicolor\n33. versicolor\n34. versicolor\n35. versicolor\n36. versicolor\n37. versicolor\n38. virginica\n39. versicolor\n40. versicolor\n41. versicolor\n42. versicolor\n43. versicolor\n44. versicolor\n45. versicolor\n46. versicolor\n47. versicolor\n48. versicolor\n49. versicolor\n50. versicolor\n51. versicolor\n52. versicolor\n53. virginica\n54. virginica\n55. versicolor\n56. virginica\n57. virginica\n58. virginica\n59. virginica\n60. virginica\n61. virginica\n62. virginica\n63. virginica\n64. virginica\n65. virginica\n66. virginica\n67. versicolor\n68. virginica\n69. virginica\n70. virginica\n71. virginica\n72. virginica\n73. virginica\n74. virginica\n75. virginica\n\n\n\n**Levels**: 1. 'setosa'\n2. 'versicolor'\n3. 'virginica'\n\n\n",
            "text/html": [
              "<style>\n",
              ".list-inline {list-style: none; margin:0; padding: 0}\n",
              ".list-inline>li {display: inline-block}\n",
              ".list-inline>li:not(:last-child)::after {content: \"\\00b7\"; padding: 0 .5ex}\n",
              "</style>\n",
              "<ol class=list-inline><li>setosa</li><li>setosa</li><li>setosa</li><li>setosa</li><li>setosa</li><li>setosa</li><li>setosa</li><li>setosa</li><li>setosa</li><li>setosa</li><li>setosa</li><li>setosa</li><li>setosa</li><li>setosa</li><li>setosa</li><li>setosa</li><li>setosa</li><li>setosa</li><li>setosa</li><li>setosa</li><li>setosa</li><li>setosa</li><li>versicolor</li><li>virginica</li><li>versicolor</li><li>versicolor</li><li>versicolor</li><li>versicolor</li><li>versicolor</li><li>versicolor</li><li>versicolor</li><li>versicolor</li><li>versicolor</li><li>versicolor</li><li>versicolor</li><li>versicolor</li><li>versicolor</li><li>virginica</li><li>versicolor</li><li>versicolor</li><li>versicolor</li><li>versicolor</li><li>versicolor</li><li>versicolor</li><li>versicolor</li><li>versicolor</li><li>versicolor</li><li>versicolor</li><li>versicolor</li><li>versicolor</li><li>versicolor</li><li>versicolor</li><li>virginica</li><li>virginica</li><li>versicolor</li><li>virginica</li><li>virginica</li><li>virginica</li><li>virginica</li><li>virginica</li><li>virginica</li><li>virginica</li><li>virginica</li><li>virginica</li><li>virginica</li><li>virginica</li><li>versicolor</li><li>virginica</li><li>virginica</li><li>virginica</li><li>virginica</li><li>virginica</li><li>virginica</li><li>virginica</li><li>virginica</li></ol>\n",
              "\n",
              "<details>\n",
              "\t<summary style=display:list-item;cursor:pointer>\n",
              "\t\t<strong>Levels</strong>:\n",
              "\t</summary>\n",
              "\t<style>\n",
              "\t.list-inline {list-style: none; margin:0; padding: 0}\n",
              "\t.list-inline>li {display: inline-block}\n",
              "\t.list-inline>li:not(:last-child)::after {content: \"\\00b7\"; padding: 0 .5ex}\n",
              "\t</style>\n",
              "\t<ol class=list-inline><li>'setosa'</li><li>'versicolor'</li><li>'virginica'</li></ol>\n",
              "</details>"
            ]
          },
          "metadata": {
            "tags": []
          }
        }
      ]
    },
    {
      "cell_type": "code",
      "metadata": {
        "colab": {
          "base_uri": "https://localhost:8080/",
          "height": 111
        },
        "id": "O_J2hKD3u_kw",
        "outputId": "d360590a-2fee-4c59-87e4-b563c826a78c"
      },
      "source": [
        "table(pred, iris.test$Species)"
      ],
      "execution_count": 15,
      "outputs": [
        {
          "output_type": "display_data",
          "data": {
            "text/plain": [
              "            \n",
              "pred         setosa versicolor virginica\n",
              "  setosa         22          0         0\n",
              "  versicolor      0         28         2\n",
              "  virginica       0          2        21"
            ]
          },
          "metadata": {
            "tags": []
          }
        }
      ]
    },
    {
      "cell_type": "code",
      "metadata": {
        "colab": {
          "base_uri": "https://localhost:8080/",
          "height": 35
        },
        "id": "6s0sMZz0vC2W",
        "outputId": "4de9c430-b5eb-4611-e3c2-07fcc5c67e69"
      },
      "source": [
        "mean(pred != iris.test$Species)"
      ],
      "execution_count": 16,
      "outputs": [
        {
          "output_type": "display_data",
          "data": {
            "text/plain": [
              "[1] 0.05333333"
            ],
            "text/latex": "0.0533333333333333",
            "text/markdown": "0.0533333333333333",
            "text/html": [
              "0.0533333333333333"
            ]
          },
          "metadata": {
            "tags": []
          }
        }
      ]
    },
    {
      "cell_type": "code",
      "metadata": {
        "colab": {
          "base_uri": "https://localhost:8080/",
          "height": 139
        },
        "id": "ddqu_H9PvJIz",
        "outputId": "7f1d7d7c-add8-4d7c-8230-9c28befbcc74"
      },
      "source": [
        "fsl <- rep(\"VL\", n)\n",
        "fsl[iris[,1] <= 6.4] <- \"L\"\n",
        "fsl[iris[,1] <= 5.8] <- \"S\"\n",
        "fsl[iris[,1] <= 5.1] <- \"VS\"\n",
        "fsl <- factor(fsl)\n",
        "fsl"
      ],
      "execution_count": 18,
      "outputs": [
        {
          "output_type": "display_data",
          "data": {
            "text/plain": [
              "  [1] VS VS VS VS VS S  VS VS VS VS S  VS VS VS S  S  S  VS S  VS S  VS VS VS VS\n",
              " [26] VS VS S  S  VS VS S  S  S  VS VS S  VS VS VS VS VS VS VS VS VS VS VS S  VS\n",
              " [51] VL L  VL S  VL S  L  VS VL S  VS L  L  L  S  VL S  S  L  S  L  L  L  L  L \n",
              " [76] VL VL VL L  S  S  S  S  L  S  L  VL L  S  S  S  L  S  VS S  S  S  L  VS S \n",
              "[101] L  S  VL L  VL VL VS VL VL VL VL L  VL S  S  L  VL VL VL L  VL S  VL L  VL\n",
              "[126] VL L  L  L  VL VL VL L  L  L  VL L  L  L  VL VL VL S  VL VL VL L  VL L  L \n",
              "Levels: L S VL VS"
            ],
            "text/latex": "\\begin{enumerate*}\n\\item VS\n\\item VS\n\\item VS\n\\item VS\n\\item VS\n\\item S\n\\item VS\n\\item VS\n\\item VS\n\\item VS\n\\item S\n\\item VS\n\\item VS\n\\item VS\n\\item S\n\\item S\n\\item S\n\\item VS\n\\item S\n\\item VS\n\\item S\n\\item VS\n\\item VS\n\\item VS\n\\item VS\n\\item VS\n\\item VS\n\\item S\n\\item S\n\\item VS\n\\item VS\n\\item S\n\\item S\n\\item S\n\\item VS\n\\item VS\n\\item S\n\\item VS\n\\item VS\n\\item VS\n\\item VS\n\\item VS\n\\item VS\n\\item VS\n\\item VS\n\\item VS\n\\item VS\n\\item VS\n\\item S\n\\item VS\n\\item VL\n\\item L\n\\item VL\n\\item S\n\\item VL\n\\item S\n\\item L\n\\item VS\n\\item VL\n\\item S\n\\item VS\n\\item L\n\\item L\n\\item L\n\\item S\n\\item VL\n\\item S\n\\item S\n\\item L\n\\item S\n\\item L\n\\item L\n\\item L\n\\item L\n\\item L\n\\item VL\n\\item VL\n\\item VL\n\\item L\n\\item S\n\\item S\n\\item S\n\\item S\n\\item L\n\\item S\n\\item L\n\\item VL\n\\item L\n\\item S\n\\item S\n\\item S\n\\item L\n\\item S\n\\item VS\n\\item S\n\\item S\n\\item S\n\\item L\n\\item VS\n\\item S\n\\item L\n\\item S\n\\item VL\n\\item L\n\\item VL\n\\item VL\n\\item VS\n\\item VL\n\\item VL\n\\item VL\n\\item VL\n\\item L\n\\item VL\n\\item S\n\\item S\n\\item L\n\\item VL\n\\item VL\n\\item VL\n\\item L\n\\item VL\n\\item S\n\\item VL\n\\item L\n\\item VL\n\\item VL\n\\item L\n\\item L\n\\item L\n\\item VL\n\\item VL\n\\item VL\n\\item L\n\\item L\n\\item L\n\\item VL\n\\item L\n\\item L\n\\item L\n\\item VL\n\\item VL\n\\item VL\n\\item S\n\\item VL\n\\item VL\n\\item VL\n\\item L\n\\item VL\n\\item L\n\\item L\n\\end{enumerate*}\n\n\\emph{Levels}: \\begin{enumerate*}\n\\item 'L'\n\\item 'S'\n\\item 'VL'\n\\item 'VS'\n\\end{enumerate*}\n",
            "text/markdown": "1. VS\n2. VS\n3. VS\n4. VS\n5. VS\n6. S\n7. VS\n8. VS\n9. VS\n10. VS\n11. S\n12. VS\n13. VS\n14. VS\n15. S\n16. S\n17. S\n18. VS\n19. S\n20. VS\n21. S\n22. VS\n23. VS\n24. VS\n25. VS\n26. VS\n27. VS\n28. S\n29. S\n30. VS\n31. VS\n32. S\n33. S\n34. S\n35. VS\n36. VS\n37. S\n38. VS\n39. VS\n40. VS\n41. VS\n42. VS\n43. VS\n44. VS\n45. VS\n46. VS\n47. VS\n48. VS\n49. S\n50. VS\n51. VL\n52. L\n53. VL\n54. S\n55. VL\n56. S\n57. L\n58. VS\n59. VL\n60. S\n61. VS\n62. L\n63. L\n64. L\n65. S\n66. VL\n67. S\n68. S\n69. L\n70. S\n71. L\n72. L\n73. L\n74. L\n75. L\n76. VL\n77. VL\n78. VL\n79. L\n80. S\n81. S\n82. S\n83. S\n84. L\n85. S\n86. L\n87. VL\n88. L\n89. S\n90. S\n91. S\n92. L\n93. S\n94. VS\n95. S\n96. S\n97. S\n98. L\n99. VS\n100. S\n101. L\n102. S\n103. VL\n104. L\n105. VL\n106. VL\n107. VS\n108. VL\n109. VL\n110. VL\n111. VL\n112. L\n113. VL\n114. S\n115. S\n116. L\n117. VL\n118. VL\n119. VL\n120. L\n121. VL\n122. S\n123. VL\n124. L\n125. VL\n126. VL\n127. L\n128. L\n129. L\n130. VL\n131. VL\n132. VL\n133. L\n134. L\n135. L\n136. VL\n137. L\n138. L\n139. L\n140. VL\n141. VL\n142. VL\n143. S\n144. VL\n145. VL\n146. VL\n147. L\n148. VL\n149. L\n150. L\n\n\n\n**Levels**: 1. 'L'\n2. 'S'\n3. 'VL'\n4. 'VS'\n\n\n",
            "text/html": [
              "<style>\n",
              ".list-inline {list-style: none; margin:0; padding: 0}\n",
              ".list-inline>li {display: inline-block}\n",
              ".list-inline>li:not(:last-child)::after {content: \"\\00b7\"; padding: 0 .5ex}\n",
              "</style>\n",
              "<ol class=list-inline><li>VS</li><li>VS</li><li>VS</li><li>VS</li><li>VS</li><li>S</li><li>VS</li><li>VS</li><li>VS</li><li>VS</li><li>S</li><li>VS</li><li>VS</li><li>VS</li><li>S</li><li>S</li><li>S</li><li>VS</li><li>S</li><li>VS</li><li>S</li><li>VS</li><li>VS</li><li>VS</li><li>VS</li><li>VS</li><li>VS</li><li>S</li><li>S</li><li>VS</li><li>VS</li><li>S</li><li>S</li><li>S</li><li>VS</li><li>VS</li><li>S</li><li>VS</li><li>VS</li><li>VS</li><li>VS</li><li>VS</li><li>VS</li><li>VS</li><li>VS</li><li>VS</li><li>VS</li><li>VS</li><li>S</li><li>VS</li><li>VL</li><li>L</li><li>VL</li><li>S</li><li>VL</li><li>S</li><li>L</li><li>VS</li><li>VL</li><li>S</li><li>VS</li><li>L</li><li>L</li><li>L</li><li>S</li><li>VL</li><li>S</li><li>S</li><li>L</li><li>S</li><li>L</li><li>L</li><li>L</li><li>L</li><li>L</li><li>VL</li><li>VL</li><li>VL</li><li>L</li><li>S</li><li>S</li><li>S</li><li>S</li><li>L</li><li>S</li><li>L</li><li>VL</li><li>L</li><li>S</li><li>S</li><li>S</li><li>L</li><li>S</li><li>VS</li><li>S</li><li>S</li><li>S</li><li>L</li><li>VS</li><li>S</li><li>L</li><li>S</li><li>VL</li><li>L</li><li>VL</li><li>VL</li><li>VS</li><li>VL</li><li>VL</li><li>VL</li><li>VL</li><li>L</li><li>VL</li><li>S</li><li>S</li><li>L</li><li>VL</li><li>VL</li><li>VL</li><li>L</li><li>VL</li><li>S</li><li>VL</li><li>L</li><li>VL</li><li>VL</li><li>L</li><li>L</li><li>L</li><li>VL</li><li>VL</li><li>VL</li><li>L</li><li>L</li><li>L</li><li>VL</li><li>L</li><li>L</li><li>L</li><li>VL</li><li>VL</li><li>VL</li><li>S</li><li>VL</li><li>VL</li><li>VL</li><li>L</li><li>VL</li><li>L</li><li>L</li></ol>\n",
              "\n",
              "<details>\n",
              "\t<summary style=display:list-item;cursor:pointer>\n",
              "\t\t<strong>Levels</strong>:\n",
              "\t</summary>\n",
              "\t<style>\n",
              "\t.list-inline {list-style: none; margin:0; padding: 0}\n",
              "\t.list-inline>li {display: inline-block}\n",
              "\t.list-inline>li:not(:last-child)::after {content: \"\\00b7\"; padding: 0 .5ex}\n",
              "\t</style>\n",
              "\t<ol class=list-inline><li>'L'</li><li>'S'</li><li>'VL'</li><li>'VS'</li></ol>\n",
              "</details>"
            ]
          },
          "metadata": {
            "tags": []
          }
        }
      ]
    },
    {
      "cell_type": "code",
      "metadata": {
        "colab": {
          "base_uri": "https://localhost:8080/",
          "height": 121
        },
        "id": "SQJLkSYPvdHs",
        "outputId": "0dfadfaf-8d44-4f2b-bfa4-82d40e418cc1"
      },
      "source": [
        "fsw <- rep(\"L\", n)\n",
        "fsw[iris[,2] <= 3.3] <- \"M\"\n",
        "fsw[iris[,2] <= 2.8] <- \"S\"\n",
        "fsw <- factor(fsw)\n",
        "fsw"
      ],
      "execution_count": 20,
      "outputs": [
        {
          "output_type": "display_data",
          "data": {
            "text/plain": [
              "  [1] L M M M L L L L M M L L M M L L L L L L L L L M L M L L L M M L L L M M L\n",
              " [38] L M L L S M L L M L M L M M M M S S S M S M S S M S M M M M S S S M S S S\n",
              " [75] M M S M M S S S S S M L M S M S S M S S S M M M S S M S M M M M S M S L M\n",
              "[112] S M S S M M L S S M S S S M M S M S M S L S S S M L M M M M M S M M M S M\n",
              "[149] L M\n",
              "Levels: L M S"
            ],
            "text/latex": "\\begin{enumerate*}\n\\item L\n\\item M\n\\item M\n\\item M\n\\item L\n\\item L\n\\item L\n\\item L\n\\item M\n\\item M\n\\item L\n\\item L\n\\item M\n\\item M\n\\item L\n\\item L\n\\item L\n\\item L\n\\item L\n\\item L\n\\item L\n\\item L\n\\item L\n\\item M\n\\item L\n\\item M\n\\item L\n\\item L\n\\item L\n\\item M\n\\item M\n\\item L\n\\item L\n\\item L\n\\item M\n\\item M\n\\item L\n\\item L\n\\item M\n\\item L\n\\item L\n\\item S\n\\item M\n\\item L\n\\item L\n\\item M\n\\item L\n\\item M\n\\item L\n\\item M\n\\item M\n\\item M\n\\item M\n\\item S\n\\item S\n\\item S\n\\item M\n\\item S\n\\item M\n\\item S\n\\item S\n\\item M\n\\item S\n\\item M\n\\item M\n\\item M\n\\item M\n\\item S\n\\item S\n\\item S\n\\item M\n\\item S\n\\item S\n\\item S\n\\item M\n\\item M\n\\item S\n\\item M\n\\item M\n\\item S\n\\item S\n\\item S\n\\item S\n\\item S\n\\item M\n\\item L\n\\item M\n\\item S\n\\item M\n\\item S\n\\item S\n\\item M\n\\item S\n\\item S\n\\item S\n\\item M\n\\item M\n\\item M\n\\item S\n\\item S\n\\item M\n\\item S\n\\item M\n\\item M\n\\item M\n\\item M\n\\item S\n\\item M\n\\item S\n\\item L\n\\item M\n\\item S\n\\item M\n\\item S\n\\item S\n\\item M\n\\item M\n\\item L\n\\item S\n\\item S\n\\item M\n\\item S\n\\item S\n\\item S\n\\item M\n\\item M\n\\item S\n\\item M\n\\item S\n\\item M\n\\item S\n\\item L\n\\item S\n\\item S\n\\item S\n\\item M\n\\item L\n\\item M\n\\item M\n\\item M\n\\item M\n\\item M\n\\item S\n\\item M\n\\item M\n\\item M\n\\item S\n\\item M\n\\item L\n\\item M\n\\end{enumerate*}\n\n\\emph{Levels}: \\begin{enumerate*}\n\\item 'L'\n\\item 'M'\n\\item 'S'\n\\end{enumerate*}\n",
            "text/markdown": "1. L\n2. M\n3. M\n4. M\n5. L\n6. L\n7. L\n8. L\n9. M\n10. M\n11. L\n12. L\n13. M\n14. M\n15. L\n16. L\n17. L\n18. L\n19. L\n20. L\n21. L\n22. L\n23. L\n24. M\n25. L\n26. M\n27. L\n28. L\n29. L\n30. M\n31. M\n32. L\n33. L\n34. L\n35. M\n36. M\n37. L\n38. L\n39. M\n40. L\n41. L\n42. S\n43. M\n44. L\n45. L\n46. M\n47. L\n48. M\n49. L\n50. M\n51. M\n52. M\n53. M\n54. S\n55. S\n56. S\n57. M\n58. S\n59. M\n60. S\n61. S\n62. M\n63. S\n64. M\n65. M\n66. M\n67. M\n68. S\n69. S\n70. S\n71. M\n72. S\n73. S\n74. S\n75. M\n76. M\n77. S\n78. M\n79. M\n80. S\n81. S\n82. S\n83. S\n84. S\n85. M\n86. L\n87. M\n88. S\n89. M\n90. S\n91. S\n92. M\n93. S\n94. S\n95. S\n96. M\n97. M\n98. M\n99. S\n100. S\n101. M\n102. S\n103. M\n104. M\n105. M\n106. M\n107. S\n108. M\n109. S\n110. L\n111. M\n112. S\n113. M\n114. S\n115. S\n116. M\n117. M\n118. L\n119. S\n120. S\n121. M\n122. S\n123. S\n124. S\n125. M\n126. M\n127. S\n128. M\n129. S\n130. M\n131. S\n132. L\n133. S\n134. S\n135. S\n136. M\n137. L\n138. M\n139. M\n140. M\n141. M\n142. M\n143. S\n144. M\n145. M\n146. M\n147. S\n148. M\n149. L\n150. M\n\n\n\n**Levels**: 1. 'L'\n2. 'M'\n3. 'S'\n\n\n",
            "text/html": [
              "<style>\n",
              ".list-inline {list-style: none; margin:0; padding: 0}\n",
              ".list-inline>li {display: inline-block}\n",
              ".list-inline>li:not(:last-child)::after {content: \"\\00b7\"; padding: 0 .5ex}\n",
              "</style>\n",
              "<ol class=list-inline><li>L</li><li>M</li><li>M</li><li>M</li><li>L</li><li>L</li><li>L</li><li>L</li><li>M</li><li>M</li><li>L</li><li>L</li><li>M</li><li>M</li><li>L</li><li>L</li><li>L</li><li>L</li><li>L</li><li>L</li><li>L</li><li>L</li><li>L</li><li>M</li><li>L</li><li>M</li><li>L</li><li>L</li><li>L</li><li>M</li><li>M</li><li>L</li><li>L</li><li>L</li><li>M</li><li>M</li><li>L</li><li>L</li><li>M</li><li>L</li><li>L</li><li>S</li><li>M</li><li>L</li><li>L</li><li>M</li><li>L</li><li>M</li><li>L</li><li>M</li><li>M</li><li>M</li><li>M</li><li>S</li><li>S</li><li>S</li><li>M</li><li>S</li><li>M</li><li>S</li><li>S</li><li>M</li><li>S</li><li>M</li><li>M</li><li>M</li><li>M</li><li>S</li><li>S</li><li>S</li><li>M</li><li>S</li><li>S</li><li>S</li><li>M</li><li>M</li><li>S</li><li>M</li><li>M</li><li>S</li><li>S</li><li>S</li><li>S</li><li>S</li><li>M</li><li>L</li><li>M</li><li>S</li><li>M</li><li>S</li><li>S</li><li>M</li><li>S</li><li>S</li><li>S</li><li>M</li><li>M</li><li>M</li><li>S</li><li>S</li><li>M</li><li>S</li><li>M</li><li>M</li><li>M</li><li>M</li><li>S</li><li>M</li><li>S</li><li>L</li><li>M</li><li>S</li><li>M</li><li>S</li><li>S</li><li>M</li><li>M</li><li>L</li><li>S</li><li>S</li><li>M</li><li>S</li><li>S</li><li>S</li><li>M</li><li>M</li><li>S</li><li>M</li><li>S</li><li>M</li><li>S</li><li>L</li><li>S</li><li>S</li><li>S</li><li>M</li><li>L</li><li>M</li><li>M</li><li>M</li><li>M</li><li>M</li><li>S</li><li>M</li><li>M</li><li>M</li><li>S</li><li>M</li><li>L</li><li>M</li></ol>\n",
              "\n",
              "<details>\n",
              "\t<summary style=display:list-item;cursor:pointer>\n",
              "\t\t<strong>Levels</strong>:\n",
              "\t</summary>\n",
              "\t<style>\n",
              "\t.list-inline {list-style: none; margin:0; padding: 0}\n",
              "\t.list-inline>li {display: inline-block}\n",
              "\t.list-inline>li:not(:last-child)::after {content: \"\\00b7\"; padding: 0 .5ex}\n",
              "\t</style>\n",
              "\t<ol class=list-inline><li>'L'</li><li>'M'</li><li>'S'</li></ol>\n",
              "</details>"
            ]
          },
          "metadata": {
            "tags": []
          }
        }
      ]
    },
    {
      "cell_type": "code",
      "metadata": {
        "id": "YR7cAQhzvu66"
      },
      "source": [
        "niris <- iris[,c(3,4,5)]"
      ],
      "execution_count": 30,
      "outputs": []
    },
    {
      "cell_type": "code",
      "metadata": {
        "id": "26qS_VaEv6mT"
      },
      "source": [
        "niris$fsl <- fsl\n",
        "niris$fsw <- fsw"
      ],
      "execution_count": 31,
      "outputs": []
    },
    {
      "cell_type": "code",
      "metadata": {
        "colab": {
          "base_uri": "https://localhost:8080/",
          "height": 281
        },
        "id": "-CZy4olKv_e-",
        "outputId": "f061002b-50b6-4ae9-b524-dbb65bd07d83"
      },
      "source": [
        "head(niris)"
      ],
      "execution_count": 32,
      "outputs": [
        {
          "output_type": "display_data",
          "data": {
            "text/plain": [
              "  Petal.Length Petal.Width Species fsl fsw\n",
              "1 1.4          0.2         setosa  VS  L  \n",
              "2 1.4          0.2         setosa  VS  M  \n",
              "3 1.3          0.2         setosa  VS  M  \n",
              "4 1.5          0.2         setosa  VS  M  \n",
              "5 1.4          0.2         setosa  VS  L  \n",
              "6 1.7          0.4         setosa  S   L  "
            ],
            "text/latex": "A data.frame: 6 × 5\n\\begin{tabular}{r|lllll}\n  & Petal.Length & Petal.Width & Species & fsl & fsw\\\\\n  & <dbl> & <dbl> & <fct> & <fct> & <fct>\\\\\n\\hline\n\t1 & 1.4 & 0.2 & setosa & VS & L\\\\\n\t2 & 1.4 & 0.2 & setosa & VS & M\\\\\n\t3 & 1.3 & 0.2 & setosa & VS & M\\\\\n\t4 & 1.5 & 0.2 & setosa & VS & M\\\\\n\t5 & 1.4 & 0.2 & setosa & VS & L\\\\\n\t6 & 1.7 & 0.4 & setosa & S  & L\\\\\n\\end{tabular}\n",
            "text/markdown": "\nA data.frame: 6 × 5\n\n| <!--/--> | Petal.Length &lt;dbl&gt; | Petal.Width &lt;dbl&gt; | Species &lt;fct&gt; | fsl &lt;fct&gt; | fsw &lt;fct&gt; |\n|---|---|---|---|---|---|\n| 1 | 1.4 | 0.2 | setosa | VS | L |\n| 2 | 1.4 | 0.2 | setosa | VS | M |\n| 3 | 1.3 | 0.2 | setosa | VS | M |\n| 4 | 1.5 | 0.2 | setosa | VS | M |\n| 5 | 1.4 | 0.2 | setosa | VS | L |\n| 6 | 1.7 | 0.4 | setosa | S  | L |\n\n",
            "text/html": [
              "<table class=\"dataframe\">\n",
              "<caption>A data.frame: 6 × 5</caption>\n",
              "<thead>\n",
              "\t<tr><th></th><th scope=col>Petal.Length</th><th scope=col>Petal.Width</th><th scope=col>Species</th><th scope=col>fsl</th><th scope=col>fsw</th></tr>\n",
              "\t<tr><th></th><th scope=col>&lt;dbl&gt;</th><th scope=col>&lt;dbl&gt;</th><th scope=col>&lt;fct&gt;</th><th scope=col>&lt;fct&gt;</th><th scope=col>&lt;fct&gt;</th></tr>\n",
              "</thead>\n",
              "<tbody>\n",
              "\t<tr><th scope=row>1</th><td>1.4</td><td>0.2</td><td>setosa</td><td>VS</td><td>L</td></tr>\n",
              "\t<tr><th scope=row>2</th><td>1.4</td><td>0.2</td><td>setosa</td><td>VS</td><td>M</td></tr>\n",
              "\t<tr><th scope=row>3</th><td>1.3</td><td>0.2</td><td>setosa</td><td>VS</td><td>M</td></tr>\n",
              "\t<tr><th scope=row>4</th><td>1.5</td><td>0.2</td><td>setosa</td><td>VS</td><td>M</td></tr>\n",
              "\t<tr><th scope=row>5</th><td>1.4</td><td>0.2</td><td>setosa</td><td>VS</td><td>L</td></tr>\n",
              "\t<tr><th scope=row>6</th><td>1.7</td><td>0.4</td><td>setosa</td><td>S </td><td>L</td></tr>\n",
              "</tbody>\n",
              "</table>\n"
            ]
          },
          "metadata": {
            "tags": []
          }
        }
      ]
    },
    {
      "cell_type": "code",
      "metadata": {
        "id": "ljaiXjoRwAnw"
      },
      "source": [
        "niris.train <- niris[train,]"
      ],
      "execution_count": 33,
      "outputs": []
    },
    {
      "cell_type": "code",
      "metadata": {
        "id": "75zjr-ZfwIe1"
      },
      "source": [
        "niris.test <- niris[-train,]"
      ],
      "execution_count": 34,
      "outputs": []
    },
    {
      "cell_type": "code",
      "metadata": {
        "id": "uCo44es-wKmS"
      },
      "source": [
        "fnbn <- naiveBayes(Species~., data = niris.train)"
      ],
      "execution_count": 35,
      "outputs": []
    },
    {
      "cell_type": "code",
      "metadata": {
        "colab": {
          "base_uri": "https://localhost:8080/",
          "height": 671
        },
        "id": "YxLcexqzwRB0",
        "outputId": "64d3aa31-e8c1-4b07-8aa2-f5aa0d309c1c"
      },
      "source": [
        "fnbn"
      ],
      "execution_count": 36,
      "outputs": [
        {
          "output_type": "display_data",
          "data": {
            "text/plain": [
              "\n",
              "Naive Bayes Classifier for Discrete Predictors\n",
              "\n",
              "Call:\n",
              "naiveBayes.default(x = X, y = Y, laplace = laplace)\n",
              "\n",
              "A-priori probabilities:\n",
              "Y\n",
              "    setosa versicolor  virginica \n",
              " 0.3733333  0.2666667  0.3600000 \n",
              "\n",
              "Conditional probabilities:\n",
              "            Petal.Length\n",
              "Y                [,1]      [,2]\n",
              "  setosa     1.460714 0.2024650\n",
              "  versicolor 4.395000 0.4135533\n",
              "  virginica  5.637037 0.6245910\n",
              "\n",
              "            Petal.Width\n",
              "Y                 [,1]      [,2]\n",
              "  setosa     0.2607143 0.1257254\n",
              "  versicolor 1.3400000 0.1788854\n",
              "  virginica  2.0296296 0.2700638\n",
              "\n",
              "            fsl\n",
              "Y                    L         S        VL        VS\n",
              "  setosa     0.0000000 0.3214286 0.0000000 0.6785714\n",
              "  versicolor 0.3500000 0.5000000 0.1500000 0.0000000\n",
              "  virginica  0.2962963 0.1111111 0.5925926 0.0000000\n",
              "\n",
              "            fsw\n",
              "Y                     L          M          S\n",
              "  setosa     0.67857143 0.28571429 0.03571429\n",
              "  versicolor 0.00000000 0.50000000 0.50000000\n",
              "  virginica  0.14814815 0.40740741 0.44444444\n"
            ]
          },
          "metadata": {
            "tags": []
          }
        }
      ]
    },
    {
      "cell_type": "code",
      "metadata": {
        "id": "8TywJv91wSCm"
      },
      "source": [
        "pnbn <- predict(fnbn, niris.test)"
      ],
      "execution_count": 37,
      "outputs": []
    },
    {
      "cell_type": "code",
      "metadata": {
        "colab": {
          "base_uri": "https://localhost:8080/",
          "height": 111
        },
        "id": "2GK6EfR6wbrt",
        "outputId": "bf170002-cc63-4740-a229-adf713ec2d9a"
      },
      "source": [
        "table(pnbn, niris.test$Species)"
      ],
      "execution_count": 38,
      "outputs": [
        {
          "output_type": "display_data",
          "data": {
            "text/plain": [
              "            \n",
              "pnbn         setosa versicolor virginica\n",
              "  setosa         22          0         0\n",
              "  versicolor      0         28         1\n",
              "  virginica       0          2        22"
            ]
          },
          "metadata": {
            "tags": []
          }
        }
      ]
    },
    {
      "cell_type": "markdown",
      "metadata": {
        "id": "gmUiNpKSxd3i"
      },
      "source": [
        "classification error"
      ]
    },
    {
      "cell_type": "code",
      "metadata": {
        "colab": {
          "base_uri": "https://localhost:8080/",
          "height": 35
        },
        "id": "RVETjr_axZHk",
        "outputId": "da19c68a-d60d-4a94-c578-04e6ba097024"
      },
      "source": [
        "mean(pnbn != niris.test$Species)"
      ],
      "execution_count": 39,
      "outputs": [
        {
          "output_type": "display_data",
          "data": {
            "text/plain": [
              "[1] 0.04"
            ],
            "text/latex": "0.04",
            "text/markdown": "0.04",
            "text/html": [
              "0.04"
            ]
          },
          "metadata": {
            "tags": []
          }
        }
      ]
    },
    {
      "cell_type": "code",
      "metadata": {
        "colab": {
          "base_uri": "https://localhost:8080/",
          "height": 281
        },
        "id": "LPNbAYQ8xc5_",
        "outputId": "c368d225-d5b9-4082-cb23-e87a2ac5df5a"
      },
      "source": [
        "head(iris)"
      ],
      "execution_count": 40,
      "outputs": [
        {
          "output_type": "display_data",
          "data": {
            "text/plain": [
              "  Sepal.Length Sepal.Width Petal.Length Petal.Width Species\n",
              "1 5.1          3.5         1.4          0.2         setosa \n",
              "2 4.9          3.0         1.4          0.2         setosa \n",
              "3 4.7          3.2         1.3          0.2         setosa \n",
              "4 4.6          3.1         1.5          0.2         setosa \n",
              "5 5.0          3.6         1.4          0.2         setosa \n",
              "6 5.4          3.9         1.7          0.4         setosa "
            ],
            "text/latex": "A data.frame: 6 × 5\n\\begin{tabular}{r|lllll}\n  & Sepal.Length & Sepal.Width & Petal.Length & Petal.Width & Species\\\\\n  & <dbl> & <dbl> & <dbl> & <dbl> & <fct>\\\\\n\\hline\n\t1 & 5.1 & 3.5 & 1.4 & 0.2 & setosa\\\\\n\t2 & 4.9 & 3.0 & 1.4 & 0.2 & setosa\\\\\n\t3 & 4.7 & 3.2 & 1.3 & 0.2 & setosa\\\\\n\t4 & 4.6 & 3.1 & 1.5 & 0.2 & setosa\\\\\n\t5 & 5.0 & 3.6 & 1.4 & 0.2 & setosa\\\\\n\t6 & 5.4 & 3.9 & 1.7 & 0.4 & setosa\\\\\n\\end{tabular}\n",
            "text/markdown": "\nA data.frame: 6 × 5\n\n| <!--/--> | Sepal.Length &lt;dbl&gt; | Sepal.Width &lt;dbl&gt; | Petal.Length &lt;dbl&gt; | Petal.Width &lt;dbl&gt; | Species &lt;fct&gt; |\n|---|---|---|---|---|---|\n| 1 | 5.1 | 3.5 | 1.4 | 0.2 | setosa |\n| 2 | 4.9 | 3.0 | 1.4 | 0.2 | setosa |\n| 3 | 4.7 | 3.2 | 1.3 | 0.2 | setosa |\n| 4 | 4.6 | 3.1 | 1.5 | 0.2 | setosa |\n| 5 | 5.0 | 3.6 | 1.4 | 0.2 | setosa |\n| 6 | 5.4 | 3.9 | 1.7 | 0.4 | setosa |\n\n",
            "text/html": [
              "<table class=\"dataframe\">\n",
              "<caption>A data.frame: 6 × 5</caption>\n",
              "<thead>\n",
              "\t<tr><th></th><th scope=col>Sepal.Length</th><th scope=col>Sepal.Width</th><th scope=col>Petal.Length</th><th scope=col>Petal.Width</th><th scope=col>Species</th></tr>\n",
              "\t<tr><th></th><th scope=col>&lt;dbl&gt;</th><th scope=col>&lt;dbl&gt;</th><th scope=col>&lt;dbl&gt;</th><th scope=col>&lt;dbl&gt;</th><th scope=col>&lt;fct&gt;</th></tr>\n",
              "</thead>\n",
              "<tbody>\n",
              "\t<tr><th scope=row>1</th><td>5.1</td><td>3.5</td><td>1.4</td><td>0.2</td><td>setosa</td></tr>\n",
              "\t<tr><th scope=row>2</th><td>4.9</td><td>3.0</td><td>1.4</td><td>0.2</td><td>setosa</td></tr>\n",
              "\t<tr><th scope=row>3</th><td>4.7</td><td>3.2</td><td>1.3</td><td>0.2</td><td>setosa</td></tr>\n",
              "\t<tr><th scope=row>4</th><td>4.6</td><td>3.1</td><td>1.5</td><td>0.2</td><td>setosa</td></tr>\n",
              "\t<tr><th scope=row>5</th><td>5.0</td><td>3.6</td><td>1.4</td><td>0.2</td><td>setosa</td></tr>\n",
              "\t<tr><th scope=row>6</th><td>5.4</td><td>3.9</td><td>1.7</td><td>0.4</td><td>setosa</td></tr>\n",
              "</tbody>\n",
              "</table>\n"
            ]
          },
          "metadata": {
            "tags": []
          }
        }
      ]
    },
    {
      "cell_type": "code",
      "metadata": {
        "colab": {
          "base_uri": "https://localhost:8080/"
        },
        "id": "1hVgo1ysz7PR",
        "outputId": "e728c099-2f71-41f9-d262-a7524e33804a"
      },
      "source": [
        "str(iris)"
      ],
      "execution_count": 41,
      "outputs": [
        {
          "output_type": "stream",
          "text": [
            "'data.frame':\t150 obs. of  5 variables:\n",
            " $ Sepal.Length: num  5.1 4.9 4.7 4.6 5 5.4 4.6 5 4.4 4.9 ...\n",
            " $ Sepal.Width : num  3.5 3 3.2 3.1 3.6 3.9 3.4 3.4 2.9 3.1 ...\n",
            " $ Petal.Length: num  1.4 1.4 1.3 1.5 1.4 1.7 1.4 1.5 1.4 1.5 ...\n",
            " $ Petal.Width : num  0.2 0.2 0.2 0.2 0.2 0.4 0.3 0.2 0.2 0.1 ...\n",
            " $ Species     : Factor w/ 3 levels \"setosa\",\"versicolor\",..: 1 1 1 1 1 1 1 1 1 1 ...\n"
          ],
          "name": "stdout"
        }
      ]
    },
    {
      "cell_type": "code",
      "metadata": {
        "id": "OX5G-YCVz8xe"
      },
      "source": [
        "irisb <- iris[,c(1:4)]"
      ],
      "execution_count": 42,
      "outputs": []
    },
    {
      "cell_type": "code",
      "metadata": {
        "colab": {
          "base_uri": "https://localhost:8080/",
          "height": 281
        },
        "id": "3gBOFOrq0CKU",
        "outputId": "6eb620d2-d541-4d70-debd-7a0e15ea4ee9"
      },
      "source": [
        "head(irisb)"
      ],
      "execution_count": 43,
      "outputs": [
        {
          "output_type": "display_data",
          "data": {
            "text/plain": [
              "  Sepal.Length Sepal.Width Petal.Length Petal.Width\n",
              "1 5.1          3.5         1.4          0.2        \n",
              "2 4.9          3.0         1.4          0.2        \n",
              "3 4.7          3.2         1.3          0.2        \n",
              "4 4.6          3.1         1.5          0.2        \n",
              "5 5.0          3.6         1.4          0.2        \n",
              "6 5.4          3.9         1.7          0.4        "
            ],
            "text/latex": "A data.frame: 6 × 4\n\\begin{tabular}{r|llll}\n  & Sepal.Length & Sepal.Width & Petal.Length & Petal.Width\\\\\n  & <dbl> & <dbl> & <dbl> & <dbl>\\\\\n\\hline\n\t1 & 5.1 & 3.5 & 1.4 & 0.2\\\\\n\t2 & 4.9 & 3.0 & 1.4 & 0.2\\\\\n\t3 & 4.7 & 3.2 & 1.3 & 0.2\\\\\n\t4 & 4.6 & 3.1 & 1.5 & 0.2\\\\\n\t5 & 5.0 & 3.6 & 1.4 & 0.2\\\\\n\t6 & 5.4 & 3.9 & 1.7 & 0.4\\\\\n\\end{tabular}\n",
            "text/markdown": "\nA data.frame: 6 × 4\n\n| <!--/--> | Sepal.Length &lt;dbl&gt; | Sepal.Width &lt;dbl&gt; | Petal.Length &lt;dbl&gt; | Petal.Width &lt;dbl&gt; |\n|---|---|---|---|---|\n| 1 | 5.1 | 3.5 | 1.4 | 0.2 |\n| 2 | 4.9 | 3.0 | 1.4 | 0.2 |\n| 3 | 4.7 | 3.2 | 1.3 | 0.2 |\n| 4 | 4.6 | 3.1 | 1.5 | 0.2 |\n| 5 | 5.0 | 3.6 | 1.4 | 0.2 |\n| 6 | 5.4 | 3.9 | 1.7 | 0.4 |\n\n",
            "text/html": [
              "<table class=\"dataframe\">\n",
              "<caption>A data.frame: 6 × 4</caption>\n",
              "<thead>\n",
              "\t<tr><th></th><th scope=col>Sepal.Length</th><th scope=col>Sepal.Width</th><th scope=col>Petal.Length</th><th scope=col>Petal.Width</th></tr>\n",
              "\t<tr><th></th><th scope=col>&lt;dbl&gt;</th><th scope=col>&lt;dbl&gt;</th><th scope=col>&lt;dbl&gt;</th><th scope=col>&lt;dbl&gt;</th></tr>\n",
              "</thead>\n",
              "<tbody>\n",
              "\t<tr><th scope=row>1</th><td>5.1</td><td>3.5</td><td>1.4</td><td>0.2</td></tr>\n",
              "\t<tr><th scope=row>2</th><td>4.9</td><td>3.0</td><td>1.4</td><td>0.2</td></tr>\n",
              "\t<tr><th scope=row>3</th><td>4.7</td><td>3.2</td><td>1.3</td><td>0.2</td></tr>\n",
              "\t<tr><th scope=row>4</th><td>4.6</td><td>3.1</td><td>1.5</td><td>0.2</td></tr>\n",
              "\t<tr><th scope=row>5</th><td>5.0</td><td>3.6</td><td>1.4</td><td>0.2</td></tr>\n",
              "\t<tr><th scope=row>6</th><td>5.4</td><td>3.9</td><td>1.7</td><td>0.4</td></tr>\n",
              "</tbody>\n",
              "</table>\n"
            ]
          },
          "metadata": {
            "tags": []
          }
        }
      ]
    },
    {
      "cell_type": "code",
      "metadata": {
        "id": "UgceSxQs0Dwd"
      },
      "source": [
        "irisb$Y <- 1 # setosa"
      ],
      "execution_count": 45,
      "outputs": []
    },
    {
      "cell_type": "code",
      "metadata": {
        "id": "WRboKlmb0HDo"
      },
      "source": [
        "irisb$Y[iris$Species !=\"setosa\" ] <- 0 # versicolor or virginica"
      ],
      "execution_count": 46,
      "outputs": []
    },
    {
      "cell_type": "code",
      "metadata": {
        "colab": {
          "base_uri": "https://localhost:8080/",
          "height": 281
        },
        "id": "p9L8TKUB0OZK",
        "outputId": "4f124298-5dd7-44e6-e0f9-7d3b7130c081"
      },
      "source": [
        "head(irisb)"
      ],
      "execution_count": 47,
      "outputs": [
        {
          "output_type": "display_data",
          "data": {
            "text/plain": [
              "  Sepal.Length Sepal.Width Petal.Length Petal.Width Y\n",
              "1 5.1          3.5         1.4          0.2         1\n",
              "2 4.9          3.0         1.4          0.2         1\n",
              "3 4.7          3.2         1.3          0.2         1\n",
              "4 4.6          3.1         1.5          0.2         1\n",
              "5 5.0          3.6         1.4          0.2         1\n",
              "6 5.4          3.9         1.7          0.4         1"
            ],
            "text/latex": "A data.frame: 6 × 5\n\\begin{tabular}{r|lllll}\n  & Sepal.Length & Sepal.Width & Petal.Length & Petal.Width & Y\\\\\n  & <dbl> & <dbl> & <dbl> & <dbl> & <dbl>\\\\\n\\hline\n\t1 & 5.1 & 3.5 & 1.4 & 0.2 & 1\\\\\n\t2 & 4.9 & 3.0 & 1.4 & 0.2 & 1\\\\\n\t3 & 4.7 & 3.2 & 1.3 & 0.2 & 1\\\\\n\t4 & 4.6 & 3.1 & 1.5 & 0.2 & 1\\\\\n\t5 & 5.0 & 3.6 & 1.4 & 0.2 & 1\\\\\n\t6 & 5.4 & 3.9 & 1.7 & 0.4 & 1\\\\\n\\end{tabular}\n",
            "text/markdown": "\nA data.frame: 6 × 5\n\n| <!--/--> | Sepal.Length &lt;dbl&gt; | Sepal.Width &lt;dbl&gt; | Petal.Length &lt;dbl&gt; | Petal.Width &lt;dbl&gt; | Y &lt;dbl&gt; |\n|---|---|---|---|---|---|\n| 1 | 5.1 | 3.5 | 1.4 | 0.2 | 1 |\n| 2 | 4.9 | 3.0 | 1.4 | 0.2 | 1 |\n| 3 | 4.7 | 3.2 | 1.3 | 0.2 | 1 |\n| 4 | 4.6 | 3.1 | 1.5 | 0.2 | 1 |\n| 5 | 5.0 | 3.6 | 1.4 | 0.2 | 1 |\n| 6 | 5.4 | 3.9 | 1.7 | 0.4 | 1 |\n\n",
            "text/html": [
              "<table class=\"dataframe\">\n",
              "<caption>A data.frame: 6 × 5</caption>\n",
              "<thead>\n",
              "\t<tr><th></th><th scope=col>Sepal.Length</th><th scope=col>Sepal.Width</th><th scope=col>Petal.Length</th><th scope=col>Petal.Width</th><th scope=col>Y</th></tr>\n",
              "\t<tr><th></th><th scope=col>&lt;dbl&gt;</th><th scope=col>&lt;dbl&gt;</th><th scope=col>&lt;dbl&gt;</th><th scope=col>&lt;dbl&gt;</th><th scope=col>&lt;dbl&gt;</th></tr>\n",
              "</thead>\n",
              "<tbody>\n",
              "\t<tr><th scope=row>1</th><td>5.1</td><td>3.5</td><td>1.4</td><td>0.2</td><td>1</td></tr>\n",
              "\t<tr><th scope=row>2</th><td>4.9</td><td>3.0</td><td>1.4</td><td>0.2</td><td>1</td></tr>\n",
              "\t<tr><th scope=row>3</th><td>4.7</td><td>3.2</td><td>1.3</td><td>0.2</td><td>1</td></tr>\n",
              "\t<tr><th scope=row>4</th><td>4.6</td><td>3.1</td><td>1.5</td><td>0.2</td><td>1</td></tr>\n",
              "\t<tr><th scope=row>5</th><td>5.0</td><td>3.6</td><td>1.4</td><td>0.2</td><td>1</td></tr>\n",
              "\t<tr><th scope=row>6</th><td>5.4</td><td>3.9</td><td>1.7</td><td>0.4</td><td>1</td></tr>\n",
              "</tbody>\n",
              "</table>\n"
            ]
          },
          "metadata": {
            "tags": []
          }
        }
      ]
    },
    {
      "cell_type": "code",
      "metadata": {
        "id": "-Z3m4svO0QEq"
      },
      "source": [
        "n <- dim(irisb)[1]"
      ],
      "execution_count": 48,
      "outputs": []
    },
    {
      "cell_type": "code",
      "metadata": {
        "colab": {
          "base_uri": "https://localhost:8080/",
          "height": 35
        },
        "id": "PfvyfLHK0aAj",
        "outputId": "a53dbaa2-7e6a-4d8a-f11a-bd9d651c4771"
      },
      "source": [
        "n"
      ],
      "execution_count": 49,
      "outputs": [
        {
          "output_type": "display_data",
          "data": {
            "text/plain": [
              "[1] 150"
            ],
            "text/latex": "150",
            "text/markdown": "150",
            "text/html": [
              "150"
            ]
          },
          "metadata": {
            "tags": []
          }
        }
      ]
    },
    {
      "cell_type": "code",
      "metadata": {
        "id": "v2JgdMRD0dcg"
      },
      "source": [
        "set.seed(1)"
      ],
      "execution_count": 51,
      "outputs": []
    },
    {
      "cell_type": "code",
      "metadata": {
        "id": "S_G_I_4q0aZ_"
      },
      "source": [
        "train <- sample(n, n/2)"
      ],
      "execution_count": 52,
      "outputs": []
    },
    {
      "cell_type": "code",
      "metadata": {
        "id": "gFB__UVI0caK"
      },
      "source": [
        "irisb.train <- irisb[train,]"
      ],
      "execution_count": 53,
      "outputs": []
    },
    {
      "cell_type": "code",
      "metadata": {
        "id": "TU_AcG8P0g0_"
      },
      "source": [
        "irisb.test <- irisb[-train,]"
      ],
      "execution_count": 54,
      "outputs": []
    },
    {
      "cell_type": "code",
      "metadata": {
        "colab": {
          "base_uri": "https://localhost:8080/"
        },
        "id": "KOp5tSAT0jXz",
        "outputId": "3c4b3e27-136f-4077-9a51-0fe094bcb9ce"
      },
      "source": [
        "f<- glm(Y~Sepal.Length, data = irisb.train, family = binomial)"
      ],
      "execution_count": 56,
      "outputs": [
        {
          "output_type": "stream",
          "text": [
            "Warning message:\n",
            "“glm.fit: fitted probabilities numerically 0 or 1 occurred”\n"
          ],
          "name": "stderr"
        }
      ]
    },
    {
      "cell_type": "code",
      "metadata": {
        "id": "d_HsBsw_0p4f"
      },
      "source": [
        "p <- predict(f, irisb.test, type=\"response\")"
      ],
      "execution_count": 59,
      "outputs": []
    },
    {
      "cell_type": "code",
      "metadata": {
        "colab": {
          "base_uri": "https://localhost:8080/",
          "height": 485
        },
        "id": "Cvke_5GC1EL_",
        "outputId": "4fe41b3b-877b-4a33-f48b-114e37d5acac"
      },
      "source": [
        "p"
      ],
      "execution_count": 60,
      "outputs": [
        {
          "output_type": "display_data",
          "data": {
            "text/plain": [
              "           1            3            4            5            8            9 \n",
              "9.998198e-01 1.000000e+00 1.000000e+00 9.999816e-01 9.999816e-01 1.000000e+00 \n",
              "          10           11           12           15           16           19 \n",
              "9.999981e-01 8.543350e-01 9.999998e-01 6.309514e-04 6.160091e-03 6.160091e-03 \n",
              "          26           27           30           35           36           41 \n",
              "9.999816e-01 9.999816e-01 1.000000e+00 9.999981e-01 9.999816e-01 9.999816e-01 \n",
              "          46           47           49           50           52           53 \n",
              "9.999998e-01 9.998198e-01 9.829294e-01 9.999816e-01 7.051244e-10 2.220446e-16 \n",
              "          54           55           56           57           58           59 \n",
              "3.739864e-01 7.182325e-11 6.160091e-03 6.922555e-09 9.999981e-01 7.315842e-12 \n",
              "          60           61           62           63           66           67 \n",
              "9.982341e-01 9.999816e-01 6.430450e-05 6.550368e-06 7.451842e-13 5.736101e-02 \n",
              "          69           71           72           76           77           80 \n",
              "6.796215e-08 6.430450e-05 6.672177e-07 7.315842e-12 2.220446e-16 6.160091e-03 \n",
              "          82           83           86           88           90           94 \n",
              "3.739864e-01 6.309514e-04 6.550368e-06 6.922555e-09 3.739864e-01 9.999816e-01 \n",
              "          96           97           98           99          101          103 \n",
              "6.160091e-03 6.160091e-03 6.796215e-08 9.998198e-01 6.922555e-09 2.220446e-16 \n",
              "         107          108          109          112          113          114 \n",
              "9.999981e-01 2.220446e-16 7.451842e-13 7.051244e-10 2.220446e-16 6.160091e-03 \n",
              "         116          117          122          125          128          133 \n",
              "7.051244e-10 7.182325e-11 5.736101e-02 7.451842e-13 6.672177e-07 7.051244e-10 \n",
              "         135          136          137          138          139          141 \n",
              "6.672177e-07 2.220446e-16 6.922555e-09 7.051244e-10 6.550368e-06 7.451842e-13 \n",
              "         145          148          150 \n",
              "7.451842e-13 7.182325e-11 6.430450e-05 "
            ],
            "text/latex": "\\begin{description*}\n\\item[1] 0.999819844793911\n\\item[3] 0.999999980603551\n\\item[4] 0.999999998024298\n\\item[5] 0.999981646606082\n\\item[8] 0.999981646606082\n\\item[9] 0.999999999979502\n\\item[10] 0.99999813051133\n\\item[11] 0.854334950669037\n\\item[12] 0.999999809575485\n\\item[15] 0.000630951356456171\n\\item[16] 0.0061600909381418\n\\item[19] 0.0061600909381418\n\\item[26] 0.999981646606082\n\\item[27] 0.999981646606082\n\\item[30] 0.999999980603551\n\\item[35] 0.99999813051133\n\\item[36] 0.999981646606082\n\\item[41] 0.999981646606082\n\\item[46] 0.999999809575485\n\\item[47] 0.999819844793911\n\\item[49] 0.982929399288743\n\\item[50] 0.999981646606082\n\\item[52] 7.05124392360728e-10\n\\item[53] 2.22044604925031e-16\n\\item[54] 0.373986434923836\n\\item[55] 7.18232464031257e-11\n\\item[56] 0.0061600909381418\n\\item[57] 6.92255545140627e-09\n\\item[58] 0.99999813051133\n\\item[59] 7.31584210791409e-12\n\\item[60] 0.998234132201101\n\\item[61] 0.999981646606082\n\\item[62] 6.43044973898429e-05\n\\item[63] 6.550368368914e-06\n\\item[66] 7.45184162860379e-13\n\\item[67] 0.0573610110095506\n\\item[69] 6.79621523092954e-08\n\\item[71] 6.43044973898429e-05\n\\item[72] 6.6721771938023e-07\n\\item[76] 7.31584210791409e-12\n\\item[77] 2.22044604925031e-16\n\\item[80] 0.0061600909381418\n\\item[82] 0.373986434923836\n\\item[83] 0.000630951356456171\n\\item[86] 6.550368368914e-06\n\\item[88] 6.92255545140627e-09\n\\item[90] 0.373986434923836\n\\item[94] 0.999981646606082\n\\item[96] 0.0061600909381418\n\\item[97] 0.0061600909381418\n\\item[98] 6.79621523092954e-08\n\\item[99] 0.999819844793911\n\\item[101] 6.92255545140627e-09\n\\item[103] 2.22044604925031e-16\n\\item[107] 0.99999813051133\n\\item[108] 2.22044604925031e-16\n\\item[109] 7.45184162860379e-13\n\\item[112] 7.05124392360728e-10\n\\item[113] 2.22044604925031e-16\n\\item[114] 0.0061600909381418\n\\item[116] 7.05124392360728e-10\n\\item[117] 7.18232464031257e-11\n\\item[122] 0.0573610110095506\n\\item[125] 7.45184162860379e-13\n\\item[128] 6.6721771938023e-07\n\\item[133] 7.05124392360728e-10\n\\item[135] 6.6721771938023e-07\n\\item[136] 2.22044604925031e-16\n\\item[137] 6.92255545140627e-09\n\\item[138] 7.05124392360728e-10\n\\item[139] 6.550368368914e-06\n\\item[141] 7.45184162860379e-13\n\\item[145] 7.45184162860379e-13\n\\item[148] 7.18232464031257e-11\n\\item[150] 6.43044973898429e-05\n\\end{description*}\n",
            "text/markdown": "1\n:   0.9998198447939113\n:   0.9999999806035514\n:   0.9999999980242985\n:   0.9999816466060828\n:   0.9999816466060829\n:   0.99999999997950210\n:   0.9999981305113311\n:   0.85433495066903712\n:   0.99999980957548515\n:   0.00063095135645617116\n:   0.006160090938141819\n:   0.006160090938141826\n:   0.99998164660608227\n:   0.99998164660608230\n:   0.99999998060355135\n:   0.9999981305113336\n:   0.99998164660608241\n:   0.99998164660608246\n:   0.99999980957548547\n:   0.99981984479391149\n:   0.98292939928874350\n:   0.99998164660608252\n:   7.05124392360728e-1053\n:   2.22044604925031e-1654\n:   0.37398643492383655\n:   7.18232464031257e-1156\n:   0.006160090938141857\n:   6.92255545140627e-0958\n:   0.9999981305113359\n:   7.31584210791409e-1260\n:   0.99823413220110161\n:   0.99998164660608262\n:   6.43044973898429e-0563\n:   6.550368368914e-0666\n:   7.45184162860379e-1367\n:   0.057361011009550669\n:   6.79621523092954e-0871\n:   6.43044973898429e-0572\n:   6.6721771938023e-0776\n:   7.31584210791409e-1277\n:   2.22044604925031e-1680\n:   0.006160090938141882\n:   0.37398643492383683\n:   0.00063095135645617186\n:   6.550368368914e-0688\n:   6.92255545140627e-0990\n:   0.37398643492383694\n:   0.99998164660608296\n:   0.006160090938141897\n:   0.006160090938141898\n:   6.79621523092954e-0899\n:   0.999819844793911101\n:   6.92255545140627e-09103\n:   2.22044604925031e-16107\n:   0.99999813051133108\n:   2.22044604925031e-16109\n:   7.45184162860379e-13112\n:   7.05124392360728e-10113\n:   2.22044604925031e-16114\n:   0.0061600909381418116\n:   7.05124392360728e-10117\n:   7.18232464031257e-11122\n:   0.0573610110095506125\n:   7.45184162860379e-13128\n:   6.6721771938023e-07133\n:   7.05124392360728e-10135\n:   6.6721771938023e-07136\n:   2.22044604925031e-16137\n:   6.92255545140627e-09138\n:   7.05124392360728e-10139\n:   6.550368368914e-06141\n:   7.45184162860379e-13145\n:   7.45184162860379e-13148\n:   7.18232464031257e-11150\n:   6.43044973898429e-05\n\n",
            "text/html": [
              "<style>\n",
              ".dl-inline {width: auto; margin:0; padding: 0}\n",
              ".dl-inline>dt, .dl-inline>dd {float: none; width: auto; display: inline-block}\n",
              ".dl-inline>dt::after {content: \":\\0020\"; padding-right: .5ex}\n",
              ".dl-inline>dt:not(:first-of-type) {padding-left: .5ex}\n",
              "</style><dl class=dl-inline><dt>1</dt><dd>0.999819844793911</dd><dt>3</dt><dd>0.999999980603551</dd><dt>4</dt><dd>0.999999998024298</dd><dt>5</dt><dd>0.999981646606082</dd><dt>8</dt><dd>0.999981646606082</dd><dt>9</dt><dd>0.999999999979502</dd><dt>10</dt><dd>0.99999813051133</dd><dt>11</dt><dd>0.854334950669037</dd><dt>12</dt><dd>0.999999809575485</dd><dt>15</dt><dd>0.000630951356456171</dd><dt>16</dt><dd>0.0061600909381418</dd><dt>19</dt><dd>0.0061600909381418</dd><dt>26</dt><dd>0.999981646606082</dd><dt>27</dt><dd>0.999981646606082</dd><dt>30</dt><dd>0.999999980603551</dd><dt>35</dt><dd>0.99999813051133</dd><dt>36</dt><dd>0.999981646606082</dd><dt>41</dt><dd>0.999981646606082</dd><dt>46</dt><dd>0.999999809575485</dd><dt>47</dt><dd>0.999819844793911</dd><dt>49</dt><dd>0.982929399288743</dd><dt>50</dt><dd>0.999981646606082</dd><dt>52</dt><dd>7.05124392360728e-10</dd><dt>53</dt><dd>2.22044604925031e-16</dd><dt>54</dt><dd>0.373986434923836</dd><dt>55</dt><dd>7.18232464031257e-11</dd><dt>56</dt><dd>0.0061600909381418</dd><dt>57</dt><dd>6.92255545140627e-09</dd><dt>58</dt><dd>0.99999813051133</dd><dt>59</dt><dd>7.31584210791409e-12</dd><dt>60</dt><dd>0.998234132201101</dd><dt>61</dt><dd>0.999981646606082</dd><dt>62</dt><dd>6.43044973898429e-05</dd><dt>63</dt><dd>6.550368368914e-06</dd><dt>66</dt><dd>7.45184162860379e-13</dd><dt>67</dt><dd>0.0573610110095506</dd><dt>69</dt><dd>6.79621523092954e-08</dd><dt>71</dt><dd>6.43044973898429e-05</dd><dt>72</dt><dd>6.6721771938023e-07</dd><dt>76</dt><dd>7.31584210791409e-12</dd><dt>77</dt><dd>2.22044604925031e-16</dd><dt>80</dt><dd>0.0061600909381418</dd><dt>82</dt><dd>0.373986434923836</dd><dt>83</dt><dd>0.000630951356456171</dd><dt>86</dt><dd>6.550368368914e-06</dd><dt>88</dt><dd>6.92255545140627e-09</dd><dt>90</dt><dd>0.373986434923836</dd><dt>94</dt><dd>0.999981646606082</dd><dt>96</dt><dd>0.0061600909381418</dd><dt>97</dt><dd>0.0061600909381418</dd><dt>98</dt><dd>6.79621523092954e-08</dd><dt>99</dt><dd>0.999819844793911</dd><dt>101</dt><dd>6.92255545140627e-09</dd><dt>103</dt><dd>2.22044604925031e-16</dd><dt>107</dt><dd>0.99999813051133</dd><dt>108</dt><dd>2.22044604925031e-16</dd><dt>109</dt><dd>7.45184162860379e-13</dd><dt>112</dt><dd>7.05124392360728e-10</dd><dt>113</dt><dd>2.22044604925031e-16</dd><dt>114</dt><dd>0.0061600909381418</dd><dt>116</dt><dd>7.05124392360728e-10</dd><dt>117</dt><dd>7.18232464031257e-11</dd><dt>122</dt><dd>0.0573610110095506</dd><dt>125</dt><dd>7.45184162860379e-13</dd><dt>128</dt><dd>6.6721771938023e-07</dd><dt>133</dt><dd>7.05124392360728e-10</dd><dt>135</dt><dd>6.6721771938023e-07</dd><dt>136</dt><dd>2.22044604925031e-16</dd><dt>137</dt><dd>6.92255545140627e-09</dd><dt>138</dt><dd>7.05124392360728e-10</dd><dt>139</dt><dd>6.550368368914e-06</dd><dt>141</dt><dd>7.45184162860379e-13</dd><dt>145</dt><dd>7.45184162860379e-13</dd><dt>148</dt><dd>7.18232464031257e-11</dd><dt>150</dt><dd>6.43044973898429e-05</dd></dl>\n"
            ]
          },
          "metadata": {
            "tags": []
          }
        }
      ]
    },
    {
      "cell_type": "code",
      "metadata": {
        "id": "PwvY2l041EqL"
      },
      "source": [
        "pred <- round(p)"
      ],
      "execution_count": 61,
      "outputs": []
    },
    {
      "cell_type": "code",
      "metadata": {
        "id": "y6vqJd2p1OAC"
      },
      "source": [
        "#confusion table"
      ],
      "execution_count": 62,
      "outputs": []
    },
    {
      "cell_type": "code",
      "metadata": {
        "colab": {
          "base_uri": "https://localhost:8080/",
          "height": 92
        },
        "id": "PJcR6Cfi1QVM",
        "outputId": "8842c679-4a80-45fd-fdd6-c695368e7a4f"
      },
      "source": [
        "table(pred, irisb.test$Y)"
      ],
      "execution_count": 63,
      "outputs": [
        {
          "output_type": "display_data",
          "data": {
            "text/plain": [
              "    \n",
              "pred  0  1\n",
              "   0 47  3\n",
              "   1  6 19"
            ]
          },
          "metadata": {
            "tags": []
          }
        }
      ]
    },
    {
      "cell_type": "code",
      "metadata": {
        "colab": {
          "base_uri": "https://localhost:8080/",
          "height": 35
        },
        "id": "lR5zuKxi1SIw",
        "outputId": "5f05ede8-fe1c-4336-f8a8-f2e7ee925051"
      },
      "source": [
        "mean(pred != irisb.test$Y)"
      ],
      "execution_count": 64,
      "outputs": [
        {
          "output_type": "display_data",
          "data": {
            "text/plain": [
              "[1] 0.12"
            ],
            "text/latex": "0.12",
            "text/markdown": "0.12",
            "text/html": [
              "0.12"
            ]
          },
          "metadata": {
            "tags": []
          }
        }
      ]
    },
    {
      "cell_type": "markdown",
      "metadata": {
        "id": "jPJiq5rA1XJ4"
      },
      "source": [
        "test classification error rate estimate"
      ]
    },
    {
      "cell_type": "code",
      "metadata": {
        "colab": {
          "base_uri": "https://localhost:8080/",
          "height": 184
        },
        "id": "pyGk7RXX1WF9",
        "outputId": "21c21616-37f6-4ab4-e60d-ea7516d53c6d"
      },
      "source": [
        "f <- glm(Y~., data = irisb.train, family = binomial)\n",
        "p <- predict(f, irisb.test, type = \"response\")\n",
        "pred <- round(p)\n",
        "table(pred, irisb.test$Y)\n",
        "mean(pred != irisb.test$Y)"
      ],
      "execution_count": 65,
      "outputs": [
        {
          "output_type": "stream",
          "text": [
            "Warning message:\n",
            "“glm.fit: algorithm did not converge”\n",
            "Warning message:\n",
            "“glm.fit: fitted probabilities numerically 0 or 1 occurred”\n"
          ],
          "name": "stderr"
        },
        {
          "output_type": "display_data",
          "data": {
            "text/plain": [
              "    \n",
              "pred  0  1\n",
              "   0 53  0\n",
              "   1  0 22"
            ]
          },
          "metadata": {
            "tags": []
          }
        },
        {
          "output_type": "display_data",
          "data": {
            "text/plain": [
              "[1] 0"
            ],
            "text/latex": "0",
            "text/markdown": "0",
            "text/html": [
              "0"
            ]
          },
          "metadata": {
            "tags": []
          }
        }
      ]
    },
    {
      "cell_type": "markdown",
      "metadata": {
        "id": "3eqGMH5h1vXt"
      },
      "source": [
        "best classification error"
      ]
    },
    {
      "cell_type": "markdown",
      "metadata": {
        "id": "OFVitcA91zEL"
      },
      "source": [
        "iris data has multi-class response : 3 classes \"setosa\", \"versicolor\", \"virginica\""
      ]
    },
    {
      "cell_type": "code",
      "metadata": {
        "id": "ffRl8LVu1uS2"
      },
      "source": [
        "library(nnet)"
      ],
      "execution_count": 66,
      "outputs": []
    },
    {
      "cell_type": "code",
      "metadata": {
        "id": "QlGvIyJj2Ala"
      },
      "source": [
        "iris.train <- iris[train,]\n",
        "iris.test <- iris[-train,]"
      ],
      "execution_count": 67,
      "outputs": []
    },
    {
      "cell_type": "code",
      "metadata": {
        "colab": {
          "base_uri": "https://localhost:8080/"
        },
        "id": "T_mFniTZ19tr",
        "outputId": "52273d23-2f56-4327-d69d-807bb1ed7eb2"
      },
      "source": [
        "fm <- multinom(Species~., data = iris.train)"
      ],
      "execution_count": 68,
      "outputs": [
        {
          "output_type": "stream",
          "text": [
            "# weights:  18 (10 variable)\n",
            "initial  value 82.395922 \n",
            "iter  10 value 5.908155\n",
            "iter  20 value 4.633743\n",
            "iter  30 value 4.306237\n",
            "iter  40 value 4.265719\n",
            "iter  50 value 4.258118\n",
            "iter  60 value 4.257885\n",
            "iter  70 value 4.257371\n",
            "iter  80 value 4.257278\n",
            "final  value 4.257252 \n",
            "converged\n"
          ],
          "name": "stdout"
        }
      ]
    },
    {
      "cell_type": "code",
      "metadata": {
        "colab": {
          "base_uri": "https://localhost:8080/",
          "height": 297
        },
        "id": "ylxth9qP2JkV",
        "outputId": "de75c472-e430-4f63-9805-6a72d45b69da"
      },
      "source": [
        "summary(fm)"
      ],
      "execution_count": 69,
      "outputs": [
        {
          "output_type": "display_data",
          "data": {
            "text/plain": [
              "Call:\n",
              "multinom(formula = Species ~ ., data = iris.train)\n",
              "\n",
              "Coefficients:\n",
              "           (Intercept) Sepal.Length Sepal.Width Petal.Length Petal.Width\n",
              "versicolor    17.53598    -5.245426   -8.823389     12.90287   0.5086761\n",
              "virginica    -22.99845    -5.356535  -15.004168     19.97821  14.6388790\n",
              "\n",
              "Std. Errors:\n",
              "           (Intercept) Sepal.Length Sepal.Width Petal.Length Petal.Width\n",
              "versicolor    24.10054     32.43267    17.60789     73.84797    36.77721\n",
              "virginica     26.10561     32.34470    17.92378     74.20255    37.18942\n",
              "\n",
              "Residual Deviance: 8.514503 \n",
              "AIC: 28.5145 "
            ]
          },
          "metadata": {
            "tags": []
          }
        }
      ]
    },
    {
      "cell_type": "markdown",
      "metadata": {
        "id": "oIo84suM2SaG"
      },
      "source": [
        "high interpretality"
      ]
    },
    {
      "cell_type": "code",
      "metadata": {
        "id": "fLaZTHaN2OjU"
      },
      "source": [
        "pm <- predict(fm, newdata = iris.test)"
      ],
      "execution_count": 70,
      "outputs": []
    },
    {
      "cell_type": "code",
      "metadata": {
        "colab": {
          "base_uri": "https://localhost:8080/",
          "height": 173
        },
        "id": "-2Pf-i8s2YC-",
        "outputId": "6a94846c-dad6-45c3-defe-1f5bf4502bf8"
      },
      "source": [
        "pm"
      ],
      "execution_count": 71,
      "outputs": [
        {
          "output_type": "display_data",
          "data": {
            "text/plain": [
              " [1] setosa     setosa     setosa     setosa     setosa     setosa    \n",
              " [7] setosa     setosa     setosa     setosa     setosa     setosa    \n",
              "[13] setosa     setosa     setosa     setosa     setosa     setosa    \n",
              "[19] setosa     setosa     setosa     setosa     versicolor versicolor\n",
              "[25] versicolor versicolor versicolor versicolor versicolor versicolor\n",
              "[31] versicolor versicolor versicolor versicolor versicolor versicolor\n",
              "[37] versicolor versicolor versicolor versicolor versicolor versicolor\n",
              "[43] versicolor versicolor versicolor versicolor versicolor versicolor\n",
              "[49] versicolor versicolor versicolor versicolor virginica  virginica \n",
              "[55] versicolor virginica  virginica  virginica  virginica  virginica \n",
              "[61] virginica  virginica  virginica  virginica  virginica  virginica \n",
              "[67] virginica  virginica  virginica  virginica  versicolor virginica \n",
              "[73] virginica  virginica  virginica \n",
              "Levels: setosa versicolor virginica"
            ],
            "text/latex": "\\begin{enumerate*}\n\\item setosa\n\\item setosa\n\\item setosa\n\\item setosa\n\\item setosa\n\\item setosa\n\\item setosa\n\\item setosa\n\\item setosa\n\\item setosa\n\\item setosa\n\\item setosa\n\\item setosa\n\\item setosa\n\\item setosa\n\\item setosa\n\\item setosa\n\\item setosa\n\\item setosa\n\\item setosa\n\\item setosa\n\\item setosa\n\\item versicolor\n\\item versicolor\n\\item versicolor\n\\item versicolor\n\\item versicolor\n\\item versicolor\n\\item versicolor\n\\item versicolor\n\\item versicolor\n\\item versicolor\n\\item versicolor\n\\item versicolor\n\\item versicolor\n\\item versicolor\n\\item versicolor\n\\item versicolor\n\\item versicolor\n\\item versicolor\n\\item versicolor\n\\item versicolor\n\\item versicolor\n\\item versicolor\n\\item versicolor\n\\item versicolor\n\\item versicolor\n\\item versicolor\n\\item versicolor\n\\item versicolor\n\\item versicolor\n\\item versicolor\n\\item virginica\n\\item virginica\n\\item versicolor\n\\item virginica\n\\item virginica\n\\item virginica\n\\item virginica\n\\item virginica\n\\item virginica\n\\item virginica\n\\item virginica\n\\item virginica\n\\item virginica\n\\item virginica\n\\item virginica\n\\item virginica\n\\item virginica\n\\item virginica\n\\item versicolor\n\\item virginica\n\\item virginica\n\\item virginica\n\\item virginica\n\\end{enumerate*}\n\n\\emph{Levels}: \\begin{enumerate*}\n\\item 'setosa'\n\\item 'versicolor'\n\\item 'virginica'\n\\end{enumerate*}\n",
            "text/markdown": "1. setosa\n2. setosa\n3. setosa\n4. setosa\n5. setosa\n6. setosa\n7. setosa\n8. setosa\n9. setosa\n10. setosa\n11. setosa\n12. setosa\n13. setosa\n14. setosa\n15. setosa\n16. setosa\n17. setosa\n18. setosa\n19. setosa\n20. setosa\n21. setosa\n22. setosa\n23. versicolor\n24. versicolor\n25. versicolor\n26. versicolor\n27. versicolor\n28. versicolor\n29. versicolor\n30. versicolor\n31. versicolor\n32. versicolor\n33. versicolor\n34. versicolor\n35. versicolor\n36. versicolor\n37. versicolor\n38. versicolor\n39. versicolor\n40. versicolor\n41. versicolor\n42. versicolor\n43. versicolor\n44. versicolor\n45. versicolor\n46. versicolor\n47. versicolor\n48. versicolor\n49. versicolor\n50. versicolor\n51. versicolor\n52. versicolor\n53. virginica\n54. virginica\n55. versicolor\n56. virginica\n57. virginica\n58. virginica\n59. virginica\n60. virginica\n61. virginica\n62. virginica\n63. virginica\n64. virginica\n65. virginica\n66. virginica\n67. virginica\n68. virginica\n69. virginica\n70. virginica\n71. versicolor\n72. virginica\n73. virginica\n74. virginica\n75. virginica\n\n\n\n**Levels**: 1. 'setosa'\n2. 'versicolor'\n3. 'virginica'\n\n\n",
            "text/html": [
              "<style>\n",
              ".list-inline {list-style: none; margin:0; padding: 0}\n",
              ".list-inline>li {display: inline-block}\n",
              ".list-inline>li:not(:last-child)::after {content: \"\\00b7\"; padding: 0 .5ex}\n",
              "</style>\n",
              "<ol class=list-inline><li>setosa</li><li>setosa</li><li>setosa</li><li>setosa</li><li>setosa</li><li>setosa</li><li>setosa</li><li>setosa</li><li>setosa</li><li>setosa</li><li>setosa</li><li>setosa</li><li>setosa</li><li>setosa</li><li>setosa</li><li>setosa</li><li>setosa</li><li>setosa</li><li>setosa</li><li>setosa</li><li>setosa</li><li>setosa</li><li>versicolor</li><li>versicolor</li><li>versicolor</li><li>versicolor</li><li>versicolor</li><li>versicolor</li><li>versicolor</li><li>versicolor</li><li>versicolor</li><li>versicolor</li><li>versicolor</li><li>versicolor</li><li>versicolor</li><li>versicolor</li><li>versicolor</li><li>versicolor</li><li>versicolor</li><li>versicolor</li><li>versicolor</li><li>versicolor</li><li>versicolor</li><li>versicolor</li><li>versicolor</li><li>versicolor</li><li>versicolor</li><li>versicolor</li><li>versicolor</li><li>versicolor</li><li>versicolor</li><li>versicolor</li><li>virginica</li><li>virginica</li><li>versicolor</li><li>virginica</li><li>virginica</li><li>virginica</li><li>virginica</li><li>virginica</li><li>virginica</li><li>virginica</li><li>virginica</li><li>virginica</li><li>virginica</li><li>virginica</li><li>virginica</li><li>virginica</li><li>virginica</li><li>virginica</li><li>versicolor</li><li>virginica</li><li>virginica</li><li>virginica</li><li>virginica</li></ol>\n",
              "\n",
              "<details>\n",
              "\t<summary style=display:list-item;cursor:pointer>\n",
              "\t\t<strong>Levels</strong>:\n",
              "\t</summary>\n",
              "\t<style>\n",
              "\t.list-inline {list-style: none; margin:0; padding: 0}\n",
              "\t.list-inline>li {display: inline-block}\n",
              "\t.list-inline>li:not(:last-child)::after {content: \"\\00b7\"; padding: 0 .5ex}\n",
              "\t</style>\n",
              "\t<ol class=list-inline><li>'setosa'</li><li>'versicolor'</li><li>'virginica'</li></ol>\n",
              "</details>"
            ]
          },
          "metadata": {
            "tags": []
          }
        }
      ]
    },
    {
      "cell_type": "code",
      "metadata": {
        "colab": {
          "base_uri": "https://localhost:8080/",
          "height": 111
        },
        "id": "Z1kmB80u2Ygm",
        "outputId": "0be8356d-cb52-4b8e-d9dd-092a69a4b614"
      },
      "source": [
        "table(pm, iris.test$Species)"
      ],
      "execution_count": 72,
      "outputs": [
        {
          "output_type": "display_data",
          "data": {
            "text/plain": [
              "            \n",
              "pm           setosa versicolor virginica\n",
              "  setosa         22          0         0\n",
              "  versicolor      0         30         2\n",
              "  virginica       0          0        21"
            ]
          },
          "metadata": {
            "tags": []
          }
        }
      ]
    },
    {
      "cell_type": "markdown",
      "metadata": {
        "id": "hZvJKW532dmq"
      },
      "source": [
        "2 missclassification"
      ]
    },
    {
      "cell_type": "code",
      "metadata": {
        "colab": {
          "base_uri": "https://localhost:8080/",
          "height": 35
        },
        "id": "xFsvg1hQ2fPu",
        "outputId": "ca590eac-bb48-4b1c-fb14-89d3e2a24145"
      },
      "source": [
        "mean(pm != iris.test$Species)"
      ],
      "execution_count": 73,
      "outputs": [
        {
          "output_type": "display_data",
          "data": {
            "text/plain": [
              "[1] 0.02666667"
            ],
            "text/latex": "0.0266666666666667",
            "text/markdown": "0.0266666666666667",
            "text/html": [
              "0.0266666666666667"
            ]
          },
          "metadata": {
            "tags": []
          }
        }
      ]
    },
    {
      "cell_type": "markdown",
      "metadata": {
        "id": "kIB8qlgQ2jKd"
      },
      "source": [
        "less than 3 percent test classification error rate estimate"
      ]
    },
    {
      "cell_type": "code",
      "metadata": {
        "id": "c5WVNDwJ2bh-"
      },
      "source": [
        ""
      ],
      "execution_count": null,
      "outputs": []
    }
  ]
}