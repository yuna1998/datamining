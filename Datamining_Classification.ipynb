{
  "nbformat": 4,
  "nbformat_minor": 0,
  "metadata": {
    "colab": {
      "name": "Datamining_Classification.ipynb",
      "provenance": [],
      "authorship_tag": "ABX9TyPbJgkvBPRidTLXUTl/hISd",
      "include_colab_link": true
    },
    "kernelspec": {
      "name": "ir",
      "display_name": "R"
    },
    "language_info": {
      "name": "R"
    }
  },
  "cells": [
    {
      "cell_type": "markdown",
      "metadata": {
        "id": "view-in-github",
        "colab_type": "text"
      },
      "source": [
        "<a href=\"https://colab.research.google.com/github/yuna1998/datamining/blob/main/Datamining_Classification.ipynb\" target=\"_parent\"><img src=\"https://colab.research.google.com/assets/colab-badge.svg\" alt=\"Open In Colab\"/></a>"
      ]
    },
    {
      "cell_type": "code",
      "metadata": {
        "colab": {
          "base_uri": "https://localhost:8080/",
          "height": 281
        },
        "id": "Ud-1WC5AX-as",
        "outputId": "a1f3620a-4301-481b-8e5c-20eb8a8c7ca6"
      },
      "source": [
        "head(iris)"
      ],
      "execution_count": null,
      "outputs": [
        {
          "output_type": "display_data",
          "data": {
            "text/plain": [
              "  Sepal.Length Sepal.Width Petal.Length Petal.Width Species\n",
              "1 5.1          3.5         1.4          0.2         setosa \n",
              "2 4.9          3.0         1.4          0.2         setosa \n",
              "3 4.7          3.2         1.3          0.2         setosa \n",
              "4 4.6          3.1         1.5          0.2         setosa \n",
              "5 5.0          3.6         1.4          0.2         setosa \n",
              "6 5.4          3.9         1.7          0.4         setosa "
            ],
            "text/latex": "A data.frame: 6 × 5\n\\begin{tabular}{r|lllll}\n  & Sepal.Length & Sepal.Width & Petal.Length & Petal.Width & Species\\\\\n  & <dbl> & <dbl> & <dbl> & <dbl> & <fct>\\\\\n\\hline\n\t1 & 5.1 & 3.5 & 1.4 & 0.2 & setosa\\\\\n\t2 & 4.9 & 3.0 & 1.4 & 0.2 & setosa\\\\\n\t3 & 4.7 & 3.2 & 1.3 & 0.2 & setosa\\\\\n\t4 & 4.6 & 3.1 & 1.5 & 0.2 & setosa\\\\\n\t5 & 5.0 & 3.6 & 1.4 & 0.2 & setosa\\\\\n\t6 & 5.4 & 3.9 & 1.7 & 0.4 & setosa\\\\\n\\end{tabular}\n",
            "text/markdown": "\nA data.frame: 6 × 5\n\n| <!--/--> | Sepal.Length &lt;dbl&gt; | Sepal.Width &lt;dbl&gt; | Petal.Length &lt;dbl&gt; | Petal.Width &lt;dbl&gt; | Species &lt;fct&gt; |\n|---|---|---|---|---|---|\n| 1 | 5.1 | 3.5 | 1.4 | 0.2 | setosa |\n| 2 | 4.9 | 3.0 | 1.4 | 0.2 | setosa |\n| 3 | 4.7 | 3.2 | 1.3 | 0.2 | setosa |\n| 4 | 4.6 | 3.1 | 1.5 | 0.2 | setosa |\n| 5 | 5.0 | 3.6 | 1.4 | 0.2 | setosa |\n| 6 | 5.4 | 3.9 | 1.7 | 0.4 | setosa |\n\n",
            "text/html": [
              "<table class=\"dataframe\">\n",
              "<caption>A data.frame: 6 × 5</caption>\n",
              "<thead>\n",
              "\t<tr><th></th><th scope=col>Sepal.Length</th><th scope=col>Sepal.Width</th><th scope=col>Petal.Length</th><th scope=col>Petal.Width</th><th scope=col>Species</th></tr>\n",
              "\t<tr><th></th><th scope=col>&lt;dbl&gt;</th><th scope=col>&lt;dbl&gt;</th><th scope=col>&lt;dbl&gt;</th><th scope=col>&lt;dbl&gt;</th><th scope=col>&lt;fct&gt;</th></tr>\n",
              "</thead>\n",
              "<tbody>\n",
              "\t<tr><th scope=row>1</th><td>5.1</td><td>3.5</td><td>1.4</td><td>0.2</td><td>setosa</td></tr>\n",
              "\t<tr><th scope=row>2</th><td>4.9</td><td>3.0</td><td>1.4</td><td>0.2</td><td>setosa</td></tr>\n",
              "\t<tr><th scope=row>3</th><td>4.7</td><td>3.2</td><td>1.3</td><td>0.2</td><td>setosa</td></tr>\n",
              "\t<tr><th scope=row>4</th><td>4.6</td><td>3.1</td><td>1.5</td><td>0.2</td><td>setosa</td></tr>\n",
              "\t<tr><th scope=row>5</th><td>5.0</td><td>3.6</td><td>1.4</td><td>0.2</td><td>setosa</td></tr>\n",
              "\t<tr><th scope=row>6</th><td>5.4</td><td>3.9</td><td>1.7</td><td>0.4</td><td>setosa</td></tr>\n",
              "</tbody>\n",
              "</table>\n"
            ]
          },
          "metadata": {
            "tags": []
          }
        }
      ]
    },
    {
      "cell_type": "markdown",
      "metadata": {
        "id": "WGKjViQcYIp4"
      },
      "source": [
        "5 variable"
      ]
    },
    {
      "cell_type": "code",
      "metadata": {
        "colab": {
          "base_uri": "https://localhost:8080/"
        },
        "id": "HUSOkokyYEsU",
        "outputId": "a4a05fbc-a3aa-438d-ded4-e576d3f1ee54"
      },
      "source": [
        "str(iris)"
      ],
      "execution_count": null,
      "outputs": [
        {
          "output_type": "stream",
          "text": [
            "'data.frame':\t150 obs. of  5 variables:\n",
            " $ Sepal.Length: num  5.1 4.9 4.7 4.6 5 5.4 4.6 5 4.4 4.9 ...\n",
            " $ Sepal.Width : num  3.5 3 3.2 3.1 3.6 3.9 3.4 3.4 2.9 3.1 ...\n",
            " $ Petal.Length: num  1.4 1.4 1.3 1.5 1.4 1.7 1.4 1.5 1.4 1.5 ...\n",
            " $ Petal.Width : num  0.2 0.2 0.2 0.2 0.2 0.4 0.3 0.2 0.2 0.1 ...\n",
            " $ Species     : Factor w/ 3 levels \"setosa\",\"versicolor\",..: 1 1 1 1 1 1 1 1 1 1 ...\n"
          ],
          "name": "stdout"
        }
      ]
    },
    {
      "cell_type": "markdown",
      "metadata": {
        "id": "5TkkQV-PYYbS"
      },
      "source": [
        "4 continuous predictors and 1 categorical response with 3 classes"
      ]
    },
    {
      "cell_type": "markdown",
      "metadata": {
        "id": "LzLyYZqEYgSK"
      },
      "source": [
        "All predictors are quantitative"
      ]
    },
    {
      "cell_type": "code",
      "metadata": {
        "colab": {
          "base_uri": "https://localhost:8080/",
          "height": 35
        },
        "id": "5GWUo9HCYM4O",
        "outputId": "e29c5826-0274-4ad1-acdd-a3d0682b2cc5"
      },
      "source": [
        "n <- dim(iris)[1]\n",
        "n"
      ],
      "execution_count": null,
      "outputs": [
        {
          "output_type": "display_data",
          "data": {
            "text/plain": [
              "[1] 150"
            ],
            "text/latex": "150",
            "text/markdown": "150",
            "text/html": [
              "150"
            ]
          },
          "metadata": {
            "tags": []
          }
        }
      ]
    },
    {
      "cell_type": "code",
      "metadata": {
        "id": "dZSN9YfaYoCW"
      },
      "source": [
        "set.seed(1)"
      ],
      "execution_count": null,
      "outputs": []
    },
    {
      "cell_type": "code",
      "metadata": {
        "colab": {
          "base_uri": "https://localhost:8080/",
          "height": 87
        },
        "id": "1d8ySwVLYpfz",
        "outputId": "b944a261-2e69-402a-c984-91fc72d854ef"
      },
      "source": [
        "train<- sample(n, n/2)\n",
        "train"
      ],
      "execution_count": null,
      "outputs": [
        {
          "output_type": "display_data",
          "data": {
            "text/plain": [
              " [1]  68 129  43  14  51  85  21 106  74   7  73  79  37 105 110  34 143 126  89\n",
              "[20]  33  84  70 142  42  38 111  20  28 124  44  87 149  40 121  25 119  39 146\n",
              "[39] 127   6  24  32 147   2  45  18  22  78 102  65 115 120 100  75  81  13 118\n",
              "[58] 132  48  93  23 130  29  95 104 123  92 131 134 144  31  17 140  91  64"
            ],
            "text/latex": "\\begin{enumerate*}\n\\item 68\n\\item 129\n\\item 43\n\\item 14\n\\item 51\n\\item 85\n\\item 21\n\\item 106\n\\item 74\n\\item 7\n\\item 73\n\\item 79\n\\item 37\n\\item 105\n\\item 110\n\\item 34\n\\item 143\n\\item 126\n\\item 89\n\\item 33\n\\item 84\n\\item 70\n\\item 142\n\\item 42\n\\item 38\n\\item 111\n\\item 20\n\\item 28\n\\item 124\n\\item 44\n\\item 87\n\\item 149\n\\item 40\n\\item 121\n\\item 25\n\\item 119\n\\item 39\n\\item 146\n\\item 127\n\\item 6\n\\item 24\n\\item 32\n\\item 147\n\\item 2\n\\item 45\n\\item 18\n\\item 22\n\\item 78\n\\item 102\n\\item 65\n\\item 115\n\\item 120\n\\item 100\n\\item 75\n\\item 81\n\\item 13\n\\item 118\n\\item 132\n\\item 48\n\\item 93\n\\item 23\n\\item 130\n\\item 29\n\\item 95\n\\item 104\n\\item 123\n\\item 92\n\\item 131\n\\item 134\n\\item 144\n\\item 31\n\\item 17\n\\item 140\n\\item 91\n\\item 64\n\\end{enumerate*}\n",
            "text/markdown": "1. 68\n2. 129\n3. 43\n4. 14\n5. 51\n6. 85\n7. 21\n8. 106\n9. 74\n10. 7\n11. 73\n12. 79\n13. 37\n14. 105\n15. 110\n16. 34\n17. 143\n18. 126\n19. 89\n20. 33\n21. 84\n22. 70\n23. 142\n24. 42\n25. 38\n26. 111\n27. 20\n28. 28\n29. 124\n30. 44\n31. 87\n32. 149\n33. 40\n34. 121\n35. 25\n36. 119\n37. 39\n38. 146\n39. 127\n40. 6\n41. 24\n42. 32\n43. 147\n44. 2\n45. 45\n46. 18\n47. 22\n48. 78\n49. 102\n50. 65\n51. 115\n52. 120\n53. 100\n54. 75\n55. 81\n56. 13\n57. 118\n58. 132\n59. 48\n60. 93\n61. 23\n62. 130\n63. 29\n64. 95\n65. 104\n66. 123\n67. 92\n68. 131\n69. 134\n70. 144\n71. 31\n72. 17\n73. 140\n74. 91\n75. 64\n\n\n",
            "text/html": [
              "<style>\n",
              ".list-inline {list-style: none; margin:0; padding: 0}\n",
              ".list-inline>li {display: inline-block}\n",
              ".list-inline>li:not(:last-child)::after {content: \"\\00b7\"; padding: 0 .5ex}\n",
              "</style>\n",
              "<ol class=list-inline><li>68</li><li>129</li><li>43</li><li>14</li><li>51</li><li>85</li><li>21</li><li>106</li><li>74</li><li>7</li><li>73</li><li>79</li><li>37</li><li>105</li><li>110</li><li>34</li><li>143</li><li>126</li><li>89</li><li>33</li><li>84</li><li>70</li><li>142</li><li>42</li><li>38</li><li>111</li><li>20</li><li>28</li><li>124</li><li>44</li><li>87</li><li>149</li><li>40</li><li>121</li><li>25</li><li>119</li><li>39</li><li>146</li><li>127</li><li>6</li><li>24</li><li>32</li><li>147</li><li>2</li><li>45</li><li>18</li><li>22</li><li>78</li><li>102</li><li>65</li><li>115</li><li>120</li><li>100</li><li>75</li><li>81</li><li>13</li><li>118</li><li>132</li><li>48</li><li>93</li><li>23</li><li>130</li><li>29</li><li>95</li><li>104</li><li>123</li><li>92</li><li>131</li><li>134</li><li>144</li><li>31</li><li>17</li><li>140</li><li>91</li><li>64</li></ol>\n"
            ]
          },
          "metadata": {
            "tags": []
          }
        }
      ]
    },
    {
      "cell_type": "markdown",
      "metadata": {
        "id": "TsATM_zwYud3"
      },
      "source": [
        "to fit Bayes classifier assuming multivariate normality, we can use qda function"
      ]
    },
    {
      "cell_type": "code",
      "metadata": {
        "id": "SbSewpCFYsS9"
      },
      "source": [
        ""
      ],
      "execution_count": null,
      "outputs": []
    },
    {
      "cell_type": "code",
      "metadata": {
        "id": "IARWzRXXY02G"
      },
      "source": [
        "library(MASS)"
      ],
      "execution_count": null,
      "outputs": []
    },
    {
      "cell_type": "code",
      "metadata": {
        "id": "YwVLoc3PY10T"
      },
      "source": [
        "fit <- qda(Species~., data = iris[train,])"
      ],
      "execution_count": null,
      "outputs": []
    },
    {
      "cell_type": "code",
      "metadata": {
        "id": "2SNXgtvNY6Fl"
      },
      "source": [
        "pred <- predict(fit, newdata = iris[-train,])$class"
      ],
      "execution_count": null,
      "outputs": []
    },
    {
      "cell_type": "code",
      "metadata": {
        "colab": {
          "base_uri": "https://localhost:8080/",
          "height": 173
        },
        "id": "vdGDVLn1Y9JE",
        "outputId": "0a43aa53-1e2f-4f6d-f079-d7274a041c0d"
      },
      "source": [
        "pred"
      ],
      "execution_count": null,
      "outputs": [
        {
          "output_type": "display_data",
          "data": {
            "text/plain": [
              " [1] setosa     setosa     setosa     setosa     setosa     setosa    \n",
              " [7] setosa     setosa     setosa     setosa     setosa     setosa    \n",
              "[13] setosa     setosa     setosa     setosa     setosa     setosa    \n",
              "[19] setosa     setosa     setosa     setosa     versicolor versicolor\n",
              "[25] versicolor versicolor versicolor versicolor versicolor versicolor\n",
              "[31] versicolor versicolor versicolor versicolor versicolor versicolor\n",
              "[37] virginica  virginica  versicolor versicolor versicolor versicolor\n",
              "[43] versicolor versicolor versicolor versicolor versicolor versicolor\n",
              "[49] versicolor versicolor versicolor versicolor virginica  virginica \n",
              "[55] virginica  virginica  virginica  virginica  virginica  virginica \n",
              "[61] virginica  virginica  virginica  virginica  virginica  virginica \n",
              "[67] virginica  virginica  virginica  virginica  virginica  virginica \n",
              "[73] virginica  virginica  virginica \n",
              "Levels: setosa versicolor virginica"
            ],
            "text/latex": "\\begin{enumerate*}\n\\item setosa\n\\item setosa\n\\item setosa\n\\item setosa\n\\item setosa\n\\item setosa\n\\item setosa\n\\item setosa\n\\item setosa\n\\item setosa\n\\item setosa\n\\item setosa\n\\item setosa\n\\item setosa\n\\item setosa\n\\item setosa\n\\item setosa\n\\item setosa\n\\item setosa\n\\item setosa\n\\item setosa\n\\item setosa\n\\item versicolor\n\\item versicolor\n\\item versicolor\n\\item versicolor\n\\item versicolor\n\\item versicolor\n\\item versicolor\n\\item versicolor\n\\item versicolor\n\\item versicolor\n\\item versicolor\n\\item versicolor\n\\item versicolor\n\\item versicolor\n\\item virginica\n\\item virginica\n\\item versicolor\n\\item versicolor\n\\item versicolor\n\\item versicolor\n\\item versicolor\n\\item versicolor\n\\item versicolor\n\\item versicolor\n\\item versicolor\n\\item versicolor\n\\item versicolor\n\\item versicolor\n\\item versicolor\n\\item versicolor\n\\item virginica\n\\item virginica\n\\item virginica\n\\item virginica\n\\item virginica\n\\item virginica\n\\item virginica\n\\item virginica\n\\item virginica\n\\item virginica\n\\item virginica\n\\item virginica\n\\item virginica\n\\item virginica\n\\item virginica\n\\item virginica\n\\item virginica\n\\item virginica\n\\item virginica\n\\item virginica\n\\item virginica\n\\item virginica\n\\item virginica\n\\end{enumerate*}\n\n\\emph{Levels}: \\begin{enumerate*}\n\\item 'setosa'\n\\item 'versicolor'\n\\item 'virginica'\n\\end{enumerate*}\n",
            "text/markdown": "1. setosa\n2. setosa\n3. setosa\n4. setosa\n5. setosa\n6. setosa\n7. setosa\n8. setosa\n9. setosa\n10. setosa\n11. setosa\n12. setosa\n13. setosa\n14. setosa\n15. setosa\n16. setosa\n17. setosa\n18. setosa\n19. setosa\n20. setosa\n21. setosa\n22. setosa\n23. versicolor\n24. versicolor\n25. versicolor\n26. versicolor\n27. versicolor\n28. versicolor\n29. versicolor\n30. versicolor\n31. versicolor\n32. versicolor\n33. versicolor\n34. versicolor\n35. versicolor\n36. versicolor\n37. virginica\n38. virginica\n39. versicolor\n40. versicolor\n41. versicolor\n42. versicolor\n43. versicolor\n44. versicolor\n45. versicolor\n46. versicolor\n47. versicolor\n48. versicolor\n49. versicolor\n50. versicolor\n51. versicolor\n52. versicolor\n53. virginica\n54. virginica\n55. virginica\n56. virginica\n57. virginica\n58. virginica\n59. virginica\n60. virginica\n61. virginica\n62. virginica\n63. virginica\n64. virginica\n65. virginica\n66. virginica\n67. virginica\n68. virginica\n69. virginica\n70. virginica\n71. virginica\n72. virginica\n73. virginica\n74. virginica\n75. virginica\n\n\n\n**Levels**: 1. 'setosa'\n2. 'versicolor'\n3. 'virginica'\n\n\n",
            "text/html": [
              "<style>\n",
              ".list-inline {list-style: none; margin:0; padding: 0}\n",
              ".list-inline>li {display: inline-block}\n",
              ".list-inline>li:not(:last-child)::after {content: \"\\00b7\"; padding: 0 .5ex}\n",
              "</style>\n",
              "<ol class=list-inline><li>setosa</li><li>setosa</li><li>setosa</li><li>setosa</li><li>setosa</li><li>setosa</li><li>setosa</li><li>setosa</li><li>setosa</li><li>setosa</li><li>setosa</li><li>setosa</li><li>setosa</li><li>setosa</li><li>setosa</li><li>setosa</li><li>setosa</li><li>setosa</li><li>setosa</li><li>setosa</li><li>setosa</li><li>setosa</li><li>versicolor</li><li>versicolor</li><li>versicolor</li><li>versicolor</li><li>versicolor</li><li>versicolor</li><li>versicolor</li><li>versicolor</li><li>versicolor</li><li>versicolor</li><li>versicolor</li><li>versicolor</li><li>versicolor</li><li>versicolor</li><li>virginica</li><li>virginica</li><li>versicolor</li><li>versicolor</li><li>versicolor</li><li>versicolor</li><li>versicolor</li><li>versicolor</li><li>versicolor</li><li>versicolor</li><li>versicolor</li><li>versicolor</li><li>versicolor</li><li>versicolor</li><li>versicolor</li><li>versicolor</li><li>virginica</li><li>virginica</li><li>virginica</li><li>virginica</li><li>virginica</li><li>virginica</li><li>virginica</li><li>virginica</li><li>virginica</li><li>virginica</li><li>virginica</li><li>virginica</li><li>virginica</li><li>virginica</li><li>virginica</li><li>virginica</li><li>virginica</li><li>virginica</li><li>virginica</li><li>virginica</li><li>virginica</li><li>virginica</li><li>virginica</li></ol>\n",
              "\n",
              "<details>\n",
              "\t<summary style=display:list-item;cursor:pointer>\n",
              "\t\t<strong>Levels</strong>:\n",
              "\t</summary>\n",
              "\t<style>\n",
              "\t.list-inline {list-style: none; margin:0; padding: 0}\n",
              "\t.list-inline>li {display: inline-block}\n",
              "\t.list-inline>li:not(:last-child)::after {content: \"\\00b7\"; padding: 0 .5ex}\n",
              "\t</style>\n",
              "\t<ol class=list-inline><li>'setosa'</li><li>'versicolor'</li><li>'virginica'</li></ol>\n",
              "</details>"
            ]
          },
          "metadata": {
            "tags": []
          }
        }
      ]
    },
    {
      "cell_type": "markdown",
      "metadata": {
        "id": "UcfWqAQ1ZGFv"
      },
      "source": [
        "confusion matrix\n"
      ]
    },
    {
      "cell_type": "code",
      "metadata": {
        "colab": {
          "base_uri": "https://localhost:8080/",
          "height": 111
        },
        "id": "QQyyYD95ZAty",
        "outputId": "b1ac973d-62c8-485d-a8fb-5f176add4e9e"
      },
      "source": [
        "table(pred, iris$Species[-train])"
      ],
      "execution_count": null,
      "outputs": [
        {
          "output_type": "display_data",
          "data": {
            "text/plain": [
              "            \n",
              "pred         setosa versicolor virginica\n",
              "  setosa         22          0         0\n",
              "  versicolor      0         28         0\n",
              "  virginica       0          2        23"
            ]
          },
          "metadata": {
            "tags": []
          }
        }
      ]
    },
    {
      "cell_type": "code",
      "metadata": {
        "colab": {
          "base_uri": "https://localhost:8080/",
          "height": 35
        },
        "id": "bYEindG_ZMGw",
        "outputId": "d3c94261-68fa-4957-c134-640974a79a42"
      },
      "source": [
        "mean(pred != iris$Species[-train])"
      ],
      "execution_count": null,
      "outputs": [
        {
          "output_type": "display_data",
          "data": {
            "text/plain": [
              "[1] 0.02666667"
            ],
            "text/latex": "0.0266666666666667",
            "text/markdown": "0.0266666666666667",
            "text/html": [
              "0.0266666666666667"
            ]
          },
          "metadata": {
            "tags": []
          }
        }
      ]
    },
    {
      "cell_type": "code",
      "metadata": {
        "colab": {
          "base_uri": "https://localhost:8080/",
          "height": 35
        },
        "id": "20y5WsMSZUpU",
        "outputId": "ca754661-0fc9-4827-fd34-7eddccc609cb"
      },
      "source": [
        "names(iris)\n",
        "fsl <- rep(\"VL\", n)\n",
        "fsl[iris[,1]<=6.4] <- \"L\""
      ],
      "execution_count": null,
      "outputs": [
        {
          "output_type": "display_data",
          "data": {
            "text/plain": [
              "[1] \"Sepal.Length\" \"Sepal.Width\"  \"Petal.Length\" \"Petal.Width\"  \"Species\"     "
            ],
            "text/latex": "\\begin{enumerate*}\n\\item 'Sepal.Length'\n\\item 'Sepal.Width'\n\\item 'Petal.Length'\n\\item 'Petal.Width'\n\\item 'Species'\n\\end{enumerate*}\n",
            "text/markdown": "1. 'Sepal.Length'\n2. 'Sepal.Width'\n3. 'Petal.Length'\n4. 'Petal.Width'\n5. 'Species'\n\n\n",
            "text/html": [
              "<style>\n",
              ".list-inline {list-style: none; margin:0; padding: 0}\n",
              ".list-inline>li {display: inline-block}\n",
              ".list-inline>li:not(:last-child)::after {content: \"\\00b7\"; padding: 0 .5ex}\n",
              "</style>\n",
              "<ol class=list-inline><li>'Sepal.Length'</li><li>'Sepal.Width'</li><li>'Petal.Length'</li><li>'Petal.Width'</li><li>'Species'</li></ol>\n"
            ]
          },
          "metadata": {
            "tags": []
          }
        }
      ]
    },
    {
      "cell_type": "code",
      "metadata": {
        "id": "3Z6wO7RWZmiE"
      },
      "source": [
        "fsl[iris[,1]<=5.8] <- \"S\"\n",
        "fsl[iris[,1]<=5.1] <- \"VS\"\n"
      ],
      "execution_count": null,
      "outputs": []
    },
    {
      "cell_type": "code",
      "metadata": {
        "colab": {
          "base_uri": "https://localhost:8080/",
          "height": 139
        },
        "id": "aMwfMlXbaA7X",
        "outputId": "04fb7abf-bc20-4af6-f26a-c6a757e31361"
      },
      "source": [
        "fsl <- factor(fsl)\n",
        "fsl"
      ],
      "execution_count": null,
      "outputs": [
        {
          "output_type": "display_data",
          "data": {
            "text/plain": [
              "  [1] VS VS VS VS VS S  VS VS VS VS S  VS VS VS S  S  S  VS S  VS S  VS VS VS VS\n",
              " [26] VS VS S  S  VS VS S  S  S  VS VS S  VS VS VS VS VS VS VS VS VS VS VS S  VS\n",
              " [51] VL L  VL S  VL S  L  VS VL S  VS L  L  L  S  VL S  S  L  S  L  L  L  L  L \n",
              " [76] VL VL VL L  S  S  S  S  L  S  L  VL L  S  S  S  L  S  VS S  S  S  L  VS S \n",
              "[101] L  S  VL L  VL VL VS VL VL VL VL L  VL S  S  L  VL VL VL L  VL S  VL L  VL\n",
              "[126] VL L  L  L  VL VL VL L  L  L  VL L  L  L  VL VL VL S  VL VL VL L  VL L  L \n",
              "Levels: L S VL VS"
            ],
            "text/latex": "\\begin{enumerate*}\n\\item VS\n\\item VS\n\\item VS\n\\item VS\n\\item VS\n\\item S\n\\item VS\n\\item VS\n\\item VS\n\\item VS\n\\item S\n\\item VS\n\\item VS\n\\item VS\n\\item S\n\\item S\n\\item S\n\\item VS\n\\item S\n\\item VS\n\\item S\n\\item VS\n\\item VS\n\\item VS\n\\item VS\n\\item VS\n\\item VS\n\\item S\n\\item S\n\\item VS\n\\item VS\n\\item S\n\\item S\n\\item S\n\\item VS\n\\item VS\n\\item S\n\\item VS\n\\item VS\n\\item VS\n\\item VS\n\\item VS\n\\item VS\n\\item VS\n\\item VS\n\\item VS\n\\item VS\n\\item VS\n\\item S\n\\item VS\n\\item VL\n\\item L\n\\item VL\n\\item S\n\\item VL\n\\item S\n\\item L\n\\item VS\n\\item VL\n\\item S\n\\item VS\n\\item L\n\\item L\n\\item L\n\\item S\n\\item VL\n\\item S\n\\item S\n\\item L\n\\item S\n\\item L\n\\item L\n\\item L\n\\item L\n\\item L\n\\item VL\n\\item VL\n\\item VL\n\\item L\n\\item S\n\\item S\n\\item S\n\\item S\n\\item L\n\\item S\n\\item L\n\\item VL\n\\item L\n\\item S\n\\item S\n\\item S\n\\item L\n\\item S\n\\item VS\n\\item S\n\\item S\n\\item S\n\\item L\n\\item VS\n\\item S\n\\item L\n\\item S\n\\item VL\n\\item L\n\\item VL\n\\item VL\n\\item VS\n\\item VL\n\\item VL\n\\item VL\n\\item VL\n\\item L\n\\item VL\n\\item S\n\\item S\n\\item L\n\\item VL\n\\item VL\n\\item VL\n\\item L\n\\item VL\n\\item S\n\\item VL\n\\item L\n\\item VL\n\\item VL\n\\item L\n\\item L\n\\item L\n\\item VL\n\\item VL\n\\item VL\n\\item L\n\\item L\n\\item L\n\\item VL\n\\item L\n\\item L\n\\item L\n\\item VL\n\\item VL\n\\item VL\n\\item S\n\\item VL\n\\item VL\n\\item VL\n\\item L\n\\item VL\n\\item L\n\\item L\n\\end{enumerate*}\n\n\\emph{Levels}: \\begin{enumerate*}\n\\item 'L'\n\\item 'S'\n\\item 'VL'\n\\item 'VS'\n\\end{enumerate*}\n",
            "text/markdown": "1. VS\n2. VS\n3. VS\n4. VS\n5. VS\n6. S\n7. VS\n8. VS\n9. VS\n10. VS\n11. S\n12. VS\n13. VS\n14. VS\n15. S\n16. S\n17. S\n18. VS\n19. S\n20. VS\n21. S\n22. VS\n23. VS\n24. VS\n25. VS\n26. VS\n27. VS\n28. S\n29. S\n30. VS\n31. VS\n32. S\n33. S\n34. S\n35. VS\n36. VS\n37. S\n38. VS\n39. VS\n40. VS\n41. VS\n42. VS\n43. VS\n44. VS\n45. VS\n46. VS\n47. VS\n48. VS\n49. S\n50. VS\n51. VL\n52. L\n53. VL\n54. S\n55. VL\n56. S\n57. L\n58. VS\n59. VL\n60. S\n61. VS\n62. L\n63. L\n64. L\n65. S\n66. VL\n67. S\n68. S\n69. L\n70. S\n71. L\n72. L\n73. L\n74. L\n75. L\n76. VL\n77. VL\n78. VL\n79. L\n80. S\n81. S\n82. S\n83. S\n84. L\n85. S\n86. L\n87. VL\n88. L\n89. S\n90. S\n91. S\n92. L\n93. S\n94. VS\n95. S\n96. S\n97. S\n98. L\n99. VS\n100. S\n101. L\n102. S\n103. VL\n104. L\n105. VL\n106. VL\n107. VS\n108. VL\n109. VL\n110. VL\n111. VL\n112. L\n113. VL\n114. S\n115. S\n116. L\n117. VL\n118. VL\n119. VL\n120. L\n121. VL\n122. S\n123. VL\n124. L\n125. VL\n126. VL\n127. L\n128. L\n129. L\n130. VL\n131. VL\n132. VL\n133. L\n134. L\n135. L\n136. VL\n137. L\n138. L\n139. L\n140. VL\n141. VL\n142. VL\n143. S\n144. VL\n145. VL\n146. VL\n147. L\n148. VL\n149. L\n150. L\n\n\n\n**Levels**: 1. 'L'\n2. 'S'\n3. 'VL'\n4. 'VS'\n\n\n",
            "text/html": [
              "<style>\n",
              ".list-inline {list-style: none; margin:0; padding: 0}\n",
              ".list-inline>li {display: inline-block}\n",
              ".list-inline>li:not(:last-child)::after {content: \"\\00b7\"; padding: 0 .5ex}\n",
              "</style>\n",
              "<ol class=list-inline><li>VS</li><li>VS</li><li>VS</li><li>VS</li><li>VS</li><li>S</li><li>VS</li><li>VS</li><li>VS</li><li>VS</li><li>S</li><li>VS</li><li>VS</li><li>VS</li><li>S</li><li>S</li><li>S</li><li>VS</li><li>S</li><li>VS</li><li>S</li><li>VS</li><li>VS</li><li>VS</li><li>VS</li><li>VS</li><li>VS</li><li>S</li><li>S</li><li>VS</li><li>VS</li><li>S</li><li>S</li><li>S</li><li>VS</li><li>VS</li><li>S</li><li>VS</li><li>VS</li><li>VS</li><li>VS</li><li>VS</li><li>VS</li><li>VS</li><li>VS</li><li>VS</li><li>VS</li><li>VS</li><li>S</li><li>VS</li><li>VL</li><li>L</li><li>VL</li><li>S</li><li>VL</li><li>S</li><li>L</li><li>VS</li><li>VL</li><li>S</li><li>VS</li><li>L</li><li>L</li><li>L</li><li>S</li><li>VL</li><li>S</li><li>S</li><li>L</li><li>S</li><li>L</li><li>L</li><li>L</li><li>L</li><li>L</li><li>VL</li><li>VL</li><li>VL</li><li>L</li><li>S</li><li>S</li><li>S</li><li>S</li><li>L</li><li>S</li><li>L</li><li>VL</li><li>L</li><li>S</li><li>S</li><li>S</li><li>L</li><li>S</li><li>VS</li><li>S</li><li>S</li><li>S</li><li>L</li><li>VS</li><li>S</li><li>L</li><li>S</li><li>VL</li><li>L</li><li>VL</li><li>VL</li><li>VS</li><li>VL</li><li>VL</li><li>VL</li><li>VL</li><li>L</li><li>VL</li><li>S</li><li>S</li><li>L</li><li>VL</li><li>VL</li><li>VL</li><li>L</li><li>VL</li><li>S</li><li>VL</li><li>L</li><li>VL</li><li>VL</li><li>L</li><li>L</li><li>L</li><li>VL</li><li>VL</li><li>VL</li><li>L</li><li>L</li><li>L</li><li>VL</li><li>L</li><li>L</li><li>L</li><li>VL</li><li>VL</li><li>VL</li><li>S</li><li>VL</li><li>VL</li><li>VL</li><li>L</li><li>VL</li><li>L</li><li>L</li></ol>\n",
              "\n",
              "<details>\n",
              "\t<summary style=display:list-item;cursor:pointer>\n",
              "\t\t<strong>Levels</strong>:\n",
              "\t</summary>\n",
              "\t<style>\n",
              "\t.list-inline {list-style: none; margin:0; padding: 0}\n",
              "\t.list-inline>li {display: inline-block}\n",
              "\t.list-inline>li:not(:last-child)::after {content: \"\\00b7\"; padding: 0 .5ex}\n",
              "\t</style>\n",
              "\t<ol class=list-inline><li>'L'</li><li>'S'</li><li>'VL'</li><li>'VS'</li></ol>\n",
              "</details>"
            ]
          },
          "metadata": {
            "tags": []
          }
        }
      ]
    },
    {
      "cell_type": "code",
      "metadata": {
        "id": "HqDKks20aD3A"
      },
      "source": [
        "fsw <- rep(\"L\", n)"
      ],
      "execution_count": null,
      "outputs": []
    },
    {
      "cell_type": "code",
      "metadata": {
        "colab": {
          "base_uri": "https://localhost:8080/",
          "height": 121
        },
        "id": "ZaCTI8jvaGi9",
        "outputId": "119ce505-3066-4078-b661-86614ee0edd3"
      },
      "source": [
        "fsw[iris[,2] <= 3.3] <- \"M\"\n",
        "fsw[iris[,2] <= 2.8] <- \"S\"\n",
        "fsw <- factor(fsw)\n",
        "fsw"
      ],
      "execution_count": null,
      "outputs": [
        {
          "output_type": "display_data",
          "data": {
            "text/plain": [
              "  [1] L M M M L L L L M M L L M M L L L L L L L L L M L M L L L M M L L L M M L\n",
              " [38] L M L L S M L L M L M L M M M M S S S M S M S S M S M M M M S S S M S S S\n",
              " [75] M M S M M S S S S S M L M S M S S M S S S M M M S S M S M M M M S M S L M\n",
              "[112] S M S S M M L S S M S S S M M S M S M S L S S S M L M M M M M S M M M S M\n",
              "[149] L M\n",
              "Levels: L M S"
            ],
            "text/latex": "\\begin{enumerate*}\n\\item L\n\\item M\n\\item M\n\\item M\n\\item L\n\\item L\n\\item L\n\\item L\n\\item M\n\\item M\n\\item L\n\\item L\n\\item M\n\\item M\n\\item L\n\\item L\n\\item L\n\\item L\n\\item L\n\\item L\n\\item L\n\\item L\n\\item L\n\\item M\n\\item L\n\\item M\n\\item L\n\\item L\n\\item L\n\\item M\n\\item M\n\\item L\n\\item L\n\\item L\n\\item M\n\\item M\n\\item L\n\\item L\n\\item M\n\\item L\n\\item L\n\\item S\n\\item M\n\\item L\n\\item L\n\\item M\n\\item L\n\\item M\n\\item L\n\\item M\n\\item M\n\\item M\n\\item M\n\\item S\n\\item S\n\\item S\n\\item M\n\\item S\n\\item M\n\\item S\n\\item S\n\\item M\n\\item S\n\\item M\n\\item M\n\\item M\n\\item M\n\\item S\n\\item S\n\\item S\n\\item M\n\\item S\n\\item S\n\\item S\n\\item M\n\\item M\n\\item S\n\\item M\n\\item M\n\\item S\n\\item S\n\\item S\n\\item S\n\\item S\n\\item M\n\\item L\n\\item M\n\\item S\n\\item M\n\\item S\n\\item S\n\\item M\n\\item S\n\\item S\n\\item S\n\\item M\n\\item M\n\\item M\n\\item S\n\\item S\n\\item M\n\\item S\n\\item M\n\\item M\n\\item M\n\\item M\n\\item S\n\\item M\n\\item S\n\\item L\n\\item M\n\\item S\n\\item M\n\\item S\n\\item S\n\\item M\n\\item M\n\\item L\n\\item S\n\\item S\n\\item M\n\\item S\n\\item S\n\\item S\n\\item M\n\\item M\n\\item S\n\\item M\n\\item S\n\\item M\n\\item S\n\\item L\n\\item S\n\\item S\n\\item S\n\\item M\n\\item L\n\\item M\n\\item M\n\\item M\n\\item M\n\\item M\n\\item S\n\\item M\n\\item M\n\\item M\n\\item S\n\\item M\n\\item L\n\\item M\n\\end{enumerate*}\n\n\\emph{Levels}: \\begin{enumerate*}\n\\item 'L'\n\\item 'M'\n\\item 'S'\n\\end{enumerate*}\n",
            "text/markdown": "1. L\n2. M\n3. M\n4. M\n5. L\n6. L\n7. L\n8. L\n9. M\n10. M\n11. L\n12. L\n13. M\n14. M\n15. L\n16. L\n17. L\n18. L\n19. L\n20. L\n21. L\n22. L\n23. L\n24. M\n25. L\n26. M\n27. L\n28. L\n29. L\n30. M\n31. M\n32. L\n33. L\n34. L\n35. M\n36. M\n37. L\n38. L\n39. M\n40. L\n41. L\n42. S\n43. M\n44. L\n45. L\n46. M\n47. L\n48. M\n49. L\n50. M\n51. M\n52. M\n53. M\n54. S\n55. S\n56. S\n57. M\n58. S\n59. M\n60. S\n61. S\n62. M\n63. S\n64. M\n65. M\n66. M\n67. M\n68. S\n69. S\n70. S\n71. M\n72. S\n73. S\n74. S\n75. M\n76. M\n77. S\n78. M\n79. M\n80. S\n81. S\n82. S\n83. S\n84. S\n85. M\n86. L\n87. M\n88. S\n89. M\n90. S\n91. S\n92. M\n93. S\n94. S\n95. S\n96. M\n97. M\n98. M\n99. S\n100. S\n101. M\n102. S\n103. M\n104. M\n105. M\n106. M\n107. S\n108. M\n109. S\n110. L\n111. M\n112. S\n113. M\n114. S\n115. S\n116. M\n117. M\n118. L\n119. S\n120. S\n121. M\n122. S\n123. S\n124. S\n125. M\n126. M\n127. S\n128. M\n129. S\n130. M\n131. S\n132. L\n133. S\n134. S\n135. S\n136. M\n137. L\n138. M\n139. M\n140. M\n141. M\n142. M\n143. S\n144. M\n145. M\n146. M\n147. S\n148. M\n149. L\n150. M\n\n\n\n**Levels**: 1. 'L'\n2. 'M'\n3. 'S'\n\n\n",
            "text/html": [
              "<style>\n",
              ".list-inline {list-style: none; margin:0; padding: 0}\n",
              ".list-inline>li {display: inline-block}\n",
              ".list-inline>li:not(:last-child)::after {content: \"\\00b7\"; padding: 0 .5ex}\n",
              "</style>\n",
              "<ol class=list-inline><li>L</li><li>M</li><li>M</li><li>M</li><li>L</li><li>L</li><li>L</li><li>L</li><li>M</li><li>M</li><li>L</li><li>L</li><li>M</li><li>M</li><li>L</li><li>L</li><li>L</li><li>L</li><li>L</li><li>L</li><li>L</li><li>L</li><li>L</li><li>M</li><li>L</li><li>M</li><li>L</li><li>L</li><li>L</li><li>M</li><li>M</li><li>L</li><li>L</li><li>L</li><li>M</li><li>M</li><li>L</li><li>L</li><li>M</li><li>L</li><li>L</li><li>S</li><li>M</li><li>L</li><li>L</li><li>M</li><li>L</li><li>M</li><li>L</li><li>M</li><li>M</li><li>M</li><li>M</li><li>S</li><li>S</li><li>S</li><li>M</li><li>S</li><li>M</li><li>S</li><li>S</li><li>M</li><li>S</li><li>M</li><li>M</li><li>M</li><li>M</li><li>S</li><li>S</li><li>S</li><li>M</li><li>S</li><li>S</li><li>S</li><li>M</li><li>M</li><li>S</li><li>M</li><li>M</li><li>S</li><li>S</li><li>S</li><li>S</li><li>S</li><li>M</li><li>L</li><li>M</li><li>S</li><li>M</li><li>S</li><li>S</li><li>M</li><li>S</li><li>S</li><li>S</li><li>M</li><li>M</li><li>M</li><li>S</li><li>S</li><li>M</li><li>S</li><li>M</li><li>M</li><li>M</li><li>M</li><li>S</li><li>M</li><li>S</li><li>L</li><li>M</li><li>S</li><li>M</li><li>S</li><li>S</li><li>M</li><li>M</li><li>L</li><li>S</li><li>S</li><li>M</li><li>S</li><li>S</li><li>S</li><li>M</li><li>M</li><li>S</li><li>M</li><li>S</li><li>M</li><li>S</li><li>L</li><li>S</li><li>S</li><li>S</li><li>M</li><li>L</li><li>M</li><li>M</li><li>M</li><li>M</li><li>M</li><li>S</li><li>M</li><li>M</li><li>M</li><li>S</li><li>M</li><li>L</li><li>M</li></ol>\n",
              "\n",
              "<details>\n",
              "\t<summary style=display:list-item;cursor:pointer>\n",
              "\t\t<strong>Levels</strong>:\n",
              "\t</summary>\n",
              "\t<style>\n",
              "\t.list-inline {list-style: none; margin:0; padding: 0}\n",
              "\t.list-inline>li {display: inline-block}\n",
              "\t.list-inline>li:not(:last-child)::after {content: \"\\00b7\"; padding: 0 .5ex}\n",
              "\t</style>\n",
              "\t<ol class=list-inline><li>'L'</li><li>'M'</li><li>'S'</li></ol>\n",
              "</details>"
            ]
          },
          "metadata": {
            "tags": []
          }
        }
      ]
    },
    {
      "cell_type": "code",
      "metadata": {
        "id": "MiD2SWFBaPLv"
      },
      "source": [
        "dat <- data.frame(Y = iris$Species, fsl = fsl, fsw = fsw)"
      ],
      "execution_count": null,
      "outputs": []
    },
    {
      "cell_type": "code",
      "metadata": {
        "colab": {
          "base_uri": "https://localhost:8080/",
          "height": 281
        },
        "id": "rE_pp7VzaX-x",
        "outputId": "96975f14-616c-4996-92a1-98fdabe70dfa"
      },
      "source": [
        "head(dat)"
      ],
      "execution_count": null,
      "outputs": [
        {
          "output_type": "display_data",
          "data": {
            "text/plain": [
              "  Y      fsl fsw\n",
              "1 setosa VS  L  \n",
              "2 setosa VS  M  \n",
              "3 setosa VS  M  \n",
              "4 setosa VS  M  \n",
              "5 setosa VS  L  \n",
              "6 setosa S   L  "
            ],
            "text/latex": "A data.frame: 6 × 3\n\\begin{tabular}{r|lll}\n  & Y & fsl & fsw\\\\\n  & <fct> & <fct> & <fct>\\\\\n\\hline\n\t1 & setosa & VS & L\\\\\n\t2 & setosa & VS & M\\\\\n\t3 & setosa & VS & M\\\\\n\t4 & setosa & VS & M\\\\\n\t5 & setosa & VS & L\\\\\n\t6 & setosa & S  & L\\\\\n\\end{tabular}\n",
            "text/markdown": "\nA data.frame: 6 × 3\n\n| <!--/--> | Y &lt;fct&gt; | fsl &lt;fct&gt; | fsw &lt;fct&gt; |\n|---|---|---|---|\n| 1 | setosa | VS | L |\n| 2 | setosa | VS | M |\n| 3 | setosa | VS | M |\n| 4 | setosa | VS | M |\n| 5 | setosa | VS | L |\n| 6 | setosa | S  | L |\n\n",
            "text/html": [
              "<table class=\"dataframe\">\n",
              "<caption>A data.frame: 6 × 3</caption>\n",
              "<thead>\n",
              "\t<tr><th></th><th scope=col>Y</th><th scope=col>fsl</th><th scope=col>fsw</th></tr>\n",
              "\t<tr><th></th><th scope=col>&lt;fct&gt;</th><th scope=col>&lt;fct&gt;</th><th scope=col>&lt;fct&gt;</th></tr>\n",
              "</thead>\n",
              "<tbody>\n",
              "\t<tr><th scope=row>1</th><td>setosa</td><td>VS</td><td>L</td></tr>\n",
              "\t<tr><th scope=row>2</th><td>setosa</td><td>VS</td><td>M</td></tr>\n",
              "\t<tr><th scope=row>3</th><td>setosa</td><td>VS</td><td>M</td></tr>\n",
              "\t<tr><th scope=row>4</th><td>setosa</td><td>VS</td><td>M</td></tr>\n",
              "\t<tr><th scope=row>5</th><td>setosa</td><td>VS</td><td>L</td></tr>\n",
              "\t<tr><th scope=row>6</th><td>setosa</td><td>S </td><td>L</td></tr>\n",
              "</tbody>\n",
              "</table>\n"
            ]
          },
          "metadata": {
            "tags": []
          }
        }
      ]
    },
    {
      "cell_type": "code",
      "metadata": {
        "colab": {
          "base_uri": "https://localhost:8080/",
          "height": 87
        },
        "id": "HNdeHaq4aY-n",
        "outputId": "c7e12634-2ce6-43c0-a860-f7a3c1eb7e2d"
      },
      "source": [
        "train"
      ],
      "execution_count": null,
      "outputs": [
        {
          "output_type": "display_data",
          "data": {
            "text/plain": [
              " [1]  68 129  43  14  51  85  21 106  74   7  73  79  37 105 110  34 143 126  89\n",
              "[20]  33  84  70 142  42  38 111  20  28 124  44  87 149  40 121  25 119  39 146\n",
              "[39] 127   6  24  32 147   2  45  18  22  78 102  65 115 120 100  75  81  13 118\n",
              "[58] 132  48  93  23 130  29  95 104 123  92 131 134 144  31  17 140  91  64"
            ],
            "text/latex": "\\begin{enumerate*}\n\\item 68\n\\item 129\n\\item 43\n\\item 14\n\\item 51\n\\item 85\n\\item 21\n\\item 106\n\\item 74\n\\item 7\n\\item 73\n\\item 79\n\\item 37\n\\item 105\n\\item 110\n\\item 34\n\\item 143\n\\item 126\n\\item 89\n\\item 33\n\\item 84\n\\item 70\n\\item 142\n\\item 42\n\\item 38\n\\item 111\n\\item 20\n\\item 28\n\\item 124\n\\item 44\n\\item 87\n\\item 149\n\\item 40\n\\item 121\n\\item 25\n\\item 119\n\\item 39\n\\item 146\n\\item 127\n\\item 6\n\\item 24\n\\item 32\n\\item 147\n\\item 2\n\\item 45\n\\item 18\n\\item 22\n\\item 78\n\\item 102\n\\item 65\n\\item 115\n\\item 120\n\\item 100\n\\item 75\n\\item 81\n\\item 13\n\\item 118\n\\item 132\n\\item 48\n\\item 93\n\\item 23\n\\item 130\n\\item 29\n\\item 95\n\\item 104\n\\item 123\n\\item 92\n\\item 131\n\\item 134\n\\item 144\n\\item 31\n\\item 17\n\\item 140\n\\item 91\n\\item 64\n\\end{enumerate*}\n",
            "text/markdown": "1. 68\n2. 129\n3. 43\n4. 14\n5. 51\n6. 85\n7. 21\n8. 106\n9. 74\n10. 7\n11. 73\n12. 79\n13. 37\n14. 105\n15. 110\n16. 34\n17. 143\n18. 126\n19. 89\n20. 33\n21. 84\n22. 70\n23. 142\n24. 42\n25. 38\n26. 111\n27. 20\n28. 28\n29. 124\n30. 44\n31. 87\n32. 149\n33. 40\n34. 121\n35. 25\n36. 119\n37. 39\n38. 146\n39. 127\n40. 6\n41. 24\n42. 32\n43. 147\n44. 2\n45. 45\n46. 18\n47. 22\n48. 78\n49. 102\n50. 65\n51. 115\n52. 120\n53. 100\n54. 75\n55. 81\n56. 13\n57. 118\n58. 132\n59. 48\n60. 93\n61. 23\n62. 130\n63. 29\n64. 95\n65. 104\n66. 123\n67. 92\n68. 131\n69. 134\n70. 144\n71. 31\n72. 17\n73. 140\n74. 91\n75. 64\n\n\n",
            "text/html": [
              "<style>\n",
              ".list-inline {list-style: none; margin:0; padding: 0}\n",
              ".list-inline>li {display: inline-block}\n",
              ".list-inline>li:not(:last-child)::after {content: \"\\00b7\"; padding: 0 .5ex}\n",
              "</style>\n",
              "<ol class=list-inline><li>68</li><li>129</li><li>43</li><li>14</li><li>51</li><li>85</li><li>21</li><li>106</li><li>74</li><li>7</li><li>73</li><li>79</li><li>37</li><li>105</li><li>110</li><li>34</li><li>143</li><li>126</li><li>89</li><li>33</li><li>84</li><li>70</li><li>142</li><li>42</li><li>38</li><li>111</li><li>20</li><li>28</li><li>124</li><li>44</li><li>87</li><li>149</li><li>40</li><li>121</li><li>25</li><li>119</li><li>39</li><li>146</li><li>127</li><li>6</li><li>24</li><li>32</li><li>147</li><li>2</li><li>45</li><li>18</li><li>22</li><li>78</li><li>102</li><li>65</li><li>115</li><li>120</li><li>100</li><li>75</li><li>81</li><li>13</li><li>118</li><li>132</li><li>48</li><li>93</li><li>23</li><li>130</li><li>29</li><li>95</li><li>104</li><li>123</li><li>92</li><li>131</li><li>134</li><li>144</li><li>31</li><li>17</li><li>140</li><li>91</li><li>64</li></ol>\n"
            ]
          },
          "metadata": {
            "tags": []
          }
        }
      ]
    },
    {
      "cell_type": "code",
      "metadata": {
        "id": "CdBoXFOXaaot"
      },
      "source": [
        "library(nnet)"
      ],
      "execution_count": null,
      "outputs": []
    },
    {
      "cell_type": "code",
      "metadata": {
        "colab": {
          "base_uri": "https://localhost:8080/"
        },
        "id": "aN6uOo2Eacs1",
        "outputId": "de021351-3a6e-41c3-93d6-9d97d3ca491b"
      },
      "source": [
        "f <- multinom(Y ~ fsl*fsw, data = dat[train,])"
      ],
      "execution_count": null,
      "outputs": [
        {
          "output_type": "stream",
          "text": [
            "# weights:  39 (24 variable)\n",
            "initial  value 82.395922 \n",
            "iter  10 value 22.830058\n",
            "iter  20 value 21.391152\n",
            "iter  30 value 21.362200\n",
            "iter  40 value 21.361937\n",
            "iter  40 value 21.361937\n",
            "iter  40 value 21.361937\n",
            "final  value 21.361937 \n",
            "converged\n"
          ],
          "name": "stdout"
        }
      ]
    },
    {
      "cell_type": "code",
      "metadata": {
        "colab": {
          "base_uri": "https://localhost:8080/",
          "height": 173
        },
        "id": "Gloa5Y3aaiLE",
        "outputId": "68d4ce92-3acf-41b6-9545-f062e93090c0"
      },
      "source": [
        "pred <- predict(f, newdata = dat[-train,])\n",
        "pred"
      ],
      "execution_count": null,
      "outputs": [
        {
          "output_type": "display_data",
          "data": {
            "text/plain": [
              " [1] setosa     setosa     setosa     setosa     setosa     setosa    \n",
              " [7] setosa     setosa     setosa     setosa     setosa     setosa    \n",
              "[13] setosa     setosa     setosa     setosa     setosa     setosa    \n",
              "[19] setosa     setosa     setosa     setosa     versicolor virginica \n",
              "[25] versicolor virginica  versicolor versicolor setosa     virginica \n",
              "[31] versicolor setosa     versicolor virginica  virginica  versicolor\n",
              "[37] virginica  versicolor virginica  virginica  virginica  versicolor\n",
              "[43] versicolor versicolor virginica  virginica  versicolor setosa    \n",
              "[49] versicolor versicolor versicolor setosa     versicolor virginica \n",
              "[55] setosa     virginica  virginica  virginica  virginica  versicolor\n",
              "[61] versicolor virginica  versicolor virginica  versicolor virginica \n",
              "[67] virginica  virginica  virginica  versicolor versicolor virginica \n",
              "[73] virginica  virginica  versicolor\n",
              "Levels: setosa versicolor virginica"
            ],
            "text/latex": "\\begin{enumerate*}\n\\item setosa\n\\item setosa\n\\item setosa\n\\item setosa\n\\item setosa\n\\item setosa\n\\item setosa\n\\item setosa\n\\item setosa\n\\item setosa\n\\item setosa\n\\item setosa\n\\item setosa\n\\item setosa\n\\item setosa\n\\item setosa\n\\item setosa\n\\item setosa\n\\item setosa\n\\item setosa\n\\item setosa\n\\item setosa\n\\item versicolor\n\\item virginica\n\\item versicolor\n\\item virginica\n\\item versicolor\n\\item versicolor\n\\item setosa\n\\item virginica\n\\item versicolor\n\\item setosa\n\\item versicolor\n\\item virginica\n\\item virginica\n\\item versicolor\n\\item virginica\n\\item versicolor\n\\item virginica\n\\item virginica\n\\item virginica\n\\item versicolor\n\\item versicolor\n\\item versicolor\n\\item virginica\n\\item virginica\n\\item versicolor\n\\item setosa\n\\item versicolor\n\\item versicolor\n\\item versicolor\n\\item setosa\n\\item versicolor\n\\item virginica\n\\item setosa\n\\item virginica\n\\item virginica\n\\item virginica\n\\item virginica\n\\item versicolor\n\\item versicolor\n\\item virginica\n\\item versicolor\n\\item virginica\n\\item versicolor\n\\item virginica\n\\item virginica\n\\item virginica\n\\item virginica\n\\item versicolor\n\\item versicolor\n\\item virginica\n\\item virginica\n\\item virginica\n\\item versicolor\n\\end{enumerate*}\n\n\\emph{Levels}: \\begin{enumerate*}\n\\item 'setosa'\n\\item 'versicolor'\n\\item 'virginica'\n\\end{enumerate*}\n",
            "text/markdown": "1. setosa\n2. setosa\n3. setosa\n4. setosa\n5. setosa\n6. setosa\n7. setosa\n8. setosa\n9. setosa\n10. setosa\n11. setosa\n12. setosa\n13. setosa\n14. setosa\n15. setosa\n16. setosa\n17. setosa\n18. setosa\n19. setosa\n20. setosa\n21. setosa\n22. setosa\n23. versicolor\n24. virginica\n25. versicolor\n26. virginica\n27. versicolor\n28. versicolor\n29. setosa\n30. virginica\n31. versicolor\n32. setosa\n33. versicolor\n34. virginica\n35. virginica\n36. versicolor\n37. virginica\n38. versicolor\n39. virginica\n40. virginica\n41. virginica\n42. versicolor\n43. versicolor\n44. versicolor\n45. virginica\n46. virginica\n47. versicolor\n48. setosa\n49. versicolor\n50. versicolor\n51. versicolor\n52. setosa\n53. versicolor\n54. virginica\n55. setosa\n56. virginica\n57. virginica\n58. virginica\n59. virginica\n60. versicolor\n61. versicolor\n62. virginica\n63. versicolor\n64. virginica\n65. versicolor\n66. virginica\n67. virginica\n68. virginica\n69. virginica\n70. versicolor\n71. versicolor\n72. virginica\n73. virginica\n74. virginica\n75. versicolor\n\n\n\n**Levels**: 1. 'setosa'\n2. 'versicolor'\n3. 'virginica'\n\n\n",
            "text/html": [
              "<style>\n",
              ".list-inline {list-style: none; margin:0; padding: 0}\n",
              ".list-inline>li {display: inline-block}\n",
              ".list-inline>li:not(:last-child)::after {content: \"\\00b7\"; padding: 0 .5ex}\n",
              "</style>\n",
              "<ol class=list-inline><li>setosa</li><li>setosa</li><li>setosa</li><li>setosa</li><li>setosa</li><li>setosa</li><li>setosa</li><li>setosa</li><li>setosa</li><li>setosa</li><li>setosa</li><li>setosa</li><li>setosa</li><li>setosa</li><li>setosa</li><li>setosa</li><li>setosa</li><li>setosa</li><li>setosa</li><li>setosa</li><li>setosa</li><li>setosa</li><li>versicolor</li><li>virginica</li><li>versicolor</li><li>virginica</li><li>versicolor</li><li>versicolor</li><li>setosa</li><li>virginica</li><li>versicolor</li><li>setosa</li><li>versicolor</li><li>virginica</li><li>virginica</li><li>versicolor</li><li>virginica</li><li>versicolor</li><li>virginica</li><li>virginica</li><li>virginica</li><li>versicolor</li><li>versicolor</li><li>versicolor</li><li>virginica</li><li>virginica</li><li>versicolor</li><li>setosa</li><li>versicolor</li><li>versicolor</li><li>versicolor</li><li>setosa</li><li>versicolor</li><li>virginica</li><li>setosa</li><li>virginica</li><li>virginica</li><li>virginica</li><li>virginica</li><li>versicolor</li><li>versicolor</li><li>virginica</li><li>versicolor</li><li>virginica</li><li>versicolor</li><li>virginica</li><li>virginica</li><li>virginica</li><li>virginica</li><li>versicolor</li><li>versicolor</li><li>virginica</li><li>virginica</li><li>virginica</li><li>versicolor</li></ol>\n",
              "\n",
              "<details>\n",
              "\t<summary style=display:list-item;cursor:pointer>\n",
              "\t\t<strong>Levels</strong>:\n",
              "\t</summary>\n",
              "\t<style>\n",
              "\t.list-inline {list-style: none; margin:0; padding: 0}\n",
              "\t.list-inline>li {display: inline-block}\n",
              "\t.list-inline>li:not(:last-child)::after {content: \"\\00b7\"; padding: 0 .5ex}\n",
              "\t</style>\n",
              "\t<ol class=list-inline><li>'setosa'</li><li>'versicolor'</li><li>'virginica'</li></ol>\n",
              "</details>"
            ]
          },
          "metadata": {
            "tags": []
          }
        }
      ]
    },
    {
      "cell_type": "code",
      "metadata": {
        "colab": {
          "base_uri": "https://localhost:8080/",
          "height": 111
        },
        "id": "JLSOrSEKaqMz",
        "outputId": "09a24ba7-ce2d-43f1-a367-bef2820ef29f"
      },
      "source": [
        "table(pred, dat$Y[-train])"
      ],
      "execution_count": null,
      "outputs": [
        {
          "output_type": "display_data",
          "data": {
            "text/plain": [
              "            \n",
              "pred         setosa versicolor virginica\n",
              "  setosa         22          4         1\n",
              "  versicolor      0         15         8\n",
              "  virginica       0         11        14"
            ]
          },
          "metadata": {
            "tags": []
          }
        }
      ]
    },
    {
      "cell_type": "markdown",
      "metadata": {
        "id": "HNPhLNb1ayAe"
      },
      "source": [
        "many misclassification since we used only two discretized predictor"
      ]
    },
    {
      "cell_type": "code",
      "metadata": {
        "colab": {
          "base_uri": "https://localhost:8080/",
          "height": 35
        },
        "id": "DwHK1GS4a2N8",
        "outputId": "fe0f2d36-837f-4069-e524-b64d744299f8"
      },
      "source": [
        "mean(pred != dat$Y[-train])"
      ],
      "execution_count": null,
      "outputs": [
        {
          "output_type": "display_data",
          "data": {
            "text/plain": [
              "[1] 0.32"
            ],
            "text/latex": "0.32",
            "text/markdown": "0.32",
            "text/html": [
              "0.32"
            ]
          },
          "metadata": {
            "tags": []
          }
        }
      ]
    },
    {
      "cell_type": "code",
      "metadata": {
        "colab": {
          "base_uri": "https://localhost:8080/",
          "height": 281
        },
        "id": "TEN-vSIVa5Ti",
        "outputId": "f2de9827-fb65-4c88-d2bd-91ec53335d17"
      },
      "source": [
        "iris12 <- iris[,c(1,2,5)]\n",
        "head(iris12)"
      ],
      "execution_count": null,
      "outputs": [
        {
          "output_type": "display_data",
          "data": {
            "text/plain": [
              "  Sepal.Length Sepal.Width Species\n",
              "1 5.1          3.5         setosa \n",
              "2 4.9          3.0         setosa \n",
              "3 4.7          3.2         setosa \n",
              "4 4.6          3.1         setosa \n",
              "5 5.0          3.6         setosa \n",
              "6 5.4          3.9         setosa "
            ],
            "text/latex": "A data.frame: 6 × 3\n\\begin{tabular}{r|lll}\n  & Sepal.Length & Sepal.Width & Species\\\\\n  & <dbl> & <dbl> & <fct>\\\\\n\\hline\n\t1 & 5.1 & 3.5 & setosa\\\\\n\t2 & 4.9 & 3.0 & setosa\\\\\n\t3 & 4.7 & 3.2 & setosa\\\\\n\t4 & 4.6 & 3.1 & setosa\\\\\n\t5 & 5.0 & 3.6 & setosa\\\\\n\t6 & 5.4 & 3.9 & setosa\\\\\n\\end{tabular}\n",
            "text/markdown": "\nA data.frame: 6 × 3\n\n| <!--/--> | Sepal.Length &lt;dbl&gt; | Sepal.Width &lt;dbl&gt; | Species &lt;fct&gt; |\n|---|---|---|---|\n| 1 | 5.1 | 3.5 | setosa |\n| 2 | 4.9 | 3.0 | setosa |\n| 3 | 4.7 | 3.2 | setosa |\n| 4 | 4.6 | 3.1 | setosa |\n| 5 | 5.0 | 3.6 | setosa |\n| 6 | 5.4 | 3.9 | setosa |\n\n",
            "text/html": [
              "<table class=\"dataframe\">\n",
              "<caption>A data.frame: 6 × 3</caption>\n",
              "<thead>\n",
              "\t<tr><th></th><th scope=col>Sepal.Length</th><th scope=col>Sepal.Width</th><th scope=col>Species</th></tr>\n",
              "\t<tr><th></th><th scope=col>&lt;dbl&gt;</th><th scope=col>&lt;dbl&gt;</th><th scope=col>&lt;fct&gt;</th></tr>\n",
              "</thead>\n",
              "<tbody>\n",
              "\t<tr><th scope=row>1</th><td>5.1</td><td>3.5</td><td>setosa</td></tr>\n",
              "\t<tr><th scope=row>2</th><td>4.9</td><td>3.0</td><td>setosa</td></tr>\n",
              "\t<tr><th scope=row>3</th><td>4.7</td><td>3.2</td><td>setosa</td></tr>\n",
              "\t<tr><th scope=row>4</th><td>4.6</td><td>3.1</td><td>setosa</td></tr>\n",
              "\t<tr><th scope=row>5</th><td>5.0</td><td>3.6</td><td>setosa</td></tr>\n",
              "\t<tr><th scope=row>6</th><td>5.4</td><td>3.9</td><td>setosa</td></tr>\n",
              "</tbody>\n",
              "</table>\n"
            ]
          },
          "metadata": {
            "tags": []
          }
        }
      ]
    },
    {
      "cell_type": "code",
      "metadata": {
        "id": "WzKohw0Ef7F3"
      },
      "source": [
        "n <- dim(iris12)[1]"
      ],
      "execution_count": null,
      "outputs": []
    },
    {
      "cell_type": "code",
      "metadata": {
        "id": "Ffn2-SBqf4zQ"
      },
      "source": [
        "set.seed(1)"
      ],
      "execution_count": null,
      "outputs": []
    },
    {
      "cell_type": "code",
      "metadata": {
        "id": "CvOTs0Uwf9B_"
      },
      "source": [
        "train <- sample(n, n/2)"
      ],
      "execution_count": null,
      "outputs": []
    },
    {
      "cell_type": "code",
      "metadata": {
        "id": "z-YokL8If-jE"
      },
      "source": [
        "iris12.train <- iris12[train,]"
      ],
      "execution_count": null,
      "outputs": []
    },
    {
      "cell_type": "code",
      "metadata": {
        "id": "j4BmnKebgRFd"
      },
      "source": [
        "iris12.test <- iris12[-train,]"
      ],
      "execution_count": null,
      "outputs": []
    },
    {
      "cell_type": "code",
      "metadata": {
        "id": "q-juy0NNgTRB"
      },
      "source": [
        "library(MASS)"
      ],
      "execution_count": null,
      "outputs": []
    },
    {
      "cell_type": "markdown",
      "metadata": {
        "id": "lu7jlq0UgU7x"
      },
      "source": [
        "LDA and QDA ftns are in MASS"
      ]
    },
    {
      "cell_type": "code",
      "metadata": {
        "id": "7VgpA8aTgUSH"
      },
      "source": [
        "f1 <- lda(Species~., data = iris12.train)"
      ],
      "execution_count": null,
      "outputs": []
    },
    {
      "cell_type": "code",
      "metadata": {
        "id": "GyUvA4dXgcB-"
      },
      "source": [
        "q1 <- predict(f1, newdata = iris12.test)$class"
      ],
      "execution_count": null,
      "outputs": []
    },
    {
      "cell_type": "markdown",
      "metadata": {
        "id": "hnzMaXzAgjV-"
      },
      "source": [
        "confusion matrix"
      ]
    },
    {
      "cell_type": "code",
      "metadata": {
        "colab": {
          "base_uri": "https://localhost:8080/",
          "height": 111
        },
        "id": "RikD8NPUglBD",
        "outputId": "a9df8780-c56c-4fd0-940a-6b25add79f59"
      },
      "source": [
        "table(q1, iris12.test$Species)"
      ],
      "execution_count": null,
      "outputs": [
        {
          "output_type": "display_data",
          "data": {
            "text/plain": [
              "            \n",
              "q1           setosa versicolor virginica\n",
              "  setosa         22          0         0\n",
              "  versicolor      0         21         9\n",
              "  virginica       0          9        14"
            ]
          },
          "metadata": {
            "tags": []
          }
        }
      ]
    },
    {
      "cell_type": "code",
      "metadata": {
        "colab": {
          "base_uri": "https://localhost:8080/",
          "height": 35
        },
        "id": "KpANIDPEgiqd",
        "outputId": "4cfac5ae-3db2-4387-abf1-b4200798861e"
      },
      "source": [
        "mean(q1 != iris12.test$Species) #test error estimate for lda"
      ],
      "execution_count": null,
      "outputs": [
        {
          "output_type": "display_data",
          "data": {
            "text/plain": [
              "[1] 0.24"
            ],
            "text/latex": "0.24",
            "text/markdown": "0.24",
            "text/html": [
              "0.24"
            ]
          },
          "metadata": {
            "tags": []
          }
        }
      ]
    },
    {
      "cell_type": "code",
      "metadata": {
        "colab": {
          "base_uri": "https://localhost:8080/",
          "height": 128
        },
        "id": "dIVNCYzrgwyf",
        "outputId": "fae00258-9db8-4a26-c9da-c39eb682db4c"
      },
      "source": [
        "fq <- qda(Species~., data = iris12.train)\n",
        "pq <- predict(fq, newdata =iris12.test )$class\n",
        "#confusion matrix\n",
        "table(pq, iris12.test$Species)\n",
        "mean(pq != iris12.test$Species)"
      ],
      "execution_count": null,
      "outputs": [
        {
          "output_type": "display_data",
          "data": {
            "text/plain": [
              "            \n",
              "pq           setosa versicolor virginica\n",
              "  setosa         22          0         0\n",
              "  versicolor      0         17         9\n",
              "  virginica       0         13        14"
            ]
          },
          "metadata": {
            "tags": []
          }
        },
        {
          "output_type": "display_data",
          "data": {
            "text/plain": [
              "[1] 0.2933333"
            ],
            "text/latex": "0.293333333333333",
            "text/markdown": "0.293333333333333",
            "text/html": [
              "0.293333333333333"
            ]
          },
          "metadata": {
            "tags": []
          }
        }
      ]
    },
    {
      "cell_type": "markdown",
      "metadata": {
        "id": "5gVdRiDXhIJn"
      },
      "source": [
        "LDA seems to have a smaller test error rate"
      ]
    },
    {
      "cell_type": "markdown",
      "metadata": {
        "id": "HStseQnHhQCE"
      },
      "source": [
        "If we want both model selection and model assesement the final model"
      ]
    },
    {
      "cell_type": "code",
      "metadata": {
        "colab": {
          "base_uri": "https://localhost:8080/",
          "height": 128
        },
        "id": "CacfvqxHhFsB",
        "outputId": "bb9b7a0f-3611-4112-800b-4d9ffb3beb9d"
      },
      "source": [
        "fl <- lda(Species~., data = iris12.train, cv = T) # cv=T : LOOCV\n",
        "pl <- predict(fl, newdata = iris12.train)$class\n",
        "table(pl, iris12.train$Species)\n",
        "mean(pl != iris12.train$Species)"
      ],
      "execution_count": null,
      "outputs": [
        {
          "output_type": "display_data",
          "data": {
            "text/plain": [
              "            \n",
              "pl           setosa versicolor virginica\n",
              "  setosa         27          0         0\n",
              "  versicolor      1         15         6\n",
              "  virginica       0          5        21"
            ]
          },
          "metadata": {
            "tags": []
          }
        },
        {
          "output_type": "display_data",
          "data": {
            "text/plain": [
              "[1] 0.16"
            ],
            "text/latex": "0.16",
            "text/markdown": "0.16",
            "text/html": [
              "0.16"
            ]
          },
          "metadata": {
            "tags": []
          }
        }
      ]
    },
    {
      "cell_type": "code",
      "metadata": {
        "colab": {
          "base_uri": "https://localhost:8080/",
          "height": 128
        },
        "id": "VMyaphjnh2SQ",
        "outputId": "4d66cac6-dfb1-49fc-c473-8e99fb361763"
      },
      "source": [
        "fq <- qda(Species~., data = iris12.train, cv = T) # cv=T : LOOCV\n",
        "pq <- predict(fq, newdata = iris12.train)$class\n",
        "table(pq, iris12.train$Species)\n",
        "mean(pq != iris12.train$Species)"
      ],
      "execution_count": null,
      "outputs": [
        {
          "output_type": "display_data",
          "data": {
            "text/plain": [
              "            \n",
              "pq           setosa versicolor virginica\n",
              "  setosa         28          0         0\n",
              "  versicolor      0         16         8\n",
              "  virginica       0          4        19"
            ]
          },
          "metadata": {
            "tags": []
          }
        },
        {
          "output_type": "display_data",
          "data": {
            "text/plain": [
              "[1] 0.16"
            ],
            "text/latex": "0.16",
            "text/markdown": "0.16",
            "text/html": [
              "0.16"
            ]
          },
          "metadata": {
            "tags": []
          }
        }
      ]
    },
    {
      "cell_type": "markdown",
      "metadata": {
        "id": "1L27j81Hh-Na"
      },
      "source": [
        "LDA and QDA have the same LOOCV error estimate.\n",
        "Law of parsimony : IF two models show similar performance, then we select a simpler model.\n",
        "QDA is more complex model than the LDA. -> we select LDA\n",
        "we may use k-fold cv\n",
        "k = 5"
      ]
    },
    {
      "cell_type": "code",
      "metadata": {
        "id": "yJ--cLQlh2Od"
      },
      "source": [
        "k <- 5\n",
        "m <- dim(iris12.train)[1]"
      ],
      "execution_count": null,
      "outputs": []
    },
    {
      "cell_type": "code",
      "metadata": {
        "colab": {
          "base_uri": "https://localhost:8080/",
          "height": 35
        },
        "id": "ogL3GpNgiSAO",
        "outputId": "3b0aaa8a-d642-46fa-b5b2-02412620e139"
      },
      "source": [
        "m"
      ],
      "execution_count": null,
      "outputs": [
        {
          "output_type": "display_data",
          "data": {
            "text/plain": [
              "[1] 75"
            ],
            "text/latex": "75",
            "text/markdown": "75",
            "text/html": [
              "75"
            ]
          },
          "metadata": {
            "tags": []
          }
        }
      ]
    },
    {
      "cell_type": "code",
      "metadata": {
        "id": "p2Z8CnAviSxo"
      },
      "source": [
        "ind <- (1:m)%%k +1"
      ],
      "execution_count": null,
      "outputs": []
    },
    {
      "cell_type": "code",
      "metadata": {
        "colab": {
          "base_uri": "https://localhost:8080/",
          "height": 69
        },
        "id": "wtxN17LsiXCz",
        "outputId": "50ea2606-9faf-4422-fc73-c4f2c43061d2"
      },
      "source": [
        "ind"
      ],
      "execution_count": null,
      "outputs": [
        {
          "output_type": "display_data",
          "data": {
            "text/plain": [
              " [1] 2 3 4 5 1 2 3 4 5 1 2 3 4 5 1 2 3 4 5 1 2 3 4 5 1 2 3 4 5 1 2 3 4 5 1 2 3 4\n",
              "[39] 5 1 2 3 4 5 1 2 3 4 5 1 2 3 4 5 1 2 3 4 5 1 2 3 4 5 1 2 3 4 5 1 2 3 4 5 1"
            ],
            "text/latex": "\\begin{enumerate*}\n\\item 2\n\\item 3\n\\item 4\n\\item 5\n\\item 1\n\\item 2\n\\item 3\n\\item 4\n\\item 5\n\\item 1\n\\item 2\n\\item 3\n\\item 4\n\\item 5\n\\item 1\n\\item 2\n\\item 3\n\\item 4\n\\item 5\n\\item 1\n\\item 2\n\\item 3\n\\item 4\n\\item 5\n\\item 1\n\\item 2\n\\item 3\n\\item 4\n\\item 5\n\\item 1\n\\item 2\n\\item 3\n\\item 4\n\\item 5\n\\item 1\n\\item 2\n\\item 3\n\\item 4\n\\item 5\n\\item 1\n\\item 2\n\\item 3\n\\item 4\n\\item 5\n\\item 1\n\\item 2\n\\item 3\n\\item 4\n\\item 5\n\\item 1\n\\item 2\n\\item 3\n\\item 4\n\\item 5\n\\item 1\n\\item 2\n\\item 3\n\\item 4\n\\item 5\n\\item 1\n\\item 2\n\\item 3\n\\item 4\n\\item 5\n\\item 1\n\\item 2\n\\item 3\n\\item 4\n\\item 5\n\\item 1\n\\item 2\n\\item 3\n\\item 4\n\\item 5\n\\item 1\n\\end{enumerate*}\n",
            "text/markdown": "1. 2\n2. 3\n3. 4\n4. 5\n5. 1\n6. 2\n7. 3\n8. 4\n9. 5\n10. 1\n11. 2\n12. 3\n13. 4\n14. 5\n15. 1\n16. 2\n17. 3\n18. 4\n19. 5\n20. 1\n21. 2\n22. 3\n23. 4\n24. 5\n25. 1\n26. 2\n27. 3\n28. 4\n29. 5\n30. 1\n31. 2\n32. 3\n33. 4\n34. 5\n35. 1\n36. 2\n37. 3\n38. 4\n39. 5\n40. 1\n41. 2\n42. 3\n43. 4\n44. 5\n45. 1\n46. 2\n47. 3\n48. 4\n49. 5\n50. 1\n51. 2\n52. 3\n53. 4\n54. 5\n55. 1\n56. 2\n57. 3\n58. 4\n59. 5\n60. 1\n61. 2\n62. 3\n63. 4\n64. 5\n65. 1\n66. 2\n67. 3\n68. 4\n69. 5\n70. 1\n71. 2\n72. 3\n73. 4\n74. 5\n75. 1\n\n\n",
            "text/html": [
              "<style>\n",
              ".list-inline {list-style: none; margin:0; padding: 0}\n",
              ".list-inline>li {display: inline-block}\n",
              ".list-inline>li:not(:last-child)::after {content: \"\\00b7\"; padding: 0 .5ex}\n",
              "</style>\n",
              "<ol class=list-inline><li>2</li><li>3</li><li>4</li><li>5</li><li>1</li><li>2</li><li>3</li><li>4</li><li>5</li><li>1</li><li>2</li><li>3</li><li>4</li><li>5</li><li>1</li><li>2</li><li>3</li><li>4</li><li>5</li><li>1</li><li>2</li><li>3</li><li>4</li><li>5</li><li>1</li><li>2</li><li>3</li><li>4</li><li>5</li><li>1</li><li>2</li><li>3</li><li>4</li><li>5</li><li>1</li><li>2</li><li>3</li><li>4</li><li>5</li><li>1</li><li>2</li><li>3</li><li>4</li><li>5</li><li>1</li><li>2</li><li>3</li><li>4</li><li>5</li><li>1</li><li>2</li><li>3</li><li>4</li><li>5</li><li>1</li><li>2</li><li>3</li><li>4</li><li>5</li><li>1</li><li>2</li><li>3</li><li>4</li><li>5</li><li>1</li><li>2</li><li>3</li><li>4</li><li>5</li><li>1</li><li>2</li><li>3</li><li>4</li><li>5</li><li>1</li></ol>\n"
            ]
          },
          "metadata": {
            "tags": []
          }
        }
      ]
    },
    {
      "cell_type": "code",
      "metadata": {
        "id": "FXvNkP2QiXvI"
      },
      "source": [
        "set.seed(1)"
      ],
      "execution_count": null,
      "outputs": []
    },
    {
      "cell_type": "code",
      "metadata": {
        "id": "5mNiPif7iZ6h"
      },
      "source": [
        "fold <- sample(ind, m)"
      ],
      "execution_count": null,
      "outputs": []
    },
    {
      "cell_type": "code",
      "metadata": {
        "colab": {
          "base_uri": "https://localhost:8080/",
          "height": 69
        },
        "id": "iXmX6_G_ibkI",
        "outputId": "84f450d9-d5dd-41c9-adb0-91a07a064c9b"
      },
      "source": [
        "fold"
      ],
      "execution_count": null,
      "outputs": [
        {
          "output_type": "display_data",
          "data": {
            "text/plain": [
              " [1] 4 5 2 5 4 5 5 2 2 5 3 5 1 3 3 2 1 2 2 3 3 3 5 5 4 4 1 1 2 1 2 4 5 4 2 4 3 4\n",
              "[39] 5 2 5 3 1 3 4 4 3 1 2 4 5 3 4 3 3 5 1 1 2 2 5 2 4 5 3 1 1 4 1 1 3 1 2 1 4"
            ],
            "text/latex": "\\begin{enumerate*}\n\\item 4\n\\item 5\n\\item 2\n\\item 5\n\\item 4\n\\item 5\n\\item 5\n\\item 2\n\\item 2\n\\item 5\n\\item 3\n\\item 5\n\\item 1\n\\item 3\n\\item 3\n\\item 2\n\\item 1\n\\item 2\n\\item 2\n\\item 3\n\\item 3\n\\item 3\n\\item 5\n\\item 5\n\\item 4\n\\item 4\n\\item 1\n\\item 1\n\\item 2\n\\item 1\n\\item 2\n\\item 4\n\\item 5\n\\item 4\n\\item 2\n\\item 4\n\\item 3\n\\item 4\n\\item 5\n\\item 2\n\\item 5\n\\item 3\n\\item 1\n\\item 3\n\\item 4\n\\item 4\n\\item 3\n\\item 1\n\\item 2\n\\item 4\n\\item 5\n\\item 3\n\\item 4\n\\item 3\n\\item 3\n\\item 5\n\\item 1\n\\item 1\n\\item 2\n\\item 2\n\\item 5\n\\item 2\n\\item 4\n\\item 5\n\\item 3\n\\item 1\n\\item 1\n\\item 4\n\\item 1\n\\item 1\n\\item 3\n\\item 1\n\\item 2\n\\item 1\n\\item 4\n\\end{enumerate*}\n",
            "text/markdown": "1. 4\n2. 5\n3. 2\n4. 5\n5. 4\n6. 5\n7. 5\n8. 2\n9. 2\n10. 5\n11. 3\n12. 5\n13. 1\n14. 3\n15. 3\n16. 2\n17. 1\n18. 2\n19. 2\n20. 3\n21. 3\n22. 3\n23. 5\n24. 5\n25. 4\n26. 4\n27. 1\n28. 1\n29. 2\n30. 1\n31. 2\n32. 4\n33. 5\n34. 4\n35. 2\n36. 4\n37. 3\n38. 4\n39. 5\n40. 2\n41. 5\n42. 3\n43. 1\n44. 3\n45. 4\n46. 4\n47. 3\n48. 1\n49. 2\n50. 4\n51. 5\n52. 3\n53. 4\n54. 3\n55. 3\n56. 5\n57. 1\n58. 1\n59. 2\n60. 2\n61. 5\n62. 2\n63. 4\n64. 5\n65. 3\n66. 1\n67. 1\n68. 4\n69. 1\n70. 1\n71. 3\n72. 1\n73. 2\n74. 1\n75. 4\n\n\n",
            "text/html": [
              "<style>\n",
              ".list-inline {list-style: none; margin:0; padding: 0}\n",
              ".list-inline>li {display: inline-block}\n",
              ".list-inline>li:not(:last-child)::after {content: \"\\00b7\"; padding: 0 .5ex}\n",
              "</style>\n",
              "<ol class=list-inline><li>4</li><li>5</li><li>2</li><li>5</li><li>4</li><li>5</li><li>5</li><li>2</li><li>2</li><li>5</li><li>3</li><li>5</li><li>1</li><li>3</li><li>3</li><li>2</li><li>1</li><li>2</li><li>2</li><li>3</li><li>3</li><li>3</li><li>5</li><li>5</li><li>4</li><li>4</li><li>1</li><li>1</li><li>2</li><li>1</li><li>2</li><li>4</li><li>5</li><li>4</li><li>2</li><li>4</li><li>3</li><li>4</li><li>5</li><li>2</li><li>5</li><li>3</li><li>1</li><li>3</li><li>4</li><li>4</li><li>3</li><li>1</li><li>2</li><li>4</li><li>5</li><li>3</li><li>4</li><li>3</li><li>3</li><li>5</li><li>1</li><li>1</li><li>2</li><li>2</li><li>5</li><li>2</li><li>4</li><li>5</li><li>3</li><li>1</li><li>1</li><li>4</li><li>1</li><li>1</li><li>3</li><li>1</li><li>2</li><li>1</li><li>4</li></ol>\n"
            ]
          },
          "metadata": {
            "tags": []
          }
        }
      ]
    },
    {
      "cell_type": "code",
      "metadata": {
        "id": "-DbfLGJnicF4"
      },
      "source": [
        "pred <- character(m)"
      ],
      "execution_count": null,
      "outputs": []
    },
    {
      "cell_type": "code",
      "metadata": {
        "id": "FHW5awUTi_ui"
      },
      "source": [
        "for (i in 1:k){\n",
        "    fl <- lda(Species~.,data=iris12.train[fold!=i,])\n",
        "    pred[fold==i] <- as.character(predict(f1,newdata=iris12.train[fold==i,])$class)\n",
        "}"
      ],
      "execution_count": null,
      "outputs": []
    },
    {
      "cell_type": "code",
      "metadata": {
        "colab": {
          "base_uri": "https://localhost:8080/",
          "height": 128
        },
        "id": "IK9tbCADiz4N",
        "outputId": "718fd0ac-bf5a-4c16-ef46-945afd62c645"
      },
      "source": [
        "table(pred, iris12.train$Species)\n",
        "mean(pred != iris12.train$Species)"
      ],
      "execution_count": null,
      "outputs": [
        {
          "output_type": "display_data",
          "data": {
            "text/plain": [
              "            \n",
              "pred         setosa versicolor virginica\n",
              "  setosa         27          0         0\n",
              "  versicolor      1         15         6\n",
              "  virginica       0          5        21"
            ]
          },
          "metadata": {
            "tags": []
          }
        },
        {
          "output_type": "display_data",
          "data": {
            "text/plain": [
              "[1] 0.16"
            ],
            "text/latex": "0.16",
            "text/markdown": "0.16",
            "text/html": [
              "0.16"
            ]
          },
          "metadata": {
            "tags": []
          }
        }
      ]
    },
    {
      "cell_type": "code",
      "metadata": {
        "id": "4znkG0PYlH5Q"
      },
      "source": [
        "predq <- character(m)"
      ],
      "execution_count": 69,
      "outputs": []
    },
    {
      "cell_type": "code",
      "metadata": {
        "id": "qxf0d7LCkGpo"
      },
      "source": [
        "for (i in 1:k){\n",
        "    fl <- lda(Species~.,data=iris12.train[fold!=i,])\n",
        "    pred[fold==i] <- as.character(predict(f1,newdata=iris12.train[fold==i,])$class)\n",
        "    fq <- qda(Species~.,data=iris12.train[fold!=i,])\n",
        "    predq[fold==i] <- as.character(predict(fq,newdata=iris12.train[fold==i,])$class)\n",
        "\n",
        "}"
      ],
      "execution_count": 70,
      "outputs": []
    },
    {
      "cell_type": "code",
      "metadata": {
        "colab": {
          "base_uri": "https://localhost:8080/",
          "height": 239
        },
        "id": "xkYi8i13lSvg",
        "outputId": "56e5dcce-81e1-48c2-ca07-2939bfff356e"
      },
      "source": [
        "table(pred, iris12.train$Species)\n",
        "mean(pred != iris12.train$Species)\n",
        "\n",
        "table(predq, iris12.train$Species)\n",
        "mean(predq != iris12.train$Species)"
      ],
      "execution_count": 71,
      "outputs": [
        {
          "output_type": "display_data",
          "data": {
            "text/plain": [
              "            \n",
              "pred         setosa versicolor virginica\n",
              "  setosa         27          0         0\n",
              "  versicolor      1         15         6\n",
              "  virginica       0          5        21"
            ]
          },
          "metadata": {
            "tags": []
          }
        },
        {
          "output_type": "display_data",
          "data": {
            "text/plain": [
              "[1] 0.16"
            ],
            "text/latex": "0.16",
            "text/markdown": "0.16",
            "text/html": [
              "0.16"
            ]
          },
          "metadata": {
            "tags": []
          }
        },
        {
          "output_type": "display_data",
          "data": {
            "text/plain": [
              "            \n",
              "predq        setosa versicolor virginica\n",
              "  setosa         27          0         0\n",
              "  versicolor      1         15         9\n",
              "  virginica       0          5        18"
            ]
          },
          "metadata": {
            "tags": []
          }
        },
        {
          "output_type": "display_data",
          "data": {
            "text/plain": [
              "[1] 0.2"
            ],
            "text/latex": "0.2",
            "text/markdown": "0.2",
            "text/html": [
              "0.2"
            ]
          },
          "metadata": {
            "tags": []
          }
        }
      ]
    },
    {
      "cell_type": "markdown",
      "metadata": {
        "id": "Lpna4yiQl3pJ"
      },
      "source": [
        "Based on 5-fold CV, LDA appears better than QDA"
      ]
    },
    {
      "cell_type": "code",
      "metadata": {
        "id": "QvoqqTFfl1b1"
      },
      "source": [
        "fit <- lda(Species~., data = iris12.train)"
      ],
      "execution_count": 74,
      "outputs": []
    },
    {
      "cell_type": "code",
      "metadata": {
        "id": "m3cdRGJimBTS"
      },
      "source": [
        "predfit <- predict(fit, newdata = iris12.test)$class"
      ],
      "execution_count": 75,
      "outputs": []
    },
    {
      "cell_type": "code",
      "metadata": {
        "colab": {
          "base_uri": "https://localhost:8080/",
          "height": 111
        },
        "id": "f528reghmGi4",
        "outputId": "40899647-c27d-48b4-8069-91f91f61bb1a"
      },
      "source": [
        "table(predfit, iris12.test$Species)"
      ],
      "execution_count": 76,
      "outputs": [
        {
          "output_type": "display_data",
          "data": {
            "text/plain": [
              "            \n",
              "predfit      setosa versicolor virginica\n",
              "  setosa         22          0         0\n",
              "  versicolor      0         21         9\n",
              "  virginica       0          9        14"
            ]
          },
          "metadata": {
            "tags": []
          }
        }
      ]
    },
    {
      "cell_type": "code",
      "metadata": {
        "colab": {
          "base_uri": "https://localhost:8080/",
          "height": 35
        },
        "id": "xQOv0VFvmRQ-",
        "outputId": "67d430d6-0ef5-4e4e-b697-332f255de183"
      },
      "source": [
        "mean(predfit != iris12.test$Species)"
      ],
      "execution_count": 78,
      "outputs": [
        {
          "output_type": "display_data",
          "data": {
            "text/plain": [
              "[1] 0.24"
            ],
            "text/latex": "0.24",
            "text/markdown": "0.24",
            "text/html": [
              "0.24"
            ]
          },
          "metadata": {
            "tags": []
          }
        }
      ]
    },
    {
      "cell_type": "code",
      "metadata": {
        "id": "KFlB_Jy3mTsj"
      },
      "source": [
        ""
      ],
      "execution_count": null,
      "outputs": []
    }
  ]
}