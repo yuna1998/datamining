{
  "nbformat": 4,
  "nbformat_minor": 0,
  "metadata": {
    "colab": {
      "name": "ensembleipynb",
      "provenance": [],
      "authorship_tag": "ABX9TyOtZNzooGrjVqUu9+kPHxOu",
      "include_colab_link": true
    },
    "kernelspec": {
      "name": "ir",
      "display_name": "R"
    },
    "language_info": {
      "name": "R"
    }
  },
  "cells": [
    {
      "cell_type": "markdown",
      "metadata": {
        "id": "view-in-github",
        "colab_type": "text"
      },
      "source": [
        "<a href=\"https://colab.research.google.com/github/yuna1998/datamining/blob/main/ensembleipynb.ipynb\" target=\"_parent\"><img src=\"https://colab.research.google.com/assets/colab-badge.svg\" alt=\"Open In Colab\"/></a>"
      ]
    },
    {
      "cell_type": "code",
      "metadata": {
        "id": "BlHpMER-RpED"
      },
      "source": [
        "library(MASS)"
      ],
      "execution_count": 1,
      "outputs": []
    },
    {
      "cell_type": "code",
      "metadata": {
        "colab": {
          "base_uri": "https://localhost:8080/"
        },
        "id": "BxMvGmA3Rs5n",
        "outputId": "2e1a4d26-66e5-4b95-96b3-e152025c5169"
      },
      "source": [
        "install.packages(\"caret\")\n",
        "install.packages(\"caretEnsemble\")\n",
        "install.packages(\"doParallel\")"
      ],
      "execution_count": 2,
      "outputs": [
        {
          "output_type": "stream",
          "text": [
            "Installing package into ‘/usr/local/lib/R/site-library’\n",
            "(as ‘lib’ is unspecified)\n",
            "\n",
            "also installing the dependencies ‘numDeriv’, ‘SQUAREM’, ‘lava’, ‘prodlim’, ‘iterators’, ‘gower’, ‘ipred’, ‘timeDate’, ‘foreach’, ‘plyr’, ‘ModelMetrics’, ‘reshape2’, ‘recipes’, ‘pROC’\n",
            "\n",
            "\n",
            "Installing package into ‘/usr/local/lib/R/site-library’\n",
            "(as ‘lib’ is unspecified)\n",
            "\n",
            "also installing the dependencies ‘pbapply’, ‘gridExtra’\n",
            "\n",
            "\n",
            "Installing package into ‘/usr/local/lib/R/site-library’\n",
            "(as ‘lib’ is unspecified)\n",
            "\n"
          ],
          "name": "stderr"
        }
      ]
    },
    {
      "cell_type": "code",
      "metadata": {
        "colab": {
          "base_uri": "https://localhost:8080/"
        },
        "id": "pn5IpAoVRyub",
        "outputId": "6022de4c-0075-4e67-ab29-ba361188b885"
      },
      "source": [
        "library(caret)\n",
        "library(caretEnsemble)\n",
        "library(doParallel)"
      ],
      "execution_count": 3,
      "outputs": [
        {
          "output_type": "stream",
          "text": [
            "Loading required package: lattice\n",
            "\n",
            "Loading required package: ggplot2\n",
            "\n",
            "Warning message in system(\"timedatectl\", intern = TRUE):\n",
            "“running command 'timedatectl' had status 1”\n",
            "\n",
            "Attaching package: ‘caretEnsemble’\n",
            "\n",
            "\n",
            "The following object is masked from ‘package:ggplot2’:\n",
            "\n",
            "    autoplot\n",
            "\n",
            "\n",
            "Loading required package: foreach\n",
            "\n",
            "Loading required package: iterators\n",
            "\n",
            "Loading required package: parallel\n",
            "\n"
          ],
          "name": "stderr"
        }
      ]
    },
    {
      "cell_type": "code",
      "metadata": {
        "colab": {
          "base_uri": "https://localhost:8080/",
          "height": 101
        },
        "id": "935qU2eOR3mt",
        "outputId": "ae6f44ae-2e1c-42de-e122-e525a07f0f07"
      },
      "source": [
        "nc = detectCores()\n",
        "registerDoParrel(nc)"
      ],
      "execution_count": 4,
      "outputs": [
        {
          "output_type": "error",
          "ename": "ERROR",
          "evalue": "ignored",
          "traceback": [
            "Error in registerDoParrel(nc): could not find function \"registerDoParrel\"\nTraceback:\n"
          ]
        }
      ]
    },
    {
      "cell_type": "code",
      "metadata": {
        "id": "wcfzH6p3R8IO"
      },
      "source": [
        "n = dim(Boston)[1]"
      ],
      "execution_count": null,
      "outputs": []
    },
    {
      "cell_type": "code",
      "metadata": {
        "id": "y94yXTYdR9t4"
      },
      "source": [
        "set.seed(1)"
      ],
      "execution_count": null,
      "outputs": []
    },
    {
      "cell_type": "code",
      "metadata": {
        "id": "13GdVuHkR-YS"
      },
      "source": [
        "train = sample(n, n/2)\n",
        "X_train = Boston[train, -14]\n",
        "y_train = Boston[train, 14]\n",
        "X_test = Boston[-train, -14]\n",
        "y_test = Boston[-traon, 14]"
      ],
      "execution_count": null,
      "outputs": []
    },
    {
      "cell_type": "code",
      "metadata": {
        "id": "h6Ra3B5dSKlx"
      },
      "source": [
        "my_control = trainControl(method = \"cv\", number = 10, savePredictions = \"final\", allowParallel =TRUE )"
      ],
      "execution_count": null,
      "outputs": []
    },
    {
      "cell_type": "code",
      "metadata": {
        "id": "gl4U6wbDSM7Z"
      },
      "source": [
        "set.seed(2)"
      ],
      "execution_count": null,
      "outputs": []
    },
    {
      "cell_type": "code",
      "metadata": {
        "id": "OF6Fae40SNlw"
      },
      "source": [
        "\n",
        "model_list = caretList(X_train, y_train, methodList = c(\"lm\", \"rf\", \"xgbTree\", \"xgbLinear\", \"svmRadial\"),\n",
        "preProcess = c(\"center\", \"scale\"), trConrol = my_control)"
      ],
      "execution_count": null,
      "outputs": []
    },
    {
      "cell_type": "code",
      "metadata": {
        "id": "ouvlJhDlSRRA"
      },
      "source": [
        "rs = resample(model_list)\n",
        "rs$values\n",
        "dotplot(rs, metric = \"RMSE\")\n",
        "modelCor(rs) #model correlations if high then not so much imporvement by ensemble"
      ],
      "execution_count": null,
      "outputs": []
    },
    {
      "cell_type": "code",
      "metadata": {
        "id": "iwyuTIqpSSMz"
      },
      "source": [
        "#test RMSE\n",
        "p_lm = predeict.train(model_list$lm, newdata = X_test)\n",
        "p_rf = predeict.train(model_list$rf, newdata = X_test)\n",
        "p_xgbTree = predeict.train(model_list$xgbTree, newdata = X_test)\n",
        "p_xgbLinear = predeict.train(model_list$xgbLinear, newdata = X_test)\n",
        "p_svmRadial = predeict.train(model_list$svmRadial, newdata = X_test)"
      ],
      "execution_count": null,
      "outputs": []
    },
    {
      "cell_type": "code",
      "metadata": {
        "id": "2OhY8SVESSI1"
      },
      "source": [
        "RMSE(p_lm, y_test)\n",
        "RMSE(p_rf, y_test)\n",
        "RMSE(p_xgbTree, y_test)\n",
        "RMSE(p_xgbLinear, y_test)\n",
        "RMSE(p_svmRadial, y_test)"
      ],
      "execution_count": null,
      "outputs": []
    },
    {
      "cell_type": "code",
      "metadata": {
        "id": "CTy13KAPSSFL"
      },
      "source": [
        "#stacked regression using a linear model\n",
        "set.seed(3)\n",
        "ens1 = caretEnsemble(model_list, metric = \"RMSE\", trConrol = my_control)\n",
        "print(ens1)\n",
        "summary(ens1)"
      ],
      "execution_count": null,
      "outputs": []
    },
    {
      "cell_type": "code",
      "metadata": {
        "id": "m80QKRDXSSAj"
      },
      "source": [
        "p_ens1 = predict(ens1, newdata = X_test)\n",
        "results = data.frame(\n",
        "    lm = RMSE(p_lm, y_test),\n",
        "    rf = RMSE(p_rf, y_test),\n",
        "    xgbTree = RMSE(p_xgbTree, y_test),\n",
        "    xgbLinear = RMSE(p_xgbLinear, y_test),\n",
        "    svmRadial = RMSE(p_svmRadial, y_test) ,\n",
        "    stacked_regression = RMSE(p_ens1, y_test)\n",
        ")\n"
      ],
      "execution_count": null,
      "outputs": []
    },
    {
      "cell_type": "code",
      "metadata": {
        "id": "CjZv-92PSR8P"
      },
      "source": [
        "#other meta learner  : elastic net : mixture of ridge and LASSO\n",
        "set.seed(4)\n",
        "ens2 = caret$Stack(model_list, method = \"glmnet\", trControl = my_control,\n",
        "matric = \"RMSE\")\n",
        "ens2\n",
        "p_ens2 = predict(ens2, newdata = X_test)\n",
        "RMSE(p_ens2, y_test)\n",
        "results$stacking_elastic_net = RMSE(p_ens2, y_test)\n",
        "results"
      ],
      "execution_count": null,
      "outputs": []
    },
    {
      "cell_type": "code",
      "metadata": {
        "id": "Q7_CKZWWSR4x"
      },
      "source": [
        "set.seed(4)\n",
        "ens3 = caret$Stack(model_list, method = \"gbm\", trConrol = my_contol, metric = \"RMSE\")\n",
        "ens3\n",
        "p_ens3 = predict(ens3, newdata = X_test)\n",
        "RMSE(p_ens3, y_test)"
      ],
      "execution_count": null,
      "outputs": []
    },
    {
      "cell_type": "code",
      "metadata": {
        "id": "5c5r1qmSSR1s"
      },
      "source": [
        "set.seed(4)\n",
        "ens3 = caret$Stack(model_list, method = \"rf\", trConrol = my_contol, metric = \"RMSE\")\n",
        "ens3\n",
        "p_ens3 = predict(ens3, newdata = X_test)\n",
        "RMSE(p_ens3, y_test)"
      ],
      "execution_count": null,
      "outputs": []
    },
    {
      "cell_type": "code",
      "metadata": {
        "id": "GZ2Z1-xGSRzB"
      },
      "source": [
        "#Level-1 data\n",
        "z1 = model_list$lm$pred[order(model_list$lm$pred$rowIndex), ]$pred #cv  predicted value with original order\n",
        "z2 = model_list$rf$pred[order(model_list$rf$pred$rowIndex), ]$pred\n",
        "z3 = model_list$xgbTree$pred[order(model_list$xgbTree$pred$rowIndex), ]$pred\n",
        "z4 = model_list$xgbLinear$pred[order(model_list$xgbLinear$pred$rowIndex), ]$pred\n",
        "z5 = model_list$svmRadial$pred[order(model_list$svmLinear$pred$rowIndex), ]$pred"
      ],
      "execution_count": null,
      "outputs": []
    },
    {
      "cell_type": "code",
      "metadata": {
        "id": "Ttv3wNbgVZnm"
      },
      "source": [
        "Z_train = data.frame(z1 = z1, z2 = z2, z3 = z3, z4 = z4, z5 = z5) #level-1 data\n",
        "head(Z_train)\n",
        "fit_ens1 = lm(y_train~.,data=Z_train)\n",
        "summary(fit_ens1)\n",
        "coef(fit_ens1)\n",
        "summary(ens1)"
      ],
      "execution_count": null,
      "outputs": []
    },
    {
      "cell_type": "code",
      "metadata": {
        "id": "7MscGbJDVZj6"
      },
      "source": [
        "#multilevel stacking\n",
        "ZX_train = cbind(Z_train,X_train)\n",
        "head(ZX_train)\n",
        "fit_m = train(ZX_train, y_train, method = \"glmnet\", metric = \"RMSE\", trControl = my_control)\n",
        "fit_m\n",
        "p_lm = predeict.train(model_list$lm, newdata = X_test)\n",
        "p_rf = predeict.train(model_list$rf, newdata = X_test)\n",
        "p_xgbTree = predeict.train(model_list$xgbTree, newdata = X_test)\n",
        "p_xgbLinear = predeict.train(model_list$xgbLinear, newdata = X_test)\n",
        "p_svmRadial = predeict.train(model_list$svmRadial, newdata = X_test)\n",
        "\n",
        "Z_test = data.frame(z1~p_lm, x2~p_rf, z3~p_xgbTree, z4~p_xgblinear, z5~p_svmRadial)\n",
        "ZX_test = cbind(Z_test, X_Test)\n",
        "\n",
        "p_ml = predict.train(fit_m, newdata = ZX_test)\n",
        "RMSE(p_ml, y_test)\n",
        "results$multi_level_stack = RMSE(p_ml, y_test)\n",
        "results "
      ],
      "execution_count": null,
      "outputs": []
    },
    {
      "cell_type": "code",
      "metadata": {
        "id": "XNLSL0AeVZeY"
      },
      "source": [
        "#Stacking for classification\n",
        "hdata = read.csv(file = \"~~\", header = T, stringAsFactors = T)\n",
        "hdata$X = NULL\n",
        "str(hdata)\n",
        "#check missing\n",
        "sum(is.na(hdata))\n",
        "#small number of missing --> remove them\n",
        "\n",
        "hdata = na.omit(hdata)\n",
        "n = dim(hdata)[1]\n",
        "n\n",
        "#13 predictors and a binary response\n",
        "set.seed(10)\n",
        "train = sample(n, n/2)\n",
        "htrain = hdata[train,]\n",
        "htest = hdata[-train,]"
      ],
      "execution_count": null,
      "outputs": []
    },
    {
      "cell_type": "code",
      "metadata": {
        "id": "MdhsRj7PVZaV"
      },
      "source": [
        "dim(hdata)\n",
        "X.train = htrain[,-14]\n",
        "X.test = htest[.-14]\n",
        "y.train = htrain[,14]\n",
        "y.test = htest[,14]\n",
        "\n",
        "my.control = trainControl(method = \"cv\", number=10, savePredictons = \"final\", allowParallel = TRUE, classProbs = TRUE)\n",
        "set.seed(2)\n",
        "hmodel = careList(X.train, y.train, methodList = c(\"rf\", \"glm\", \"naive_bayes\", metric =\"Accuracy\", trConrol = my.control))\n",
        "hmodel\n",
        "\n",
        "\n",
        "hmodel$rf\n",
        "hmodel$glm\n",
        "hmodel$naive_bays\n",
        "\n",
        "\n",
        "pc_hrf = predict.train(hmodel$rf, X.test)\n",
        "pc_hglm = predict.train(hmodel$glm, X.test)\n",
        "pc_hnb = predict.train(hmodel$naive_bayes, X.test)\n",
        "\n",
        "acc = function(x,y) mean(x==y)\n",
        "acc(pc_hrf, y.test)\n",
        "acc(pc_hglm, y.test)\n",
        "acc(pc_hnb, y.test)\n"
      ],
      "execution_count": null,
      "outputs": []
    },
    {
      "cell_type": "code",
      "metadata": {
        "id": "ZqdsIamLVZUW"
      },
      "source": [
        "##What is level-1 data\n",
        "head(hmodel$rf$pred)\n",
        "z1 = model$rf$pred[order(hmodel$rf$pred$rowIndex),]$Yes #CV posterior porb iwth the same index\n",
        "z2 = model$glm$pred[order(hmodel$glm$pred$rowindex),]$Yes\n",
        "z3 = model$naive_bayes$pred[order(hmodel$naive_bayes$pred$rowindex),]$Yes\n",
        "\n",
        "Z.train = data.frame(z1~z1, z2~z2, z3~z3)\n",
        "\n",
        "Z.test = data.frame(z1~predict.train(hmodel$rf, X.test, \"prob\")$Yes,\n",
        "                    z2~predict.train(hmodel$glm, X.test, \"prob\")$Yes,\n",
        "                    z3~predict.train(hmodel$naive_bayes, X.test, \"prob\")$Yes)\n",
        "\n",
        "head(Z.test)\n",
        "set.seed(3)\n",
        "hens1 = caretEnsmble(hmodel, metrix = \"Accuracy\", trControl = my.control)\n",
        "summary(hens1)\n",
        "\n",
        "pc_hens1 = predict(hens1, X.test)\n",
        "acc(pc_hens1, y.test)\n",
        "res = data.frame(rf~acc(pc_hrf, y.test),\n",
        "                glm~acc(pc_hglm, y.test),\n",
        "                naive_bayes ~ acc(pc_hnb, y.test),\n",
        "                stacking1 = acc(pc_hens1, y.test))\n",
        "res\n",
        " "
      ],
      "execution_count": null,
      "outputs": []
    },
    {
      "cell_type": "code",
      "metadata": {
        "id": "Y1CLmZ4OVZNj"
      },
      "source": [
        "set.seed(4)\n",
        "hens2 = caret$Stack(hmodel,method = \"glmnet\" metric = \"Accuracy\", trConrol = my.control)\n",
        "hens2\n",
        "\n",
        "pc_hens2 = predict(hens2, X.test)\n",
        "acc(pc_hens2, y.test)\n",
        "\n",
        "res$stack_elastic_net = acc(pc_hens2, y.test)\n",
        "res"
      ],
      "execution_count": null,
      "outputs": []
    },
    {
      "cell_type": "code",
      "metadata": {
        "id": "_1cCK0UWVZEc"
      },
      "source": [
        "#multi-level stacking\n",
        "set.seed(2222)\n",
        "hens2 = caret$Stack(hmodel,method = \"glmnet\" metric = \"Accuracy\", trConrol = my.control, tuneLength = 5)\n",
        "hens2\n",
        "\n",
        "pc_hens2 = predict(hens2, X.test)\n",
        "acc(pc_hens2, y.test)\n",
        "\n",
        "res$stack_elastic_net = acc(pc_hens2, y.test)\n",
        "res\n",
        "\n",
        "\n",
        "ZX.train = cbing(Z.train, X.train)\n",
        "ZX.test = cbind(Z.test, X.test)\n",
        "\n",
        "head(ZX.train)\n",
        "set.seed(10)\n",
        "fit1 = train(model.matrix(~., -`, data = ZX.train), y.train, method = \"glmnet\", trControl = my.control)\n",
        "pc_hm = predict.train(fit1, newdata = model.matrix(~.,-1, data = ZX.test))\n",
        "acc(pc_hm, y.test)\n",
        "\n",
        "cor(Z.train)\n"
      ],
      "execution_count": null,
      "outputs": []
    },
    {
      "cell_type": "code",
      "metadata": {
        "id": "iuGtEBc0SRwe"
      },
      "source": [
        ""
      ],
      "execution_count": null,
      "outputs": []
    }
  ]
}