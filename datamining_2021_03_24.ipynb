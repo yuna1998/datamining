{
  "nbformat": 4,
  "nbformat_minor": 0,
  "metadata": {
    "colab": {
      "name": "datamining_2021_03_24.ipynb",
      "provenance": [],
      "authorship_tag": "ABX9TyO8JYaBY8P0z+MrSsnp81V+",
      "include_colab_link": true
    },
    "kernelspec": {
      "name": "ir",
      "display_name": "R"
    },
    "language_info": {
      "name": "R"
    }
  },
  "cells": [
    {
      "cell_type": "markdown",
      "metadata": {
        "id": "view-in-github",
        "colab_type": "text"
      },
      "source": [
        "<a href=\"https://colab.research.google.com/github/yuna1998/datamining/blob/main/datamining_2021_03_24.ipynb\" target=\"_parent\"><img src=\"https://colab.research.google.com/assets/colab-badge.svg\" alt=\"Open In Colab\"/></a>"
      ]
    },
    {
      "cell_type": "code",
      "metadata": {
        "id": "TjJoMFH3UkEJ"
      },
      "source": [
        "##Bootstrap variance estimation"
      ],
      "execution_count": 1,
      "outputs": []
    },
    {
      "cell_type": "code",
      "metadata": {
        "colab": {
          "base_uri": "https://localhost:8080/"
        },
        "id": "mko-zWXDU2G7",
        "outputId": "876ac34e-fd4f-4da8-fedb-3c3ff3191f15"
      },
      "source": [
        "install.packages(\"ISLR\")"
      ],
      "execution_count": 3,
      "outputs": [
        {
          "output_type": "stream",
          "text": [
            "Installing package into ‘/usr/local/lib/R/site-library’\n",
            "(as ‘lib’ is unspecified)\n",
            "\n"
          ],
          "name": "stderr"
        }
      ]
    },
    {
      "cell_type": "code",
      "metadata": {
        "colab": {
          "base_uri": "https://localhost:8080/",
          "height": 365
        },
        "id": "BV_LqmQxUutK",
        "outputId": "dd69b478-76f8-4b3a-bdca-49990bc7184a"
      },
      "source": [
        "library(ISLR)\n",
        "head(Portfolio)\n",
        "dim(Protfolio)"
      ],
      "execution_count": 4,
      "outputs": [
        {
          "output_type": "display_data",
          "data": {
            "text/plain": [
              "  X          Y         \n",
              "1 -0.8952509 -0.2349235\n",
              "2 -1.5624543 -0.8851760\n",
              "3 -0.4170899  0.2718880\n",
              "4  1.0443557 -0.7341975\n",
              "5 -0.3155684  0.8419834\n",
              "6 -1.7371238 -2.0371910"
            ],
            "text/latex": "A data.frame: 6 × 2\n\\begin{tabular}{r|ll}\n  & X & Y\\\\\n  & <dbl> & <dbl>\\\\\n\\hline\n\t1 & -0.8952509 & -0.2349235\\\\\n\t2 & -1.5624543 & -0.8851760\\\\\n\t3 & -0.4170899 &  0.2718880\\\\\n\t4 &  1.0443557 & -0.7341975\\\\\n\t5 & -0.3155684 &  0.8419834\\\\\n\t6 & -1.7371238 & -2.0371910\\\\\n\\end{tabular}\n",
            "text/markdown": "\nA data.frame: 6 × 2\n\n| <!--/--> | X &lt;dbl&gt; | Y &lt;dbl&gt; |\n|---|---|---|\n| 1 | -0.8952509 | -0.2349235 |\n| 2 | -1.5624543 | -0.8851760 |\n| 3 | -0.4170899 |  0.2718880 |\n| 4 |  1.0443557 | -0.7341975 |\n| 5 | -0.3155684 |  0.8419834 |\n| 6 | -1.7371238 | -2.0371910 |\n\n",
            "text/html": [
              "<table class=\"dataframe\">\n",
              "<caption>A data.frame: 6 × 2</caption>\n",
              "<thead>\n",
              "\t<tr><th></th><th scope=col>X</th><th scope=col>Y</th></tr>\n",
              "\t<tr><th></th><th scope=col>&lt;dbl&gt;</th><th scope=col>&lt;dbl&gt;</th></tr>\n",
              "</thead>\n",
              "<tbody>\n",
              "\t<tr><th scope=row>1</th><td>-0.8952509</td><td>-0.2349235</td></tr>\n",
              "\t<tr><th scope=row>2</th><td>-1.5624543</td><td>-0.8851760</td></tr>\n",
              "\t<tr><th scope=row>3</th><td>-0.4170899</td><td> 0.2718880</td></tr>\n",
              "\t<tr><th scope=row>4</th><td> 1.0443557</td><td>-0.7341975</td></tr>\n",
              "\t<tr><th scope=row>5</th><td>-0.3155684</td><td> 0.8419834</td></tr>\n",
              "\t<tr><th scope=row>6</th><td>-1.7371238</td><td>-2.0371910</td></tr>\n",
              "</tbody>\n",
              "</table>\n"
            ]
          },
          "metadata": {
            "tags": []
          }
        },
        {
          "output_type": "error",
          "ename": "ERROR",
          "evalue": "ignored",
          "traceback": [
            "Error in eval(expr, envir, enclos): object 'Protfolio' not found\nTraceback:\n"
          ]
        }
      ]
    },
    {
      "cell_type": "code",
      "metadata": {
        "id": "j4BUHICeUz45"
      },
      "source": [
        "alpha.ftn <- function(data, ind){\n",
        "    x = data[ind, 1]\n",
        "    y = data[ind, 2]\n",
        "    alpha <- (var(x)-cov(x,y))/(var(x)-var(y)-2*cov(x,y))\n",
        "    return(alpha)\n",
        "}"
      ],
      "execution_count": 5,
      "outputs": []
    },
    {
      "cell_type": "code",
      "metadata": {
        "colab": {
          "base_uri": "https://localhost:8080/",
          "height": 35
        },
        "id": "TGBCX0g9VP5w",
        "outputId": "cf3307ff-9c60-45df-fc00-7671e02b1020"
      },
      "source": [
        "alpha.ftn(Portfolio, 1:100)"
      ],
      "execution_count": 7,
      "outputs": [
        {
          "output_type": "display_data",
          "data": {
            "text/plain": [
              "[1] -0.3506807"
            ],
            "text/latex": "-0.350680698757407",
            "text/markdown": "-0.350680698757407",
            "text/html": [
              "-0.350680698757407"
            ]
          },
          "metadata": {
            "tags": []
          }
        }
      ]
    },
    {
      "cell_type": "code",
      "metadata": {
        "id": "U_L_g_kwVSy_"
      },
      "source": [
        "library(boot)"
      ],
      "execution_count": 8,
      "outputs": []
    },
    {
      "cell_type": "code",
      "metadata": {
        "id": "7-bHYsdgVVxZ"
      },
      "source": [
        "set.seed(10)"
      ],
      "execution_count": 9,
      "outputs": []
    },
    {
      "cell_type": "code",
      "metadata": {
        "colab": {
          "base_uri": "https://localhost:8080/",
          "height": 223
        },
        "id": "F8x_ZXsqVXCX",
        "outputId": "fba7842f-40cd-4868-c443-12d77855dc6c"
      },
      "source": [
        "boot(Portfolio, alpha.ftn, R=1000)"
      ],
      "execution_count": 10,
      "outputs": [
        {
          "output_type": "display_data",
          "data": {
            "text/plain": [
              "\n",
              "ORDINARY NONPARAMETRIC BOOTSTRAP\n",
              "\n",
              "\n",
              "Call:\n",
              "boot(data = Portfolio, statistic = alpha.ftn, R = 1000)\n",
              "\n",
              "\n",
              "Bootstrap Statistics :\n",
              "      original      bias    std. error\n",
              "t1* -0.3506807 -0.03100712   0.2058562"
            ]
          },
          "metadata": {
            "tags": []
          }
        }
      ]
    },
    {
      "cell_type": "code",
      "metadata": {
        "id": "ifrohqIBVa-r"
      },
      "source": [
        " res <- boot(Portfolio, alpha.ftn, R = 1000)"
      ],
      "execution_count": 11,
      "outputs": []
    },
    {
      "cell_type": "code",
      "metadata": {
        "colab": {
          "base_uri": "https://localhost:8080/",
          "height": 297
        },
        "id": "EPA8tV8XV2u4",
        "outputId": "5f8996f8-e1c7-4c70-9262-5b2ae3809304"
      },
      "source": [
        "boot.ci(res)"
      ],
      "execution_count": 13,
      "outputs": [
        {
          "output_type": "stream",
          "text": [
            "Warning message in boot.ci(res):\n",
            "“bootstrap variances needed for studentized intervals”\n"
          ],
          "name": "stderr"
        },
        {
          "output_type": "display_data",
          "data": {
            "text/plain": [
              "BOOTSTRAP CONFIDENCE INTERVAL CALCULATIONS\n",
              "Based on 1000 bootstrap replicates\n",
              "\n",
              "CALL : \n",
              "boot.ci(boot.out = res)\n",
              "\n",
              "Intervals : \n",
              "Level      Normal              Basic         \n",
              "95%   (-0.6929,  0.0627 )   (-0.5694,  0.1517 )  \n",
              "\n",
              "Level     Percentile            BCa          \n",
              "95%   (-0.8530, -0.1319 )   (-0.9323, -0.1376 )  \n",
              "Calculations and Intervals on Original Scale"
            ]
          },
          "metadata": {
            "tags": []
          }
        }
      ]
    }
  ]
}