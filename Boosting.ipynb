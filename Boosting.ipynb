{
  "nbformat": 4,
  "nbformat_minor": 0,
  "metadata": {
    "colab": {
      "name": "Boosting.ipynb",
      "provenance": [],
      "authorship_tag": "ABX9TyOvCxY1t0YhwqHFMkFMBpTx",
      "include_colab_link": true
    },
    "kernelspec": {
      "name": "ir",
      "display_name": "R"
    },
    "language_info": {
      "name": "R"
    }
  },
  "cells": [
    {
      "cell_type": "markdown",
      "metadata": {
        "id": "view-in-github",
        "colab_type": "text"
      },
      "source": [
        "<a href=\"https://colab.research.google.com/github/yuna1998/datamining/blob/main/Boosting.ipynb\" target=\"_parent\"><img src=\"https://colab.research.google.com/assets/colab-badge.svg\" alt=\"Open In Colab\"/></a>"
      ]
    },
    {
      "cell_type": "code",
      "metadata": {
        "id": "zX-I-r1A89RD"
      },
      "source": [
        "##regression bagging RFs\n",
        "library(MASS)"
      ],
      "execution_count": 1,
      "outputs": []
    },
    {
      "cell_type": "code",
      "metadata": {
        "id": "5W1GvD5I9Apn"
      },
      "source": [
        "n <- dim(Boston)[1]"
      ],
      "execution_count": 9,
      "outputs": []
    },
    {
      "cell_type": "code",
      "metadata": {
        "colab": {
          "base_uri": "https://localhost:8080/",
          "height": 35
        },
        "id": "v3O2TPg79Fo6",
        "outputId": "f2cc0ba7-d431-49d8-e694-cb0977bf638e"
      },
      "source": [
        "n"
      ],
      "execution_count": 4,
      "outputs": [
        {
          "output_type": "display_data",
          "data": {
            "text/plain": [
              "[1] 506"
            ],
            "text/latex": "506",
            "text/markdown": "506",
            "text/html": [
              "506"
            ]
          },
          "metadata": {
            "tags": []
          }
        }
      ]
    },
    {
      "cell_type": "code",
      "metadata": {
        "colab": {
          "base_uri": "https://localhost:8080/",
          "height": 35
        },
        "id": "9D1Xvp_U9Jum",
        "outputId": "05f8f78f-2651-449b-e517-044f97173260"
      },
      "source": [
        "sum(is.na(Boston))"
      ],
      "execution_count": 5,
      "outputs": [
        {
          "output_type": "display_data",
          "data": {
            "text/plain": [
              "[1] 0"
            ],
            "text/latex": "0",
            "text/markdown": "0",
            "text/html": [
              "0"
            ]
          },
          "metadata": {
            "tags": []
          }
        }
      ]
    },
    {
      "cell_type": "code",
      "metadata": {
        "colab": {
          "base_uri": "https://localhost:8080/"
        },
        "id": "er-ILRgH9MIP",
        "outputId": "50ff26c2-7787-497f-9014-f33e6f675ad2"
      },
      "source": [
        "str(Boston)"
      ],
      "execution_count": 6,
      "outputs": [
        {
          "output_type": "stream",
          "text": [
            "'data.frame':\t506 obs. of  14 variables:\n",
            " $ crim   : num  0.00632 0.02731 0.02729 0.03237 0.06905 ...\n",
            " $ zn     : num  18 0 0 0 0 0 12.5 12.5 12.5 12.5 ...\n",
            " $ indus  : num  2.31 7.07 7.07 2.18 2.18 2.18 7.87 7.87 7.87 7.87 ...\n",
            " $ chas   : int  0 0 0 0 0 0 0 0 0 0 ...\n",
            " $ nox    : num  0.538 0.469 0.469 0.458 0.458 0.458 0.524 0.524 0.524 0.524 ...\n",
            " $ rm     : num  6.58 6.42 7.18 7 7.15 ...\n",
            " $ age    : num  65.2 78.9 61.1 45.8 54.2 58.7 66.6 96.1 100 85.9 ...\n",
            " $ dis    : num  4.09 4.97 4.97 6.06 6.06 ...\n",
            " $ rad    : int  1 2 2 3 3 3 5 5 5 5 ...\n",
            " $ tax    : num  296 242 242 222 222 222 311 311 311 311 ...\n",
            " $ ptratio: num  15.3 17.8 17.8 18.7 18.7 18.7 15.2 15.2 15.2 15.2 ...\n",
            " $ black  : num  397 397 393 395 397 ...\n",
            " $ lstat  : num  4.98 9.14 4.03 2.94 5.33 ...\n",
            " $ medv   : num  24 21.6 34.7 33.4 36.2 28.7 22.9 27.1 16.5 18.9 ...\n"
          ],
          "name": "stdout"
        }
      ]
    },
    {
      "cell_type": "code",
      "metadata": {
        "id": "MWWtrO-a9M37"
      },
      "source": [
        "set.seed(1)"
      ],
      "execution_count": 7,
      "outputs": []
    },
    {
      "cell_type": "code",
      "metadata": {
        "id": "xi3CxEVZ9NtB"
      },
      "source": [
        "train = sample(n, n/2)"
      ],
      "execution_count": 10,
      "outputs": []
    },
    {
      "cell_type": "code",
      "metadata": {
        "id": "DQ5gWte59SIg"
      },
      "source": [
        "btrain = Boston[train,]"
      ],
      "execution_count": 11,
      "outputs": []
    },
    {
      "cell_type": "code",
      "metadata": {
        "id": "7sTg3oKs9Xd6"
      },
      "source": [
        "btest = Boston[-train,]"
      ],
      "execution_count": 12,
      "outputs": []
    },
    {
      "cell_type": "code",
      "metadata": {
        "colab": {
          "base_uri": "https://localhost:8080/"
        },
        "id": "yv9FCkyY9n27",
        "outputId": "6858a112-deb2-41c7-99c9-0e4959033800"
      },
      "source": [
        "install.packages(\"randomForest\")"
      ],
      "execution_count": 14,
      "outputs": [
        {
          "output_type": "stream",
          "text": [
            "Installing package into ‘/usr/local/lib/R/site-library’\n",
            "(as ‘lib’ is unspecified)\n",
            "\n"
          ],
          "name": "stderr"
        }
      ]
    },
    {
      "cell_type": "code",
      "metadata": {
        "colab": {
          "base_uri": "https://localhost:8080/"
        },
        "id": "bCTSYp8c9qLP",
        "outputId": "85e9d90c-2b16-4614-a757-1b472a15bdf2"
      },
      "source": [
        "library(randomForest)"
      ],
      "execution_count": 15,
      "outputs": [
        {
          "output_type": "stream",
          "text": [
            "randomForest 4.6-14\n",
            "\n",
            "Type rfNews() to see new features/changes/bug fixes.\n",
            "\n"
          ],
          "name": "stderr"
        }
      ]
    },
    {
      "cell_type": "code",
      "metadata": {
        "id": "q0hgc-LY9ZMR"
      },
      "source": [
        "bb = randomForest(medv~., data = btrain, mtry = 13, importance = T)"
      ],
      "execution_count": 16,
      "outputs": []
    },
    {
      "cell_type": "code",
      "metadata": {
        "colab": {
          "base_uri": "https://localhost:8080/",
          "height": 185
        },
        "id": "9q7kLZP99g8R",
        "outputId": "cdf94b09-d70e-40f1-8054-fb522557c245"
      },
      "source": [
        "bb"
      ],
      "execution_count": 17,
      "outputs": [
        {
          "output_type": "display_data",
          "data": {
            "text/plain": [
              "\n",
              "Call:\n",
              " randomForest(formula = medv ~ ., data = btrain, mtry = 13, importance = T) \n",
              "               Type of random forest: regression\n",
              "                     Number of trees: 500\n",
              "No. of variables tried at each split: 13\n",
              "\n",
              "          Mean of squared residuals: 13.1489\n",
              "                    % Var explained: 85.2"
            ]
          },
          "metadata": {
            "tags": []
          }
        }
      ]
    },
    {
      "cell_type": "code",
      "metadata": {
        "id": "s461tGLZ9s9S"
      },
      "source": [
        "pb = predict(bb, newdata = btest)"
      ],
      "execution_count": 19,
      "outputs": []
    },
    {
      "cell_type": "code",
      "metadata": {
        "colab": {
          "base_uri": "https://localhost:8080/",
          "height": 52
        },
        "id": "EZkR8o5k9vhi",
        "outputId": "bee9778c-0ef3-4d5f-b2ca-47589821eb8b"
      },
      "source": [
        "mean( (pb - btest$medv)^2) # test MSE\n",
        "sqrt(mean( (pb - btest$medv)^2)) # test RMSE"
      ],
      "execution_count": 20,
      "outputs": [
        {
          "output_type": "display_data",
          "data": {
            "text/plain": [
              "[1] 16.0594"
            ],
            "text/latex": "16.0594033545465",
            "text/markdown": "16.0594033545465",
            "text/html": [
              "16.0594033545465"
            ]
          },
          "metadata": {
            "tags": []
          }
        },
        {
          "output_type": "display_data",
          "data": {
            "text/plain": [
              "[1] 4.007419"
            ],
            "text/latex": "4.00741853997639",
            "text/markdown": "4.00741853997639",
            "text/html": [
              "4.00741853997639"
            ]
          },
          "metadata": {
            "tags": []
          }
        }
      ]
    },
    {
      "cell_type": "code",
      "metadata": {
        "colab": {
          "base_uri": "https://localhost:8080/",
          "height": 185
        },
        "id": "KqLGjr1I-D89",
        "outputId": "76b1d371-4e49-4b4d-f129-024329e90492"
      },
      "source": [
        "brf = randomForest(medv~., data = btrain, mtry = 4, importance = T)\n",
        "brf"
      ],
      "execution_count": 21,
      "outputs": [
        {
          "output_type": "display_data",
          "data": {
            "text/plain": [
              "\n",
              "Call:\n",
              " randomForest(formula = medv ~ ., data = btrain, mtry = 4, importance = T) \n",
              "               Type of random forest: regression\n",
              "                     Number of trees: 500\n",
              "No. of variables tried at each split: 4\n",
              "\n",
              "          Mean of squared residuals: 12.83621\n",
              "                    % Var explained: 85.55"
            ]
          },
          "metadata": {
            "tags": []
          }
        }
      ]
    },
    {
      "cell_type": "code",
      "metadata": {
        "id": "FVR3ikUC-hnz"
      },
      "source": [
        "prf = predict(brf, newdata = btest)"
      ],
      "execution_count": 22,
      "outputs": []
    },
    {
      "cell_type": "code",
      "metadata": {
        "colab": {
          "base_uri": "https://localhost:8080/",
          "height": 52
        },
        "id": "HlhtD9nX-ksi",
        "outputId": "8e3446b0-3203-4f47-aa96-ad4660e92707"
      },
      "source": [
        "mean( (prf - btest$medv)^2) #test MSE\n",
        "sqrt(mean( (prf - btest$medv)^2)) # test RMSE"
      ],
      "execution_count": 23,
      "outputs": [
        {
          "output_type": "display_data",
          "data": {
            "text/plain": [
              "[1] 13.12477"
            ],
            "text/latex": "13.1247688960952",
            "text/markdown": "13.1247688960952",
            "text/html": [
              "13.1247688960952"
            ]
          },
          "metadata": {
            "tags": []
          }
        },
        {
          "output_type": "display_data",
          "data": {
            "text/plain": [
              "[1] 3.622812"
            ],
            "text/latex": "3.62281229103788",
            "text/markdown": "3.62281229103788",
            "text/html": [
              "3.62281229103788"
            ]
          },
          "metadata": {
            "tags": []
          }
        }
      ]
    },
    {
      "cell_type": "code",
      "metadata": {
        "colab": {
          "base_uri": "https://localhost:8080/",
          "height": 902
        },
        "id": "UEAd-00b-uTh",
        "outputId": "543e4efa-5a4e-499c-8b9a-b1773d0b0ed9"
      },
      "source": [
        "cor(prf, btest$medv)\n",
        "plot(prf, btest$medv)\n",
        "abline(0,1)\n",
        "importance(brf)"
      ],
      "execution_count": 24,
      "outputs": [
        {
          "output_type": "display_data",
          "data": {
            "text/plain": [
              "[1] 0.9199892"
            ],
            "text/latex": "0.919989209805414",
            "text/markdown": "0.919989209805414",
            "text/html": [
              "0.919989209805414"
            ]
          },
          "metadata": {
            "tags": []
          }
        },
        {
          "output_type": "display_data",
          "data": {
            "text/plain": [
              "        %IncMSE   IncNodePurity\n",
              "crim    13.789155 1526.0819    \n",
              "zn       2.745459  137.2776    \n",
              "indus    8.519039  682.1926    \n",
              "chas     3.332088  237.2080    \n",
              "nox     12.746625 1383.4398    \n",
              "rm      25.738049 6575.7933    \n",
              "age     12.961243  655.1832    \n",
              "dis     12.877636 1270.1347    \n",
              "rad      4.076053  198.0493    \n",
              "tax      9.603561  757.0740    \n",
              "ptratio 11.851376 1865.2712    \n",
              "black    6.232607  374.6110    \n",
              "lstat   25.796541 6310.7012    "
            ],
            "text/latex": "A matrix: 13 × 2 of type dbl\n\\begin{tabular}{r|ll}\n  & \\%IncMSE & IncNodePurity\\\\\n\\hline\n\tcrim & 13.789155 & 1526.0819\\\\\n\tzn &  2.745459 &  137.2776\\\\\n\tindus &  8.519039 &  682.1926\\\\\n\tchas &  3.332088 &  237.2080\\\\\n\tnox & 12.746625 & 1383.4398\\\\\n\trm & 25.738049 & 6575.7933\\\\\n\tage & 12.961243 &  655.1832\\\\\n\tdis & 12.877636 & 1270.1347\\\\\n\trad &  4.076053 &  198.0493\\\\\n\ttax &  9.603561 &  757.0740\\\\\n\tptratio & 11.851376 & 1865.2712\\\\\n\tblack &  6.232607 &  374.6110\\\\\n\tlstat & 25.796541 & 6310.7012\\\\\n\\end{tabular}\n",
            "text/markdown": "\nA matrix: 13 × 2 of type dbl\n\n| <!--/--> | %IncMSE | IncNodePurity |\n|---|---|---|\n| crim | 13.789155 | 1526.0819 |\n| zn |  2.745459 |  137.2776 |\n| indus |  8.519039 |  682.1926 |\n| chas |  3.332088 |  237.2080 |\n| nox | 12.746625 | 1383.4398 |\n| rm | 25.738049 | 6575.7933 |\n| age | 12.961243 |  655.1832 |\n| dis | 12.877636 | 1270.1347 |\n| rad |  4.076053 |  198.0493 |\n| tax |  9.603561 |  757.0740 |\n| ptratio | 11.851376 | 1865.2712 |\n| black |  6.232607 |  374.6110 |\n| lstat | 25.796541 | 6310.7012 |\n\n",
            "text/html": [
              "<table class=\"dataframe\">\n",
              "<caption>A matrix: 13 × 2 of type dbl</caption>\n",
              "<thead>\n",
              "\t<tr><th></th><th scope=col>%IncMSE</th><th scope=col>IncNodePurity</th></tr>\n",
              "</thead>\n",
              "<tbody>\n",
              "\t<tr><th scope=row>crim</th><td>13.789155</td><td>1526.0819</td></tr>\n",
              "\t<tr><th scope=row>zn</th><td> 2.745459</td><td> 137.2776</td></tr>\n",
              "\t<tr><th scope=row>indus</th><td> 8.519039</td><td> 682.1926</td></tr>\n",
              "\t<tr><th scope=row>chas</th><td> 3.332088</td><td> 237.2080</td></tr>\n",
              "\t<tr><th scope=row>nox</th><td>12.746625</td><td>1383.4398</td></tr>\n",
              "\t<tr><th scope=row>rm</th><td>25.738049</td><td>6575.7933</td></tr>\n",
              "\t<tr><th scope=row>age</th><td>12.961243</td><td> 655.1832</td></tr>\n",
              "\t<tr><th scope=row>dis</th><td>12.877636</td><td>1270.1347</td></tr>\n",
              "\t<tr><th scope=row>rad</th><td> 4.076053</td><td> 198.0493</td></tr>\n",
              "\t<tr><th scope=row>tax</th><td> 9.603561</td><td> 757.0740</td></tr>\n",
              "\t<tr><th scope=row>ptratio</th><td>11.851376</td><td>1865.2712</td></tr>\n",
              "\t<tr><th scope=row>black</th><td> 6.232607</td><td> 374.6110</td></tr>\n",
              "\t<tr><th scope=row>lstat</th><td>25.796541</td><td>6310.7012</td></tr>\n",
              "</tbody>\n",
              "</table>\n"
            ]
          },
          "metadata": {
            "tags": []
          }
        },
        {
          "output_type": "display_data",
          "data": {
            "image/png": "[encoded data removed]",
            "text/plain": [
              "plot without title"
            ]
          },
          "metadata": {
            "tags": [],
            "image/png": {
              "width": 420,
              "height": 420
            }
          }
        }
      ]
    },
    {
      "cell_type": "code",
      "metadata": {
        "colab": {
          "base_uri": "https://localhost:8080/"
        },
        "id": "sROX77x5-zk4",
        "outputId": "2463f47d-0133-459a-bc31-a3c232e42532"
      },
      "source": [
        "install.packages(\"gbm\")"
      ],
      "execution_count": 27,
      "outputs": [
        {
          "output_type": "stream",
          "text": [
            "Installing package into ‘/usr/local/lib/R/site-library’\n",
            "(as ‘lib’ is unspecified)\n",
            "\n"
          ],
          "name": "stderr"
        }
      ]
    },
    {
      "cell_type": "code",
      "metadata": {
        "colab": {
          "base_uri": "https://localhost:8080/"
        },
        "id": "lc7jhgYK-3Hu",
        "outputId": "2524a799-09a0-4e7d-8d69-527f6a16475c"
      },
      "source": [
        "library(gbm)"
      ],
      "execution_count": 28,
      "outputs": [
        {
          "output_type": "stream",
          "text": [
            "Loaded gbm 2.1.8\n",
            "\n"
          ],
          "name": "stderr"
        }
      ]
    },
    {
      "cell_type": "code",
      "metadata": {
        "id": "O06ONr4C-4FG"
      },
      "source": [
        "x1 <- c(0.4, 0.5, 0.7, 0.8, 0.1, 0.3, 0.5, 0.2, 0.3, 0.9)\n",
        "x2 <- c(0.8, 0.9, 0.7, 0.8, 0.6, 0.6, 0.6, 0.3, 0.1, 0.3)\n",
        "y <- c(1,1,1,0,1,0,0,1,0,0)"
      ],
      "execution_count": 29,
      "outputs": []
    },
    {
      "cell_type": "code",
      "metadata": {
        "id": "03rFKLkT_Vau"
      },
      "source": [
        "fit = gbm(y~x1+x2, distribution = \"adaboost\", n.trees = 3, interaction.depth = 1, n.minobsinnode = 2, bag.fraction = 1)"
      ],
      "execution_count": 30,
      "outputs": []
    },
    {
      "cell_type": "code",
      "metadata": {
        "colab": {
          "base_uri": "https://localhost:8080/",
          "height": 111
        },
        "id": "cvaCXUQV_iDb",
        "outputId": "31095ca7-f17f-4934-fb1d-475df7ccda96"
      },
      "source": [
        "fit"
      ],
      "execution_count": 31,
      "outputs": [
        {
          "output_type": "display_data",
          "data": {
            "text/plain": [
              "gbm(formula = y ~ x1 + x2, distribution = \"adaboost\", n.trees = 3, \n",
              "    interaction.depth = 1, n.minobsinnode = 2, bag.fraction = 1)\n",
              "A gradient boosted model with adaboost loss function.\n",
              "3 iterations were performed.\n",
              "There were 2 predictors of which 1 had non-zero influence."
            ]
          },
          "metadata": {
            "tags": []
          }
        }
      ]
    },
    {
      "cell_type": "code",
      "metadata": {
        "colab": {
          "base_uri": "https://localhost:8080/",
          "height": 69
        },
        "id": "KgMxc6mk_jT6",
        "outputId": "8f6e0947-43b2-489f-da85-d7db7237b97a"
      },
      "source": [
        "fit$fit"
      ],
      "execution_count": 32,
      "outputs": [
        {
          "output_type": "display_data",
          "data": {
            "text/plain": [
              " [1] -0.02264978 -0.02264978 -0.02264978 -0.14773687  0.22508709 -0.02264978\n",
              " [7] -0.02264978  0.22508709 -0.02264978 -0.14773687"
            ],
            "text/latex": "\\begin{enumerate*}\n\\item -0.0226497785239016\n\\item -0.0226497785239016\n\\item -0.0226497785239016\n\\item -0.147736867234662\n\\item 0.22508708871076\n\\item -0.0226497785239016\n\\item -0.0226497785239016\n\\item 0.22508708871076\n\\item -0.0226497785239016\n\\item -0.147736867234662\n\\end{enumerate*}\n",
            "text/markdown": "1. -0.0226497785239016\n2. -0.0226497785239016\n3. -0.0226497785239016\n4. -0.147736867234662\n5. 0.22508708871076\n6. -0.0226497785239016\n7. -0.0226497785239016\n8. 0.22508708871076\n9. -0.0226497785239016\n10. -0.147736867234662\n\n\n",
            "text/html": [
              "<style>\n",
              ".list-inline {list-style: none; margin:0; padding: 0}\n",
              ".list-inline>li {display: inline-block}\n",
              ".list-inline>li:not(:last-child)::after {content: \"\\00b7\"; padding: 0 .5ex}\n",
              "</style>\n",
              "<ol class=list-inline><li>-0.0226497785239016</li><li>-0.0226497785239016</li><li>-0.0226497785239016</li><li>-0.147736867234662</li><li>0.22508708871076</li><li>-0.0226497785239016</li><li>-0.0226497785239016</li><li>0.22508708871076</li><li>-0.0226497785239016</li><li>-0.147736867234662</li></ol>\n"
            ]
          },
          "metadata": {
            "tags": []
          }
        }
      ]
    },
    {
      "cell_type": "code",
      "metadata": {
        "colab": {
          "base_uri": "https://localhost:8080/",
          "height": 461
        },
        "id": "TMOOxQs6_kq_",
        "outputId": "b0457a9d-3d8e-4663-aa7c-92436cd62d55"
      },
      "source": [
        "fit$trees"
      ],
      "execution_count": 33,
      "outputs": [
        {
          "output_type": "display_data",
          "data": {
            "text/plain": [
              "[[1]]\n",
              "[[1]][[1]]\n",
              "[1]  0 -1 -1 -1\n",
              "\n",
              "[[1]][[2]]\n",
              "[1]  0.250  0.100 -0.025  0.000\n",
              "\n",
              "[[1]][[3]]\n",
              "[1]  1 -1 -1 -1\n",
              "\n",
              "[[1]][[4]]\n",
              "[1]  2 -1 -1 -1\n",
              "\n",
              "[[1]][[5]]\n",
              "[1]  3 -1 -1 -1\n",
              "\n",
              "[[1]][[6]]\n",
              "[1] 2.5 0.0 0.0 0.0\n",
              "\n",
              "[[1]][[7]]\n",
              "[1] 10  2  8 10\n",
              "\n",
              "[[1]][[8]]\n",
              "[1]  0.000  0.100 -0.025  0.000\n",
              "\n",
              "\n",
              "[[2]]\n",
              "[[2]][[1]]\n",
              "[1]  0 -1 -1 -1\n",
              "\n",
              "[[2]][[2]]\n",
              "[1]  7.500000e-01  2.508709e-02 -1.000000e-01  6.967097e-05\n",
              "\n",
              "[[2]][[3]]\n",
              "[1]  1 -1 -1 -1\n",
              "\n",
              "[[2]][[4]]\n",
              "[1]  2 -1 -1 -1\n",
              "\n",
              "[[2]][[5]]\n",
              "[1]  3 -1 -1 -1\n",
              "\n",
              "[[2]][[6]]\n",
              "[1] 2.382499 0.000000 0.000000 0.000000\n",
              "\n",
              "[[2]][[7]]\n",
              "[1] 10  8  2 10\n",
              "\n",
              "[[2]][[8]]\n",
              "[1]  6.967097e-05  2.508709e-02 -1.000000e-01  6.967097e-05\n",
              "\n",
              "\n",
              "[[3]]\n",
              "[[3]][[1]]\n",
              "[1]  0 -1 -1 -1\n",
              "\n",
              "[[3]][[2]]\n",
              "[1]  0.250000000  0.100000000 -0.022736867  0.001810506\n",
              "\n",
              "[[3]][[3]]\n",
              "[1]  1 -1 -1 -1\n",
              "\n",
              "[[3]][[4]]\n",
              "[1]  2 -1 -1 -1\n",
              "\n",
              "[[3]][[5]]\n",
              "[1]  3 -1 -1 -1\n",
              "\n",
              "[[3]][[6]]\n",
              "[1] 1.946961 0.000000 0.000000 0.000000\n",
              "\n",
              "[[3]][[7]]\n",
              "[1] 10  2  8 10\n",
              "\n",
              "[[3]][[8]]\n",
              "[1]  0.001810506  0.100000000 -0.022736867  0.001810506\n",
              "\n"
            ],
            "text/latex": "\\begin{enumerate}\n\\item \\begin{enumerate}\n\\item \\begin{enumerate*}\n\\item 0\n\\item -1\n\\item -1\n\\item -1\n\\end{enumerate*}\n\n\\item \\begin{enumerate*}\n\\item 0.25\n\\item 0.1\n\\item -0.025\n\\item 0\n\\end{enumerate*}\n\n\\item \\begin{enumerate*}\n\\item 1\n\\item -1\n\\item -1\n\\item -1\n\\end{enumerate*}\n\n\\item \\begin{enumerate*}\n\\item 2\n\\item -1\n\\item -1\n\\item -1\n\\end{enumerate*}\n\n\\item \\begin{enumerate*}\n\\item 3\n\\item -1\n\\item -1\n\\item -1\n\\end{enumerate*}\n\n\\item \\begin{enumerate*}\n\\item 2.5\n\\item 0\n\\item 0\n\\item 0\n\\end{enumerate*}\n\n\\item \\begin{enumerate*}\n\\item 10\n\\item 2\n\\item 8\n\\item 10\n\\end{enumerate*}\n\n\\item \\begin{enumerate*}\n\\item 0\n\\item 0.1\n\\item -0.025\n\\item 0\n\\end{enumerate*}\n\n\\end{enumerate}\n\n\\item \\begin{enumerate}\n\\item \\begin{enumerate*}\n\\item 0\n\\item -1\n\\item -1\n\\item -1\n\\end{enumerate*}\n\n\\item \\begin{enumerate*}\n\\item 0.75\n\\item 0.02508708871076\n\\item -0.1\n\\item 6.96709686079711e-05\n\\end{enumerate*}\n\n\\item \\begin{enumerate*}\n\\item 1\n\\item -1\n\\item -1\n\\item -1\n\\end{enumerate*}\n\n\\item \\begin{enumerate*}\n\\item 2\n\\item -1\n\\item -1\n\\item -1\n\\end{enumerate*}\n\n\\item \\begin{enumerate*}\n\\item 3\n\\item -1\n\\item -1\n\\item -1\n\\end{enumerate*}\n\n\\item \\begin{enumerate*}\n\\item 2.38249895949621\n\\item 0\n\\item 0\n\\item 0\n\\end{enumerate*}\n\n\\item \\begin{enumerate*}\n\\item 10\n\\item 8\n\\item 2\n\\item 10\n\\end{enumerate*}\n\n\\item \\begin{enumerate*}\n\\item 6.96709686079711e-05\n\\item 0.02508708871076\n\\item -0.1\n\\item 6.96709686079711e-05\n\\end{enumerate*}\n\n\\end{enumerate}\n\n\\item \\begin{enumerate}\n\\item \\begin{enumerate*}\n\\item 0\n\\item -1\n\\item -1\n\\item -1\n\\end{enumerate*}\n\n\\item \\begin{enumerate*}\n\\item 0.25\n\\item 0.1\n\\item -0.0227368672346616\n\\item 0.00181050621227072\n\\end{enumerate*}\n\n\\item \\begin{enumerate*}\n\\item 1\n\\item -1\n\\item -1\n\\item -1\n\\end{enumerate*}\n\n\\item \\begin{enumerate*}\n\\item 2\n\\item -1\n\\item -1\n\\item -1\n\\end{enumerate*}\n\n\\item \\begin{enumerate*}\n\\item 3\n\\item -1\n\\item -1\n\\item -1\n\\end{enumerate*}\n\n\\item \\begin{enumerate*}\n\\item 1.94696123723286\n\\item 0\n\\item 0\n\\item 0\n\\end{enumerate*}\n\n\\item \\begin{enumerate*}\n\\item 10\n\\item 2\n\\item 8\n\\item 10\n\\end{enumerate*}\n\n\\item \\begin{enumerate*}\n\\item 0.00181050621227072\n\\item 0.1\n\\item -0.0227368672346616\n\\item 0.00181050621227072\n\\end{enumerate*}\n\n\\end{enumerate}\n\n\\end{enumerate}\n",
            "text/markdown": "1. 1. 1. 0\n2. -1\n3. -1\n4. -1\n\n\n\n2. 1. 0.25\n2. 0.1\n3. -0.025\n4. 0\n\n\n\n3. 1. 1\n2. -1\n3. -1\n4. -1\n\n\n\n4. 1. 2\n2. -1\n3. -1\n4. -1\n\n\n\n5. 1. 3\n2. -1\n3. -1\n4. -1\n\n\n\n6. 1. 2.5\n2. 0\n3. 0\n4. 0\n\n\n\n7. 1. 10\n2. 2\n3. 8\n4. 10\n\n\n\n8. 1. 0\n2. 0.1\n3. -0.025\n4. 0\n\n\n\n\n\n\n2. 1. 1. 0\n2. -1\n3. -1\n4. -1\n\n\n\n2. 1. 0.75\n2. 0.02508708871076\n3. -0.1\n4. 6.96709686079711e-05\n\n\n\n3. 1. 1\n2. -1\n3. -1\n4. -1\n\n\n\n4. 1. 2\n2. -1\n3. -1\n4. -1\n\n\n\n5. 1. 3\n2. -1\n3. -1\n4. -1\n\n\n\n6. 1. 2.38249895949621\n2. 0\n3. 0\n4. 0\n\n\n\n7. 1. 10\n2. 8\n3. 2\n4. 10\n\n\n\n8. 1. 6.96709686079711e-05\n2. 0.02508708871076\n3. -0.1\n4. 6.96709686079711e-05\n\n\n\n\n\n\n3. 1. 1. 0\n2. -1\n3. -1\n4. -1\n\n\n\n2. 1. 0.25\n2. 0.1\n3. -0.0227368672346616\n4. 0.00181050621227072\n\n\n\n3. 1. 1\n2. -1\n3. -1\n4. -1\n\n\n\n4. 1. 2\n2. -1\n3. -1\n4. -1\n\n\n\n5. 1. 3\n2. -1\n3. -1\n4. -1\n\n\n\n6. 1. 1.94696123723286\n2. 0\n3. 0\n4. 0\n\n\n\n7. 1. 10\n2. 2\n3. 8\n4. 10\n\n\n\n8. 1. 0.00181050621227072\n2. 0.1\n3. -0.0227368672346616\n4. 0.00181050621227072\n\n\n\n\n\n\n\n\n",
            "text/html": [
              "<ol>\n",
              "\t<li><ol>\n",
              "\t<li><style>\n",
              ".list-inline {list-style: none; margin:0; padding: 0}\n",
              ".list-inline>li {display: inline-block}\n",
              ".list-inline>li:not(:last-child)::after {content: \"\\00b7\"; padding: 0 .5ex}\n",
              "</style>\n",
              "<ol class=list-inline><li>0</li><li>-1</li><li>-1</li><li>-1</li></ol>\n",
              "</li>\n",
              "\t<li><style>\n",
              ".list-inline {list-style: none; margin:0; padding: 0}\n",
              ".list-inline>li {display: inline-block}\n",
              ".list-inline>li:not(:last-child)::after {content: \"\\00b7\"; padding: 0 .5ex}\n",
              "</style>\n",
              "<ol class=list-inline><li>0.25</li><li>0.1</li><li>-0.025</li><li>0</li></ol>\n",
              "</li>\n",
              "\t<li><style>\n",
              ".list-inline {list-style: none; margin:0; padding: 0}\n",
              ".list-inline>li {display: inline-block}\n",
              ".list-inline>li:not(:last-child)::after {content: \"\\00b7\"; padding: 0 .5ex}\n",
              "</style>\n",
              "<ol class=list-inline><li>1</li><li>-1</li><li>-1</li><li>-1</li></ol>\n",
              "</li>\n",
              "\t<li><style>\n",
              ".list-inline {list-style: none; margin:0; padding: 0}\n",
              ".list-inline>li {display: inline-block}\n",
              ".list-inline>li:not(:last-child)::after {content: \"\\00b7\"; padding: 0 .5ex}\n",
              "</style>\n",
              "<ol class=list-inline><li>2</li><li>-1</li><li>-1</li><li>-1</li></ol>\n",
              "</li>\n",
              "\t<li><style>\n",
              ".list-inline {list-style: none; margin:0; padding: 0}\n",
              ".list-inline>li {display: inline-block}\n",
              ".list-inline>li:not(:last-child)::after {content: \"\\00b7\"; padding: 0 .5ex}\n",
              "</style>\n",
              "<ol class=list-inline><li>3</li><li>-1</li><li>-1</li><li>-1</li></ol>\n",
              "</li>\n",
              "\t<li><style>\n",
              ".list-inline {list-style: none; margin:0; padding: 0}\n",
              ".list-inline>li {display: inline-block}\n",
              ".list-inline>li:not(:last-child)::after {content: \"\\00b7\"; padding: 0 .5ex}\n",
              "</style>\n",
              "<ol class=list-inline><li>2.5</li><li>0</li><li>0</li><li>0</li></ol>\n",
              "</li>\n",
              "\t<li><style>\n",
              ".list-inline {list-style: none; margin:0; padding: 0}\n",
              ".list-inline>li {display: inline-block}\n",
              ".list-inline>li:not(:last-child)::after {content: \"\\00b7\"; padding: 0 .5ex}\n",
              "</style>\n",
              "<ol class=list-inline><li>10</li><li>2</li><li>8</li><li>10</li></ol>\n",
              "</li>\n",
              "\t<li><style>\n",
              ".list-inline {list-style: none; margin:0; padding: 0}\n",
              ".list-inline>li {display: inline-block}\n",
              ".list-inline>li:not(:last-child)::after {content: \"\\00b7\"; padding: 0 .5ex}\n",
              "</style>\n",
              "<ol class=list-inline><li>0</li><li>0.1</li><li>-0.025</li><li>0</li></ol>\n",
              "</li>\n",
              "</ol>\n",
              "</li>\n",
              "\t<li><ol>\n",
              "\t<li><style>\n",
              ".list-inline {list-style: none; margin:0; padding: 0}\n",
              ".list-inline>li {display: inline-block}\n",
              ".list-inline>li:not(:last-child)::after {content: \"\\00b7\"; padding: 0 .5ex}\n",
              "</style>\n",
              "<ol class=list-inline><li>0</li><li>-1</li><li>-1</li><li>-1</li></ol>\n",
              "</li>\n",
              "\t<li><style>\n",
              ".list-inline {list-style: none; margin:0; padding: 0}\n",
              ".list-inline>li {display: inline-block}\n",
              ".list-inline>li:not(:last-child)::after {content: \"\\00b7\"; padding: 0 .5ex}\n",
              "</style>\n",
              "<ol class=list-inline><li>0.75</li><li>0.02508708871076</li><li>-0.1</li><li>6.96709686079711e-05</li></ol>\n",
              "</li>\n",
              "\t<li><style>\n",
              ".list-inline {list-style: none; margin:0; padding: 0}\n",
              ".list-inline>li {display: inline-block}\n",
              ".list-inline>li:not(:last-child)::after {content: \"\\00b7\"; padding: 0 .5ex}\n",
              "</style>\n",
              "<ol class=list-inline><li>1</li><li>-1</li><li>-1</li><li>-1</li></ol>\n",
              "</li>\n",
              "\t<li><style>\n",
              ".list-inline {list-style: none; margin:0; padding: 0}\n",
              ".list-inline>li {display: inline-block}\n",
              ".list-inline>li:not(:last-child)::after {content: \"\\00b7\"; padding: 0 .5ex}\n",
              "</style>\n",
              "<ol class=list-inline><li>2</li><li>-1</li><li>-1</li><li>-1</li></ol>\n",
              "</li>\n",
              "\t<li><style>\n",
              ".list-inline {list-style: none; margin:0; padding: 0}\n",
              ".list-inline>li {display: inline-block}\n",
              ".list-inline>li:not(:last-child)::after {content: \"\\00b7\"; padding: 0 .5ex}\n",
              "</style>\n",
              "<ol class=list-inline><li>3</li><li>-1</li><li>-1</li><li>-1</li></ol>\n",
              "</li>\n",
              "\t<li><style>\n",
              ".list-inline {list-style: none; margin:0; padding: 0}\n",
              ".list-inline>li {display: inline-block}\n",
              ".list-inline>li:not(:last-child)::after {content: \"\\00b7\"; padding: 0 .5ex}\n",
              "</style>\n",
              "<ol class=list-inline><li>2.38249895949621</li><li>0</li><li>0</li><li>0</li></ol>\n",
              "</li>\n",
              "\t<li><style>\n",
              ".list-inline {list-style: none; margin:0; padding: 0}\n",
              ".list-inline>li {display: inline-block}\n",
              ".list-inline>li:not(:last-child)::after {content: \"\\00b7\"; padding: 0 .5ex}\n",
              "</style>\n",
              "<ol class=list-inline><li>10</li><li>8</li><li>2</li><li>10</li></ol>\n",
              "</li>\n",
              "\t<li><style>\n",
              ".list-inline {list-style: none; margin:0; padding: 0}\n",
              ".list-inline>li {display: inline-block}\n",
              ".list-inline>li:not(:last-child)::after {content: \"\\00b7\"; padding: 0 .5ex}\n",
              "</style>\n",
              "<ol class=list-inline><li>6.96709686079711e-05</li><li>0.02508708871076</li><li>-0.1</li><li>6.96709686079711e-05</li></ol>\n",
              "</li>\n",
              "</ol>\n",
              "</li>\n",
              "\t<li><ol>\n",
              "\t<li><style>\n",
              ".list-inline {list-style: none; margin:0; padding: 0}\n",
              ".list-inline>li {display: inline-block}\n",
              ".list-inline>li:not(:last-child)::after {content: \"\\00b7\"; padding: 0 .5ex}\n",
              "</style>\n",
              "<ol class=list-inline><li>0</li><li>-1</li><li>-1</li><li>-1</li></ol>\n",
              "</li>\n",
              "\t<li><style>\n",
              ".list-inline {list-style: none; margin:0; padding: 0}\n",
              ".list-inline>li {display: inline-block}\n",
              ".list-inline>li:not(:last-child)::after {content: \"\\00b7\"; padding: 0 .5ex}\n",
              "</style>\n",
              "<ol class=list-inline><li>0.25</li><li>0.1</li><li>-0.0227368672346616</li><li>0.00181050621227072</li></ol>\n",
              "</li>\n",
              "\t<li><style>\n",
              ".list-inline {list-style: none; margin:0; padding: 0}\n",
              ".list-inline>li {display: inline-block}\n",
              ".list-inline>li:not(:last-child)::after {content: \"\\00b7\"; padding: 0 .5ex}\n",
              "</style>\n",
              "<ol class=list-inline><li>1</li><li>-1</li><li>-1</li><li>-1</li></ol>\n",
              "</li>\n",
              "\t<li><style>\n",
              ".list-inline {list-style: none; margin:0; padding: 0}\n",
              ".list-inline>li {display: inline-block}\n",
              ".list-inline>li:not(:last-child)::after {content: \"\\00b7\"; padding: 0 .5ex}\n",
              "</style>\n",
              "<ol class=list-inline><li>2</li><li>-1</li><li>-1</li><li>-1</li></ol>\n",
              "</li>\n",
              "\t<li><style>\n",
              ".list-inline {list-style: none; margin:0; padding: 0}\n",
              ".list-inline>li {display: inline-block}\n",
              ".list-inline>li:not(:last-child)::after {content: \"\\00b7\"; padding: 0 .5ex}\n",
              "</style>\n",
              "<ol class=list-inline><li>3</li><li>-1</li><li>-1</li><li>-1</li></ol>\n",
              "</li>\n",
              "\t<li><style>\n",
              ".list-inline {list-style: none; margin:0; padding: 0}\n",
              ".list-inline>li {display: inline-block}\n",
              ".list-inline>li:not(:last-child)::after {content: \"\\00b7\"; padding: 0 .5ex}\n",
              "</style>\n",
              "<ol class=list-inline><li>1.94696123723286</li><li>0</li><li>0</li><li>0</li></ol>\n",
              "</li>\n",
              "\t<li><style>\n",
              ".list-inline {list-style: none; margin:0; padding: 0}\n",
              ".list-inline>li {display: inline-block}\n",
              ".list-inline>li:not(:last-child)::after {content: \"\\00b7\"; padding: 0 .5ex}\n",
              "</style>\n",
              "<ol class=list-inline><li>10</li><li>2</li><li>8</li><li>10</li></ol>\n",
              "</li>\n",
              "\t<li><style>\n",
              ".list-inline {list-style: none; margin:0; padding: 0}\n",
              ".list-inline>li {display: inline-block}\n",
              ".list-inline>li:not(:last-child)::after {content: \"\\00b7\"; padding: 0 .5ex}\n",
              "</style>\n",
              "<ol class=list-inline><li>0.00181050621227072</li><li>0.1</li><li>-0.0227368672346616</li><li>0.00181050621227072</li></ol>\n",
              "</li>\n",
              "</ol>\n",
              "</li>\n",
              "</ol>\n"
            ]
          },
          "metadata": {
            "tags": []
          }
        }
      ]
    },
    {
      "cell_type": "code",
      "metadata": {
        "id": "YR5L6V8v_lsA"
      },
      "source": [
        "##Boosting for regression based on Trees"
      ],
      "execution_count": 34,
      "outputs": []
    },
    {
      "cell_type": "code",
      "metadata": {
        "id": "S4r5BTXX_2uv"
      },
      "source": [
        "set.seed(1)"
      ],
      "execution_count": 35,
      "outputs": []
    },
    {
      "cell_type": "code",
      "metadata": {
        "id": "kjo0K09T_4od"
      },
      "source": [
        "bfit = gbm(medv~., data = btrain, distribution = \"gaussian\", interaction.depth = 1, n.trees = 100, n.minobsinnode = 10, shrinkage = 0.01, cv.folds = 10)"
      ],
      "execution_count": 37,
      "outputs": []
    },
    {
      "cell_type": "code",
      "metadata": {
        "colab": {
          "base_uri": "https://localhost:8080/",
          "height": 455
        },
        "id": "ZX13gbIm_9aW",
        "outputId": "b08d6980-502f-43c6-bb2e-38a6612e99c0"
      },
      "source": [
        "bt = gbm.perf(bfit, method = \"cv\")\n",
        "bt"
      ],
      "execution_count": 38,
      "outputs": [
        {
          "output_type": "display_data",
          "data": {
            "text/plain": [
              "[1] 100"
            ],
            "text/latex": "100",
            "text/markdown": "100",
            "text/html": [
              "100"
            ]
          },
          "metadata": {
            "tags": []
          }
        },
        {
          "output_type": "display_data",
          "data": {
            "image/png": "[encoded data removed]",
            "text/plain": [
              "plot without title"
            ]
          },
          "metadata": {
            "tags": [],
            "image/png": {
              "width": 420,
              "height": 420
            }
          }
        }
      ]
    },
    {
      "cell_type": "code",
      "metadata": {
        "colab": {
          "base_uri": "https://localhost:8080/",
          "height": 455
        },
        "id": "6Ntm5xLKANs5",
        "outputId": "8cef1d27-7423-425e-f6a5-a34bf21aee80"
      },
      "source": [
        "bfit = gbm(medv~., data = btrain, distribution = \"gaussian\", interaction.depth = 1, n.trees = 1000, n.minobsinnode = 10, shrinkage = 0.01, cv.folds = 10)\n",
        "bt = gbm.perf(bfit, method = \"cv\")\n",
        "bt"
      ],
      "execution_count": 39,
      "outputs": [
        {
          "output_type": "display_data",
          "data": {
            "text/plain": [
              "[1] 1000"
            ],
            "text/latex": "1000",
            "text/markdown": "1000",
            "text/html": [
              "1000"
            ]
          },
          "metadata": {
            "tags": []
          }
        },
        {
          "output_type": "display_data",
          "data": {
            "image/png": "[encoded data removed]",
            "text/plain": [
              "plot without title"
            ]
          },
          "metadata": {
            "tags": [],
            "image/png": {
              "width": 420,
              "height": 420
            }
          }
        }
      ]
    },
    {
      "cell_type": "code",
      "metadata": {
        "colab": {
          "base_uri": "https://localhost:8080/",
          "height": 455
        },
        "id": "S_zOERX4AUgu",
        "outputId": "4a2b8174-3440-43df-de06-25fe4e7d8e9f"
      },
      "source": [
        "bfit = gbm(medv~., data = btrain, distribution = \"gaussian\", interaction.depth = 1, n.trees = 5000, n.minobsinnode = 10, shrinkage = 0.01, cv.folds = 10)\n",
        "bt = gbm.perf(bfit, method = \"cv\")\n",
        "bt"
      ],
      "execution_count": 40,
      "outputs": [
        {
          "output_type": "display_data",
          "data": {
            "text/plain": [
              "[1] 2523"
            ],
            "text/latex": "2523",
            "text/markdown": "2523",
            "text/html": [
              "2523"
            ]
          },
          "metadata": {
            "tags": []
          }
        },
        {
          "output_type": "display_data",
          "data": {
            "image/png": "[encoded data removed]",
            "text/plain": [
              "plot without title"
            ]
          },
          "metadata": {
            "tags": [],
            "image/png": {
              "width": 420,
              "height": 420
            }
          }
        }
      ]
    },
    {
      "cell_type": "code",
      "metadata": {
        "id": "JfHj89bpAeXE"
      },
      "source": [
        "bp = predict(bfit, newdata = btest, bt)"
      ],
      "execution_count": 41,
      "outputs": []
    },
    {
      "cell_type": "code",
      "metadata": {
        "colab": {
          "base_uri": "https://localhost:8080/",
          "height": 35
        },
        "id": "gHJDaEcMAwei",
        "outputId": "da12d1a1-6011-4071-ffa7-f832ded4ee0d"
      },
      "source": [
        "mean( (bp - btest$medv)^2) # test MSE"
      ],
      "execution_count": 42,
      "outputs": [
        {
          "output_type": "display_data",
          "data": {
            "text/plain": [
              "[1] 16.56926"
            ],
            "text/latex": "16.5692628264599",
            "text/markdown": "16.5692628264599",
            "text/html": [
              "16.5692628264599"
            ]
          },
          "metadata": {
            "tags": []
          }
        }
      ]
    },
    {
      "cell_type": "code",
      "metadata": {
        "colab": {
          "base_uri": "https://localhost:8080/",
          "height": 35
        },
        "id": "vIeExEWzA0iL",
        "outputId": "33df058a-c708-4c3e-a9a7-f9511b5bb067"
      },
      "source": [
        "sqrt(mean( (bp - btest$medv)^2)) ## test RMSE"
      ],
      "execution_count": 43,
      "outputs": [
        {
          "output_type": "display_data",
          "data": {
            "text/plain": [
              "[1] 4.070536"
            ],
            "text/latex": "4.07053593848033",
            "text/markdown": "4.07053593848033",
            "text/html": [
              "4.07053593848033"
            ]
          },
          "metadata": {
            "tags": []
          }
        }
      ]
    },
    {
      "cell_type": "code",
      "metadata": {
        "colab": {
          "base_uri": "https://localhost:8080/"
        },
        "id": "CiclbJALBUY4",
        "outputId": "f48d96b6-4343-4e1a-b790-0a95eaf08690"
      },
      "source": [
        "install.packages(\"caret\")"
      ],
      "execution_count": 45,
      "outputs": [
        {
          "output_type": "stream",
          "text": [
            "Installing package into ‘/usr/local/lib/R/site-library’\n",
            "(as ‘lib’ is unspecified)\n",
            "\n",
            "also installing the dependencies ‘numDeriv’, ‘SQUAREM’, ‘lava’, ‘prodlim’, ‘iterators’, ‘gower’, ‘ipred’, ‘timeDate’, ‘foreach’, ‘plyr’, ‘ModelMetrics’, ‘reshape2’, ‘recipes’, ‘pROC’\n",
            "\n",
            "\n"
          ],
          "name": "stderr"
        }
      ]
    },
    {
      "cell_type": "code",
      "metadata": {
        "colab": {
          "base_uri": "https://localhost:8080/"
        },
        "id": "yBQGoZrAA3K-",
        "outputId": "3db9e29a-cc9e-4d85-d52c-5f704228d44b"
      },
      "source": [
        " ## More tuning for boosting methods\n",
        " library(caret)"
      ],
      "execution_count": 46,
      "outputs": [
        {
          "output_type": "stream",
          "text": [
            "Loading required package: lattice\n",
            "\n",
            "Loading required package: ggplot2\n",
            "\n",
            "\n",
            "Attaching package: ‘ggplot2’\n",
            "\n",
            "\n",
            "The following object is masked from ‘package:randomForest’:\n",
            "\n",
            "    margin\n",
            "\n",
            "\n",
            "Warning message in system(\"timedatectl\", intern = TRUE):\n",
            "“running command 'timedatectl' had status 1”\n"
          ],
          "name": "stderr"
        }
      ]
    },
    {
      "cell_type": "code",
      "metadata": {
        "id": "wHJ98xQvBTKA"
      },
      "source": [
        "myControl = trainControl(method = \"cv\", number = 10)"
      ],
      "execution_count": 47,
      "outputs": []
    },
    {
      "cell_type": "code",
      "metadata": {
        "id": "j5hejpPvCHc-"
      },
      "source": [
        "myGrid = expand.grid(interaction.depth = c(1,2,3,4), shrinkage = c(0.1, 0.01, 0.001), n.trees = ((1:100)*50),\n",
        "n.minobsinnode = c(5,10))"
      ],
      "execution_count": 51,
      "outputs": []
    },
    {
      "cell_type": "code",
      "metadata": {
        "id": "__BaG8UOCdRF"
      },
      "source": [
        "set.seed(1)"
      ],
      "execution_count": 52,
      "outputs": []
    },
    {
      "cell_type": "code",
      "metadata": {
        "colab": {
          "base_uri": "https://localhost:8080/"
        },
        "id": "1-8qbhYCCeg5",
        "outputId": "e7e3d55b-efd1-4284-b5eb-af45e157da6a"
      },
      "source": [
        "bgbm = train(medv~., data = btrain, distribution = \"gaussian\", method = \"gbm\", trControl = myControl, tuneGrid = myGrid) # grid search for the tuning"
      ],
      "execution_count": 53,
      "outputs": [
        {
          "output_type": "stream",
          "text": [
            "IOPub data rate exceeded.\n",
            "The notebook server will temporarily stop sending output\n",
            "to the client in order to avoid crashing it.\n",
            "To change this limit, set the config variable\n",
            "`--NotebookApp.iopub_data_rate_limit`.\n",
            "\n",
            "Current values:\n",
            "NotebookApp.iopub_data_rate_limit=1000000.0 (bytes/sec)\n",
            "NotebookApp.rate_limit_window=3.0 (secs)\n",
            "\n"
          ],
          "name": "stderr"
        }
      ]
    },
    {
      "cell_type": "code",
      "metadata": {
        "id": "U3yrYBluCswX"
      },
      "source": [
        "print(bgbm)"
      ],
      "execution_count": null,
      "outputs": []
    },
    {
      "cell_type": "code",
      "metadata": {
        "colab": {
          "base_uri": "https://localhost:8080/",
          "height": 101
        },
        "id": "K1SsA9aUDIEj",
        "outputId": "36328a0d-e150-41b4-f5ee-7b87004b0117"
      },
      "source": [
        "bgdm$bestTune"
      ],
      "execution_count": 54,
      "outputs": [
        {
          "output_type": "error",
          "ename": "ERROR",
          "evalue": "ignored",
          "traceback": [
            "Error in eval(expr, envir, enclos): object 'bgdm' not found\nTraceback:\n"
          ]
        }
      ]
    },
    {
      "cell_type": "code",
      "metadata": {
        "id": "ywCGLqC6DLny"
      },
      "source": [
        "predgbm = predict(bgbm, newdata = btest)"
      ],
      "execution_count": null,
      "outputs": []
    },
    {
      "cell_type": "code",
      "metadata": {
        "id": "yQwuUZDfDPzW"
      },
      "source": [
        "mean( (predgbm - btest$medv)^2)\n",
        "sqrt(mean( (predgbm - btest$medv)^2))"
      ],
      "execution_count": null,
      "outputs": []
    },
    {
      "cell_type": "code",
      "metadata": {
        "id": "dX-G276ID-jI"
      },
      "source": [
        "##Adaboosting example"
      ],
      "execution_count": 55,
      "outputs": []
    },
    {
      "cell_type": "code",
      "metadata": {
        "id": "Vl0Q6aaREBHp"
      },
      "source": [
        "hgbm = train(AHD~., data = htrain, distribution = \"adaboost\", method = \"gbm\", trControl = myControl, tuneGrid = myGrid)\n",
        "hgbm$bestTune\n",
        "predh = predict(hgbm, htest) #predicted class\n",
        "predict\n",
        "#predict(hgbm, htest, type = \"prob\") -> postreio prob\n",
        "confusionMatrix(predh, htest$AHD, positive = \"Yes\")"
      ],
      "execution_count": null,
      "outputs": []
    },
    {
      "cell_type": "code",
      "metadata": {
        "id": "OhcEutNrEjv2"
      },
      "source": [
        "#We may use caret package train function to perofrm a grid search of the tuning parapmer"
      ],
      "execution_count": null,
      "outputs": []
    }
  ]
}