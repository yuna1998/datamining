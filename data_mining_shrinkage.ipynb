{
  "nbformat": 4,
  "nbformat_minor": 0,
  "metadata": {
    "colab": {
      "name": "data_mining_shrinkage.ipynb",
      "provenance": [],
      "authorship_tag": "ABX9TyOE4LWrIgZV3TZ0cz0od0qG",
      "include_colab_link": true
    },
    "kernelspec": {
      "name": "ir",
      "display_name": "R"
    },
    "language_info": {
      "name": "R"
    }
  },
  "cells": [
    {
      "cell_type": "markdown",
      "metadata": {
        "id": "view-in-github",
        "colab_type": "text"
      },
      "source": [
        "<a href=\"https://colab.research.google.com/github/yuna1998/datamining/blob/main/data_mining_shrinkage.ipynb\" target=\"_parent\"><img src=\"https://colab.research.google.com/assets/colab-badge.svg\" alt=\"Open In Colab\"/></a>"
      ]
    },
    {
      "cell_type": "code",
      "metadata": {
        "colab": {
          "base_uri": "https://localhost:8080/"
        },
        "id": "UjHwoHLSHhNh",
        "outputId": "2c821d0d-e5e7-470d-c109-a7e6c18bbf86"
      },
      "source": [
        " ##regulaization\n",
        " library(glmnet)"
      ],
      "execution_count": 3,
      "outputs": [
        {
          "output_type": "stream",
          "text": [
            "Loading required package: Matrix\n",
            "\n",
            "Loaded glmnet 4.1-1\n",
            "\n"
          ],
          "name": "stderr"
        }
      ]
    },
    {
      "cell_type": "code",
      "metadata": {
        "colab": {
          "base_uri": "https://localhost:8080/"
        },
        "id": "d1ZJRy_iIeO6",
        "outputId": "90fcc7ed-d6f6-4f58-83c5-51cfc2707c87"
      },
      "source": [
        "install.packages(\"glmnet\")"
      ],
      "execution_count": 2,
      "outputs": [
        {
          "output_type": "stream",
          "text": [
            "Installing package into ‘/usr/local/lib/R/site-library’\n",
            "(as ‘lib’ is unspecified)\n",
            "\n",
            "also installing the dependencies ‘iterators’, ‘foreach’, ‘shape’\n",
            "\n",
            "\n"
          ],
          "name": "stderr"
        }
      ]
    },
    {
      "cell_type": "code",
      "metadata": {
        "id": "e6pFt-fTIm1Q"
      },
      "source": [
        "library(MASS)"
      ],
      "execution_count": 4,
      "outputs": []
    },
    {
      "cell_type": "code",
      "metadata": {
        "colab": {
          "base_uri": "https://localhost:8080/",
          "height": 281
        },
        "id": "8wke78zcJe3U",
        "outputId": "e8a40078-bb13-44a7-eeff-1c6a0d5b67aa"
      },
      "source": [
        "head(Boston)"
      ],
      "execution_count": 5,
      "outputs": [
        {
          "output_type": "display_data",
          "data": {
            "text/plain": [
              "  crim    zn indus chas nox   rm    age  dis    rad tax ptratio black  lstat\n",
              "1 0.00632 18 2.31  0    0.538 6.575 65.2 4.0900 1   296 15.3    396.90 4.98 \n",
              "2 0.02731  0 7.07  0    0.469 6.421 78.9 4.9671 2   242 17.8    396.90 9.14 \n",
              "3 0.02729  0 7.07  0    0.469 7.185 61.1 4.9671 2   242 17.8    392.83 4.03 \n",
              "4 0.03237  0 2.18  0    0.458 6.998 45.8 6.0622 3   222 18.7    394.63 2.94 \n",
              "5 0.06905  0 2.18  0    0.458 7.147 54.2 6.0622 3   222 18.7    396.90 5.33 \n",
              "6 0.02985  0 2.18  0    0.458 6.430 58.7 6.0622 3   222 18.7    394.12 5.21 \n",
              "  medv\n",
              "1 24.0\n",
              "2 21.6\n",
              "3 34.7\n",
              "4 33.4\n",
              "5 36.2\n",
              "6 28.7"
            ],
            "text/latex": "A data.frame: 6 × 14\n\\begin{tabular}{r|llllllllllllll}\n  & crim & zn & indus & chas & nox & rm & age & dis & rad & tax & ptratio & black & lstat & medv\\\\\n  & <dbl> & <dbl> & <dbl> & <int> & <dbl> & <dbl> & <dbl> & <dbl> & <int> & <dbl> & <dbl> & <dbl> & <dbl> & <dbl>\\\\\n\\hline\n\t1 & 0.00632 & 18 & 2.31 & 0 & 0.538 & 6.575 & 65.2 & 4.0900 & 1 & 296 & 15.3 & 396.90 & 4.98 & 24.0\\\\\n\t2 & 0.02731 &  0 & 7.07 & 0 & 0.469 & 6.421 & 78.9 & 4.9671 & 2 & 242 & 17.8 & 396.90 & 9.14 & 21.6\\\\\n\t3 & 0.02729 &  0 & 7.07 & 0 & 0.469 & 7.185 & 61.1 & 4.9671 & 2 & 242 & 17.8 & 392.83 & 4.03 & 34.7\\\\\n\t4 & 0.03237 &  0 & 2.18 & 0 & 0.458 & 6.998 & 45.8 & 6.0622 & 3 & 222 & 18.7 & 394.63 & 2.94 & 33.4\\\\\n\t5 & 0.06905 &  0 & 2.18 & 0 & 0.458 & 7.147 & 54.2 & 6.0622 & 3 & 222 & 18.7 & 396.90 & 5.33 & 36.2\\\\\n\t6 & 0.02985 &  0 & 2.18 & 0 & 0.458 & 6.430 & 58.7 & 6.0622 & 3 & 222 & 18.7 & 394.12 & 5.21 & 28.7\\\\\n\\end{tabular}\n",
            "text/markdown": "\nA data.frame: 6 × 14\n\n| <!--/--> | crim &lt;dbl&gt; | zn &lt;dbl&gt; | indus &lt;dbl&gt; | chas &lt;int&gt; | nox &lt;dbl&gt; | rm &lt;dbl&gt; | age &lt;dbl&gt; | dis &lt;dbl&gt; | rad &lt;int&gt; | tax &lt;dbl&gt; | ptratio &lt;dbl&gt; | black &lt;dbl&gt; | lstat &lt;dbl&gt; | medv &lt;dbl&gt; |\n|---|---|---|---|---|---|---|---|---|---|---|---|---|---|---|\n| 1 | 0.00632 | 18 | 2.31 | 0 | 0.538 | 6.575 | 65.2 | 4.0900 | 1 | 296 | 15.3 | 396.90 | 4.98 | 24.0 |\n| 2 | 0.02731 |  0 | 7.07 | 0 | 0.469 | 6.421 | 78.9 | 4.9671 | 2 | 242 | 17.8 | 396.90 | 9.14 | 21.6 |\n| 3 | 0.02729 |  0 | 7.07 | 0 | 0.469 | 7.185 | 61.1 | 4.9671 | 2 | 242 | 17.8 | 392.83 | 4.03 | 34.7 |\n| 4 | 0.03237 |  0 | 2.18 | 0 | 0.458 | 6.998 | 45.8 | 6.0622 | 3 | 222 | 18.7 | 394.63 | 2.94 | 33.4 |\n| 5 | 0.06905 |  0 | 2.18 | 0 | 0.458 | 7.147 | 54.2 | 6.0622 | 3 | 222 | 18.7 | 396.90 | 5.33 | 36.2 |\n| 6 | 0.02985 |  0 | 2.18 | 0 | 0.458 | 6.430 | 58.7 | 6.0622 | 3 | 222 | 18.7 | 394.12 | 5.21 | 28.7 |\n\n",
            "text/html": [
              "<table class=\"dataframe\">\n",
              "<caption>A data.frame: 6 × 14</caption>\n",
              "<thead>\n",
              "\t<tr><th></th><th scope=col>crim</th><th scope=col>zn</th><th scope=col>indus</th><th scope=col>chas</th><th scope=col>nox</th><th scope=col>rm</th><th scope=col>age</th><th scope=col>dis</th><th scope=col>rad</th><th scope=col>tax</th><th scope=col>ptratio</th><th scope=col>black</th><th scope=col>lstat</th><th scope=col>medv</th></tr>\n",
              "\t<tr><th></th><th scope=col>&lt;dbl&gt;</th><th scope=col>&lt;dbl&gt;</th><th scope=col>&lt;dbl&gt;</th><th scope=col>&lt;int&gt;</th><th scope=col>&lt;dbl&gt;</th><th scope=col>&lt;dbl&gt;</th><th scope=col>&lt;dbl&gt;</th><th scope=col>&lt;dbl&gt;</th><th scope=col>&lt;int&gt;</th><th scope=col>&lt;dbl&gt;</th><th scope=col>&lt;dbl&gt;</th><th scope=col>&lt;dbl&gt;</th><th scope=col>&lt;dbl&gt;</th><th scope=col>&lt;dbl&gt;</th></tr>\n",
              "</thead>\n",
              "<tbody>\n",
              "\t<tr><th scope=row>1</th><td>0.00632</td><td>18</td><td>2.31</td><td>0</td><td>0.538</td><td>6.575</td><td>65.2</td><td>4.0900</td><td>1</td><td>296</td><td>15.3</td><td>396.90</td><td>4.98</td><td>24.0</td></tr>\n",
              "\t<tr><th scope=row>2</th><td>0.02731</td><td> 0</td><td>7.07</td><td>0</td><td>0.469</td><td>6.421</td><td>78.9</td><td>4.9671</td><td>2</td><td>242</td><td>17.8</td><td>396.90</td><td>9.14</td><td>21.6</td></tr>\n",
              "\t<tr><th scope=row>3</th><td>0.02729</td><td> 0</td><td>7.07</td><td>0</td><td>0.469</td><td>7.185</td><td>61.1</td><td>4.9671</td><td>2</td><td>242</td><td>17.8</td><td>392.83</td><td>4.03</td><td>34.7</td></tr>\n",
              "\t<tr><th scope=row>4</th><td>0.03237</td><td> 0</td><td>2.18</td><td>0</td><td>0.458</td><td>6.998</td><td>45.8</td><td>6.0622</td><td>3</td><td>222</td><td>18.7</td><td>394.63</td><td>2.94</td><td>33.4</td></tr>\n",
              "\t<tr><th scope=row>5</th><td>0.06905</td><td> 0</td><td>2.18</td><td>0</td><td>0.458</td><td>7.147</td><td>54.2</td><td>6.0622</td><td>3</td><td>222</td><td>18.7</td><td>396.90</td><td>5.33</td><td>36.2</td></tr>\n",
              "\t<tr><th scope=row>6</th><td>0.02985</td><td> 0</td><td>2.18</td><td>0</td><td>0.458</td><td>6.430</td><td>58.7</td><td>6.0622</td><td>3</td><td>222</td><td>18.7</td><td>394.12</td><td>5.21</td><td>28.7</td></tr>\n",
              "</tbody>\n",
              "</table>\n"
            ]
          },
          "metadata": {
            "tags": []
          }
        }
      ]
    },
    {
      "cell_type": "code",
      "metadata": {
        "colab": {
          "base_uri": "https://localhost:8080/"
        },
        "id": "OUBvAr-yJhz-",
        "outputId": "3f2c6615-1517-4dfc-9165-c85704ddb229"
      },
      "source": [
        "str(Boston)"
      ],
      "execution_count": 6,
      "outputs": [
        {
          "output_type": "stream",
          "text": [
            "'data.frame':\t506 obs. of  14 variables:\n",
            " $ crim   : num  0.00632 0.02731 0.02729 0.03237 0.06905 ...\n",
            " $ zn     : num  18 0 0 0 0 0 12.5 12.5 12.5 12.5 ...\n",
            " $ indus  : num  2.31 7.07 7.07 2.18 2.18 2.18 7.87 7.87 7.87 7.87 ...\n",
            " $ chas   : int  0 0 0 0 0 0 0 0 0 0 ...\n",
            " $ nox    : num  0.538 0.469 0.469 0.458 0.458 0.458 0.524 0.524 0.524 0.524 ...\n",
            " $ rm     : num  6.58 6.42 7.18 7 7.15 ...\n",
            " $ age    : num  65.2 78.9 61.1 45.8 54.2 58.7 66.6 96.1 100 85.9 ...\n",
            " $ dis    : num  4.09 4.97 4.97 6.06 6.06 ...\n",
            " $ rad    : int  1 2 2 3 3 3 5 5 5 5 ...\n",
            " $ tax    : num  296 242 242 222 222 222 311 311 311 311 ...\n",
            " $ ptratio: num  15.3 17.8 17.8 18.7 18.7 18.7 15.2 15.2 15.2 15.2 ...\n",
            " $ black  : num  397 397 393 395 397 ...\n",
            " $ lstat  : num  4.98 9.14 4.03 2.94 5.33 ...\n",
            " $ medv   : num  24 21.6 34.7 33.4 36.2 28.7 22.9 27.1 16.5 18.9 ...\n"
          ],
          "name": "stdout"
        }
      ]
    },
    {
      "cell_type": "code",
      "metadata": {
        "id": "NYv1D_veKKkK"
      },
      "source": [
        "x  = model.matrix(medv~., data = Boston)[,-1]"
      ],
      "execution_count": 8,
      "outputs": []
    },
    {
      "cell_type": "code",
      "metadata": {
        "colab": {
          "base_uri": "https://localhost:8080/",
          "height": 373
        },
        "id": "UKgZa_gQKd4-",
        "outputId": "8d15d23d-8bda-4330-c9f1-51f7d321bc1f"
      },
      "source": [
        "x[1:10,]"
      ],
      "execution_count": 10,
      "outputs": [
        {
          "output_type": "display_data",
          "data": {
            "text/plain": [
              "   crim    zn   indus chas nox   rm    age   dis    rad tax ptratio black \n",
              "1  0.00632 18.0 2.31  0    0.538 6.575  65.2 4.0900 1   296 15.3    396.90\n",
              "2  0.02731  0.0 7.07  0    0.469 6.421  78.9 4.9671 2   242 17.8    396.90\n",
              "3  0.02729  0.0 7.07  0    0.469 7.185  61.1 4.9671 2   242 17.8    392.83\n",
              "4  0.03237  0.0 2.18  0    0.458 6.998  45.8 6.0622 3   222 18.7    394.63\n",
              "5  0.06905  0.0 2.18  0    0.458 7.147  54.2 6.0622 3   222 18.7    396.90\n",
              "6  0.02985  0.0 2.18  0    0.458 6.430  58.7 6.0622 3   222 18.7    394.12\n",
              "7  0.08829 12.5 7.87  0    0.524 6.012  66.6 5.5605 5   311 15.2    395.60\n",
              "8  0.14455 12.5 7.87  0    0.524 6.172  96.1 5.9505 5   311 15.2    396.90\n",
              "9  0.21124 12.5 7.87  0    0.524 5.631 100.0 6.0821 5   311 15.2    386.63\n",
              "10 0.17004 12.5 7.87  0    0.524 6.004  85.9 6.5921 5   311 15.2    386.71\n",
              "   lstat\n",
              "1   4.98\n",
              "2   9.14\n",
              "3   4.03\n",
              "4   2.94\n",
              "5   5.33\n",
              "6   5.21\n",
              "7  12.43\n",
              "8  19.15\n",
              "9  29.93\n",
              "10 17.10"
            ],
            "text/latex": "A matrix: 10 × 13 of type dbl\n\\begin{tabular}{r|lllllllllllll}\n  & crim & zn & indus & chas & nox & rm & age & dis & rad & tax & ptratio & black & lstat\\\\\n\\hline\n\t1 & 0.00632 & 18.0 & 2.31 & 0 & 0.538 & 6.575 &  65.2 & 4.0900 & 1 & 296 & 15.3 & 396.90 &  4.98\\\\\n\t2 & 0.02731 &  0.0 & 7.07 & 0 & 0.469 & 6.421 &  78.9 & 4.9671 & 2 & 242 & 17.8 & 396.90 &  9.14\\\\\n\t3 & 0.02729 &  0.0 & 7.07 & 0 & 0.469 & 7.185 &  61.1 & 4.9671 & 2 & 242 & 17.8 & 392.83 &  4.03\\\\\n\t4 & 0.03237 &  0.0 & 2.18 & 0 & 0.458 & 6.998 &  45.8 & 6.0622 & 3 & 222 & 18.7 & 394.63 &  2.94\\\\\n\t5 & 0.06905 &  0.0 & 2.18 & 0 & 0.458 & 7.147 &  54.2 & 6.0622 & 3 & 222 & 18.7 & 396.90 &  5.33\\\\\n\t6 & 0.02985 &  0.0 & 2.18 & 0 & 0.458 & 6.430 &  58.7 & 6.0622 & 3 & 222 & 18.7 & 394.12 &  5.21\\\\\n\t7 & 0.08829 & 12.5 & 7.87 & 0 & 0.524 & 6.012 &  66.6 & 5.5605 & 5 & 311 & 15.2 & 395.60 & 12.43\\\\\n\t8 & 0.14455 & 12.5 & 7.87 & 0 & 0.524 & 6.172 &  96.1 & 5.9505 & 5 & 311 & 15.2 & 396.90 & 19.15\\\\\n\t9 & 0.21124 & 12.5 & 7.87 & 0 & 0.524 & 5.631 & 100.0 & 6.0821 & 5 & 311 & 15.2 & 386.63 & 29.93\\\\\n\t10 & 0.17004 & 12.5 & 7.87 & 0 & 0.524 & 6.004 &  85.9 & 6.5921 & 5 & 311 & 15.2 & 386.71 & 17.10\\\\\n\\end{tabular}\n",
            "text/markdown": "\nA matrix: 10 × 13 of type dbl\n\n| <!--/--> | crim | zn | indus | chas | nox | rm | age | dis | rad | tax | ptratio | black | lstat |\n|---|---|---|---|---|---|---|---|---|---|---|---|---|---|\n| 1 | 0.00632 | 18.0 | 2.31 | 0 | 0.538 | 6.575 |  65.2 | 4.0900 | 1 | 296 | 15.3 | 396.90 |  4.98 |\n| 2 | 0.02731 |  0.0 | 7.07 | 0 | 0.469 | 6.421 |  78.9 | 4.9671 | 2 | 242 | 17.8 | 396.90 |  9.14 |\n| 3 | 0.02729 |  0.0 | 7.07 | 0 | 0.469 | 7.185 |  61.1 | 4.9671 | 2 | 242 | 17.8 | 392.83 |  4.03 |\n| 4 | 0.03237 |  0.0 | 2.18 | 0 | 0.458 | 6.998 |  45.8 | 6.0622 | 3 | 222 | 18.7 | 394.63 |  2.94 |\n| 5 | 0.06905 |  0.0 | 2.18 | 0 | 0.458 | 7.147 |  54.2 | 6.0622 | 3 | 222 | 18.7 | 396.90 |  5.33 |\n| 6 | 0.02985 |  0.0 | 2.18 | 0 | 0.458 | 6.430 |  58.7 | 6.0622 | 3 | 222 | 18.7 | 394.12 |  5.21 |\n| 7 | 0.08829 | 12.5 | 7.87 | 0 | 0.524 | 6.012 |  66.6 | 5.5605 | 5 | 311 | 15.2 | 395.60 | 12.43 |\n| 8 | 0.14455 | 12.5 | 7.87 | 0 | 0.524 | 6.172 |  96.1 | 5.9505 | 5 | 311 | 15.2 | 396.90 | 19.15 |\n| 9 | 0.21124 | 12.5 | 7.87 | 0 | 0.524 | 5.631 | 100.0 | 6.0821 | 5 | 311 | 15.2 | 386.63 | 29.93 |\n| 10 | 0.17004 | 12.5 | 7.87 | 0 | 0.524 | 6.004 |  85.9 | 6.5921 | 5 | 311 | 15.2 | 386.71 | 17.10 |\n\n",
            "text/html": [
              "<table class=\"dataframe\">\n",
              "<caption>A matrix: 10 × 13 of type dbl</caption>\n",
              "<thead>\n",
              "\t<tr><th></th><th scope=col>crim</th><th scope=col>zn</th><th scope=col>indus</th><th scope=col>chas</th><th scope=col>nox</th><th scope=col>rm</th><th scope=col>age</th><th scope=col>dis</th><th scope=col>rad</th><th scope=col>tax</th><th scope=col>ptratio</th><th scope=col>black</th><th scope=col>lstat</th></tr>\n",
              "</thead>\n",
              "<tbody>\n",
              "\t<tr><th scope=row>1</th><td>0.00632</td><td>18.0</td><td>2.31</td><td>0</td><td>0.538</td><td>6.575</td><td> 65.2</td><td>4.0900</td><td>1</td><td>296</td><td>15.3</td><td>396.90</td><td> 4.98</td></tr>\n",
              "\t<tr><th scope=row>2</th><td>0.02731</td><td> 0.0</td><td>7.07</td><td>0</td><td>0.469</td><td>6.421</td><td> 78.9</td><td>4.9671</td><td>2</td><td>242</td><td>17.8</td><td>396.90</td><td> 9.14</td></tr>\n",
              "\t<tr><th scope=row>3</th><td>0.02729</td><td> 0.0</td><td>7.07</td><td>0</td><td>0.469</td><td>7.185</td><td> 61.1</td><td>4.9671</td><td>2</td><td>242</td><td>17.8</td><td>392.83</td><td> 4.03</td></tr>\n",
              "\t<tr><th scope=row>4</th><td>0.03237</td><td> 0.0</td><td>2.18</td><td>0</td><td>0.458</td><td>6.998</td><td> 45.8</td><td>6.0622</td><td>3</td><td>222</td><td>18.7</td><td>394.63</td><td> 2.94</td></tr>\n",
              "\t<tr><th scope=row>5</th><td>0.06905</td><td> 0.0</td><td>2.18</td><td>0</td><td>0.458</td><td>7.147</td><td> 54.2</td><td>6.0622</td><td>3</td><td>222</td><td>18.7</td><td>396.90</td><td> 5.33</td></tr>\n",
              "\t<tr><th scope=row>6</th><td>0.02985</td><td> 0.0</td><td>2.18</td><td>0</td><td>0.458</td><td>6.430</td><td> 58.7</td><td>6.0622</td><td>3</td><td>222</td><td>18.7</td><td>394.12</td><td> 5.21</td></tr>\n",
              "\t<tr><th scope=row>7</th><td>0.08829</td><td>12.5</td><td>7.87</td><td>0</td><td>0.524</td><td>6.012</td><td> 66.6</td><td>5.5605</td><td>5</td><td>311</td><td>15.2</td><td>395.60</td><td>12.43</td></tr>\n",
              "\t<tr><th scope=row>8</th><td>0.14455</td><td>12.5</td><td>7.87</td><td>0</td><td>0.524</td><td>6.172</td><td> 96.1</td><td>5.9505</td><td>5</td><td>311</td><td>15.2</td><td>396.90</td><td>19.15</td></tr>\n",
              "\t<tr><th scope=row>9</th><td>0.21124</td><td>12.5</td><td>7.87</td><td>0</td><td>0.524</td><td>5.631</td><td>100.0</td><td>6.0821</td><td>5</td><td>311</td><td>15.2</td><td>386.63</td><td>29.93</td></tr>\n",
              "\t<tr><th scope=row>10</th><td>0.17004</td><td>12.5</td><td>7.87</td><td>0</td><td>0.524</td><td>6.004</td><td> 85.9</td><td>6.5921</td><td>5</td><td>311</td><td>15.2</td><td>386.71</td><td>17.10</td></tr>\n",
              "</tbody>\n",
              "</table>\n"
            ]
          },
          "metadata": {
            "tags": []
          }
        }
      ]
    },
    {
      "cell_type": "code",
      "metadata": {
        "id": "vGgBwxSVKevk"
      },
      "source": [
        "y = Boston$medv"
      ],
      "execution_count": 11,
      "outputs": []
    },
    {
      "cell_type": "code",
      "metadata": {
        "id": "5c6sb4XBKl7-"
      },
      "source": [
        "set.seed(1)"
      ],
      "execution_count": 12,
      "outputs": []
    },
    {
      "cell_type": "code",
      "metadata": {
        "id": "oLqmzTBvKniv"
      },
      "source": [
        "n = dim(Boston)[1]"
      ],
      "execution_count": 13,
      "outputs": []
    },
    {
      "cell_type": "code",
      "metadata": {
        "colab": {
          "base_uri": "https://localhost:8080/",
          "height": 35
        },
        "id": "AkvpUipqKtXv",
        "outputId": "c721aa61-a1fc-4e1f-8d18-1ee8ad86eff6"
      },
      "source": [
        "n"
      ],
      "execution_count": 14,
      "outputs": [
        {
          "output_type": "display_data",
          "data": {
            "text/plain": [
              "[1] 506"
            ],
            "text/latex": "506",
            "text/markdown": "506",
            "text/html": [
              "506"
            ]
          },
          "metadata": {
            "tags": []
          }
        }
      ]
    },
    {
      "cell_type": "code",
      "metadata": {
        "colab": {
          "base_uri": "https://localhost:8080/",
          "height": 156
        },
        "id": "5g_dUhLYKt4T",
        "outputId": "cf63a7c3-28a3-46e1-ce39-64ba52564504"
      },
      "source": [
        "set.seed(1)\n",
        "train = sample(n, n/2)\n",
        "train"
      ],
      "execution_count": 15,
      "outputs": [
        {
          "output_type": "display_data",
          "data": {
            "text/plain": [
              "  [1] 505 324 167 129 418 471 299 270 466 187 307 481  85 277 362 438 330 263\n",
              " [19] 329  79 213  37 105 217 366 165 290 492 382  89 428 463 289 340 419 326\n",
              " [37] 490  42 422 111 404 412  20  44 377 343  70 121  40 172  25 375 248 198\n",
              " [55] 378  39 435 298 390 280 160  14 130  45 402  22 206 230 193 371 104 501\n",
              " [73] 255 450 436 103 331  13 296 483 176 345 279 110  84 359  29 141 252 406\n",
              " [91] 221 465 108 304  33 443 149 287 102 145 488 461 339 118 346 413 107  64\n",
              "[109] 224 431 316  51 416 480 138 503 500 282 143 285 170  48 204 295  24 181\n",
              "[127] 214 476 225 498 442 163  43   1 420  78 433 284 116 233 293  61  86 327\n",
              "[145] 423 355 496 300  49 396 242 246 305 306 247 239 219 135 467 464 395  53\n",
              "[163] 444 401  65 421 484 124  77 218  98 194  19 273  31 174 237  75  16 458\n",
              "[181] 265 353  92 122 152 392 207 249 446 229 140 126 445 368 328 271 344 342\n",
              "[199] 333 212 127 133  41  36 297 399 391 360 117 408  50 286 254  72 437 168\n",
              "[217] 313 113 234 459  73  27 405  15  62 132  35 338 473 185 153 332 485 434\n",
              "[235] 231  28 389 148 325  60 275  93 202 336 241 415 281 449 364 427 478 274\n",
              "[253] 414"
            ],
            "text/latex": "\\begin{enumerate*}\n\\item 505\n\\item 324\n\\item 167\n\\item 129\n\\item 418\n\\item 471\n\\item 299\n\\item 270\n\\item 466\n\\item 187\n\\item 307\n\\item 481\n\\item 85\n\\item 277\n\\item 362\n\\item 438\n\\item 330\n\\item 263\n\\item 329\n\\item 79\n\\item 213\n\\item 37\n\\item 105\n\\item 217\n\\item 366\n\\item 165\n\\item 290\n\\item 492\n\\item 382\n\\item 89\n\\item 428\n\\item 463\n\\item 289\n\\item 340\n\\item 419\n\\item 326\n\\item 490\n\\item 42\n\\item 422\n\\item 111\n\\item 404\n\\item 412\n\\item 20\n\\item 44\n\\item 377\n\\item 343\n\\item 70\n\\item 121\n\\item 40\n\\item 172\n\\item 25\n\\item 375\n\\item 248\n\\item 198\n\\item 378\n\\item 39\n\\item 435\n\\item 298\n\\item 390\n\\item 280\n\\item 160\n\\item 14\n\\item 130\n\\item 45\n\\item 402\n\\item 22\n\\item 206\n\\item 230\n\\item 193\n\\item 371\n\\item 104\n\\item 501\n\\item 255\n\\item 450\n\\item 436\n\\item 103\n\\item 331\n\\item 13\n\\item 296\n\\item 483\n\\item 176\n\\item 345\n\\item 279\n\\item 110\n\\item 84\n\\item 359\n\\item 29\n\\item 141\n\\item 252\n\\item 406\n\\item 221\n\\item 465\n\\item 108\n\\item 304\n\\item 33\n\\item 443\n\\item 149\n\\item 287\n\\item 102\n\\item 145\n\\item 488\n\\item 461\n\\item 339\n\\item 118\n\\item 346\n\\item 413\n\\item 107\n\\item 64\n\\item 224\n\\item 431\n\\item 316\n\\item 51\n\\item 416\n\\item 480\n\\item 138\n\\item 503\n\\item 500\n\\item 282\n\\item 143\n\\item 285\n\\item 170\n\\item 48\n\\item 204\n\\item 295\n\\item 24\n\\item 181\n\\item 214\n\\item 476\n\\item 225\n\\item 498\n\\item 442\n\\item 163\n\\item 43\n\\item 1\n\\item 420\n\\item 78\n\\item 433\n\\item 284\n\\item 116\n\\item 233\n\\item 293\n\\item 61\n\\item 86\n\\item 327\n\\item 423\n\\item 355\n\\item 496\n\\item 300\n\\item 49\n\\item 396\n\\item 242\n\\item 246\n\\item 305\n\\item 306\n\\item 247\n\\item 239\n\\item 219\n\\item 135\n\\item 467\n\\item 464\n\\item 395\n\\item 53\n\\item 444\n\\item 401\n\\item 65\n\\item 421\n\\item 484\n\\item 124\n\\item 77\n\\item 218\n\\item 98\n\\item 194\n\\item 19\n\\item 273\n\\item 31\n\\item 174\n\\item 237\n\\item 75\n\\item 16\n\\item 458\n\\item 265\n\\item 353\n\\item 92\n\\item 122\n\\item 152\n\\item 392\n\\item 207\n\\item 249\n\\item 446\n\\item 229\n\\item 140\n\\item 126\n\\item 445\n\\item 368\n\\item 328\n\\item 271\n\\item 344\n\\item 342\n\\item 333\n\\item 212\n\\item 127\n\\item 133\n\\item 41\n\\item 36\n\\item 297\n\\item 399\n\\item 391\n\\item 360\n\\item 117\n\\item 408\n\\item 50\n\\item 286\n\\item 254\n\\item 72\n\\item 437\n\\item 168\n\\item 313\n\\item 113\n\\item 234\n\\item 459\n\\item 73\n\\item 27\n\\item 405\n\\item 15\n\\item 62\n\\item 132\n\\item 35\n\\item 338\n\\item 473\n\\item 185\n\\item 153\n\\item 332\n\\item 485\n\\item 434\n\\item 231\n\\item 28\n\\item 389\n\\item 148\n\\item 325\n\\item 60\n\\item 275\n\\item 93\n\\item 202\n\\item 336\n\\item 241\n\\item 415\n\\item 281\n\\item 449\n\\item 364\n\\item 427\n\\item 478\n\\item 274\n\\item 414\n\\end{enumerate*}\n",
            "text/markdown": "1. 505\n2. 324\n3. 167\n4. 129\n5. 418\n6. 471\n7. 299\n8. 270\n9. 466\n10. 187\n11. 307\n12. 481\n13. 85\n14. 277\n15. 362\n16. 438\n17. 330\n18. 263\n19. 329\n20. 79\n21. 213\n22. 37\n23. 105\n24. 217\n25. 366\n26. 165\n27. 290\n28. 492\n29. 382\n30. 89\n31. 428\n32. 463\n33. 289\n34. 340\n35. 419\n36. 326\n37. 490\n38. 42\n39. 422\n40. 111\n41. 404\n42. 412\n43. 20\n44. 44\n45. 377\n46. 343\n47. 70\n48. 121\n49. 40\n50. 172\n51. 25\n52. 375\n53. 248\n54. 198\n55. 378\n56. 39\n57. 435\n58. 298\n59. 390\n60. 280\n61. 160\n62. 14\n63. 130\n64. 45\n65. 402\n66. 22\n67. 206\n68. 230\n69. 193\n70. 371\n71. 104\n72. 501\n73. 255\n74. 450\n75. 436\n76. 103\n77. 331\n78. 13\n79. 296\n80. 483\n81. 176\n82. 345\n83. 279\n84. 110\n85. 84\n86. 359\n87. 29\n88. 141\n89. 252\n90. 406\n91. 221\n92. 465\n93. 108\n94. 304\n95. 33\n96. 443\n97. 149\n98. 287\n99. 102\n100. 145\n101. 488\n102. 461\n103. 339\n104. 118\n105. 346\n106. 413\n107. 107\n108. 64\n109. 224\n110. 431\n111. 316\n112. 51\n113. 416\n114. 480\n115. 138\n116. 503\n117. 500\n118. 282\n119. 143\n120. 285\n121. 170\n122. 48\n123. 204\n124. 295\n125. 24\n126. 181\n127. 214\n128. 476\n129. 225\n130. 498\n131. 442\n132. 163\n133. 43\n134. 1\n135. 420\n136. 78\n137. 433\n138. 284\n139. 116\n140. 233\n141. 293\n142. 61\n143. 86\n144. 327\n145. 423\n146. 355\n147. 496\n148. 300\n149. 49\n150. 396\n151. 242\n152. 246\n153. 305\n154. 306\n155. 247\n156. 239\n157. 219\n158. 135\n159. 467\n160. 464\n161. 395\n162. 53\n163. 444\n164. 401\n165. 65\n166. 421\n167. 484\n168. 124\n169. 77\n170. 218\n171. 98\n172. 194\n173. 19\n174. 273\n175. 31\n176. 174\n177. 237\n178. 75\n179. 16\n180. 458\n181. 265\n182. 353\n183. 92\n184. 122\n185. 152\n186. 392\n187. 207\n188. 249\n189. 446\n190. 229\n191. 140\n192. 126\n193. 445\n194. 368\n195. 328\n196. 271\n197. 344\n198. 342\n199. 333\n200. 212\n201. 127\n202. 133\n203. 41\n204. 36\n205. 297\n206. 399\n207. 391\n208. 360\n209. 117\n210. 408\n211. 50\n212. 286\n213. 254\n214. 72\n215. 437\n216. 168\n217. 313\n218. 113\n219. 234\n220. 459\n221. 73\n222. 27\n223. 405\n224. 15\n225. 62\n226. 132\n227. 35\n228. 338\n229. 473\n230. 185\n231. 153\n232. 332\n233. 485\n234. 434\n235. 231\n236. 28\n237. 389\n238. 148\n239. 325\n240. 60\n241. 275\n242. 93\n243. 202\n244. 336\n245. 241\n246. 415\n247. 281\n248. 449\n249. 364\n250. 427\n251. 478\n252. 274\n253. 414\n\n\n",
            "text/html": [
              "<style>\n",
              ".list-inline {list-style: none; margin:0; padding: 0}\n",
              ".list-inline>li {display: inline-block}\n",
              ".list-inline>li:not(:last-child)::after {content: \"\\00b7\"; padding: 0 .5ex}\n",
              "</style>\n",
              "<ol class=list-inline><li>505</li><li>324</li><li>167</li><li>129</li><li>418</li><li>471</li><li>299</li><li>270</li><li>466</li><li>187</li><li>307</li><li>481</li><li>85</li><li>277</li><li>362</li><li>438</li><li>330</li><li>263</li><li>329</li><li>79</li><li>213</li><li>37</li><li>105</li><li>217</li><li>366</li><li>165</li><li>290</li><li>492</li><li>382</li><li>89</li><li>428</li><li>463</li><li>289</li><li>340</li><li>419</li><li>326</li><li>490</li><li>42</li><li>422</li><li>111</li><li>404</li><li>412</li><li>20</li><li>44</li><li>377</li><li>343</li><li>70</li><li>121</li><li>40</li><li>172</li><li>25</li><li>375</li><li>248</li><li>198</li><li>378</li><li>39</li><li>435</li><li>298</li><li>390</li><li>280</li><li>160</li><li>14</li><li>130</li><li>45</li><li>402</li><li>22</li><li>206</li><li>230</li><li>193</li><li>371</li><li>104</li><li>501</li><li>255</li><li>450</li><li>436</li><li>103</li><li>331</li><li>13</li><li>296</li><li>483</li><li>176</li><li>345</li><li>279</li><li>110</li><li>84</li><li>359</li><li>29</li><li>141</li><li>252</li><li>406</li><li>221</li><li>465</li><li>108</li><li>304</li><li>33</li><li>443</li><li>149</li><li>287</li><li>102</li><li>145</li><li>488</li><li>461</li><li>339</li><li>118</li><li>346</li><li>413</li><li>107</li><li>64</li><li>224</li><li>431</li><li>316</li><li>51</li><li>416</li><li>480</li><li>138</li><li>503</li><li>500</li><li>282</li><li>143</li><li>285</li><li>170</li><li>48</li><li>204</li><li>295</li><li>24</li><li>181</li><li>214</li><li>476</li><li>225</li><li>498</li><li>442</li><li>163</li><li>43</li><li>1</li><li>420</li><li>78</li><li>433</li><li>284</li><li>116</li><li>233</li><li>293</li><li>61</li><li>86</li><li>327</li><li>423</li><li>355</li><li>496</li><li>300</li><li>49</li><li>396</li><li>242</li><li>246</li><li>305</li><li>306</li><li>247</li><li>239</li><li>219</li><li>135</li><li>467</li><li>464</li><li>395</li><li>53</li><li>444</li><li>401</li><li>65</li><li>421</li><li>484</li><li>124</li><li>77</li><li>218</li><li>98</li><li>194</li><li>19</li><li>273</li><li>31</li><li>174</li><li>237</li><li>75</li><li>16</li><li>458</li><li>265</li><li>353</li><li>92</li><li>122</li><li>152</li><li>392</li><li>207</li><li>249</li><li>446</li><li>229</li><li>140</li><li>126</li><li>445</li><li>368</li><li>328</li><li>271</li><li>344</li><li>342</li><li>333</li><li>212</li><li>127</li><li>133</li><li>41</li><li>36</li><li>297</li><li>399</li><li>391</li><li>360</li><li>117</li><li>408</li><li>50</li><li>286</li><li>254</li><li>72</li><li>437</li><li>168</li><li>313</li><li>113</li><li>234</li><li>459</li><li>73</li><li>27</li><li>405</li><li>15</li><li>62</li><li>132</li><li>35</li><li>338</li><li>473</li><li>185</li><li>153</li><li>332</li><li>485</li><li>434</li><li>231</li><li>28</li><li>389</li><li>148</li><li>325</li><li>60</li><li>275</li><li>93</li><li>202</li><li>336</li><li>241</li><li>415</li><li>281</li><li>449</li><li>364</li><li>427</li><li>478</li><li>274</li><li>414</li></ol>\n"
            ]
          },
          "metadata": {
            "tags": []
          }
        }
      ]
    },
    {
      "cell_type": "code",
      "metadata": {
        "id": "3gMYng4HKxFC"
      },
      "source": [
        "x.train = x[train,]\n",
        "x.test = x[-train,]\n",
        "y.train = y[train]\n",
        "y.test = y[-train]"
      ],
      "execution_count": 16,
      "outputs": []
    },
    {
      "cell_type": "code",
      "metadata": {
        "id": "xCia3NrEK8D6"
      },
      "source": [
        "f=glmnet(x.train, y.train, alpha = 0, lambda = 0)"
      ],
      "execution_count": 17,
      "outputs": []
    },
    {
      "cell_type": "code",
      "metadata": {
        "colab": {
          "base_uri": "https://localhost:8080/",
          "height": 111
        },
        "id": "hjRqblVALBlz",
        "outputId": "3254b107-68f9-4b82-e236-7991bfe5f6ed"
      },
      "source": [
        "f"
      ],
      "execution_count": 18,
      "outputs": [
        {
          "output_type": "display_data",
          "data": {
            "text/plain": [
              "\n",
              "Call:  glmnet(x = x.train, y = y.train, alpha = 0, lambda = 0) \n",
              "\n",
              "  Df  %Dev Lambda\n",
              "1 13 76.83      0"
            ]
          },
          "metadata": {
            "tags": []
          }
        }
      ]
    },
    {
      "cell_type": "code",
      "metadata": {
        "colab": {
          "base_uri": "https://localhost:8080/",
          "height": 316
        },
        "id": "cENXH7C-LDv7",
        "outputId": "02dfc9fa-32ef-456c-c661-f9d169a14e19"
      },
      "source": [
        "coef(f)"
      ],
      "execution_count": 19,
      "outputs": [
        {
          "output_type": "display_data",
          "data": {
            "text/plain": [
              "14 x 1 sparse Matrix of class \"dgCMatrix\"\n",
              "                       s0\n",
              "(Intercept)  34.652506843\n",
              "crim         -0.091916107\n",
              "zn            0.029899187\n",
              "indus         0.032137218\n",
              "chas          2.309590315\n",
              "nox         -13.574814598\n",
              "rm            4.105080985\n",
              "age          -0.003547556\n",
              "dis          -1.263815040\n",
              "rad           0.378411988\n",
              "tax          -0.019072924\n",
              "ptratio      -0.980232220\n",
              "black         0.006801121\n",
              "lstat        -0.486443115"
            ]
          },
          "metadata": {
            "tags": []
          }
        }
      ]
    },
    {
      "cell_type": "code",
      "metadata": {
        "id": "kjtVqP6WLElE"
      },
      "source": [
        "f1=glmnet(x.train, y.train, alpha = 0, lambda = 10^5)"
      ],
      "execution_count": 20,
      "outputs": []
    },
    {
      "cell_type": "code",
      "metadata": {
        "colab": {
          "base_uri": "https://localhost:8080/",
          "height": 316
        },
        "id": "Z-tGYetTLMjD",
        "outputId": "e6d421ec-9148-4cf0-d0f6-6e02b2471842"
      },
      "source": [
        "coef(f1)"
      ],
      "execution_count": 21,
      "outputs": [
        {
          "output_type": "display_data",
          "data": {
            "text/plain": [
              "14 x 1 sparse Matrix of class \"dgCMatrix\"\n",
              "                       s0\n",
              "(Intercept)  2.178924e+01\n",
              "crim        -3.638275e-05\n",
              "zn           1.298292e-05\n",
              "indus       -5.443930e-05\n",
              "chas         5.950008e-04\n",
              "nox         -3.064175e-03\n",
              "rm           7.893172e-04\n",
              "age         -1.158678e-05\n",
              "dis          1.083753e-04\n",
              "rad         -3.459452e-05\n",
              "tax         -2.231796e-06\n",
              "ptratio     -1.943606e-04\n",
              "black        2.882846e-06\n",
              "lstat       -8.188645e-05"
            ]
          },
          "metadata": {
            "tags": []
          }
        }
      ]
    },
    {
      "cell_type": "code",
      "metadata": {
        "colab": {
          "base_uri": "https://localhost:8080/",
          "height": 35
        },
        "id": "GeIq2NGkLOcB",
        "outputId": "601dc0be-cedd-4e18-a653-d403d1bbb96c"
      },
      "source": [
        "pred = predict(f, newx = x.test)\n",
        "mean((y.test-pred)^2)"
      ],
      "execution_count": 22,
      "outputs": [
        {
          "output_type": "display_data",
          "data": {
            "text/plain": [
              "[1] 26.85393"
            ],
            "text/latex": "26.8539301400358",
            "text/markdown": "26.8539301400358",
            "text/html": [
              "26.8539301400358"
            ]
          },
          "metadata": {
            "tags": []
          }
        }
      ]
    },
    {
      "cell_type": "code",
      "metadata": {
        "colab": {
          "base_uri": "https://localhost:8080/",
          "height": 35
        },
        "id": "Mq-hvbEzLaed",
        "outputId": "4befcbc3-6ffb-46a2-87db-13f1e3e3584e"
      },
      "source": [
        "pred = predict(f1, newx = x.test)\n",
        "mean((y.test-pred)^2)"
      ],
      "execution_count": 24,
      "outputs": [
        {
          "output_type": "display_data",
          "data": {
            "text/plain": [
              "[1] 93.04267"
            ],
            "text/latex": "93.0426688078299",
            "text/markdown": "93.0426688078299",
            "text/html": [
              "93.0426688078299"
            ]
          },
          "metadata": {
            "tags": []
          }
        }
      ]
    },
    {
      "cell_type": "code",
      "metadata": {
        "id": "BEr1riIWLdt2"
      },
      "source": [
        "lam = exp(seq(10,-2,length=100))"
      ],
      "execution_count": 25,
      "outputs": []
    },
    {
      "cell_type": "code",
      "metadata": {
        "id": "vLRFlTZOL-bP"
      },
      "source": [
        "ridge.mod = glmnet(x.train, y.train, alpha = 0, lambad = lam)"
      ],
      "execution_count": 29,
      "outputs": []
    },
    {
      "cell_type": "code",
      "metadata": {
        "colab": {
          "base_uri": "https://localhost:8080/",
          "height": 437
        },
        "id": "Zu-urtCTMG5w",
        "outputId": "e248cc73-a25e-41a0-e0ab-2bd46ca409fe"
      },
      "source": [
        "plot(ridge.mod)"
      ],
      "execution_count": 30,
      "outputs": [
        {
          "output_type": "display_data",
          "data": {
            "image/png": "[encoded data removed]",
            "text/plain": [
              "plot without title"
            ]
          },
          "metadata": {
            "tags": [],
            "image/png": {
              "width": 420,
              "height": 420
            }
          }
        }
      ]
    },
    {
      "cell_type": "code",
      "metadata": {
        "colab": {
          "base_uri": "https://localhost:8080/",
          "height": 316
        },
        "id": "eScC3WnsMMQ5",
        "outputId": "e25b0d54-f614-4b31-81e0-c56dfd091379"
      },
      "source": [
        "predict(ridge.mod, type=\"coefficients\", s= 10)"
      ],
      "execution_count": 31,
      "outputs": [
        {
          "output_type": "display_data",
          "data": {
            "text/plain": [
              "14 x 1 sparse Matrix of class \"dgCMatrix\"\n",
              "                       1\n",
              "(Intercept) 20.993731381\n",
              "crim        -0.058433639\n",
              "zn           0.014969415\n",
              "indus       -0.062065905\n",
              "chas         2.149840201\n",
              "nox         -3.506652217\n",
              "rm           2.749361826\n",
              "age         -0.012834792\n",
              "dis         -0.184344465\n",
              "rad         -0.007125506\n",
              "tax         -0.003143022\n",
              "ptratio     -0.508506968\n",
              "black        0.004879296\n",
              "lstat       -0.235756719"
            ]
          },
          "metadata": {
            "tags": []
          }
        }
      ]
    },
    {
      "cell_type": "code",
      "metadata": {
        "id": "KTyzDB6ZM8-M"
      },
      "source": [
        "set.seed(1)"
      ],
      "execution_count": 32,
      "outputs": []
    },
    {
      "cell_type": "code",
      "metadata": {
        "id": "jQNA6mmvMlO2"
      },
      "source": [
        "cv.out0 = cv.glmnet(x.train, y.train, alpha = 0, lambda = lam, keep = T)"
      ],
      "execution_count": 41,
      "outputs": []
    },
    {
      "cell_type": "code",
      "metadata": {
        "colab": {
          "base_uri": "https://localhost:8080/",
          "height": 167
        },
        "id": "py6OuUvnM-ie",
        "outputId": "95eb59cd-877e-4a30-9ffd-937daa91f106"
      },
      "source": [
        "cv.out0"
      ],
      "execution_count": 42,
      "outputs": [
        {
          "output_type": "display_data",
          "data": {
            "text/plain": [
              "\n",
              "Call:  cv.glmnet(x = x.train, y = y.train, lambda = lam, keep = T, alpha = 0) \n",
              "\n",
              "Measure: Mean-Squared Error \n",
              "\n",
              "    Lambda Index Measure   SE Nonzero\n",
              "min  0.135   100   20.39 2.89      13\n",
              "1se  3.571    73   23.17 3.94      13"
            ]
          },
          "metadata": {
            "tags": []
          }
        }
      ]
    },
    {
      "cell_type": "code",
      "metadata": {
        "colab": {
          "base_uri": "https://localhost:8080/",
          "height": 104
        },
        "id": "Vgpvke7iO4Ld",
        "outputId": "8d66f731-c27d-457e-898a-8bf41601b1f7"
      },
      "source": [
        "cv.out0$foldid"
      ],
      "execution_count": 43,
      "outputs": [
        {
          "output_type": "display_data",
          "data": {
            "text/plain": [
              "  [1]  7  8  5  4  9  9  9  2  7  4  2  3  6  4  1  9  9  5  8  1  8  8  1  3  5\n",
              " [26]  2  6  1  1  6  1  6  3  7  6  5  3  8  1  3  5  3  1  8  8  5  3  7  2 10\n",
              " [51]  2  3  4  8  8  7  9 10  1  5  9  1  6 10 10  9  2  8  3 10  1  5  4  1  3\n",
              " [76]  4  9 10  4  3  7  5  8  7  4  6  5  3  6  4  1  3  7  7  4  9  9  3  6  2\n",
              "[101]  6  2  8  4  9  1  2  1  8  6  5  9  1  9  5  7  8  1  1  9  8  8  3  4  4\n",
              "[126]  6  4  2  5  7  7  2 10  5  1 10  6  1  8  2  5 10 10  4  5 10  7  5  1 10\n",
              "[151]  9  8  3  6  9  2  2  6  8  3 10  9  2  9  2 10  8  4  3 10  2  8  7  5  4\n",
              "[176]  6  1  5  1  9  2  4  7  2  7  1 10  6  6  7  8  7 10  7  9  6  2 10  5  5\n",
              "[201]  3  2  5  6 10 10  8  8  4  3  3  5  1  6  5  6  7  8  3 10  2  6 10 10  4\n",
              "[226]  4  4  7  2  7  9  6  3  3  3  7  9  2  2  5  9  9  2  6  3  4  4  7 10  7\n",
              "[251] 10  4  1"
            ],
            "text/latex": "\\begin{enumerate*}\n\\item 7\n\\item 8\n\\item 5\n\\item 4\n\\item 9\n\\item 9\n\\item 9\n\\item 2\n\\item 7\n\\item 4\n\\item 2\n\\item 3\n\\item 6\n\\item 4\n\\item 1\n\\item 9\n\\item 9\n\\item 5\n\\item 8\n\\item 1\n\\item 8\n\\item 8\n\\item 1\n\\item 3\n\\item 5\n\\item 2\n\\item 6\n\\item 1\n\\item 1\n\\item 6\n\\item 1\n\\item 6\n\\item 3\n\\item 7\n\\item 6\n\\item 5\n\\item 3\n\\item 8\n\\item 1\n\\item 3\n\\item 5\n\\item 3\n\\item 1\n\\item 8\n\\item 8\n\\item 5\n\\item 3\n\\item 7\n\\item 2\n\\item 10\n\\item 2\n\\item 3\n\\item 4\n\\item 8\n\\item 8\n\\item 7\n\\item 9\n\\item 10\n\\item 1\n\\item 5\n\\item 9\n\\item 1\n\\item 6\n\\item 10\n\\item 10\n\\item 9\n\\item 2\n\\item 8\n\\item 3\n\\item 10\n\\item 1\n\\item 5\n\\item 4\n\\item 1\n\\item 3\n\\item 4\n\\item 9\n\\item 10\n\\item 4\n\\item 3\n\\item 7\n\\item 5\n\\item 8\n\\item 7\n\\item 4\n\\item 6\n\\item 5\n\\item 3\n\\item 6\n\\item 4\n\\item 1\n\\item 3\n\\item 7\n\\item 7\n\\item 4\n\\item 9\n\\item 9\n\\item 3\n\\item 6\n\\item 2\n\\item 6\n\\item 2\n\\item 8\n\\item 4\n\\item 9\n\\item 1\n\\item 2\n\\item 1\n\\item 8\n\\item 6\n\\item 5\n\\item 9\n\\item 1\n\\item 9\n\\item 5\n\\item 7\n\\item 8\n\\item 1\n\\item 1\n\\item 9\n\\item 8\n\\item 8\n\\item 3\n\\item 4\n\\item 4\n\\item 6\n\\item 4\n\\item 2\n\\item 5\n\\item 7\n\\item 7\n\\item 2\n\\item 10\n\\item 5\n\\item 1\n\\item 10\n\\item 6\n\\item 1\n\\item 8\n\\item 2\n\\item 5\n\\item 10\n\\item 10\n\\item 4\n\\item 5\n\\item 10\n\\item 7\n\\item 5\n\\item 1\n\\item 10\n\\item 9\n\\item 8\n\\item 3\n\\item 6\n\\item 9\n\\item 2\n\\item 2\n\\item 6\n\\item 8\n\\item 3\n\\item 10\n\\item 9\n\\item 2\n\\item 9\n\\item 2\n\\item 10\n\\item 8\n\\item 4\n\\item 3\n\\item 10\n\\item 2\n\\item 8\n\\item 7\n\\item 5\n\\item 4\n\\item 6\n\\item 1\n\\item 5\n\\item 1\n\\item 9\n\\item 2\n\\item 4\n\\item 7\n\\item 2\n\\item 7\n\\item 1\n\\item 10\n\\item 6\n\\item 6\n\\item 7\n\\item 8\n\\item 7\n\\item 10\n\\item 7\n\\item 9\n\\item 6\n\\item 2\n\\item 10\n\\item 5\n\\item 5\n\\item 3\n\\item 2\n\\item 5\n\\item 6\n\\item 10\n\\item 10\n\\item 8\n\\item 8\n\\item 4\n\\item 3\n\\item 3\n\\item 5\n\\item 1\n\\item 6\n\\item 5\n\\item 6\n\\item 7\n\\item 8\n\\item 3\n\\item 10\n\\item 2\n\\item 6\n\\item 10\n\\item 10\n\\item 4\n\\item 4\n\\item 4\n\\item 7\n\\item 2\n\\item 7\n\\item 9\n\\item 6\n\\item 3\n\\item 3\n\\item 3\n\\item 7\n\\item 9\n\\item 2\n\\item 2\n\\item 5\n\\item 9\n\\item 9\n\\item 2\n\\item 6\n\\item 3\n\\item 4\n\\item 4\n\\item 7\n\\item 10\n\\item 7\n\\item 10\n\\item 4\n\\item 1\n\\end{enumerate*}\n",
            "text/markdown": "1. 7\n2. 8\n3. 5\n4. 4\n5. 9\n6. 9\n7. 9\n8. 2\n9. 7\n10. 4\n11. 2\n12. 3\n13. 6\n14. 4\n15. 1\n16. 9\n17. 9\n18. 5\n19. 8\n20. 1\n21. 8\n22. 8\n23. 1\n24. 3\n25. 5\n26. 2\n27. 6\n28. 1\n29. 1\n30. 6\n31. 1\n32. 6\n33. 3\n34. 7\n35. 6\n36. 5\n37. 3\n38. 8\n39. 1\n40. 3\n41. 5\n42. 3\n43. 1\n44. 8\n45. 8\n46. 5\n47. 3\n48. 7\n49. 2\n50. 10\n51. 2\n52. 3\n53. 4\n54. 8\n55. 8\n56. 7\n57. 9\n58. 10\n59. 1\n60. 5\n61. 9\n62. 1\n63. 6\n64. 10\n65. 10\n66. 9\n67. 2\n68. 8\n69. 3\n70. 10\n71. 1\n72. 5\n73. 4\n74. 1\n75. 3\n76. 4\n77. 9\n78. 10\n79. 4\n80. 3\n81. 7\n82. 5\n83. 8\n84. 7\n85. 4\n86. 6\n87. 5\n88. 3\n89. 6\n90. 4\n91. 1\n92. 3\n93. 7\n94. 7\n95. 4\n96. 9\n97. 9\n98. 3\n99. 6\n100. 2\n101. 6\n102. 2\n103. 8\n104. 4\n105. 9\n106. 1\n107. 2\n108. 1\n109. 8\n110. 6\n111. 5\n112. 9\n113. 1\n114. 9\n115. 5\n116. 7\n117. 8\n118. 1\n119. 1\n120. 9\n121. 8\n122. 8\n123. 3\n124. 4\n125. 4\n126. 6\n127. 4\n128. 2\n129. 5\n130. 7\n131. 7\n132. 2\n133. 10\n134. 5\n135. 1\n136. 10\n137. 6\n138. 1\n139. 8\n140. 2\n141. 5\n142. 10\n143. 10\n144. 4\n145. 5\n146. 10\n147. 7\n148. 5\n149. 1\n150. 10\n151. 9\n152. 8\n153. 3\n154. 6\n155. 9\n156. 2\n157. 2\n158. 6\n159. 8\n160. 3\n161. 10\n162. 9\n163. 2\n164. 9\n165. 2\n166. 10\n167. 8\n168. 4\n169. 3\n170. 10\n171. 2\n172. 8\n173. 7\n174. 5\n175. 4\n176. 6\n177. 1\n178. 5\n179. 1\n180. 9\n181. 2\n182. 4\n183. 7\n184. 2\n185. 7\n186. 1\n187. 10\n188. 6\n189. 6\n190. 7\n191. 8\n192. 7\n193. 10\n194. 7\n195. 9\n196. 6\n197. 2\n198. 10\n199. 5\n200. 5\n201. 3\n202. 2\n203. 5\n204. 6\n205. 10\n206. 10\n207. 8\n208. 8\n209. 4\n210. 3\n211. 3\n212. 5\n213. 1\n214. 6\n215. 5\n216. 6\n217. 7\n218. 8\n219. 3\n220. 10\n221. 2\n222. 6\n223. 10\n224. 10\n225. 4\n226. 4\n227. 4\n228. 7\n229. 2\n230. 7\n231. 9\n232. 6\n233. 3\n234. 3\n235. 3\n236. 7\n237. 9\n238. 2\n239. 2\n240. 5\n241. 9\n242. 9\n243. 2\n244. 6\n245. 3\n246. 4\n247. 4\n248. 7\n249. 10\n250. 7\n251. 10\n252. 4\n253. 1\n\n\n",
            "text/html": [
              "<style>\n",
              ".list-inline {list-style: none; margin:0; padding: 0}\n",
              ".list-inline>li {display: inline-block}\n",
              ".list-inline>li:not(:last-child)::after {content: \"\\00b7\"; padding: 0 .5ex}\n",
              "</style>\n",
              "<ol class=list-inline><li>7</li><li>8</li><li>5</li><li>4</li><li>9</li><li>9</li><li>9</li><li>2</li><li>7</li><li>4</li><li>2</li><li>3</li><li>6</li><li>4</li><li>1</li><li>9</li><li>9</li><li>5</li><li>8</li><li>1</li><li>8</li><li>8</li><li>1</li><li>3</li><li>5</li><li>2</li><li>6</li><li>1</li><li>1</li><li>6</li><li>1</li><li>6</li><li>3</li><li>7</li><li>6</li><li>5</li><li>3</li><li>8</li><li>1</li><li>3</li><li>5</li><li>3</li><li>1</li><li>8</li><li>8</li><li>5</li><li>3</li><li>7</li><li>2</li><li>10</li><li>2</li><li>3</li><li>4</li><li>8</li><li>8</li><li>7</li><li>9</li><li>10</li><li>1</li><li>5</li><li>9</li><li>1</li><li>6</li><li>10</li><li>10</li><li>9</li><li>2</li><li>8</li><li>3</li><li>10</li><li>1</li><li>5</li><li>4</li><li>1</li><li>3</li><li>4</li><li>9</li><li>10</li><li>4</li><li>3</li><li>7</li><li>5</li><li>8</li><li>7</li><li>4</li><li>6</li><li>5</li><li>3</li><li>6</li><li>4</li><li>1</li><li>3</li><li>7</li><li>7</li><li>4</li><li>9</li><li>9</li><li>3</li><li>6</li><li>2</li><li>6</li><li>2</li><li>8</li><li>4</li><li>9</li><li>1</li><li>2</li><li>1</li><li>8</li><li>6</li><li>5</li><li>9</li><li>1</li><li>9</li><li>5</li><li>7</li><li>8</li><li>1</li><li>1</li><li>9</li><li>8</li><li>8</li><li>3</li><li>4</li><li>4</li><li>6</li><li>4</li><li>2</li><li>5</li><li>7</li><li>7</li><li>2</li><li>10</li><li>5</li><li>1</li><li>10</li><li>6</li><li>1</li><li>8</li><li>2</li><li>5</li><li>10</li><li>10</li><li>4</li><li>5</li><li>10</li><li>7</li><li>5</li><li>1</li><li>10</li><li>9</li><li>8</li><li>3</li><li>6</li><li>9</li><li>2</li><li>2</li><li>6</li><li>8</li><li>3</li><li>10</li><li>9</li><li>2</li><li>9</li><li>2</li><li>10</li><li>8</li><li>4</li><li>3</li><li>10</li><li>2</li><li>8</li><li>7</li><li>5</li><li>4</li><li>6</li><li>1</li><li>5</li><li>1</li><li>9</li><li>2</li><li>4</li><li>7</li><li>2</li><li>7</li><li>1</li><li>10</li><li>6</li><li>6</li><li>7</li><li>8</li><li>7</li><li>10</li><li>7</li><li>9</li><li>6</li><li>2</li><li>10</li><li>5</li><li>5</li><li>3</li><li>2</li><li>5</li><li>6</li><li>10</li><li>10</li><li>8</li><li>8</li><li>4</li><li>3</li><li>3</li><li>5</li><li>1</li><li>6</li><li>5</li><li>6</li><li>7</li><li>8</li><li>3</li><li>10</li><li>2</li><li>6</li><li>10</li><li>10</li><li>4</li><li>4</li><li>4</li><li>7</li><li>2</li><li>7</li><li>9</li><li>6</li><li>3</li><li>3</li><li>3</li><li>7</li><li>9</li><li>2</li><li>2</li><li>5</li><li>9</li><li>9</li><li>2</li><li>6</li><li>3</li><li>4</li><li>4</li><li>7</li><li>10</li><li>7</li><li>10</li><li>4</li><li>1</li></ol>\n"
            ]
          },
          "metadata": {
            "tags": []
          }
        }
      ]
    },
    {
      "cell_type": "code",
      "metadata": {
        "id": "BjSTkS1-M_zY"
      },
      "source": [
        "best.lam = cv.out0$lambda.min"
      ],
      "execution_count": 36,
      "outputs": []
    },
    {
      "cell_type": "code",
      "metadata": {
        "id": "4TFwjIqdNJhG"
      },
      "source": [
        "pred0 = predict(cv.out0, s = best.lam, newx = x.test)"
      ],
      "execution_count": 37,
      "outputs": []
    },
    {
      "cell_type": "code",
      "metadata": {
        "colab": {
          "base_uri": "https://localhost:8080/",
          "height": 35
        },
        "id": "jyHQpisPNRwe",
        "outputId": "9c4ee816-bc87-4067-bb3a-654ae609264b"
      },
      "source": [
        "mean((y.test-pred0)^2)"
      ],
      "execution_count": 38,
      "outputs": [
        {
          "output_type": "display_data",
          "data": {
            "text/plain": [
              "[1] 26.76361"
            ],
            "text/latex": "26.7636117164154",
            "text/markdown": "26.7636117164154",
            "text/html": [
              "26.7636117164154"
            ]
          },
          "metadata": {
            "tags": []
          }
        }
      ]
    },
    {
      "cell_type": "code",
      "metadata": {
        "colab": {
          "base_uri": "https://localhost:8080/",
          "height": 427
        },
        "id": "ZKDXZlyENUWm",
        "outputId": "4d0ef653-3d32-4fd7-ce8d-015362591b8e"
      },
      "source": [
        "f = glmnet(x.train, y.train, alpha = 0, lambda = 0)\n",
        "f\n",
        "coef(f)\n",
        "pred = predict(f, newx = x.test)\n",
        "mean((y.test-pred)^2)"
      ],
      "execution_count": 39,
      "outputs": [
        {
          "output_type": "display_data",
          "data": {
            "text/plain": [
              "\n",
              "Call:  glmnet(x = x.train, y = y.train, alpha = 0, lambda = 0) \n",
              "\n",
              "  Df  %Dev Lambda\n",
              "1 13 76.83      0"
            ]
          },
          "metadata": {
            "tags": []
          }
        },
        {
          "output_type": "display_data",
          "data": {
            "text/plain": [
              "14 x 1 sparse Matrix of class \"dgCMatrix\"\n",
              "                       s0\n",
              "(Intercept)  34.652506843\n",
              "crim         -0.091916107\n",
              "zn            0.029899187\n",
              "indus         0.032137218\n",
              "chas          2.309590315\n",
              "nox         -13.574814598\n",
              "rm            4.105080985\n",
              "age          -0.003547556\n",
              "dis          -1.263815040\n",
              "rad           0.378411988\n",
              "tax          -0.019072924\n",
              "ptratio      -0.980232220\n",
              "black         0.006801121\n",
              "lstat        -0.486443115"
            ]
          },
          "metadata": {
            "tags": []
          }
        },
        {
          "output_type": "display_data",
          "data": {
            "text/plain": [
              "[1] 26.85393"
            ],
            "text/latex": "26.8539301400358",
            "text/markdown": "26.8539301400358",
            "text/html": [
              "26.8539301400358"
            ]
          },
          "metadata": {
            "tags": []
          }
        }
      ]
    },
    {
      "cell_type": "code",
      "metadata": {
        "id": "kbgR4ggoOI35"
      },
      "source": [
        "## LASSO cv"
      ],
      "execution_count": 40,
      "outputs": []
    },
    {
      "cell_type": "code",
      "metadata": {
        "colab": {
          "base_uri": "https://localhost:8080/",
          "height": 271
        },
        "id": "1TyUNVDkOOy1",
        "outputId": "3b1a43ac-b723-4ff5-afb2-01bf9389a87a"
      },
      "source": [
        "set.seed(1)\n",
        "cv.out1 = cv.glmnet(x.train, y.train, alpha = 1, lambda = lam, keep=T)\n",
        "cv.out1\n",
        "cv.out1$foldid\n",
        "best.lam1 = cv.out1$lambda.min\n",
        "pred1 = predict(cv.out1, s= best.lam1, newx = x.test)\n",
        "mean((y.test-pred1)^2)"
      ],
      "execution_count": 45,
      "outputs": [
        {
          "output_type": "display_data",
          "data": {
            "text/plain": [
              "\n",
              "Call:  cv.glmnet(x = x.train, y = y.train, lambda = lam, keep = T, alpha = 1) \n",
              "\n",
              "Measure: Mean-Squared Error \n",
              "\n",
              "    Lambda Index Measure    SE Nonzero\n",
              "min 0.1353   100   22.18 3.257      11\n",
              "1se 0.5796    88   25.22 3.539       6"
            ]
          },
          "metadata": {
            "tags": []
          }
        },
        {
          "output_type": "display_data",
          "data": {
            "text/plain": [
              "  [1]  9  8  7  9  2  5  3  4 10  7  1  5  5  1  6  2  4  7  3  9  3  7  5  7 10\n",
              " [26]  5  4  9  6  9  2  7  3  4  3 10  7  2  6  1  8  6 10  4  1  7  8  9 10  3\n",
              " [51]  5  9  8  2  9  9  6  4  4 10  6 10  5  6  2  5  4  2  6  4  3  5  3  5  6\n",
              " [76]  4  3  9 10  3  9  1 10  2  8  8  1  1  9  1  2  5  5  8  3  8 10  8  7  4\n",
              "[101]  4 10  3  7  8 10  7  6  3  3 10  9  5 10  9  7  7  1  4  8  5  8  6  2  1\n",
              "[126]  6  3  7  6  9  1  1  4  1  5  9  1  2  4  6  8 10  4  1  6  1  4 10  3  6\n",
              "[151]  9 10  2  3  5  2  7  8  6  9  7  1  8  4  5  8  4 10  4 10  9  2  5 10  4\n",
              "[176]  2  2  2  2  3  1  5  1  6  2  3  5  1  6  7  8  6  7  5  5 10  6  4  9  7\n",
              "[201]  8  4  1  9  8  1 10  9  3  3 10  2 10  5  6  8  9  2  3  7  2  3  6  7  3\n",
              "[226]  4  3  2  1  8  7  7  9  7 10  3  7  5  2  9  6  1  4  8  2  6  2  5  8  8\n",
              "[251]  1  8  1"
            ],
            "text/latex": "\\begin{enumerate*}\n\\item 9\n\\item 8\n\\item 7\n\\item 9\n\\item 2\n\\item 5\n\\item 3\n\\item 4\n\\item 10\n\\item 7\n\\item 1\n\\item 5\n\\item 5\n\\item 1\n\\item 6\n\\item 2\n\\item 4\n\\item 7\n\\item 3\n\\item 9\n\\item 3\n\\item 7\n\\item 5\n\\item 7\n\\item 10\n\\item 5\n\\item 4\n\\item 9\n\\item 6\n\\item 9\n\\item 2\n\\item 7\n\\item 3\n\\item 4\n\\item 3\n\\item 10\n\\item 7\n\\item 2\n\\item 6\n\\item 1\n\\item 8\n\\item 6\n\\item 10\n\\item 4\n\\item 1\n\\item 7\n\\item 8\n\\item 9\n\\item 10\n\\item 3\n\\item 5\n\\item 9\n\\item 8\n\\item 2\n\\item 9\n\\item 9\n\\item 6\n\\item 4\n\\item 4\n\\item 10\n\\item 6\n\\item 10\n\\item 5\n\\item 6\n\\item 2\n\\item 5\n\\item 4\n\\item 2\n\\item 6\n\\item 4\n\\item 3\n\\item 5\n\\item 3\n\\item 5\n\\item 6\n\\item 4\n\\item 3\n\\item 9\n\\item 10\n\\item 3\n\\item 9\n\\item 1\n\\item 10\n\\item 2\n\\item 8\n\\item 8\n\\item 1\n\\item 1\n\\item 9\n\\item 1\n\\item 2\n\\item 5\n\\item 5\n\\item 8\n\\item 3\n\\item 8\n\\item 10\n\\item 8\n\\item 7\n\\item 4\n\\item 4\n\\item 10\n\\item 3\n\\item 7\n\\item 8\n\\item 10\n\\item 7\n\\item 6\n\\item 3\n\\item 3\n\\item 10\n\\item 9\n\\item 5\n\\item 10\n\\item 9\n\\item 7\n\\item 7\n\\item 1\n\\item 4\n\\item 8\n\\item 5\n\\item 8\n\\item 6\n\\item 2\n\\item 1\n\\item 6\n\\item 3\n\\item 7\n\\item 6\n\\item 9\n\\item 1\n\\item 1\n\\item 4\n\\item 1\n\\item 5\n\\item 9\n\\item 1\n\\item 2\n\\item 4\n\\item 6\n\\item 8\n\\item 10\n\\item 4\n\\item 1\n\\item 6\n\\item 1\n\\item 4\n\\item 10\n\\item 3\n\\item 6\n\\item 9\n\\item 10\n\\item 2\n\\item 3\n\\item 5\n\\item 2\n\\item 7\n\\item 8\n\\item 6\n\\item 9\n\\item 7\n\\item 1\n\\item 8\n\\item 4\n\\item 5\n\\item 8\n\\item 4\n\\item 10\n\\item 4\n\\item 10\n\\item 9\n\\item 2\n\\item 5\n\\item 10\n\\item 4\n\\item 2\n\\item 2\n\\item 2\n\\item 2\n\\item 3\n\\item 1\n\\item 5\n\\item 1\n\\item 6\n\\item 2\n\\item 3\n\\item 5\n\\item 1\n\\item 6\n\\item 7\n\\item 8\n\\item 6\n\\item 7\n\\item 5\n\\item 5\n\\item 10\n\\item 6\n\\item 4\n\\item 9\n\\item 7\n\\item 8\n\\item 4\n\\item 1\n\\item 9\n\\item 8\n\\item 1\n\\item 10\n\\item 9\n\\item 3\n\\item 3\n\\item 10\n\\item 2\n\\item 10\n\\item 5\n\\item 6\n\\item 8\n\\item 9\n\\item 2\n\\item 3\n\\item 7\n\\item 2\n\\item 3\n\\item 6\n\\item 7\n\\item 3\n\\item 4\n\\item 3\n\\item 2\n\\item 1\n\\item 8\n\\item 7\n\\item 7\n\\item 9\n\\item 7\n\\item 10\n\\item 3\n\\item 7\n\\item 5\n\\item 2\n\\item 9\n\\item 6\n\\item 1\n\\item 4\n\\item 8\n\\item 2\n\\item 6\n\\item 2\n\\item 5\n\\item 8\n\\item 8\n\\item 1\n\\item 8\n\\item 1\n\\end{enumerate*}\n",
            "text/markdown": "1. 9\n2. 8\n3. 7\n4. 9\n5. 2\n6. 5\n7. 3\n8. 4\n9. 10\n10. 7\n11. 1\n12. 5\n13. 5\n14. 1\n15. 6\n16. 2\n17. 4\n18. 7\n19. 3\n20. 9\n21. 3\n22. 7\n23. 5\n24. 7\n25. 10\n26. 5\n27. 4\n28. 9\n29. 6\n30. 9\n31. 2\n32. 7\n33. 3\n34. 4\n35. 3\n36. 10\n37. 7\n38. 2\n39. 6\n40. 1\n41. 8\n42. 6\n43. 10\n44. 4\n45. 1\n46. 7\n47. 8\n48. 9\n49. 10\n50. 3\n51. 5\n52. 9\n53. 8\n54. 2\n55. 9\n56. 9\n57. 6\n58. 4\n59. 4\n60. 10\n61. 6\n62. 10\n63. 5\n64. 6\n65. 2\n66. 5\n67. 4\n68. 2\n69. 6\n70. 4\n71. 3\n72. 5\n73. 3\n74. 5\n75. 6\n76. 4\n77. 3\n78. 9\n79. 10\n80. 3\n81. 9\n82. 1\n83. 10\n84. 2\n85. 8\n86. 8\n87. 1\n88. 1\n89. 9\n90. 1\n91. 2\n92. 5\n93. 5\n94. 8\n95. 3\n96. 8\n97. 10\n98. 8\n99. 7\n100. 4\n101. 4\n102. 10\n103. 3\n104. 7\n105. 8\n106. 10\n107. 7\n108. 6\n109. 3\n110. 3\n111. 10\n112. 9\n113. 5\n114. 10\n115. 9\n116. 7\n117. 7\n118. 1\n119. 4\n120. 8\n121. 5\n122. 8\n123. 6\n124. 2\n125. 1\n126. 6\n127. 3\n128. 7\n129. 6\n130. 9\n131. 1\n132. 1\n133. 4\n134. 1\n135. 5\n136. 9\n137. 1\n138. 2\n139. 4\n140. 6\n141. 8\n142. 10\n143. 4\n144. 1\n145. 6\n146. 1\n147. 4\n148. 10\n149. 3\n150. 6\n151. 9\n152. 10\n153. 2\n154. 3\n155. 5\n156. 2\n157. 7\n158. 8\n159. 6\n160. 9\n161. 7\n162. 1\n163. 8\n164. 4\n165. 5\n166. 8\n167. 4\n168. 10\n169. 4\n170. 10\n171. 9\n172. 2\n173. 5\n174. 10\n175. 4\n176. 2\n177. 2\n178. 2\n179. 2\n180. 3\n181. 1\n182. 5\n183. 1\n184. 6\n185. 2\n186. 3\n187. 5\n188. 1\n189. 6\n190. 7\n191. 8\n192. 6\n193. 7\n194. 5\n195. 5\n196. 10\n197. 6\n198. 4\n199. 9\n200. 7\n201. 8\n202. 4\n203. 1\n204. 9\n205. 8\n206. 1\n207. 10\n208. 9\n209. 3\n210. 3\n211. 10\n212. 2\n213. 10\n214. 5\n215. 6\n216. 8\n217. 9\n218. 2\n219. 3\n220. 7\n221. 2\n222. 3\n223. 6\n224. 7\n225. 3\n226. 4\n227. 3\n228. 2\n229. 1\n230. 8\n231. 7\n232. 7\n233. 9\n234. 7\n235. 10\n236. 3\n237. 7\n238. 5\n239. 2\n240. 9\n241. 6\n242. 1\n243. 4\n244. 8\n245. 2\n246. 6\n247. 2\n248. 5\n249. 8\n250. 8\n251. 1\n252. 8\n253. 1\n\n\n",
            "text/html": [
              "<style>\n",
              ".list-inline {list-style: none; margin:0; padding: 0}\n",
              ".list-inline>li {display: inline-block}\n",
              ".list-inline>li:not(:last-child)::after {content: \"\\00b7\"; padding: 0 .5ex}\n",
              "</style>\n",
              "<ol class=list-inline><li>9</li><li>8</li><li>7</li><li>9</li><li>2</li><li>5</li><li>3</li><li>4</li><li>10</li><li>7</li><li>1</li><li>5</li><li>5</li><li>1</li><li>6</li><li>2</li><li>4</li><li>7</li><li>3</li><li>9</li><li>3</li><li>7</li><li>5</li><li>7</li><li>10</li><li>5</li><li>4</li><li>9</li><li>6</li><li>9</li><li>2</li><li>7</li><li>3</li><li>4</li><li>3</li><li>10</li><li>7</li><li>2</li><li>6</li><li>1</li><li>8</li><li>6</li><li>10</li><li>4</li><li>1</li><li>7</li><li>8</li><li>9</li><li>10</li><li>3</li><li>5</li><li>9</li><li>8</li><li>2</li><li>9</li><li>9</li><li>6</li><li>4</li><li>4</li><li>10</li><li>6</li><li>10</li><li>5</li><li>6</li><li>2</li><li>5</li><li>4</li><li>2</li><li>6</li><li>4</li><li>3</li><li>5</li><li>3</li><li>5</li><li>6</li><li>4</li><li>3</li><li>9</li><li>10</li><li>3</li><li>9</li><li>1</li><li>10</li><li>2</li><li>8</li><li>8</li><li>1</li><li>1</li><li>9</li><li>1</li><li>2</li><li>5</li><li>5</li><li>8</li><li>3</li><li>8</li><li>10</li><li>8</li><li>7</li><li>4</li><li>4</li><li>10</li><li>3</li><li>7</li><li>8</li><li>10</li><li>7</li><li>6</li><li>3</li><li>3</li><li>10</li><li>9</li><li>5</li><li>10</li><li>9</li><li>7</li><li>7</li><li>1</li><li>4</li><li>8</li><li>5</li><li>8</li><li>6</li><li>2</li><li>1</li><li>6</li><li>3</li><li>7</li><li>6</li><li>9</li><li>1</li><li>1</li><li>4</li><li>1</li><li>5</li><li>9</li><li>1</li><li>2</li><li>4</li><li>6</li><li>8</li><li>10</li><li>4</li><li>1</li><li>6</li><li>1</li><li>4</li><li>10</li><li>3</li><li>6</li><li>9</li><li>10</li><li>2</li><li>3</li><li>5</li><li>2</li><li>7</li><li>8</li><li>6</li><li>9</li><li>7</li><li>1</li><li>8</li><li>4</li><li>5</li><li>8</li><li>4</li><li>10</li><li>4</li><li>10</li><li>9</li><li>2</li><li>5</li><li>10</li><li>4</li><li>2</li><li>2</li><li>2</li><li>2</li><li>3</li><li>1</li><li>5</li><li>1</li><li>6</li><li>2</li><li>3</li><li>5</li><li>1</li><li>6</li><li>7</li><li>8</li><li>6</li><li>7</li><li>5</li><li>5</li><li>10</li><li>6</li><li>4</li><li>9</li><li>7</li><li>8</li><li>4</li><li>1</li><li>9</li><li>8</li><li>1</li><li>10</li><li>9</li><li>3</li><li>3</li><li>10</li><li>2</li><li>10</li><li>5</li><li>6</li><li>8</li><li>9</li><li>2</li><li>3</li><li>7</li><li>2</li><li>3</li><li>6</li><li>7</li><li>3</li><li>4</li><li>3</li><li>2</li><li>1</li><li>8</li><li>7</li><li>7</li><li>9</li><li>7</li><li>10</li><li>3</li><li>7</li><li>5</li><li>2</li><li>9</li><li>6</li><li>1</li><li>4</li><li>8</li><li>2</li><li>6</li><li>2</li><li>5</li><li>8</li><li>8</li><li>1</li><li>8</li><li>1</li></ol>\n"
            ]
          },
          "metadata": {
            "tags": []
          }
        },
        {
          "output_type": "display_data",
          "data": {
            "text/plain": [
              "[1] 27.69541"
            ],
            "text/latex": "27.6954087599926",
            "text/markdown": "27.6954087599926",
            "text/html": [
              "27.6954087599926"
            ]
          },
          "metadata": {
            "tags": []
          }
        }
      ]
    },
    {
      "cell_type": "code",
      "metadata": {
        "colab": {
          "base_uri": "https://localhost:8080/",
          "height": 316
        },
        "id": "Rh1MsK7nPEsf",
        "outputId": "704f4b09-d034-489a-cf80-2960c4abfbb3"
      },
      "source": [
        "predict(cv.out1, type = \"coefficients\", s = best.lam1)"
      ],
      "execution_count": 46,
      "outputs": [
        {
          "output_type": "display_data",
          "data": {
            "text/plain": [
              "14 x 1 sparse Matrix of class \"dgCMatrix\"\n",
              "                       1\n",
              "(Intercept) 24.680650123\n",
              "crim        -0.046527827\n",
              "zn           0.012032030\n",
              "indus        .          \n",
              "chas         2.368067589\n",
              "nox         -7.515765477\n",
              "rm           4.363902109\n",
              "age          .          \n",
              "dis         -0.803559496\n",
              "rad          0.140649110\n",
              "tax         -0.009057747\n",
              "ptratio     -0.860359537\n",
              "black        0.005160003\n",
              "lstat       -0.492890296"
            ]
          },
          "metadata": {
            "tags": []
          }
        }
      ]
    },
    {
      "cell_type": "code",
      "metadata": {
        "id": "G7bWMmXmPQVx"
      },
      "source": [
        "##indus, age  : zero matrix"
      ],
      "execution_count": 48,
      "outputs": []
    },
    {
      "cell_type": "code",
      "metadata": {
        "colab": {
          "base_uri": "https://localhost:8080/",
          "height": 69
        },
        "id": "jyXfsWixPU7i",
        "outputId": "bd7cb84c-2b9c-40c2-a8f7-82a07112d109"
      },
      "source": [
        "predict(cv.out1, type = \"coefficients\", s = best.lam1)[1:14, ]"
      ],
      "execution_count": 49,
      "outputs": [
        {
          "output_type": "display_data",
          "data": {
            "text/plain": [
              " (Intercept)         crim           zn        indus         chas          nox \n",
              "24.680650123 -0.046527827  0.012032030  0.000000000  2.368067589 -7.515765477 \n",
              "          rm          age          dis          rad          tax      ptratio \n",
              " 4.363902109  0.000000000 -0.803559496  0.140649110 -0.009057747 -0.860359537 \n",
              "       black        lstat \n",
              " 0.005160003 -0.492890296 "
            ],
            "text/latex": "\\begin{description*}\n\\item[(Intercept)] 24.6806501230496\n\\item[crim] -0.046527826973333\n\\item[zn] 0.0120320304193692\n\\item[indus] 0\n\\item[chas] 2.36806758911642\n\\item[nox] -7.51576547657831\n\\item[rm] 4.3639021089249\n\\item[age] 0\n\\item[dis] -0.803559496183041\n\\item[rad] 0.140649109625075\n\\item[tax] -0.00905774748140191\n\\item[ptratio] -0.86035953743629\n\\item[black] 0.00516000334674099\n\\item[lstat] -0.492890295988254\n\\end{description*}\n",
            "text/markdown": "(Intercept)\n:   24.6806501230496crim\n:   -0.046527826973333zn\n:   0.0120320304193692indus\n:   0chas\n:   2.36806758911642nox\n:   -7.51576547657831rm\n:   4.3639021089249age\n:   0dis\n:   -0.803559496183041rad\n:   0.140649109625075tax\n:   -0.00905774748140191ptratio\n:   -0.86035953743629black\n:   0.00516000334674099lstat\n:   -0.492890295988254\n\n",
            "text/html": [
              "<style>\n",
              ".dl-inline {width: auto; margin:0; padding: 0}\n",
              ".dl-inline>dt, .dl-inline>dd {float: none; width: auto; display: inline-block}\n",
              ".dl-inline>dt::after {content: \":\\0020\"; padding-right: .5ex}\n",
              ".dl-inline>dt:not(:first-of-type) {padding-left: .5ex}\n",
              "</style><dl class=dl-inline><dt>(Intercept)</dt><dd>24.6806501230496</dd><dt>crim</dt><dd>-0.046527826973333</dd><dt>zn</dt><dd>0.0120320304193692</dd><dt>indus</dt><dd>0</dd><dt>chas</dt><dd>2.36806758911642</dd><dt>nox</dt><dd>-7.51576547657831</dd><dt>rm</dt><dd>4.3639021089249</dd><dt>age</dt><dd>0</dd><dt>dis</dt><dd>-0.803559496183041</dd><dt>rad</dt><dd>0.140649109625075</dd><dt>tax</dt><dd>-0.00905774748140191</dd><dt>ptratio</dt><dd>-0.86035953743629</dd><dt>black</dt><dd>0.00516000334674099</dd><dt>lstat</dt><dd>-0.492890295988254</dd></dl>\n"
            ]
          },
          "metadata": {
            "tags": []
          }
        }
      ]
    },
    {
      "cell_type": "code",
      "metadata": {
        "colab": {
          "base_uri": "https://localhost:8080/",
          "height": 35
        },
        "id": "thn8i0bfPgiU",
        "outputId": "91a3399b-1175-4d9a-faa1-149cdba14908"
      },
      "source": [
        "min(cv.out1$cvm)"
      ],
      "execution_count": 50,
      "outputs": [
        {
          "output_type": "display_data",
          "data": {
            "text/plain": [
              "[1] 22.17966"
            ],
            "text/latex": "22.1796582618749",
            "text/markdown": "22.1796582618749",
            "text/html": [
              "22.1796582618749"
            ]
          },
          "metadata": {
            "tags": []
          }
        }
      ]
    },
    {
      "cell_type": "code",
      "metadata": {
        "colab": {
          "base_uri": "https://localhost:8080/",
          "height": 35
        },
        "id": "QeNAvsExPoFK",
        "outputId": "77cbd57b-1de6-4ec1-f3cd-743c0902acc9"
      },
      "source": [
        "which.min(cv.out1$cvm)"
      ],
      "execution_count": 51,
      "outputs": [
        {
          "output_type": "display_data",
          "data": {
            "text/plain": [
              "[1] 100"
            ],
            "text/latex": "100",
            "text/markdown": "100",
            "text/html": [
              "100"
            ]
          },
          "metadata": {
            "tags": []
          }
        }
      ]
    },
    {
      "cell_type": "code",
      "metadata": {
        "colab": {
          "base_uri": "https://localhost:8080/",
          "height": 35
        },
        "id": "ApPusGpSPq5s",
        "outputId": "4ea5b5a7-a905-41b3-edd8-fde90f5c1762"
      },
      "source": [
        "cv.out1$lambda[which.min(cv.out1$cvm)]"
      ],
      "execution_count": 53,
      "outputs": [
        {
          "output_type": "display_data",
          "data": {
            "text/plain": [
              "[1] 0.1353353"
            ],
            "text/latex": "0.135335283236613",
            "text/markdown": "0.135335283236613",
            "text/html": [
              "0.135335283236613"
            ]
          },
          "metadata": {
            "tags": []
          }
        }
      ]
    },
    {
      "cell_type": "code",
      "metadata": {
        "colab": {
          "base_uri": "https://localhost:8080/",
          "height": 357
        },
        "id": "ECkBF5GeP6EL",
        "outputId": "60e051a6-4182-4bde-f50b-e616ea367389"
      },
      "source": [
        "set.seed(1)\n",
        "cv.out2 = cv.glmnet(x.train, y.train, alpha = 0.5, lambda = lam, keep=T)\n",
        "cv.out2\n",
        "cv.out2$foldid\n",
        "best.lam2 = cv.out2$lambda.min\n",
        "pred2 = predict(cv.out2, s= best.lam2, newx = x.test)\n",
        "mean((y.test-pred2)^2)\n",
        "predict(cv.out2, type = \"coefficients\", s = best.lam2)[1:14, ]\n",
        "min(cv.out2$cvm)\n",
        "cv.out2$lambda[which.min(cv.out2$cvm)]"
      ],
      "execution_count": 55,
      "outputs": [
        {
          "output_type": "display_data",
          "data": {
            "text/plain": [
              "\n",
              "Call:  cv.glmnet(x = x.train, y = y.train, lambda = lam, keep = T, alpha = 0.5) \n",
              "\n",
              "Measure: Mean-Squared Error \n",
              "\n",
              "    Lambda Index Measure    SE Nonzero\n",
              "min 0.1353   100   21.43 3.106      12\n",
              "1se 0.7386    86   24.38 3.596       8"
            ]
          },
          "metadata": {
            "tags": []
          }
        },
        {
          "output_type": "display_data",
          "data": {
            "text/plain": [
              "  [1]  9  8  7  9  2  5  3  4 10  7  1  5  5  1  6  2  4  7  3  9  3  7  5  7 10\n",
              " [26]  5  4  9  6  9  2  7  3  4  3 10  7  2  6  1  8  6 10  4  1  7  8  9 10  3\n",
              " [51]  5  9  8  2  9  9  6  4  4 10  6 10  5  6  2  5  4  2  6  4  3  5  3  5  6\n",
              " [76]  4  3  9 10  3  9  1 10  2  8  8  1  1  9  1  2  5  5  8  3  8 10  8  7  4\n",
              "[101]  4 10  3  7  8 10  7  6  3  3 10  9  5 10  9  7  7  1  4  8  5  8  6  2  1\n",
              "[126]  6  3  7  6  9  1  1  4  1  5  9  1  2  4  6  8 10  4  1  6  1  4 10  3  6\n",
              "[151]  9 10  2  3  5  2  7  8  6  9  7  1  8  4  5  8  4 10  4 10  9  2  5 10  4\n",
              "[176]  2  2  2  2  3  1  5  1  6  2  3  5  1  6  7  8  6  7  5  5 10  6  4  9  7\n",
              "[201]  8  4  1  9  8  1 10  9  3  3 10  2 10  5  6  8  9  2  3  7  2  3  6  7  3\n",
              "[226]  4  3  2  1  8  7  7  9  7 10  3  7  5  2  9  6  1  4  8  2  6  2  5  8  8\n",
              "[251]  1  8  1"
            ],
            "text/latex": "\\begin{enumerate*}\n\\item 9\n\\item 8\n\\item 7\n\\item 9\n\\item 2\n\\item 5\n\\item 3\n\\item 4\n\\item 10\n\\item 7\n\\item 1\n\\item 5\n\\item 5\n\\item 1\n\\item 6\n\\item 2\n\\item 4\n\\item 7\n\\item 3\n\\item 9\n\\item 3\n\\item 7\n\\item 5\n\\item 7\n\\item 10\n\\item 5\n\\item 4\n\\item 9\n\\item 6\n\\item 9\n\\item 2\n\\item 7\n\\item 3\n\\item 4\n\\item 3\n\\item 10\n\\item 7\n\\item 2\n\\item 6\n\\item 1\n\\item 8\n\\item 6\n\\item 10\n\\item 4\n\\item 1\n\\item 7\n\\item 8\n\\item 9\n\\item 10\n\\item 3\n\\item 5\n\\item 9\n\\item 8\n\\item 2\n\\item 9\n\\item 9\n\\item 6\n\\item 4\n\\item 4\n\\item 10\n\\item 6\n\\item 10\n\\item 5\n\\item 6\n\\item 2\n\\item 5\n\\item 4\n\\item 2\n\\item 6\n\\item 4\n\\item 3\n\\item 5\n\\item 3\n\\item 5\n\\item 6\n\\item 4\n\\item 3\n\\item 9\n\\item 10\n\\item 3\n\\item 9\n\\item 1\n\\item 10\n\\item 2\n\\item 8\n\\item 8\n\\item 1\n\\item 1\n\\item 9\n\\item 1\n\\item 2\n\\item 5\n\\item 5\n\\item 8\n\\item 3\n\\item 8\n\\item 10\n\\item 8\n\\item 7\n\\item 4\n\\item 4\n\\item 10\n\\item 3\n\\item 7\n\\item 8\n\\item 10\n\\item 7\n\\item 6\n\\item 3\n\\item 3\n\\item 10\n\\item 9\n\\item 5\n\\item 10\n\\item 9\n\\item 7\n\\item 7\n\\item 1\n\\item 4\n\\item 8\n\\item 5\n\\item 8\n\\item 6\n\\item 2\n\\item 1\n\\item 6\n\\item 3\n\\item 7\n\\item 6\n\\item 9\n\\item 1\n\\item 1\n\\item 4\n\\item 1\n\\item 5\n\\item 9\n\\item 1\n\\item 2\n\\item 4\n\\item 6\n\\item 8\n\\item 10\n\\item 4\n\\item 1\n\\item 6\n\\item 1\n\\item 4\n\\item 10\n\\item 3\n\\item 6\n\\item 9\n\\item 10\n\\item 2\n\\item 3\n\\item 5\n\\item 2\n\\item 7\n\\item 8\n\\item 6\n\\item 9\n\\item 7\n\\item 1\n\\item 8\n\\item 4\n\\item 5\n\\item 8\n\\item 4\n\\item 10\n\\item 4\n\\item 10\n\\item 9\n\\item 2\n\\item 5\n\\item 10\n\\item 4\n\\item 2\n\\item 2\n\\item 2\n\\item 2\n\\item 3\n\\item 1\n\\item 5\n\\item 1\n\\item 6\n\\item 2\n\\item 3\n\\item 5\n\\item 1\n\\item 6\n\\item 7\n\\item 8\n\\item 6\n\\item 7\n\\item 5\n\\item 5\n\\item 10\n\\item 6\n\\item 4\n\\item 9\n\\item 7\n\\item 8\n\\item 4\n\\item 1\n\\item 9\n\\item 8\n\\item 1\n\\item 10\n\\item 9\n\\item 3\n\\item 3\n\\item 10\n\\item 2\n\\item 10\n\\item 5\n\\item 6\n\\item 8\n\\item 9\n\\item 2\n\\item 3\n\\item 7\n\\item 2\n\\item 3\n\\item 6\n\\item 7\n\\item 3\n\\item 4\n\\item 3\n\\item 2\n\\item 1\n\\item 8\n\\item 7\n\\item 7\n\\item 9\n\\item 7\n\\item 10\n\\item 3\n\\item 7\n\\item 5\n\\item 2\n\\item 9\n\\item 6\n\\item 1\n\\item 4\n\\item 8\n\\item 2\n\\item 6\n\\item 2\n\\item 5\n\\item 8\n\\item 8\n\\item 1\n\\item 8\n\\item 1\n\\end{enumerate*}\n",
            "text/markdown": "1. 9\n2. 8\n3. 7\n4. 9\n5. 2\n6. 5\n7. 3\n8. 4\n9. 10\n10. 7\n11. 1\n12. 5\n13. 5\n14. 1\n15. 6\n16. 2\n17. 4\n18. 7\n19. 3\n20. 9\n21. 3\n22. 7\n23. 5\n24. 7\n25. 10\n26. 5\n27. 4\n28. 9\n29. 6\n30. 9\n31. 2\n32. 7\n33. 3\n34. 4\n35. 3\n36. 10\n37. 7\n38. 2\n39. 6\n40. 1\n41. 8\n42. 6\n43. 10\n44. 4\n45. 1\n46. 7\n47. 8\n48. 9\n49. 10\n50. 3\n51. 5\n52. 9\n53. 8\n54. 2\n55. 9\n56. 9\n57. 6\n58. 4\n59. 4\n60. 10\n61. 6\n62. 10\n63. 5\n64. 6\n65. 2\n66. 5\n67. 4\n68. 2\n69. 6\n70. 4\n71. 3\n72. 5\n73. 3\n74. 5\n75. 6\n76. 4\n77. 3\n78. 9\n79. 10\n80. 3\n81. 9\n82. 1\n83. 10\n84. 2\n85. 8\n86. 8\n87. 1\n88. 1\n89. 9\n90. 1\n91. 2\n92. 5\n93. 5\n94. 8\n95. 3\n96. 8\n97. 10\n98. 8\n99. 7\n100. 4\n101. 4\n102. 10\n103. 3\n104. 7\n105. 8\n106. 10\n107. 7\n108. 6\n109. 3\n110. 3\n111. 10\n112. 9\n113. 5\n114. 10\n115. 9\n116. 7\n117. 7\n118. 1\n119. 4\n120. 8\n121. 5\n122. 8\n123. 6\n124. 2\n125. 1\n126. 6\n127. 3\n128. 7\n129. 6\n130. 9\n131. 1\n132. 1\n133. 4\n134. 1\n135. 5\n136. 9\n137. 1\n138. 2\n139. 4\n140. 6\n141. 8\n142. 10\n143. 4\n144. 1\n145. 6\n146. 1\n147. 4\n148. 10\n149. 3\n150. 6\n151. 9\n152. 10\n153. 2\n154. 3\n155. 5\n156. 2\n157. 7\n158. 8\n159. 6\n160. 9\n161. 7\n162. 1\n163. 8\n164. 4\n165. 5\n166. 8\n167. 4\n168. 10\n169. 4\n170. 10\n171. 9\n172. 2\n173. 5\n174. 10\n175. 4\n176. 2\n177. 2\n178. 2\n179. 2\n180. 3\n181. 1\n182. 5\n183. 1\n184. 6\n185. 2\n186. 3\n187. 5\n188. 1\n189. 6\n190. 7\n191. 8\n192. 6\n193. 7\n194. 5\n195. 5\n196. 10\n197. 6\n198. 4\n199. 9\n200. 7\n201. 8\n202. 4\n203. 1\n204. 9\n205. 8\n206. 1\n207. 10\n208. 9\n209. 3\n210. 3\n211. 10\n212. 2\n213. 10\n214. 5\n215. 6\n216. 8\n217. 9\n218. 2\n219. 3\n220. 7\n221. 2\n222. 3\n223. 6\n224. 7\n225. 3\n226. 4\n227. 3\n228. 2\n229. 1\n230. 8\n231. 7\n232. 7\n233. 9\n234. 7\n235. 10\n236. 3\n237. 7\n238. 5\n239. 2\n240. 9\n241. 6\n242. 1\n243. 4\n244. 8\n245. 2\n246. 6\n247. 2\n248. 5\n249. 8\n250. 8\n251. 1\n252. 8\n253. 1\n\n\n",
            "text/html": [
              "<style>\n",
              ".list-inline {list-style: none; margin:0; padding: 0}\n",
              ".list-inline>li {display: inline-block}\n",
              ".list-inline>li:not(:last-child)::after {content: \"\\00b7\"; padding: 0 .5ex}\n",
              "</style>\n",
              "<ol class=list-inline><li>9</li><li>8</li><li>7</li><li>9</li><li>2</li><li>5</li><li>3</li><li>4</li><li>10</li><li>7</li><li>1</li><li>5</li><li>5</li><li>1</li><li>6</li><li>2</li><li>4</li><li>7</li><li>3</li><li>9</li><li>3</li><li>7</li><li>5</li><li>7</li><li>10</li><li>5</li><li>4</li><li>9</li><li>6</li><li>9</li><li>2</li><li>7</li><li>3</li><li>4</li><li>3</li><li>10</li><li>7</li><li>2</li><li>6</li><li>1</li><li>8</li><li>6</li><li>10</li><li>4</li><li>1</li><li>7</li><li>8</li><li>9</li><li>10</li><li>3</li><li>5</li><li>9</li><li>8</li><li>2</li><li>9</li><li>9</li><li>6</li><li>4</li><li>4</li><li>10</li><li>6</li><li>10</li><li>5</li><li>6</li><li>2</li><li>5</li><li>4</li><li>2</li><li>6</li><li>4</li><li>3</li><li>5</li><li>3</li><li>5</li><li>6</li><li>4</li><li>3</li><li>9</li><li>10</li><li>3</li><li>9</li><li>1</li><li>10</li><li>2</li><li>8</li><li>8</li><li>1</li><li>1</li><li>9</li><li>1</li><li>2</li><li>5</li><li>5</li><li>8</li><li>3</li><li>8</li><li>10</li><li>8</li><li>7</li><li>4</li><li>4</li><li>10</li><li>3</li><li>7</li><li>8</li><li>10</li><li>7</li><li>6</li><li>3</li><li>3</li><li>10</li><li>9</li><li>5</li><li>10</li><li>9</li><li>7</li><li>7</li><li>1</li><li>4</li><li>8</li><li>5</li><li>8</li><li>6</li><li>2</li><li>1</li><li>6</li><li>3</li><li>7</li><li>6</li><li>9</li><li>1</li><li>1</li><li>4</li><li>1</li><li>5</li><li>9</li><li>1</li><li>2</li><li>4</li><li>6</li><li>8</li><li>10</li><li>4</li><li>1</li><li>6</li><li>1</li><li>4</li><li>10</li><li>3</li><li>6</li><li>9</li><li>10</li><li>2</li><li>3</li><li>5</li><li>2</li><li>7</li><li>8</li><li>6</li><li>9</li><li>7</li><li>1</li><li>8</li><li>4</li><li>5</li><li>8</li><li>4</li><li>10</li><li>4</li><li>10</li><li>9</li><li>2</li><li>5</li><li>10</li><li>4</li><li>2</li><li>2</li><li>2</li><li>2</li><li>3</li><li>1</li><li>5</li><li>1</li><li>6</li><li>2</li><li>3</li><li>5</li><li>1</li><li>6</li><li>7</li><li>8</li><li>6</li><li>7</li><li>5</li><li>5</li><li>10</li><li>6</li><li>4</li><li>9</li><li>7</li><li>8</li><li>4</li><li>1</li><li>9</li><li>8</li><li>1</li><li>10</li><li>9</li><li>3</li><li>3</li><li>10</li><li>2</li><li>10</li><li>5</li><li>6</li><li>8</li><li>9</li><li>2</li><li>3</li><li>7</li><li>2</li><li>3</li><li>6</li><li>7</li><li>3</li><li>4</li><li>3</li><li>2</li><li>1</li><li>8</li><li>7</li><li>7</li><li>9</li><li>7</li><li>10</li><li>3</li><li>7</li><li>5</li><li>2</li><li>9</li><li>6</li><li>1</li><li>4</li><li>8</li><li>2</li><li>6</li><li>2</li><li>5</li><li>8</li><li>8</li><li>1</li><li>8</li><li>1</li></ol>\n"
            ]
          },
          "metadata": {
            "tags": []
          }
        },
        {
          "output_type": "display_data",
          "data": {
            "text/plain": [
              "[1] 27.08148"
            ],
            "text/latex": "27.0814782582863",
            "text/markdown": "27.0814782582863",
            "text/html": [
              "27.0814782582863"
            ]
          },
          "metadata": {
            "tags": []
          }
        },
        {
          "output_type": "display_data",
          "data": {
            "text/plain": [
              "  (Intercept)          crim            zn         indus          chas \n",
              " 28.688941197  -0.067485615   0.019755552   0.000000000   2.394569139 \n",
              "          nox            rm           age           dis           rad \n",
              "-10.007049230   4.247022710  -0.001103146  -1.003439211   0.231846333 \n",
              "          tax       ptratio         black         lstat \n",
              " -0.012585417  -0.907632975   0.005949041  -0.484809947 "
            ],
            "text/latex": "\\begin{description*}\n\\item[(Intercept)] 28.6889411965391\n\\item[crim] -0.0674856145206158\n\\item[zn] 0.0197555519541107\n\\item[indus] 0\n\\item[chas] 2.39456913873927\n\\item[nox] -10.0070492300516\n\\item[rm] 4.24702270953286\n\\item[age] -0.00110314572529261\n\\item[dis] -1.00343921113096\n\\item[rad] 0.231846332895067\n\\item[tax] -0.0125854174525571\n\\item[ptratio] -0.907632975056432\n\\item[black] 0.00594904076252983\n\\item[lstat] -0.484809947114536\n\\end{description*}\n",
            "text/markdown": "(Intercept)\n:   28.6889411965391crim\n:   -0.0674856145206158zn\n:   0.0197555519541107indus\n:   0chas\n:   2.39456913873927nox\n:   -10.0070492300516rm\n:   4.24702270953286age\n:   -0.00110314572529261dis\n:   -1.00343921113096rad\n:   0.231846332895067tax\n:   -0.0125854174525571ptratio\n:   -0.907632975056432black\n:   0.00594904076252983lstat\n:   -0.484809947114536\n\n",
            "text/html": [
              "<style>\n",
              ".dl-inline {width: auto; margin:0; padding: 0}\n",
              ".dl-inline>dt, .dl-inline>dd {float: none; width: auto; display: inline-block}\n",
              ".dl-inline>dt::after {content: \":\\0020\"; padding-right: .5ex}\n",
              ".dl-inline>dt:not(:first-of-type) {padding-left: .5ex}\n",
              "</style><dl class=dl-inline><dt>(Intercept)</dt><dd>28.6889411965391</dd><dt>crim</dt><dd>-0.0674856145206158</dd><dt>zn</dt><dd>0.0197555519541107</dd><dt>indus</dt><dd>0</dd><dt>chas</dt><dd>2.39456913873927</dd><dt>nox</dt><dd>-10.0070492300516</dd><dt>rm</dt><dd>4.24702270953286</dd><dt>age</dt><dd>-0.00110314572529261</dd><dt>dis</dt><dd>-1.00343921113096</dd><dt>rad</dt><dd>0.231846332895067</dd><dt>tax</dt><dd>-0.0125854174525571</dd><dt>ptratio</dt><dd>-0.907632975056432</dd><dt>black</dt><dd>0.00594904076252983</dd><dt>lstat</dt><dd>-0.484809947114536</dd></dl>\n"
            ]
          },
          "metadata": {
            "tags": []
          }
        },
        {
          "output_type": "display_data",
          "data": {
            "text/plain": [
              "[1] 21.4293"
            ],
            "text/latex": "21.4292980796842",
            "text/markdown": "21.4292980796842",
            "text/html": [
              "21.4292980796842"
            ]
          },
          "metadata": {
            "tags": []
          }
        },
        {
          "output_type": "display_data",
          "data": {
            "text/plain": [
              "[1] 0.1353353"
            ],
            "text/latex": "0.135335283236613",
            "text/markdown": "0.135335283236613",
            "text/html": [
              "0.135335283236613"
            ]
          },
          "metadata": {
            "tags": []
          }
        }
      ]
    },
    {
      "cell_type": "code",
      "metadata": {
        "colab": {
          "base_uri": "https://localhost:8080/"
        },
        "id": "nHVhtef2ST_I",
        "outputId": "b5d04581-4863-4324-db53-1c575c4f453f"
      },
      "source": [
        "install.packages(\"reshape2\")"
      ],
      "execution_count": 58,
      "outputs": [
        {
          "output_type": "stream",
          "text": [
            "Installing package into ‘/usr/local/lib/R/site-library’\n",
            "(as ‘lib’ is unspecified)\n",
            "\n"
          ],
          "name": "stderr"
        }
      ]
    },
    {
      "cell_type": "code",
      "metadata": {
        "colab": {
          "base_uri": "https://localhost:8080/"
        },
        "id": "snNPGvvrSXV4",
        "outputId": "704056be-488f-48d3-f611-8ede7f12f04a"
      },
      "source": [
        "install.packages(\"pROC\")"
      ],
      "execution_count": 59,
      "outputs": [
        {
          "output_type": "stream",
          "text": [
            "Installing package into ‘/usr/local/lib/R/site-library’\n",
            "(as ‘lib’ is unspecified)\n",
            "\n"
          ],
          "name": "stderr"
        }
      ]
    },
    {
      "cell_type": "code",
      "metadata": {
        "colab": {
          "base_uri": "https://localhost:8080/"
        },
        "id": "moy0N9r0QxXm",
        "outputId": "3e5e9e99-1bfe-4cf1-e3ce-efa243f48bb9"
      },
      "source": [
        "##caret package for tuning both alpha and lambda\n",
        "install.packages(\"caret\")"
      ],
      "execution_count": 60,
      "outputs": [
        {
          "output_type": "stream",
          "text": [
            "Installing package into ‘/usr/local/lib/R/site-library’\n",
            "(as ‘lib’ is unspecified)\n",
            "\n"
          ],
          "name": "stderr"
        }
      ]
    },
    {
      "cell_type": "code",
      "metadata": {
        "colab": {
          "base_uri": "https://localhost:8080/"
        },
        "id": "LLNljrkFSqA_",
        "outputId": "d3a8280f-eef9-4a5e-c7db-bb9828fbdf2e"
      },
      "source": [
        "install.packages(\"lattice\")"
      ],
      "execution_count": 62,
      "outputs": [
        {
          "output_type": "stream",
          "text": [
            "Installing package into ‘/usr/local/lib/R/site-library’\n",
            "(as ‘lib’ is unspecified)\n",
            "\n"
          ],
          "name": "stderr"
        }
      ]
    },
    {
      "cell_type": "code",
      "metadata": {
        "colab": {
          "base_uri": "https://localhost:8080/"
        },
        "id": "KP6aTMnRSt0N",
        "outputId": "0d2b27a8-14c8-4866-ae31-b29b1f582c14"
      },
      "source": [
        "install.packages(\"ggplot2\")"
      ],
      "execution_count": 63,
      "outputs": [
        {
          "output_type": "stream",
          "text": [
            "Installing package into ‘/usr/local/lib/R/site-library’\n",
            "(as ‘lib’ is unspecified)\n",
            "\n"
          ],
          "name": "stderr"
        }
      ]
    },
    {
      "cell_type": "code",
      "metadata": {
        "id": "Y64L9NVcRn92"
      },
      "source": [
        "library(caret)"
      ],
      "execution_count": 64,
      "outputs": []
    },
    {
      "cell_type": "code",
      "metadata": {
        "colab": {
          "base_uri": "https://localhost:8080/"
        },
        "id": "hMnE1Lo5R2wi",
        "outputId": "52d808a5-1b84-416e-8f81-b216c67ef60e"
      },
      "source": [
        "install.packages(\"doParallel\")\n",
        "library(doParallel)"
      ],
      "execution_count": 67,
      "outputs": [
        {
          "output_type": "stream",
          "text": [
            "Installing package into ‘/usr/local/lib/R/site-library’\n",
            "(as ‘lib’ is unspecified)\n",
            "\n"
          ],
          "name": "stderr"
        }
      ]
    },
    {
      "cell_type": "code",
      "metadata": {
        "colab": {
          "base_uri": "https://localhost:8080/"
        },
        "id": "zL_vCPjmS4vW",
        "outputId": "3767c1dc-e9f6-4583-9d43-4722cd803254"
      },
      "source": [
        "install.packages(\"foreach\")\n",
        "install.packages(\"iterators\")\n",
        "install.packages(\"parallel\")"
      ],
      "execution_count": 66,
      "outputs": [
        {
          "output_type": "stream",
          "text": [
            "Installing package into ‘/usr/local/lib/R/site-library’\n",
            "(as ‘lib’ is unspecified)\n",
            "\n",
            "Installing package into ‘/usr/local/lib/R/site-library’\n",
            "(as ‘lib’ is unspecified)\n",
            "\n",
            "Installing package into ‘/usr/local/lib/R/site-library’\n",
            "(as ‘lib’ is unspecified)\n",
            "\n",
            "Warning message:\n",
            "“package ‘parallel’ is a base package, and should not be updated”\n"
          ],
          "name": "stderr"
        }
      ]
    },
    {
      "cell_type": "code",
      "metadata": {
        "id": "dd4y44lTSLBV"
      },
      "source": [
        "nc = detectCores()"
      ],
      "execution_count": 68,
      "outputs": []
    },
    {
      "cell_type": "code",
      "metadata": {
        "id": "bozLyu7ITHW5"
      },
      "source": [
        "registerDoParallel(nc)"
      ],
      "execution_count": 69,
      "outputs": []
    },
    {
      "cell_type": "code",
      "metadata": {
        "id": "2OJELiC5RqIk"
      },
      "source": [
        "myControl = trainControl(method = \"cv\", number = 10, allowParallel = T)"
      ],
      "execution_count": 70,
      "outputs": []
    },
    {
      "cell_type": "code",
      "metadata": {
        "id": "kkir0cbYTLnr"
      },
      "source": [
        "fit = train(x.train, y.train, method = \"glmnet\", trControl = myControl)"
      ],
      "execution_count": 71,
      "outputs": []
    },
    {
      "cell_type": "code",
      "metadata": {
        "colab": {
          "base_uri": "https://localhost:8080/",
          "height": 447
        },
        "id": "bN_Eur5CTVbh",
        "outputId": "fc769da8-6292-40a3-e91d-4fc61a9b334c"
      },
      "source": [
        "fit"
      ],
      "execution_count": 72,
      "outputs": [
        {
          "output_type": "display_data",
          "data": {
            "text/plain": [
              "glmnet \n",
              "\n",
              "253 samples\n",
              " 13 predictor\n",
              "\n",
              "No pre-processing\n",
              "Resampling: Cross-Validated (10 fold) \n",
              "Summary of sample sizes: 228, 227, 228, 228, 228, 227, ... \n",
              "Resampling results across tuning parameters:\n",
              "\n",
              "  alpha  lambda      RMSE      Rsquared   MAE     \n",
              "  0.10   0.01309253  4.540621  0.7654802  3.176100\n",
              "  0.10   0.13092533  4.541584  0.7663408  3.166166\n",
              "  0.10   1.30925330  4.719341  0.7537587  3.349232\n",
              "  0.55   0.01309253  4.540438  0.7655434  3.175694\n",
              "  0.55   0.13092533  4.571088  0.7645455  3.191543\n",
              "  0.55   1.30925330  4.954652  0.7346034  3.556195\n",
              "  1.00   0.01309253  4.540576  0.7656311  3.173851\n",
              "  1.00   0.13092533  4.635511  0.7593794  3.258292\n",
              "  1.00   1.30925330  5.123820  0.7283405  3.688094\n",
              "\n",
              "RMSE was used to select the optimal model using the smallest value.\n",
              "The final values used for the model were alpha = 0.55 and lambda = 0.01309253."
            ]
          },
          "metadata": {
            "tags": []
          }
        }
      ]
    },
    {
      "cell_type": "code",
      "metadata": {
        "colab": {
          "base_uri": "https://localhost:8080/",
          "height": 745
        },
        "id": "sQETiYiUTWWM",
        "outputId": "c4ac1e58-55ad-4d06-9e91-0244718246c4"
      },
      "source": [
        "myControl = trainControl(method = \"cv\", number = 10, allowParallel = T)\n",
        "set.seed(1)\n",
        "fit = train(x.train, y.train, method = \"glmnet\", trControl = myControl, tuneLength = 5)\n",
        "fit"
      ],
      "execution_count": 75,
      "outputs": [
        {
          "output_type": "display_data",
          "data": {
            "text/plain": [
              "glmnet \n",
              "\n",
              "253 samples\n",
              " 13 predictor\n",
              "\n",
              "No pre-processing\n",
              "Resampling: Cross-Validated (10 fold) \n",
              "Summary of sample sizes: 228, 228, 229, 225, 228, 229, ... \n",
              "Resampling results across tuning parameters:\n",
              "\n",
              "  alpha  lambda       RMSE      Rsquared   MAE     \n",
              "  0.100  0.006077014  4.596732  0.7320047  3.257398\n",
              "  0.100  0.028207002  4.593909  0.7323005  3.254293\n",
              "  0.100  0.130925312  4.575520  0.7343205  3.230858\n",
              "  0.100  0.607701493  4.593214  0.7350250  3.269146\n",
              "  0.100  2.820700591  4.838969  0.7238132  3.511083\n",
              "  0.325  0.006077014  4.596621  0.7320540  3.257506\n",
              "  0.325  0.028207002  4.590293  0.7327063  3.249993\n",
              "  0.325  0.130925312  4.572720  0.7350885  3.225686\n",
              "  0.325  0.607701493  4.703947  0.7262755  3.404682\n",
              "  0.325  2.820700591  5.052812  0.7178303  3.652661\n",
              "  0.550  0.006077014  4.596416  0.7320209  3.257499\n",
              "  0.550  0.028207002  4.587708  0.7330323  3.246330\n",
              "  0.550  0.130925312  4.579123  0.7350748  3.230251\n",
              "  0.550  0.607701493  4.746361  0.7232433  3.448546\n",
              "  0.550  2.820700591  5.297776  0.7100872  3.801399\n",
              "  0.775  0.006077014  4.595965  0.7320426  3.256953\n",
              "  0.775  0.028207002  4.585396  0.7333284  3.243109\n",
              "  0.775  0.130925312  4.598462  0.7336519  3.252893\n",
              "  0.775  0.607701493  4.794827  0.7194812  3.482614\n",
              "  0.775  2.820700591  5.605903  0.6979985  3.999154\n",
              "  1.000  0.006077014  4.595777  0.7320806  3.256741\n",
              "  1.000  0.028207002  4.582948  0.7336613  3.239263\n",
              "  1.000  0.130925312  4.626816  0.7313639  3.289978\n",
              "  1.000  0.607701493  4.838405  0.7154470  3.519532\n",
              "  1.000  2.820700591  5.978220  0.6728927  4.251836\n",
              "\n",
              "RMSE was used to select the optimal model using the smallest value.\n",
              "The final values used for the model were alpha = 0.325 and lambda = 0.1309253."
            ]
          },
          "metadata": {
            "tags": []
          }
        }
      ]
    },
    {
      "cell_type": "code",
      "metadata": {
        "colab": {
          "base_uri": "https://localhost:8080/",
          "height": 35
        },
        "id": "n5Aooc4cTl9b",
        "outputId": "33eaefde-4209-44f6-b15e-1c9fe7b98e08"
      },
      "source": [
        "pred = predict.train(fit, newx = x.test)\n",
        "mean((y.test-pred)^2)"
      ],
      "execution_count": 77,
      "outputs": [
        {
          "output_type": "display_data",
          "data": {
            "text/plain": [
              "[1] 142.8672"
            ],
            "text/latex": "142.867157046968",
            "text/markdown": "142.867157046968",
            "text/html": [
              "142.867157046968"
            ]
          },
          "metadata": {
            "tags": []
          }
        }
      ]
    },
    {
      "cell_type": "code",
      "metadata": {
        "colab": {
          "base_uri": "https://localhost:8080/",
          "height": 1000
        },
        "id": "clKld0b4Tvt9",
        "outputId": "f29668aa-5cca-4685-8c44-d96a126f980b"
      },
      "source": [
        "myGrid = expand.grid(alpha = seq(0,1,by = 0.1), lambda = lam)\n",
        "set.seed(1)\n",
        "fit = train(x.train, y.train, method = \"glmnet\", trControl = myControl, tuneGrid = myGrid)\n",
        "fit"
      ],
      "execution_count": 79,
      "outputs": [
        {
          "output_type": "stream",
          "text": [
            "Warning message in nominalTrainWorkflow(x = x, y = y, wts = weights, info = trainInfo, :\n",
            "“There were missing values in resampled performance measures.”\n"
          ],
          "name": "stderr"
        },
        {
          "output_type": "display_data",
          "data": {
            "text/plain": [
              "glmnet \n",
              "\n",
              "253 samples\n",
              " 13 predictor\n",
              "\n",
              "No pre-processing\n",
              "Resampling: Cross-Validated (10 fold) \n",
              "Summary of sample sizes: 228, 228, 229, 225, 228, 229, ... \n",
              "Resampling results across tuning parameters:\n",
              "\n",
              "  alpha  lambda        RMSE      Rsquared   MAE     \n",
              "  0.0    1.353353e-01  4.562335  0.7368709  3.239467\n",
              "  0.0    1.527752e-01  4.562335  0.7368709  3.239467\n",
              "  0.0    1.724624e-01  4.562335  0.7368709  3.239467\n",
              "  0.0    1.946867e-01  4.562335  0.7368709  3.239467\n",
              "  0.0    2.197749e-01  4.562335  0.7368709  3.239467\n",
              "  0.0    2.480960e-01  4.562335  0.7368709  3.239467\n",
              "  0.0    2.800668e-01  4.562335  0.7368709  3.239467\n",
              "  0.0    3.161574e-01  4.562335  0.7368709  3.239467\n",
              "  0.0    3.568988e-01  4.562335  0.7368709  3.239467\n",
              "  0.0    4.028903e-01  4.562335  0.7368709  3.239467\n",
              "  0.0    4.548085e-01  4.562335  0.7368709  3.239467\n",
              "  0.0    5.134171e-01  4.562335  0.7368709  3.239467\n",
              "  0.0    5.795783e-01  4.562335  0.7368709  3.239467\n",
              "  0.0    6.542653e-01  4.563335  0.7369367  3.240104\n",
              "  0.0    7.385767e-01  4.565701  0.7370889  3.245113\n",
              "  0.0    8.337529e-01  4.567944  0.7372563  3.251051\n",
              "  0.0    9.411939e-01  4.571104  0.7373832  3.257384\n",
              "  0.0    1.062480e+00  4.575356  0.7374673  3.263891\n",
              "  0.0    1.199396e+00  4.580817  0.7374995  3.271882\n",
              "  0.0    1.353955e+00  4.587784  0.7374566  3.281784\n",
              "  0.0    1.528432e+00  4.596500  0.7373260  3.292385\n",
              "  0.0    1.725392e+00  4.607165  0.7370991  3.303776\n",
              "  0.0    1.947734e+00  4.620192  0.7367328  3.315837\n",
              "  0.0    2.198728e+00  4.635913  0.7362046  3.329388\n",
              "  0.0    2.482065e+00  4.654584  0.7355165  3.345480\n",
              "  0.0    2.801915e+00  4.676752  0.7345939  3.362656\n",
              "  0.0    3.162982e+00  4.702720  0.7334106  3.380920\n",
              "  0.0    3.570577e+00  4.732862  0.7319417  3.402502\n",
              "  0.0    4.030697e+00  4.767704  0.7301396  3.429942\n",
              "  0.0    4.550110e+00  4.807441  0.7279725  3.460066\n",
              "  0.0    5.136457e+00  4.852412  0.7253897  3.494272\n",
              "  0.0    5.798364e+00  4.902903  0.7223705  3.532486\n",
              "  0.0    6.545566e+00  4.959015  0.7188722  3.571570\n",
              "  0.0    7.389056e+00  5.020728  0.7148974  3.614614\n",
              "  0.0    8.341242e+00  5.088215  0.7104326  3.664865\n",
              "  0.0    9.416131e+00  5.161326  0.7054810  3.718969\n",
              "  0.0    1.062953e+01  5.239752  0.7000718  3.774766\n",
              "  0.0    1.199930e+01  5.323444  0.6942407  3.833880\n",
              "  0.0    1.354558e+01  5.411925  0.6880308  3.893854\n",
              "  0.0    1.529113e+01  5.504742  0.6814964  3.954869\n",
              "  0.0    1.726161e+01  5.601720  0.6747195  4.016616\n",
              "  0.0    1.948601e+01  5.702387  0.6677955  4.084802\n",
              "  0.0    2.199707e+01  5.806409  0.6607574  4.157712\n",
              "  0.0    2.483170e+01  5.913402  0.6537149  4.231352\n",
              "  0.0    2.803162e+01  6.023023  0.6467344  4.303632\n",
              "  0.0    3.164390e+01  6.134737  0.6398900  4.375637\n",
              "  0.0    3.572167e+01  6.248253  0.6332362  4.449192\n",
              "  0.0    4.032492e+01  6.363300  0.6268094  4.525675\n",
              "  0.0    4.552137e+01  6.478946  0.6206901  4.600393\n",
              "  0.0    5.138745e+01  6.594984  0.6148795  4.677583\n",
              "  0.0    5.800946e+01  6.711151  0.6093936  4.757359\n",
              "  0.0    6.548481e+01  6.826217  0.6042776  4.837770\n",
              "  0.0    7.392347e+01  6.939953  0.5995078  4.916560\n",
              "  0.0    8.344956e+01  7.051992  0.5950904  4.993560\n",
              "  0.0    9.420324e+01  7.161242  0.5910229  5.069214\n",
              "  0.0    1.063427e+02  7.267264  0.5872908  5.144068\n",
              "  0.0    1.200465e+02  7.369860  0.5838756  5.218645\n",
              "  0.0    1.355162e+02  7.468421  0.5807560  5.292086\n",
              "  0.0    1.529794e+02  7.562088  0.5779352  5.362722\n",
              "  0.0    1.726929e+02  7.651133  0.5753762  5.431949\n",
              "  0.0    1.949469e+02  7.735450  0.5730534  5.497115\n",
              "  0.0    2.200686e+02  7.814110  0.5709716  5.558583\n",
              "  0.0    2.484276e+02  7.887657  0.5690964  5.615562\n",
              "  0.0    2.804411e+02  7.956313  0.5674083  5.668397\n",
              "  0.0    3.165799e+02  8.019499  0.5658995  5.716635\n",
              "  0.0    3.573758e+02  8.077742  0.5645467  5.760744\n",
              "  0.0    4.034288e+02  8.131407  0.5633351  5.801682\n",
              "  0.0    4.554164e+02  8.180463  0.5622508  5.839268\n",
              "  0.0    5.141033e+02  8.225012  0.5612866  5.873439\n",
              "  0.0    5.803529e+02  8.265653  0.5604251  5.905198\n",
              "  0.0    6.551397e+02  8.302640  0.5596534  5.934143\n",
              "  0.0    7.395638e+02  8.335832  0.5589712  5.960043\n",
              "  0.0    8.348672e+02  8.365870  0.5583631  5.983918\n",
              "  0.0    9.424519e+02  8.393073  0.5578202  6.005476\n",
              "  0.0    1.063900e+03  8.417338  0.5573401  6.024668\n",
              "  0.0    1.200999e+03  8.439160  0.5569125  6.041875\n",
              "  0.0    1.355765e+03  8.458809  0.5565321  6.057327\n",
              "  0.0    1.530475e+03  8.476353  0.5561942  6.071106\n",
              "  0.0    1.727698e+03  8.491996  0.5558957  6.083370\n",
              "  0.0    1.950337e+03  8.506026  0.5556298  6.094345\n",
              "  0.0    2.201666e+03  8.518580  0.5553923  6.104272\n",
              "  0.0    2.485382e+03  8.529686  0.5551832  6.113129\n",
              "  0.0    2.805660e+03  8.539618  0.5549973  6.121035\n",
              "  0.0    3.167209e+03  8.548509  0.5548317  6.128151\n",
              "  0.0    3.575349e+03  8.556354  0.5546858  6.134471\n",
              "  0.0    4.036084e+03  8.563348  0.5545561  6.140098\n",
              "  0.0    4.556192e+03  8.569597  0.5544410  6.145120\n",
              "  0.0    5.143322e+03  8.575125  0.5543391  6.149622\n",
              "  0.0    5.806113e+03  8.581215  0.5542511  6.154635\n",
              "  0.0    6.554314e+03  8.613994  0.5421672  6.181209\n",
              "  0.0    7.398932e+03  8.618652        NaN  6.184990\n",
              "  0.0    8.352390e+03  8.618652        NaN  6.184990\n",
              "  0.0    9.428715e+03  8.618652        NaN  6.184990\n",
              "  0.0    1.064374e+04  8.618652        NaN  6.184990\n",
              "  0.0    1.201534e+04  8.618652        NaN  6.184990\n",
              "  0.0    1.356369e+04  8.618652        NaN  6.184990\n",
              "  0.0    1.531156e+04  8.618652        NaN  6.184990\n",
              "  0.0    1.728468e+04  8.618652        NaN  6.184990\n",
              "  0.0    1.951206e+04  8.618652        NaN  6.184990\n",
              "  0.0    2.202647e+04  8.618652        NaN  6.184990\n",
              "  0.1    1.353353e-01  4.574954  0.7343932  3.230425\n",
              "  0.1    1.527752e-01  4.573271  0.7346286  3.228955\n",
              "  0.1    1.724624e-01  4.571627  0.7348711  3.227568\n",
              "  0.1    1.946867e-01  4.570141  0.7351121  3.226519\n",
              "  0.1    2.197749e-01  4.569188  0.7353216  3.225658\n",
              "  0.1    2.480960e-01  4.568690  0.7355076  3.225209\n",
              "  0.1    2.800668e-01  4.568640  0.7356786  3.225737\n",
              "  0.1    3.161574e-01  4.569214  0.7358228  3.227446\n",
              "  0.1    3.568988e-01  4.570761  0.7359076  3.231244\n",
              "  0.1    4.028903e-01  4.573287  0.7359227  3.235795\n",
              "  0.1    4.548085e-01  4.577831  0.7357356  3.242821\n",
              "  0.1    5.134171e-01  4.583403  0.7354902  3.252580\n",
              "  0.1    5.795783e-01  4.590275  0.7351607  3.264365\n",
              "  0.1    6.542653e-01  4.598337  0.7347755  3.277151\n",
              "  0.1    7.385767e-01  4.608207  0.7342660  3.291922\n",
              "  0.1    8.337529e-01  4.619686  0.7336574  3.307848\n",
              "  0.1    9.411939e-01  4.632924  0.7329458  3.325142\n",
              "  0.1    1.062480e+00  4.648398  0.7320911  3.343745\n",
              "  0.1    1.199396e+00  4.666242  0.7310843  3.363085\n",
              "  0.1    1.353955e+00  4.686785  0.7299096  3.385126\n",
              "  0.1    1.528432e+00  4.708387  0.7287360  3.406968\n",
              "  0.1    1.725392e+00  4.728266  0.7278976  3.424426\n",
              "  0.1    1.947734e+00  4.749647  0.7270766  3.442251\n",
              "  0.1    2.198728e+00  4.772892  0.7263210  3.458476\n",
              "  0.1    2.482065e+00  4.802070  0.7252481  3.481681\n",
              "  0.1    2.801915e+00  4.836876  0.7238957  3.509488\n",
              "  0.1    3.162982e+00  4.878018  0.7222411  3.541202\n",
              "  0.1    3.570577e+00  4.924851  0.7204553  3.572984\n",
              "  0.1    4.030697e+00  4.976010  0.7187765  3.604628\n",
              "  0.1    4.550110e+00  5.028719  0.7176120  3.637140\n",
              "  0.1    5.136457e+00  5.089517  0.7164579  3.675571\n",
              "  0.1    5.798364e+00  5.160420  0.7150937  3.721470\n",
              "  0.1    6.545566e+00  5.242504  0.7135331  3.773821\n",
              "  0.1    7.389056e+00  5.337225  0.7116902  3.835174\n",
              "  0.1    8.341242e+00  5.445523  0.7095586  3.903426\n",
              "  0.1    9.416131e+00  5.566961  0.7076167  3.981739\n",
              "  0.1    1.062953e+01  5.703202  0.7056787  4.077962\n",
              "  0.1    1.199930e+01  5.853679  0.7039953  4.181598\n",
              "  0.1    1.354558e+01  6.019928  0.7024958  4.291958\n",
              "  0.1    1.529113e+01  6.200974  0.7014908  4.408820\n",
              "  0.1    1.726161e+01  6.398100  0.7009830  4.535162\n",
              "  0.1    1.948601e+01  6.611118  0.7010354  4.676522\n",
              "  0.1    2.199707e+01  6.837713  0.7022239  4.825999\n",
              "  0.1    2.483170e+01  7.075830  0.7044667  4.995912\n",
              "  0.1    2.803162e+01  7.323996  0.7071600  5.180466\n",
              "  0.1    3.164390e+01  7.577421  0.7079728  5.371049\n",
              "  0.1    3.572167e+01  7.819028  0.7023022  5.557273\n",
              "  0.1    4.032492e+01  8.037129  0.6869523  5.727337\n",
              "  0.1    4.552137e+01  8.214228  0.6754824  5.867122\n",
              "  0.1    5.138745e+01  8.368870  0.6687285  5.987291\n",
              "  0.1    5.800946e+01  8.512846  0.6330998  6.100720\n",
              "  0.1    6.548481e+01  8.609053  0.5460597  6.177649\n",
              "  0.1    7.392347e+01  8.618652        NaN  6.184990\n",
              "  0.1    8.344956e+01  8.618652        NaN  6.184990\n",
              "  0.1    9.420324e+01  8.618652        NaN  6.184990\n",
              "  0.1    1.063427e+02  8.618652        NaN  6.184990\n",
              "  0.1    1.200465e+02  8.618652        NaN  6.184990\n",
              "  0.1    1.355162e+02  8.618652        NaN  6.184990\n",
              "  0.1    1.529794e+02  8.618652        NaN  6.184990\n",
              "  0.1    1.726929e+02  8.618652        NaN  6.184990\n",
              "  0.1    1.949469e+02  8.618652        NaN  6.184990\n",
              "  0.1    2.200686e+02  8.618652        NaN  6.184990\n",
              "  0.1    2.484276e+02  8.618652        NaN  6.184990\n",
              "  0.1    2.804411e+02  8.618652        NaN  6.184990\n",
              "  0.1    3.165799e+02  8.618652        NaN  6.184990\n",
              "  0.1    3.573758e+02  8.618652        NaN  6.184990\n",
              "  0.1    4.034288e+02  8.618652        NaN  6.184990\n",
              "  0.1    4.554164e+02  8.618652        NaN  6.184990\n",
              "  0.1    5.141033e+02  8.618652        NaN  6.184990\n",
              "  0.1    5.803529e+02  8.618652        NaN  6.184990\n",
              "  0.1    6.551397e+02  8.618652        NaN  6.184990\n",
              "  0.1    7.395638e+02  8.618652        NaN  6.184990\n",
              "  0.1    8.348672e+02  8.618652        NaN  6.184990\n",
              "  0.1    9.424519e+02  8.618652        NaN  6.184990\n",
              "  0.1    1.063900e+03  8.618652        NaN  6.184990\n",
              "  0.1    1.200999e+03  8.618652        NaN  6.184990\n",
              "  0.1    1.355765e+03  8.618652        NaN  6.184990\n",
              "  0.1    1.530475e+03  8.618652        NaN  6.184990\n",
              "  0.1    1.727698e+03  8.618652        NaN  6.184990\n",
              "  0.1    1.950337e+03  8.618652        NaN  6.184990\n",
              "  0.1    2.201666e+03  8.618652        NaN  6.184990\n",
              "  0.1    2.485382e+03  8.618652        NaN  6.184990\n",
              "  0.1    2.805660e+03  8.618652        NaN  6.184990\n",
              "  0.1    3.167209e+03  8.618652        NaN  6.184990\n",
              "  0.1    3.575349e+03  8.618652        NaN  6.184990\n",
              "  0.1    4.036084e+03  8.618652        NaN  6.184990\n",
              "  0.1    4.556192e+03  8.618652        NaN  6.184990\n",
              "  0.1    5.143322e+03  8.618652        NaN  6.184990\n",
              "  0.1    5.806113e+03  8.618652        NaN  6.184990\n",
              "  0.1    6.554314e+03  8.618652        NaN  6.184990\n",
              "  0.1    7.398932e+03  8.618652        NaN  6.184990\n",
              "  0.1    8.352390e+03  8.618652        NaN  6.184990\n",
              "  0.1    9.428715e+03  8.618652        NaN  6.184990\n",
              "  0.1    1.064374e+04  8.618652        NaN  6.184990\n",
              "  0.1    1.201534e+04  8.618652        NaN  6.184990\n",
              "  0.1    1.356369e+04  8.618652        NaN  6.184990\n",
              "  0.1    1.531156e+04  8.618652        NaN  6.184990\n",
              "  0.1    1.728468e+04  8.618652        NaN  6.184990\n",
              "  0.1    1.951206e+04  8.618652        NaN  6.184990\n",
              "  0.1    2.202647e+04  8.618652        NaN  6.184990\n",
              "  0.2    1.353353e-01  4.572700  0.7348501  3.227032\n",
              "  0.2    1.527752e-01  4.571757  0.7350415  3.226084\n",
              "  0.2    1.724624e-01  4.571058  0.7352303  3.225466\n",
              "  0.2    1.946867e-01  4.570815  0.7354051  3.225121\n",
              "  0.2    2.197749e-01  4.571376  0.7355362  3.225235\n",
              "  0.2    2.480960e-01  4.573030  0.7355997  3.226833\n",
              "  0.2    2.800668e-01  4.576434  0.7354956  3.233135\n",
              "  0.2    3.161574e-01  4.581958  0.7351817  3.241904\n",
              "  0.2    3.568988e-01  4.588801  0.7347815  3.251631\n",
              "  0.2    4.028903e-01  4.597325  0.7342652  3.265203\n",
              "  0.2    4.548085e-01  4.607622  0.7336150  3.279790\n",
              "  0.2    5.134171e-01  4.619902  0.7328184  3.298868\n",
              "  0.2    5.795783e-01  4.634416  0.7318602  3.319965\n",
              "  0.2    6.542653e-01  4.651624  0.7306856  3.342602\n",
              "  0.2    7.385767e-01  4.671205  0.7293493  3.366111\n",
              "  0.2    8.337529e-01  4.691517  0.7279574  3.390166\n",
              "  0.2    9.411939e-01  4.706705  0.7271856  3.407235\n",
              "  0.2    1.062480e+00  4.721924  0.7264700  3.422610\n",
              "  0.2    1.199396e+00  4.735157  0.7261658  3.436519\n",
              "  0.2    1.353955e+00  4.751841  0.7256987  3.453145\n",
              "  0.2    1.528432e+00  4.772664  0.7249567  3.471517\n",
              "  0.2    1.725392e+00  4.799124  0.7238168  3.492168\n",
              "  0.2    1.947734e+00  4.829985  0.7225691  3.514916\n",
              "  0.2    2.198728e+00  4.859613  0.7219428  3.533444\n",
              "  0.2    2.482065e+00  4.891552  0.7215170  3.554052\n",
              "  0.2    2.801915e+00  4.932214  0.7209081  3.580365\n",
              "  0.2    3.162982e+00  4.982062  0.7200965  3.610385\n",
              "  0.2    3.570577e+00  5.042015  0.7191225  3.646070\n",
              "  0.2    4.030697e+00  5.112200  0.7182620  3.687906\n",
              "  0.2    4.550110e+00  5.195026  0.7173918  3.738993\n",
              "  0.2    5.136457e+00  5.292259  0.7163903  3.798839\n",
              "  0.2    5.798364e+00  5.405155  0.7153570  3.873558\n",
              "  0.2    6.545566e+00  5.534953  0.7144568  3.961132\n",
              "  0.2    7.389056e+00  5.683560  0.7137756  4.063977\n",
              "  0.2    8.341242e+00  5.852165  0.7135684  4.178082\n",
              "  0.2    9.416131e+00  6.043569  0.7133954  4.302060\n",
              "  0.2    1.062953e+01  6.260777  0.7131173  4.442414\n",
              "  0.2    1.199930e+01  6.500604  0.7122618  4.598488\n",
              "  0.2    1.354558e+01  6.758228  0.7104126  4.769091\n",
              "  0.2    1.529113e+01  7.036370  0.7052531  4.962421\n",
              "  0.2    1.726161e+01  7.328405  0.6944494  5.176738\n",
              "  0.2    1.948601e+01  7.610979  0.6828714  5.392725\n",
              "  0.2    2.199707e+01  7.869260  0.6736794  5.594759\n",
              "  0.2    2.483170e+01  8.118048  0.6681605  5.790099\n",
              "  0.2    2.803162e+01  8.366189  0.6431752  5.983564\n",
              "  0.2    3.164390e+01  8.566489  0.5801001  6.144133\n",
              "  0.2    3.572167e+01  8.618652        NaN  6.184990\n",
              "  0.2    4.032492e+01  8.618652        NaN  6.184990\n",
              "  0.2    4.552137e+01  8.618652        NaN  6.184990\n",
              "  0.2    5.138745e+01  8.618652        NaN  6.184990\n",
              "  0.2    5.800946e+01  8.618652        NaN  6.184990\n",
              "  0.2    6.548481e+01  8.618652        NaN  6.184990\n",
              "  0.2    7.392347e+01  8.618652        NaN  6.184990\n",
              "  0.2    8.344956e+01  8.618652        NaN  6.184990\n",
              "  0.2    9.420324e+01  8.618652        NaN  6.184990\n",
              "  0.2    1.063427e+02  8.618652        NaN  6.184990\n",
              "  0.2    1.200465e+02  8.618652        NaN  6.184990\n",
              "  0.2    1.355162e+02  8.618652        NaN  6.184990\n",
              "  0.2    1.529794e+02  8.618652        NaN  6.184990\n",
              "  0.2    1.726929e+02  8.618652        NaN  6.184990\n",
              "  0.2    1.949469e+02  8.618652        NaN  6.184990\n",
              "  0.2    2.200686e+02  8.618652        NaN  6.184990\n",
              "  0.2    2.484276e+02  8.618652        NaN  6.184990\n",
              "  0.2    2.804411e+02  8.618652        NaN  6.184990\n",
              "  0.2    3.165799e+02  8.618652        NaN  6.184990\n",
              "  0.2    3.573758e+02  8.618652        NaN  6.184990\n",
              "  0.2    4.034288e+02  8.618652        NaN  6.184990\n",
              "  0.2    4.554164e+02  8.618652        NaN  6.184990\n",
              "  0.2    5.141033e+02  8.618652        NaN  6.184990\n",
              "  0.2    5.803529e+02  8.618652        NaN  6.184990\n",
              "  0.2    6.551397e+02  8.618652        NaN  6.184990\n",
              "  0.2    7.395638e+02  8.618652        NaN  6.184990\n",
              "  0.2    8.348672e+02  8.618652        NaN  6.184990\n",
              "  0.2    9.424519e+02  8.618652        NaN  6.184990\n",
              "  0.2    1.063900e+03  8.618652        NaN  6.184990\n",
              "  0.2    1.200999e+03  8.618652        NaN  6.184990\n",
              "  0.2    1.355765e+03  8.618652        NaN  6.184990\n",
              "  0.2    1.530475e+03  8.618652        NaN  6.184990\n",
              "  0.2    1.727698e+03  8.618652        NaN  6.184990\n",
              "  0.2    1.950337e+03  8.618652        NaN  6.184990\n",
              "  0.2    2.201666e+03  8.618652        NaN  6.184990\n",
              "  0.2    2.485382e+03  8.618652        NaN  6.184990\n",
              "  0.2    2.805660e+03  8.618652        NaN  6.184990\n",
              "  0.2    3.167209e+03  8.618652        NaN  6.184990\n",
              "  0.2    3.575349e+03  8.618652        NaN  6.184990\n",
              "  0.2    4.036084e+03  8.618652        NaN  6.184990\n",
              "  0.2    4.556192e+03  8.618652        NaN  6.184990\n",
              "  0.2    5.143322e+03  8.618652        NaN  6.184990\n",
              "  0.2    5.806113e+03  8.618652        NaN  6.184990\n",
              "  0.2    6.554314e+03  8.618652        NaN  6.184990\n",
              "  0.2    7.398932e+03  8.618652        NaN  6.184990\n",
              "  0.2    8.352390e+03  8.618652        NaN  6.184990\n",
              "  0.2    9.428715e+03  8.618652        NaN  6.184990\n",
              "  0.2    1.064374e+04  8.618652        NaN  6.184990\n",
              "  0.2    1.201534e+04  8.618652        NaN  6.184990\n",
              "  0.2    1.356369e+04  8.618652        NaN  6.184990\n",
              "  0.2    1.531156e+04  8.618652        NaN  6.184990\n",
              "  0.2    1.728468e+04  8.618652        NaN  6.184990\n",
              "  0.2    1.951206e+04  8.618652        NaN  6.184990\n",
              "  0.2    2.202647e+04  8.618652        NaN  6.184990\n",
              "  0.3    1.353353e-01  4.572567  0.7350759  3.225650\n",
              "  0.3    1.527752e-01  4.572378  0.7352451  3.225558\n",
              "  0.3    1.724624e-01  4.573129  0.7353592  3.225740\n",
              "  0.3    1.946867e-01  4.574867  0.7354240  3.227489\n",
              "  0.3    2.197749e-01  4.579367  0.7351846  3.233295\n",
              "  0.3    2.480960e-01  4.585436  0.7348237  3.243142\n",
              "  0.3    2.800668e-01  4.593250  0.7343317  3.253875\n",
              "  0.3    3.161574e-01  4.603027  0.7336898  3.269358\n",
              "  0.3    3.568988e-01  4.615185  0.7328578  3.286982\n",
              "  0.3    4.028903e-01  4.630116  0.7317960  3.308632\n",
              "  0.3    4.548085e-01  4.648079  0.7304787  3.333897\n",
              "  0.3    5.134171e-01  4.668819  0.7289411  3.360808\n",
              "  0.3    5.795783e-01  4.689734  0.7273834  3.386509\n",
              "  0.3    6.542653e-01  4.704076  0.7264386  3.404899\n",
              "  0.3    7.385767e-01  4.717145  0.7256535  3.419986\n",
              "  0.3    8.337529e-01  4.726733  0.7254182  3.431299\n",
              "  0.3    9.411939e-01  4.739536  0.7250205  3.444627\n",
              "  0.3    1.062480e+00  4.756688  0.7242688  3.460402\n",
              "  0.3    1.199396e+00  4.776981  0.7234220  3.475456\n",
              "  0.3    1.353955e+00  4.799412  0.7226847  3.492520\n",
              "  0.3    1.528432e+00  4.823457  0.7220486  3.509437\n",
              "  0.3    1.725392e+00  4.848218  0.7215122  3.526585\n",
              "  0.3    1.947734e+00  4.879571  0.7209096  3.546201\n",
              "  0.3    2.198728e+00  4.919593  0.7200712  3.569651\n",
              "  0.3    2.482065e+00  4.966875  0.7194087  3.598694\n",
              "  0.3    2.801915e+00  5.023708  0.7187595  3.635375\n",
              "  0.3    3.162982e+00  5.092855  0.7178490  3.676963\n",
              "  0.3    3.570577e+00  5.174376  0.7168844  3.725614\n",
              "  0.3    4.030697e+00  5.269108  0.7162221  3.783756\n",
              "  0.3    4.550110e+00  5.379983  0.7157793  3.849900\n",
              "  0.3    5.136457e+00  5.510908  0.7153310  3.929824\n",
              "  0.3    5.798364e+00  5.665480  0.7147745  4.031468\n",
              "  0.3    6.545566e+00  5.846454  0.7139420  4.147308\n",
              "  0.3    7.389056e+00  6.056962  0.7118199  4.287239\n",
              "  0.3    8.341242e+00  6.296621  0.7082866  4.448609\n",
              "  0.3    9.416131e+00  6.566019  0.7022510  4.632488\n",
              "  0.3    1.062953e+01  6.857245  0.6943186  4.834015\n",
              "  0.3    1.199930e+01  7.163242  0.6832719  5.050721\n",
              "  0.3    1.354558e+01  7.462075  0.6738056  5.277430\n",
              "  0.3    1.529113e+01  7.760443  0.6697447  5.506163\n",
              "  0.3    1.726161e+01  8.072242  0.6595251  5.751871\n",
              "  0.3    1.948601e+01  8.384990  0.6102169  5.997499\n",
              "  0.3    2.199707e+01  8.604123  0.5381613  6.173894\n",
              "  0.3    2.483170e+01  8.618652        NaN  6.184990\n",
              "  0.3    2.803162e+01  8.618652        NaN  6.184990\n",
              "  0.3    3.164390e+01  8.618652        NaN  6.184990\n",
              "  0.3    3.572167e+01  8.618652        NaN  6.184990\n",
              "  0.3    4.032492e+01  8.618652        NaN  6.184990\n",
              "  0.3    4.552137e+01  8.618652        NaN  6.184990\n",
              "  0.3    5.138745e+01  8.618652        NaN  6.184990\n",
              "  0.3    5.800946e+01  8.618652        NaN  6.184990\n",
              "  0.3    6.548481e+01  8.618652        NaN  6.184990\n",
              "  0.3    7.392347e+01  8.618652        NaN  6.184990\n",
              "  0.3    8.344956e+01  8.618652        NaN  6.184990\n",
              "  0.3    9.420324e+01  8.618652        NaN  6.184990\n",
              "  0.3    1.063427e+02  8.618652        NaN  6.184990\n",
              "  0.3    1.200465e+02  8.618652        NaN  6.184990\n",
              "  0.3    1.355162e+02  8.618652        NaN  6.184990\n",
              "  0.3    1.529794e+02  8.618652        NaN  6.184990\n",
              "  0.3    1.726929e+02  8.618652        NaN  6.184990\n",
              "  0.3    1.949469e+02  8.618652        NaN  6.184990\n",
              "  0.3    2.200686e+02  8.618652        NaN  6.184990\n",
              "  0.3    2.484276e+02  8.618652        NaN  6.184990\n",
              "  0.3    2.804411e+02  8.618652        NaN  6.184990\n",
              "  0.3    3.165799e+02  8.618652        NaN  6.184990\n",
              "  0.3    3.573758e+02  8.618652        NaN  6.184990\n",
              "  0.3    4.034288e+02  8.618652        NaN  6.184990\n",
              "  0.3    4.554164e+02  8.618652        NaN  6.184990\n",
              "  0.3    5.141033e+02  8.618652        NaN  6.184990\n",
              "  0.3    5.803529e+02  8.618652        NaN  6.184990\n",
              "  0.3    6.551397e+02  8.618652        NaN  6.184990\n",
              "  0.3    7.395638e+02  8.618652        NaN  6.184990\n",
              "  0.3    8.348672e+02  8.618652        NaN  6.184990\n",
              "  0.3    9.424519e+02  8.618652        NaN  6.184990\n",
              "  0.3    1.063900e+03  8.618652        NaN  6.184990\n",
              "  0.3    1.200999e+03  8.618652        NaN  6.184990\n",
              "  0.3    1.355765e+03  8.618652        NaN  6.184990\n",
              "  0.3    1.530475e+03  8.618652        NaN  6.184990\n",
              "  0.3    1.727698e+03  8.618652        NaN  6.184990\n",
              "  0.3    1.950337e+03  8.618652        NaN  6.184990\n",
              "  0.3    2.201666e+03  8.618652        NaN  6.184990\n",
              "  0.3    2.485382e+03  8.618652        NaN  6.184990\n",
              "  0.3    2.805660e+03  8.618652        NaN  6.184990\n",
              "  0.3    3.167209e+03  8.618652        NaN  6.184990\n",
              "  0.3    3.575349e+03  8.618652        NaN  6.184990\n",
              "  0.3    4.036084e+03  8.618652        NaN  6.184990\n",
              "  0.3    4.556192e+03  8.618652        NaN  6.184990\n",
              "  0.3    5.143322e+03  8.618652        NaN  6.184990\n",
              "  0.3    5.806113e+03  8.618652        NaN  6.184990\n",
              "  0.3    6.554314e+03  8.618652        NaN  6.184990\n",
              "  0.3    7.398932e+03  8.618652        NaN  6.184990\n",
              "  0.3    8.352390e+03  8.618652        NaN  6.184990\n",
              "  0.3    9.428715e+03  8.618652        NaN  6.184990\n",
              "  0.3    1.064374e+04  8.618652        NaN  6.184990\n",
              "  0.3    1.201534e+04  8.618652        NaN  6.184990\n",
              "  0.3    1.356369e+04  8.618652        NaN  6.184990\n",
              "  0.3    1.531156e+04  8.618652        NaN  6.184990\n",
              "  0.3    1.728468e+04  8.618652        NaN  6.184990\n",
              "  0.3    1.951206e+04  8.618652        NaN  6.184990\n",
              "  0.3    2.202647e+04  8.618652        NaN  6.184990\n",
              "  0.4    1.353353e-01  4.573581  0.7352520  3.225864\n",
              "  0.4    1.527752e-01  4.575199  0.7353094  3.227084\n",
              "  0.4    1.724624e-01  4.579034  0.7351402  3.231116\n",
              "  0.4    1.946867e-01  4.584998  0.7347717  3.239451\n",
              "  0.4    2.197749e-01  4.592794  0.7342630  3.250696\n",
              "  0.4    2.480960e-01  4.602788  0.7335795  3.265619\n",
              "  0.4    2.800668e-01  4.615469  0.7326730  3.284178\n",
              "  0.4    3.161574e-01  4.631311  0.7314976  3.306845\n",
              "  0.4    3.568988e-01  4.650400  0.7300533  3.333670\n",
              "  0.4    4.028903e-01  4.673276  0.7282623  3.363424\n",
              "  0.4    4.548085e-01  4.693236  0.7266330  3.389768\n",
              "  0.4    5.134171e-01  4.707672  0.7255445  3.408250\n",
              "  0.4    5.795783e-01  4.718590  0.7248749  3.422114\n",
              "  0.4    6.542653e-01  4.726448  0.7247060  3.432497\n",
              "  0.4    7.385767e-01  4.738113  0.7242482  3.442973\n",
              "  0.4    8.337529e-01  4.752164  0.7237173  3.455002\n",
              "  0.4    9.411939e-01  4.770117  0.7229970  3.468276\n",
              "  0.4    1.062480e+00  4.791317  0.7221412  3.483853\n",
              "  0.4    1.199396e+00  4.815928  0.7210440  3.502582\n",
              "  0.4    1.353955e+00  4.837768  0.7203584  3.518948\n",
              "  0.4    1.528432e+00  4.866352  0.7195368  3.537579\n",
              "  0.4    1.725392e+00  4.902354  0.7185264  3.559553\n",
              "  0.4    1.947734e+00  4.943606  0.7178701  3.584417\n",
              "  0.4    2.198728e+00  4.994584  0.7170104  3.616113\n",
              "  0.4    2.482065e+00  5.055165  0.7160922  3.655693\n",
              "  0.4    2.801915e+00  5.126745  0.7152356  3.699944\n",
              "  0.4    3.162982e+00  5.209247  0.7147967  3.746815\n",
              "  0.4    3.570577e+00  5.310142  0.7142473  3.807233\n",
              "  0.4    4.030697e+00  5.434278  0.7134838  3.879704\n",
              "  0.4    4.550110e+00  5.584820  0.7121733  3.970113\n",
              "  0.4    5.136457e+00  5.764778  0.7097292  4.085777\n",
              "  0.4    5.798364e+00  5.975900  0.7057867  4.224445\n",
              "  0.4    6.545566e+00  6.216231  0.7006854  4.383842\n",
              "  0.4    7.389056e+00  6.483986  0.6945883  4.571985\n",
              "  0.4    8.341242e+00  6.783507  0.6843657  4.784206\n",
              "  0.4    9.416131e+00  7.091059  0.6737913  5.000895\n",
              "  0.4    1.062953e+01  7.403927  0.6700475  5.231236\n",
              "  0.4    1.199930e+01  7.743078  0.6638719  5.490886\n",
              "  0.4    1.354558e+01  8.107247  0.6432900  5.777603\n",
              "  0.4    1.529113e+01  8.453288  0.5871861  6.052591\n",
              "  0.4    1.726161e+01  8.618652        NaN  6.184990\n",
              "  0.4    1.948601e+01  8.618652        NaN  6.184990\n",
              "  0.4    2.199707e+01  8.618652        NaN  6.184990\n",
              "  0.4    2.483170e+01  8.618652        NaN  6.184990\n",
              "  0.4    2.803162e+01  8.618652        NaN  6.184990\n",
              "  0.4    3.164390e+01  8.618652        NaN  6.184990\n",
              "  0.4    3.572167e+01  8.618652        NaN  6.184990\n",
              "  0.4    4.032492e+01  8.618652        NaN  6.184990\n",
              "  0.4    4.552137e+01  8.618652        NaN  6.184990\n",
              "  0.4    5.138745e+01  8.618652        NaN  6.184990\n",
              "  0.4    5.800946e+01  8.618652        NaN  6.184990\n",
              "  0.4    6.548481e+01  8.618652        NaN  6.184990\n",
              "  0.4    7.392347e+01  8.618652        NaN  6.184990\n",
              "  0.4    8.344956e+01  8.618652        NaN  6.184990\n",
              "  0.4    9.420324e+01  8.618652        NaN  6.184990\n",
              "  0.4    1.063427e+02  8.618652        NaN  6.184990\n",
              "  0.4    1.200465e+02  8.618652        NaN  6.184990\n",
              "  0.4    1.355162e+02  8.618652        NaN  6.184990\n",
              "  0.4    1.529794e+02  8.618652        NaN  6.184990\n",
              "  0.4    1.726929e+02  8.618652        NaN  6.184990\n",
              "  0.4    1.949469e+02  8.618652        NaN  6.184990\n",
              "  0.4    2.200686e+02  8.618652        NaN  6.184990\n",
              "  0.4    2.484276e+02  8.618652        NaN  6.184990\n",
              "  0.4    2.804411e+02  8.618652        NaN  6.184990\n",
              "  0.4    3.165799e+02  8.618652        NaN  6.184990\n",
              "  0.4    3.573758e+02  8.618652        NaN  6.184990\n",
              "  0.4    4.034288e+02  8.618652        NaN  6.184990\n",
              "  0.4    4.554164e+02  8.618652        NaN  6.184990\n",
              "  0.4    5.141033e+02  8.618652        NaN  6.184990\n",
              "  0.4    5.803529e+02  8.618652        NaN  6.184990\n",
              "  0.4    6.551397e+02  8.618652        NaN  6.184990\n",
              "  0.4    7.395638e+02  8.618652        NaN  6.184990\n",
              "  0.4    8.348672e+02  8.618652        NaN  6.184990\n",
              "  0.4    9.424519e+02  8.618652        NaN  6.184990\n",
              "  0.4    1.063900e+03  8.618652        NaN  6.184990\n",
              "  0.4    1.200999e+03  8.618652        NaN  6.184990\n",
              "  0.4    1.355765e+03  8.618652        NaN  6.184990\n",
              "  0.4    1.530475e+03  8.618652        NaN  6.184990\n",
              "  0.4    1.727698e+03  8.618652        NaN  6.184990\n",
              "  0.4    1.950337e+03  8.618652        NaN  6.184990\n",
              "  0.4    2.201666e+03  8.618652        NaN  6.184990\n",
              "  0.4    2.485382e+03  8.618652        NaN  6.184990\n",
              "  0.4    2.805660e+03  8.618652        NaN  6.184990\n",
              "  0.4    3.167209e+03  8.618652        NaN  6.184990\n",
              "  0.4    3.575349e+03  8.618652        NaN  6.184990\n",
              "  0.4    4.036084e+03  8.618652        NaN  6.184990\n",
              "  0.4    4.556192e+03  8.618652        NaN  6.184990\n",
              "  0.4    5.143322e+03  8.618652        NaN  6.184990\n",
              "  0.4    5.806113e+03  8.618652        NaN  6.184990\n",
              "  0.4    6.554314e+03  8.618652        NaN  6.184990\n",
              "  0.4    7.398932e+03  8.618652        NaN  6.184990\n",
              "  0.4    8.352390e+03  8.618652        NaN  6.184990\n",
              "  0.4    9.428715e+03  8.618652        NaN  6.184990\n",
              "  0.4    1.064374e+04  8.618652        NaN  6.184990\n",
              "  0.4    1.201534e+04  8.618652        NaN  6.184990\n",
              "  0.4    1.356369e+04  8.618652        NaN  6.184990\n",
              "  0.4    1.531156e+04  8.618652        NaN  6.184990\n",
              "  0.4    1.728468e+04  8.618652        NaN  6.184990\n",
              "  0.4    1.951206e+04  8.618652        NaN  6.184990\n",
              "  0.4    2.202647e+04  8.618652        NaN  6.184990\n",
              "  0.5    1.353353e-01  4.577295  0.7351869  3.228702\n",
              "  0.5    1.527752e-01  4.582322  0.7348968  3.233652\n",
              "  0.5    1.724624e-01  4.589263  0.7344453  3.243535\n",
              "  0.5    1.946867e-01  4.598414  0.7338137  3.256212\n",
              "  0.5    2.197749e-01  4.610299  0.7329529  3.274261\n",
              "  0.5    2.480960e-01  4.625469  0.7318084  3.295778\n",
              "  0.5    2.800668e-01  4.644206  0.7303551  3.322471\n",
              "  0.5    3.161574e-01  4.666796  0.7285520  3.352883\n",
              "  0.5    3.568988e-01  4.689984  0.7265659  3.382746\n",
              "  0.5    4.028903e-01  4.705144  0.7253470  3.404356\n",
              "  0.5    4.548085e-01  4.717362  0.7244428  3.419916\n",
              "  0.5    5.134171e-01  4.724017  0.7242478  3.429704\n",
              "  0.5    5.795783e-01  4.732974  0.7239582  3.438269\n",
              "  0.5    6.542653e-01  4.745283  0.7234821  3.448198\n",
              "  0.5    7.385767e-01  4.760519  0.7228503  3.459929\n",
              "  0.5    8.337529e-01  4.779595  0.7219440  3.473193\n",
              "  0.5    9.411939e-01  4.803571  0.7206504  3.492070\n",
              "  0.5    1.062480e+00  4.824891  0.7196988  3.509092\n",
              "  0.5    1.199396e+00  4.848997  0.7187575  3.525249\n",
              "  0.5    1.353955e+00  4.879847  0.7176732  3.544831\n",
              "  0.5    1.528432e+00  4.914647  0.7169167  3.566580\n",
              "  0.5    1.725392e+00  4.957580  0.7160018  3.593469\n",
              "  0.5    1.947734e+00  5.009647  0.7149003  3.627202\n",
              "  0.5    2.198728e+00  5.068858  0.7141337  3.664869\n",
              "  0.5    2.482065e+00  5.138839  0.7135635  3.704981\n",
              "  0.5    2.801915e+00  5.228102  0.7127050  3.758231\n",
              "  0.5    3.162982e+00  5.339660  0.7113874  3.824860\n",
              "  0.5    3.570577e+00  5.475750  0.7093967  3.905251\n",
              "  0.5    4.030697e+00  5.642125  0.7058846  4.009249\n",
              "  0.5    4.550110e+00  5.833924  0.7021484  4.132065\n",
              "  0.5    5.136457e+00  6.053796  0.6980396  4.275990\n",
              "  0.5    5.798364e+00  6.310075  0.6912472  4.452004\n",
              "  0.5    6.545566e+00  6.602665  0.6796775  4.656645\n",
              "  0.5    7.389056e+00  6.902423  0.6714626  4.869468\n",
              "  0.5    8.341242e+00  7.221580  0.6682349  5.093872\n",
              "  0.5    9.416131e+00  7.579173  0.6617327  5.362816\n",
              "  0.5    1.062953e+01  7.974176  0.6420017  5.670823\n",
              "  0.5    1.199930e+01  8.368416  0.5878500  5.983780\n",
              "  0.5    1.354558e+01  8.618652        NaN  6.184990\n",
              "  0.5    1.529113e+01  8.618652        NaN  6.184990\n",
              "  0.5    1.726161e+01  8.618652        NaN  6.184990\n",
              "  0.5    1.948601e+01  8.618652        NaN  6.184990\n",
              "  0.5    2.199707e+01  8.618652        NaN  6.184990\n",
              "  0.5    2.483170e+01  8.618652        NaN  6.184990\n",
              "  0.5    2.803162e+01  8.618652        NaN  6.184990\n",
              "  0.5    3.164390e+01  8.618652        NaN  6.184990\n",
              "  0.5    3.572167e+01  8.618652        NaN  6.184990\n",
              "  0.5    4.032492e+01  8.618652        NaN  6.184990\n",
              "  0.5    4.552137e+01  8.618652        NaN  6.184990\n",
              "  0.5    5.138745e+01  8.618652        NaN  6.184990\n",
              "  0.5    5.800946e+01  8.618652        NaN  6.184990\n",
              "  0.5    6.548481e+01  8.618652        NaN  6.184990\n",
              "  0.5    7.392347e+01  8.618652        NaN  6.184990\n",
              "  0.5    8.344956e+01  8.618652        NaN  6.184990\n",
              "  0.5    9.420324e+01  8.618652        NaN  6.184990\n",
              "  0.5    1.063427e+02  8.618652        NaN  6.184990\n",
              "  0.5    1.200465e+02  8.618652        NaN  6.184990\n",
              "  0.5    1.355162e+02  8.618652        NaN  6.184990\n",
              "  0.5    1.529794e+02  8.618652        NaN  6.184990\n",
              "  0.5    1.726929e+02  8.618652        NaN  6.184990\n",
              "  0.5    1.949469e+02  8.618652        NaN  6.184990\n",
              "  0.5    2.200686e+02  8.618652        NaN  6.184990\n",
              "  0.5    2.484276e+02  8.618652        NaN  6.184990\n",
              "  0.5    2.804411e+02  8.618652        NaN  6.184990\n",
              "  0.5    3.165799e+02  8.618652        NaN  6.184990\n",
              "  0.5    3.573758e+02  8.618652        NaN  6.184990\n",
              "  0.5    4.034288e+02  8.618652        NaN  6.184990\n",
              "  0.5    4.554164e+02  8.618652        NaN  6.184990\n",
              "  0.5    5.141033e+02  8.618652        NaN  6.184990\n",
              "  0.5    5.803529e+02  8.618652        NaN  6.184990\n",
              "  0.5    6.551397e+02  8.618652        NaN  6.184990\n",
              "  0.5    7.395638e+02  8.618652        NaN  6.184990\n",
              "  0.5    8.348672e+02  8.618652        NaN  6.184990\n",
              "  0.5    9.424519e+02  8.618652        NaN  6.184990\n",
              "  0.5    1.063900e+03  8.618652        NaN  6.184990\n",
              "  0.5    1.200999e+03  8.618652        NaN  6.184990\n",
              "  0.5    1.355765e+03  8.618652        NaN  6.184990\n",
              "  0.5    1.530475e+03  8.618652        NaN  6.184990\n",
              "  0.5    1.727698e+03  8.618652        NaN  6.184990\n",
              "  0.5    1.950337e+03  8.618652        NaN  6.184990\n",
              "  0.5    2.201666e+03  8.618652        NaN  6.184990\n",
              "  0.5    2.485382e+03  8.618652        NaN  6.184990\n",
              "  0.5    2.805660e+03  8.618652        NaN  6.184990\n",
              "  0.5    3.167209e+03  8.618652        NaN  6.184990\n",
              "  0.5    3.575349e+03  8.618652        NaN  6.184990\n",
              "  0.5    4.036084e+03  8.618652        NaN  6.184990\n",
              "  0.5    4.556192e+03  8.618652        NaN  6.184990\n",
              "  0.5    5.143322e+03  8.618652        NaN  6.184990\n",
              "  0.5    5.806113e+03  8.618652        NaN  6.184990\n",
              "  0.5    6.554314e+03  8.618652        NaN  6.184990\n",
              "  0.5    7.398932e+03  8.618652        NaN  6.184990\n",
              "  0.5    8.352390e+03  8.618652        NaN  6.184990\n",
              "  0.5    9.428715e+03  8.618652        NaN  6.184990\n",
              "  0.5    1.064374e+04  8.618652        NaN  6.184990\n",
              "  0.5    1.201534e+04  8.618652        NaN  6.184990\n",
              "  0.5    1.356369e+04  8.618652        NaN  6.184990\n",
              "  0.5    1.531156e+04  8.618652        NaN  6.184990\n",
              "  0.5    1.728468e+04  8.618652        NaN  6.184990\n",
              "  0.5    1.951206e+04  8.618652        NaN  6.184990\n",
              "  0.5    2.202647e+04  8.618652        NaN  6.184990\n",
              "  0.6    1.353353e-01  4.584498  0.7347064  3.235545\n",
              "  0.6    1.527752e-01  4.592151  0.7341864  3.245915\n",
              "  0.6    1.724624e-01  4.602266  0.7334638  3.259895\n",
              "  0.6    1.946867e-01  4.615394  0.7324838  3.279563\n",
              "  0.6    2.197749e-01  4.632400  0.7311586  3.303416\n",
              "  0.6    2.480960e-01  4.653203  0.7295118  3.332753\n",
              "  0.6    2.800668e-01  4.677641  0.7274696  3.365220\n",
              "  0.6    3.161574e-01  4.698354  0.7256520  3.393154\n",
              "  0.6    3.568988e-01  4.713700  0.7243447  3.413523\n",
              "  0.6    4.028903e-01  4.721025  0.7239390  3.425684\n",
              "  0.6    4.548085e-01  4.727731  0.7237659  3.433229\n",
              "  0.6    5.134171e-01  4.737634  0.7233883  3.441348\n",
              "  0.6    5.795783e-01  4.749630  0.7229375  3.450707\n",
              "  0.6    6.542653e-01  4.765493  0.7221750  3.462223\n",
              "  0.6    7.385767e-01  4.786653  0.7209294  3.477817\n",
              "  0.6    8.337529e-01  4.809786  0.7196278  3.496893\n",
              "  0.6    9.411939e-01  4.830480  0.7185912  3.513591\n",
              "  0.6    1.062480e+00  4.855262  0.7174919  3.529947\n",
              "  0.6    1.199396e+00  4.885240  0.7164350  3.549010\n",
              "  0.6    1.353955e+00  4.921318  0.7153555  3.571338\n",
              "  0.6    1.528432e+00  4.965264  0.7141249  3.600554\n",
              "  0.6    1.725392e+00  5.016214  0.7128998  3.634479\n",
              "  0.6    1.947734e+00  5.075021  0.7119449  3.669472\n",
              "  0.6    2.198728e+00  5.149252  0.7107965  3.711240\n",
              "  0.6    2.482065e+00  5.243319  0.7092738  3.769102\n",
              "  0.6    2.801915e+00  5.359552  0.7070448  3.838741\n",
              "  0.6    3.162982e+00  5.499174  0.7043950  3.924005\n",
              "  0.6    3.570577e+00  5.662955  0.7015795  4.026826\n",
              "  0.6    4.030697e+00  5.857012  0.6977917  4.152964\n",
              "  0.6    4.550110e+00  6.088649  0.6913452  4.304876\n",
              "  0.6    5.136457e+00  6.361469  0.6802871  4.495023\n",
              "  0.6    5.798364e+00  6.647873  0.6708659  4.690341\n",
              "  0.6    6.545566e+00  6.951772  0.6677395  4.903225\n",
              "  0.6    7.389056e+00  7.301411  0.6624923  5.150365\n",
              "  0.6    8.341242e+00  7.700044  0.6492381  5.453387\n",
              "  0.6    9.416131e+00  8.131946  0.6096211  5.794184\n",
              "  0.6    1.062953e+01  8.523604  0.5499737  6.110216\n",
              "  0.6    1.199930e+01  8.618652        NaN  6.184990\n",
              "  0.6    1.354558e+01  8.618652        NaN  6.184990\n",
              "  0.6    1.529113e+01  8.618652        NaN  6.184990\n",
              "  0.6    1.726161e+01  8.618652        NaN  6.184990\n",
              "  0.6    1.948601e+01  8.618652        NaN  6.184990\n",
              "  0.6    2.199707e+01  8.618652        NaN  6.184990\n",
              "  0.6    2.483170e+01  8.618652        NaN  6.184990\n",
              "  0.6    2.803162e+01  8.618652        NaN  6.184990\n",
              "  0.6    3.164390e+01  8.618652        NaN  6.184990\n",
              "  0.6    3.572167e+01  8.618652        NaN  6.184990\n",
              "  0.6    4.032492e+01  8.618652        NaN  6.184990\n",
              "  0.6    4.552137e+01  8.618652        NaN  6.184990\n",
              "  0.6    5.138745e+01  8.618652        NaN  6.184990\n",
              "  0.6    5.800946e+01  8.618652        NaN  6.184990\n",
              "  0.6    6.548481e+01  8.618652        NaN  6.184990\n",
              "  0.6    7.392347e+01  8.618652        NaN  6.184990\n",
              "  0.6    8.344956e+01  8.618652        NaN  6.184990\n",
              "  0.6    9.420324e+01  8.618652        NaN  6.184990\n",
              "  0.6    1.063427e+02  8.618652        NaN  6.184990\n",
              "  0.6    1.200465e+02  8.618652        NaN  6.184990\n",
              "  0.6    1.355162e+02  8.618652        NaN  6.184990\n",
              "  0.6    1.529794e+02  8.618652        NaN  6.184990\n",
              "  0.6    1.726929e+02  8.618652        NaN  6.184990\n",
              "  0.6    1.949469e+02  8.618652        NaN  6.184990\n",
              "  0.6    2.200686e+02  8.618652        NaN  6.184990\n",
              "  0.6    2.484276e+02  8.618652        NaN  6.184990\n",
              "  0.6    2.804411e+02  8.618652        NaN  6.184990\n",
              "  0.6    3.165799e+02  8.618652        NaN  6.184990\n",
              "  0.6    3.573758e+02  8.618652        NaN  6.184990\n",
              "  0.6    4.034288e+02  8.618652        NaN  6.184990\n",
              "  0.6    4.554164e+02  8.618652        NaN  6.184990\n",
              "  0.6    5.141033e+02  8.618652        NaN  6.184990\n",
              "  0.6    5.803529e+02  8.618652        NaN  6.184990\n",
              "  0.6    6.551397e+02  8.618652        NaN  6.184990\n",
              "  0.6    7.395638e+02  8.618652        NaN  6.184990\n",
              "  0.6    8.348672e+02  8.618652        NaN  6.184990\n",
              "  0.6    9.424519e+02  8.618652        NaN  6.184990\n",
              "  0.6    1.063900e+03  8.618652        NaN  6.184990\n",
              "  0.6    1.200999e+03  8.618652        NaN  6.184990\n",
              "  0.6    1.355765e+03  8.618652        NaN  6.184990\n",
              "  0.6    1.530475e+03  8.618652        NaN  6.184990\n",
              "  0.6    1.727698e+03  8.618652        NaN  6.184990\n",
              "  0.6    1.950337e+03  8.618652        NaN  6.184990\n",
              "  0.6    2.201666e+03  8.618652        NaN  6.184990\n",
              "  0.6    2.485382e+03  8.618652        NaN  6.184990\n",
              "  0.6    2.805660e+03  8.618652        NaN  6.184990\n",
              "  0.6    3.167209e+03  8.618652        NaN  6.184990\n",
              "  0.6    3.575349e+03  8.618652        NaN  6.184990\n",
              "  0.6    4.036084e+03  8.618652        NaN  6.184990\n",
              "  0.6    4.556192e+03  8.618652        NaN  6.184990\n",
              "  0.6    5.143322e+03  8.618652        NaN  6.184990\n",
              "  0.6    5.806113e+03  8.618652        NaN  6.184990\n",
              "  0.6    6.554314e+03  8.618652        NaN  6.184990\n",
              "  0.6    7.398932e+03  8.618652        NaN  6.184990\n",
              "  0.6    8.352390e+03  8.618652        NaN  6.184990\n",
              "  0.6    9.428715e+03  8.618652        NaN  6.184990\n",
              "  0.6    1.064374e+04  8.618652        NaN  6.184990\n",
              "  0.6    1.201534e+04  8.618652        NaN  6.184990\n",
              "  0.6    1.356369e+04  8.618652        NaN  6.184990\n",
              "  0.6    1.531156e+04  8.618652        NaN  6.184990\n",
              "  0.6    1.728468e+04  8.618652        NaN  6.184990\n",
              "  0.6    1.951206e+04  8.618652        NaN  6.184990\n",
              "  0.6    2.202647e+04  8.618652        NaN  6.184990\n",
              "  0.7    1.353353e-01  4.593572  0.7340391  3.246613\n",
              "  0.7    1.527752e-01  4.604147  0.7332674  3.261171\n",
              "  0.7    1.724624e-01  4.618109  0.7322056  3.281639\n",
              "  0.7    1.946867e-01  4.636028  0.7307882  3.306700\n",
              "  0.7    2.197749e-01  4.658271  0.7289922  3.337813\n",
              "  0.7    2.480960e-01  4.683773  0.7267730  3.371415\n",
              "  0.7    2.800668e-01  4.702530  0.7251415  3.397475\n",
              "  0.7    3.161574e-01  4.716840  0.7239208  3.417588\n",
              "  0.7    3.568988e-01  4.723049  0.7236267  3.428159\n",
              "  0.7    4.028903e-01  4.730236  0.7233848  3.435153\n",
              "  0.7    4.548085e-01  4.739473  0.7230745  3.442089\n",
              "  0.7    5.134171e-01  4.752196  0.7224731  3.451490\n",
              "  0.7    5.795783e-01  4.769017  0.7214875  3.463754\n",
              "  0.7    6.542653e-01  4.790663  0.7201172  3.479921\n",
              "  0.7    7.385767e-01  4.813683  0.7187004  3.499906\n",
              "  0.7    8.337529e-01  4.833694  0.7175668  3.516139\n",
              "  0.7    9.411939e-01  4.858736  0.7163082  3.533119\n",
              "  0.7    1.062480e+00  4.888867  0.7150809  3.553419\n",
              "  0.7    1.199396e+00  4.924573  0.7138735  3.576941\n",
              "  0.7    1.353955e+00  4.968012  0.7124059  3.605201\n",
              "  0.7    1.528432e+00  5.017252  0.7110824  3.637102\n",
              "  0.7    1.725392e+00  5.076577  0.7097835  3.672373\n",
              "  0.7    1.947734e+00  5.152153  0.7082172  3.715177\n",
              "  0.7    2.198728e+00  5.246606  0.7061613  3.773695\n",
              "  0.7    2.482065e+00  5.357730  0.7044305  3.840932\n",
              "  0.7    2.801915e+00  5.493096  0.7020847  3.923585\n",
              "  0.7    3.162982e+00  5.656212  0.6989084  4.027836\n",
              "  0.7    3.570577e+00  5.854521  0.6935529  4.156400\n",
              "  0.7    4.030697e+00  6.093927  0.6842962  4.315167\n",
              "  0.7    4.550110e+00  6.366746  0.6720798  4.503829\n",
              "  0.7    5.136457e+00  6.640598  0.6679192  4.685829\n",
              "  0.7    5.798364e+00  6.959001  0.6640316  4.906959\n",
              "  0.7    6.545566e+00  7.331441  0.6561352  5.171074\n",
              "  0.7    7.389056e+00  7.762225  0.6334669  5.498935\n",
              "  0.7    8.341242e+00  8.212262  0.5858417  5.857804\n",
              "  0.7    9.416131e+00  8.590776  0.5103411  6.163526\n",
              "  0.7    1.062953e+01  8.618652        NaN  6.184990\n",
              "  0.7    1.199930e+01  8.618652        NaN  6.184990\n",
              "  0.7    1.354558e+01  8.618652        NaN  6.184990\n",
              "  0.7    1.529113e+01  8.618652        NaN  6.184990\n",
              "  0.7    1.726161e+01  8.618652        NaN  6.184990\n",
              "  0.7    1.948601e+01  8.618652        NaN  6.184990\n",
              "  0.7    2.199707e+01  8.618652        NaN  6.184990\n",
              "  0.7    2.483170e+01  8.618652        NaN  6.184990\n",
              "  0.7    2.803162e+01  8.618652        NaN  6.184990\n",
              "  0.7    3.164390e+01  8.618652        NaN  6.184990\n",
              "  0.7    3.572167e+01  8.618652        NaN  6.184990\n",
              "  0.7    4.032492e+01  8.618652        NaN  6.184990\n",
              "  0.7    4.552137e+01  8.618652        NaN  6.184990\n",
              "  0.7    5.138745e+01  8.618652        NaN  6.184990\n",
              "  0.7    5.800946e+01  8.618652        NaN  6.184990\n",
              "  0.7    6.548481e+01  8.618652        NaN  6.184990\n",
              "  0.7    7.392347e+01  8.618652        NaN  6.184990\n",
              "  0.7    8.344956e+01  8.618652        NaN  6.184990\n",
              "  0.7    9.420324e+01  8.618652        NaN  6.184990\n",
              "  0.7    1.063427e+02  8.618652        NaN  6.184990\n",
              "  0.7    1.200465e+02  8.618652        NaN  6.184990\n",
              "  0.7    1.355162e+02  8.618652        NaN  6.184990\n",
              "  0.7    1.529794e+02  8.618652        NaN  6.184990\n",
              "  0.7    1.726929e+02  8.618652        NaN  6.184990\n",
              "  0.7    1.949469e+02  8.618652        NaN  6.184990\n",
              "  0.7    2.200686e+02  8.618652        NaN  6.184990\n",
              "  0.7    2.484276e+02  8.618652        NaN  6.184990\n",
              "  0.7    2.804411e+02  8.618652        NaN  6.184990\n",
              "  0.7    3.165799e+02  8.618652        NaN  6.184990\n",
              "  0.7    3.573758e+02  8.618652        NaN  6.184990\n",
              "  0.7    4.034288e+02  8.618652        NaN  6.184990\n",
              "  0.7    4.554164e+02  8.618652        NaN  6.184990\n",
              "  0.7    5.141033e+02  8.618652        NaN  6.184990\n",
              "  0.7    5.803529e+02  8.618652        NaN  6.184990\n",
              "  0.7    6.551397e+02  8.618652        NaN  6.184990\n",
              "  0.7    7.395638e+02  8.618652        NaN  6.184990\n",
              "  0.7    8.348672e+02  8.618652        NaN  6.184990\n",
              "  0.7    9.424519e+02  8.618652        NaN  6.184990\n",
              "  0.7    1.063900e+03  8.618652        NaN  6.184990\n",
              "  0.7    1.200999e+03  8.618652        NaN  6.184990\n",
              "  0.7    1.355765e+03  8.618652        NaN  6.184990\n",
              "  0.7    1.530475e+03  8.618652        NaN  6.184990\n",
              "  0.7    1.727698e+03  8.618652        NaN  6.184990\n",
              "  0.7    1.950337e+03  8.618652        NaN  6.184990\n",
              "  0.7    2.201666e+03  8.618652        NaN  6.184990\n",
              "  0.7    2.485382e+03  8.618652        NaN  6.184990\n",
              "  0.7    2.805660e+03  8.618652        NaN  6.184990\n",
              "  0.7    3.167209e+03  8.618652        NaN  6.184990\n",
              "  0.7    3.575349e+03  8.618652        NaN  6.184990\n",
              "  0.7    4.036084e+03  8.618652        NaN  6.184990\n",
              "  0.7    4.556192e+03  8.618652        NaN  6.184990\n",
              "  0.7    5.143322e+03  8.618652        NaN  6.184990\n",
              "  0.7    5.806113e+03  8.618652        NaN  6.184990\n",
              "  0.7    6.554314e+03  8.618652        NaN  6.184990\n",
              "  0.7    7.398932e+03  8.618652        NaN  6.184990\n",
              "  0.7    8.352390e+03  8.618652        NaN  6.184990\n",
              "  0.7    9.428715e+03  8.618652        NaN  6.184990\n",
              "  0.7    1.064374e+04  8.618652        NaN  6.184990\n",
              "  0.7    1.201534e+04  8.618652        NaN  6.184990\n",
              "  0.7    1.356369e+04  8.618652        NaN  6.184990\n",
              "  0.7    1.531156e+04  8.618652        NaN  6.184990\n",
              "  0.7    1.728468e+04  8.618652        NaN  6.184990\n",
              "  0.7    1.951206e+04  8.618652        NaN  6.184990\n",
              "  0.7    2.202647e+04  8.618652        NaN  6.184990\n",
              "  0.8    1.353353e-01  4.604367  0.7332035  3.260545\n",
              "  0.8    1.527752e-01  4.618511  0.7321167  3.280818\n",
              "  0.8    1.724624e-01  4.636852  0.7306527  3.306402\n",
              "  0.8    1.946867e-01  4.659667  0.7287859  3.338243\n",
              "  0.8    2.197749e-01  4.686097  0.7264456  3.373010\n",
              "  0.8    2.480960e-01  4.704492  0.7248451  3.398959\n",
              "  0.8    2.800668e-01  4.718536  0.7236297  3.418923\n",
              "  0.8    3.161574e-01  4.724271  0.7233631  3.429191\n",
              "  0.8    3.568988e-01  4.731442  0.7231095  3.435956\n",
              "  0.8    4.028903e-01  4.740319  0.7227956  3.442122\n",
              "  0.8    4.548085e-01  4.753429  0.7220587  3.451881\n",
              "  0.8    5.134171e-01  4.770109  0.7210255  3.463788\n",
              "  0.8    5.795783e-01  4.791415  0.7195995  3.479821\n",
              "  0.8    6.542653e-01  4.814698  0.7180579  3.500416\n",
              "  0.8    7.385767e-01  4.834173  0.7168448  3.516508\n",
              "  0.8    8.337529e-01  4.859564  0.7153773  3.534603\n",
              "  0.8    9.411939e-01  4.888823  0.7140713  3.554918\n",
              "  0.8    1.062480e+00  4.923730  0.7127393  3.578971\n",
              "  0.8    1.199396e+00  4.966481  0.7110354  3.606822\n",
              "  0.8    1.353955e+00  5.014037  0.7095532  3.637260\n",
              "  0.8    1.528432e+00  5.072612  0.7079498  3.672075\n",
              "  0.8    1.725392e+00  5.146896  0.7060936  3.715880\n",
              "  0.8    1.947734e+00  5.233418  0.7047747  3.766722\n",
              "  0.8    2.198728e+00  5.339955  0.7030575  3.832521\n",
              "  0.8    2.482065e+00  5.471210  0.7006001  3.912428\n",
              "  0.8    2.801915e+00  5.633108  0.6965472  4.017346\n",
              "  0.8    3.162982e+00  5.831761  0.6897451  4.145530\n",
              "  0.8    3.570577e+00  6.071720  0.6788051  4.306850\n",
              "  0.8    4.030697e+00  6.330057  0.6687215  4.480157\n",
              "  0.8    4.550110e+00  6.602072  0.6655100  4.660207\n",
              "  0.8    5.136457e+00  6.927596  0.6605182  4.883874\n",
              "  0.8    5.798364e+00  7.313376  0.6501078  5.156400\n",
              "  0.8    6.545566e+00  7.764274  0.6199332  5.498490\n",
              "  0.8    7.389056e+00  8.226904  0.5768308  5.869458\n",
              "  0.8    8.341242e+00  8.612061  0.4867605  6.179968\n",
              "  0.8    9.416131e+00  8.618652        NaN  6.184990\n",
              "  0.8    1.062953e+01  8.618652        NaN  6.184990\n",
              "  0.8    1.199930e+01  8.618652        NaN  6.184990\n",
              "  0.8    1.354558e+01  8.618652        NaN  6.184990\n",
              "  0.8    1.529113e+01  8.618652        NaN  6.184990\n",
              "  0.8    1.726161e+01  8.618652        NaN  6.184990\n",
              "  0.8    1.948601e+01  8.618652        NaN  6.184990\n",
              "  0.8    2.199707e+01  8.618652        NaN  6.184990\n",
              "  0.8    2.483170e+01  8.618652        NaN  6.184990\n",
              "  0.8    2.803162e+01  8.618652        NaN  6.184990\n",
              "  0.8    3.164390e+01  8.618652        NaN  6.184990\n",
              "  0.8    3.572167e+01  8.618652        NaN  6.184990\n",
              "  0.8    4.032492e+01  8.618652        NaN  6.184990\n",
              "  0.8    4.552137e+01  8.618652        NaN  6.184990\n",
              "  0.8    5.138745e+01  8.618652        NaN  6.184990\n",
              "  0.8    5.800946e+01  8.618652        NaN  6.184990\n",
              "  0.8    6.548481e+01  8.618652        NaN  6.184990\n",
              "  0.8    7.392347e+01  8.618652        NaN  6.184990\n",
              "  0.8    8.344956e+01  8.618652        NaN  6.184990\n",
              "  0.8    9.420324e+01  8.618652        NaN  6.184990\n",
              "  0.8    1.063427e+02  8.618652        NaN  6.184990\n",
              "  0.8    1.200465e+02  8.618652        NaN  6.184990\n",
              "  0.8    1.355162e+02  8.618652        NaN  6.184990\n",
              "  0.8    1.529794e+02  8.618652        NaN  6.184990\n",
              "  0.8    1.726929e+02  8.618652        NaN  6.184990\n",
              "  0.8    1.949469e+02  8.618652        NaN  6.184990\n",
              "  0.8    2.200686e+02  8.618652        NaN  6.184990\n",
              "  0.8    2.484276e+02  8.618652        NaN  6.184990\n",
              "  0.8    2.804411e+02  8.618652        NaN  6.184990\n",
              "  0.8    3.165799e+02  8.618652        NaN  6.184990\n",
              "  0.8    3.573758e+02  8.618652        NaN  6.184990\n",
              "  0.8    4.034288e+02  8.618652        NaN  6.184990\n",
              "  0.8    4.554164e+02  8.618652        NaN  6.184990\n",
              "  0.8    5.141033e+02  8.618652        NaN  6.184990\n",
              "  0.8    5.803529e+02  8.618652        NaN  6.184990\n",
              "  0.8    6.551397e+02  8.618652        NaN  6.184990\n",
              "  0.8    7.395638e+02  8.618652        NaN  6.184990\n",
              "  0.8    8.348672e+02  8.618652        NaN  6.184990\n",
              "  0.8    9.424519e+02  8.618652        NaN  6.184990\n",
              "  0.8    1.063900e+03  8.618652        NaN  6.184990\n",
              "  0.8    1.200999e+03  8.618652        NaN  6.184990\n",
              "  0.8    1.355765e+03  8.618652        NaN  6.184990\n",
              "  0.8    1.530475e+03  8.618652        NaN  6.184990\n",
              "  0.8    1.727698e+03  8.618652        NaN  6.184990\n",
              "  0.8    1.950337e+03  8.618652        NaN  6.184990\n",
              "  0.8    2.201666e+03  8.618652        NaN  6.184990\n",
              "  0.8    2.485382e+03  8.618652        NaN  6.184990\n",
              "  0.8    2.805660e+03  8.618652        NaN  6.184990\n",
              "  0.8    3.167209e+03  8.618652        NaN  6.184990\n",
              "  0.8    3.575349e+03  8.618652        NaN  6.184990\n",
              "  0.8    4.036084e+03  8.618652        NaN  6.184990\n",
              "  0.8    4.556192e+03  8.618652        NaN  6.184990\n",
              "  0.8    5.143322e+03  8.618652        NaN  6.184990\n",
              "  0.8    5.806113e+03  8.618652        NaN  6.184990\n",
              "  0.8    6.554314e+03  8.618652        NaN  6.184990\n",
              "  0.8    7.398932e+03  8.618652        NaN  6.184990\n",
              "  0.8    8.352390e+03  8.618652        NaN  6.184990\n",
              "  0.8    9.428715e+03  8.618652        NaN  6.184990\n",
              "  0.8    1.064374e+04  8.618652        NaN  6.184990\n",
              "  0.8    1.201534e+04  8.618652        NaN  6.184990\n",
              "  0.8    1.356369e+04  8.618652        NaN  6.184990\n",
              "  0.8    1.531156e+04  8.618652        NaN  6.184990\n",
              "  0.8    1.728468e+04  8.618652        NaN  6.184990\n",
              "  0.8    1.951206e+04  8.618652        NaN  6.184990\n",
              "  0.8    2.202647e+04  8.618652        NaN  6.184990\n",
              "  0.9    1.353353e-01  4.617208  0.7321700  3.277655\n",
              "  0.9    1.527752e-01  4.635423  0.7307119  3.302942\n",
              "  0.9    1.724624e-01  4.658353  0.7288265  3.335027\n",
              "  0.9    1.946867e-01  4.685102  0.7264523  3.370452\n",
              "  0.9    2.197749e-01  4.704361  0.7247553  3.397793\n",
              "  0.9    2.480960e-01  4.719110  0.7234528  3.418653\n",
              "  0.9    2.800668e-01  4.724846  0.7231620  3.429397\n",
              "  0.9    3.161574e-01  4.731787  0.7228980  3.436261\n",
              "  0.9    3.568988e-01  4.739966  0.7226162  3.441834\n",
              "  0.9    4.028903e-01  4.752959  0.7218231  3.450808\n",
              "  0.9    4.548085e-01  4.769092  0.7207794  3.462744\n",
              "  0.9    5.134171e-01  4.789586  0.7193447  3.477916\n",
              "  0.9    5.795783e-01  4.813234  0.7177076  3.498569\n",
              "  0.9    6.542653e-01  4.832923  0.7163435  3.515522\n",
              "  0.9    7.385767e-01  4.857649  0.7147691  3.533727\n",
              "  0.9    8.337529e-01  4.885792  0.7133985  3.554110\n",
              "  0.9    9.411939e-01  4.919892  0.7118952  3.578352\n",
              "  0.9    1.062480e+00  4.961104  0.7100758  3.605167\n",
              "  0.9    1.199396e+00  5.007230  0.7083501  3.634963\n",
              "  0.9    1.353955e+00  5.063704  0.7065636  3.669664\n",
              "  0.9    1.528432e+00  5.131193  0.7051991  3.708560\n",
              "  0.9    1.725392e+00  5.211915  0.7039816  3.754952\n",
              "  0.9    1.947734e+00  5.312750  0.7022654  3.817654\n",
              "  0.9    2.198728e+00  5.439308  0.6995036  3.895173\n",
              "  0.9    2.482065e+00  5.596943  0.6948259  3.997573\n",
              "  0.9    2.801915e+00  5.792196  0.6869486  4.121934\n",
              "  0.9    3.162982e+00  6.027282  0.6752138  4.282652\n",
              "  0.9    3.570577e+00  6.270394  0.6669240  4.440533\n",
              "  0.9    4.030697e+00  6.538295  0.6634030  4.617611\n",
              "  0.9    4.550110e+00  6.862950  0.6575050  4.838455\n",
              "  0.9    5.136457e+00  7.252501  0.6452487  5.110677\n",
              "  0.9    5.798364e+00  7.712276  0.6113073  5.455869\n",
              "  0.9    6.545566e+00  8.185206  0.5745339  5.835431\n",
              "  0.9    7.389056e+00  8.607191  0.4626700  6.176270\n",
              "  0.9    8.341242e+00  8.618652        NaN  6.184990\n",
              "  0.9    9.416131e+00  8.618652        NaN  6.184990\n",
              "  0.9    1.062953e+01  8.618652        NaN  6.184990\n",
              "  0.9    1.199930e+01  8.618652        NaN  6.184990\n",
              "  0.9    1.354558e+01  8.618652        NaN  6.184990\n",
              "  0.9    1.529113e+01  8.618652        NaN  6.184990\n",
              "  0.9    1.726161e+01  8.618652        NaN  6.184990\n",
              "  0.9    1.948601e+01  8.618652        NaN  6.184990\n",
              "  0.9    2.199707e+01  8.618652        NaN  6.184990\n",
              "  0.9    2.483170e+01  8.618652        NaN  6.184990\n",
              "  0.9    2.803162e+01  8.618652        NaN  6.184990\n",
              "  0.9    3.164390e+01  8.618652        NaN  6.184990\n",
              "  0.9    3.572167e+01  8.618652        NaN  6.184990\n",
              "  0.9    4.032492e+01  8.618652        NaN  6.184990\n",
              "  0.9    4.552137e+01  8.618652        NaN  6.184990\n",
              "  0.9    5.138745e+01  8.618652        NaN  6.184990\n",
              "  0.9    5.800946e+01  8.618652        NaN  6.184990\n",
              "  0.9    6.548481e+01  8.618652        NaN  6.184990\n",
              "  0.9    7.392347e+01  8.618652        NaN  6.184990\n",
              "  0.9    8.344956e+01  8.618652        NaN  6.184990\n",
              "  0.9    9.420324e+01  8.618652        NaN  6.184990\n",
              "  0.9    1.063427e+02  8.618652        NaN  6.184990\n",
              "  0.9    1.200465e+02  8.618652        NaN  6.184990\n",
              "  0.9    1.355162e+02  8.618652        NaN  6.184990\n",
              "  0.9    1.529794e+02  8.618652        NaN  6.184990\n",
              "  0.9    1.726929e+02  8.618652        NaN  6.184990\n",
              "  0.9    1.949469e+02  8.618652        NaN  6.184990\n",
              "  0.9    2.200686e+02  8.618652        NaN  6.184990\n",
              "  0.9    2.484276e+02  8.618652        NaN  6.184990\n",
              "  0.9    2.804411e+02  8.618652        NaN  6.184990\n",
              "  0.9    3.165799e+02  8.618652        NaN  6.184990\n",
              "  0.9    3.573758e+02  8.618652        NaN  6.184990\n",
              "  0.9    4.034288e+02  8.618652        NaN  6.184990\n",
              "  0.9    4.554164e+02  8.618652        NaN  6.184990\n",
              "  0.9    5.141033e+02  8.618652        NaN  6.184990\n",
              "  0.9    5.803529e+02  8.618652        NaN  6.184990\n",
              "  0.9    6.551397e+02  8.618652        NaN  6.184990\n",
              "  0.9    7.395638e+02  8.618652        NaN  6.184990\n",
              "  0.9    8.348672e+02  8.618652        NaN  6.184990\n",
              "  0.9    9.424519e+02  8.618652        NaN  6.184990\n",
              "  0.9    1.063900e+03  8.618652        NaN  6.184990\n",
              "  0.9    1.200999e+03  8.618652        NaN  6.184990\n",
              "  0.9    1.355765e+03  8.618652        NaN  6.184990\n",
              "  0.9    1.530475e+03  8.618652        NaN  6.184990\n",
              "  0.9    1.727698e+03  8.618652        NaN  6.184990\n",
              "  0.9    1.950337e+03  8.618652        NaN  6.184990\n",
              "  0.9    2.201666e+03  8.618652        NaN  6.184990\n",
              "  0.9    2.485382e+03  8.618652        NaN  6.184990\n",
              "  0.9    2.805660e+03  8.618652        NaN  6.184990\n",
              "  0.9    3.167209e+03  8.618652        NaN  6.184990\n",
              "  0.9    3.575349e+03  8.618652        NaN  6.184990\n",
              "  0.9    4.036084e+03  8.618652        NaN  6.184990\n",
              "  0.9    4.556192e+03  8.618652        NaN  6.184990\n",
              "  0.9    5.143322e+03  8.618652        NaN  6.184990\n",
              "  0.9    5.806113e+03  8.618652        NaN  6.184990\n",
              "  0.9    6.554314e+03  8.618652        NaN  6.184990\n",
              "  0.9    7.398932e+03  8.618652        NaN  6.184990\n",
              "  0.9    8.352390e+03  8.618652        NaN  6.184990\n",
              "  0.9    9.428715e+03  8.618652        NaN  6.184990\n",
              "  0.9    1.064374e+04  8.618652        NaN  6.184990\n",
              "  0.9    1.201534e+04  8.618652        NaN  6.184990\n",
              "  0.9    1.356369e+04  8.618652        NaN  6.184990\n",
              "  0.9    1.531156e+04  8.618652        NaN  6.184990\n",
              "  0.9    1.728468e+04  8.618652        NaN  6.184990\n",
              "  0.9    1.951206e+04  8.618652        NaN  6.184990\n",
              "  0.9    2.202647e+04  8.618652        NaN  6.184990\n",
              "  1.0    1.353353e-01  4.632088  0.7309388  3.297140\n",
              "  1.0    1.527752e-01  4.654550  0.7290978  3.328722\n",
              "  1.0    1.724624e-01  4.681207  0.7267441  3.364292\n",
              "  1.0    1.946867e-01  4.702523  0.7248463  3.394154\n",
              "  1.0    2.197749e-01  4.718655  0.7233792  3.416849\n",
              "  1.0    2.480960e-01  4.724885  0.7230068  3.428871\n",
              "  1.0    2.800668e-01  4.731404  0.7227439  3.435846\n",
              "  1.0    3.161574e-01  4.738640  0.7225371  3.440904\n",
              "  1.0    3.568988e-01  4.751106  0.7217331  3.448878\n",
              "  1.0    4.028903e-01  4.766397  0.7207011  3.460621\n",
              "  1.0    4.548085e-01  4.785761  0.7193279  3.474313\n",
              "  1.0    5.134171e-01  4.809704  0.7176028  3.494946\n",
              "  1.0    5.795783e-01  4.830048  0.7160886  3.513050\n",
              "  1.0    6.542653e-01  4.853677  0.7144308  3.530943\n",
              "  1.0    7.385767e-01  4.880765  0.7129716  3.551154\n",
              "  1.0    8.337529e-01  4.913477  0.7113773  3.575277\n",
              "  1.0    9.411939e-01  4.952979  0.7094603  3.601327\n",
              "  1.0    1.062480e+00  4.997558  0.7074897  3.630639\n",
              "  1.0    1.199396e+00  5.049930  0.7058038  3.663811\n",
              "  1.0    1.353955e+00  5.111104  0.7046784  3.699374\n",
              "  1.0    1.528432e+00  5.185661  0.7035271  3.741297\n",
              "  1.0    1.725392e+00  5.279757  0.7018551  3.798621\n",
              "  1.0    1.947734e+00  5.400257  0.6988384  3.872613\n",
              "  1.0    2.198728e+00  5.551241  0.6937791  3.970409\n",
              "  1.0    2.482065e+00  5.739200  0.6854738  4.091387\n",
              "  1.0    2.801915e+00  5.964980  0.6735602  4.242414\n",
              "  1.0    3.162982e+00  6.196381  0.6656515  4.394019\n",
              "  1.0    3.570577e+00  6.454946  0.6617432  4.563131\n",
              "  1.0    4.030697e+00  6.771541  0.6552547  4.773368\n",
              "  1.0    4.550110e+00  7.155786  0.6420813  5.039923\n",
              "  1.0    5.136457e+00  7.612198  0.6102215  5.377014\n",
              "  1.0    5.798364e+00  8.092677  0.5762112  5.759273\n",
              "  1.0    6.545566e+00  8.565934  0.4914015  6.144198\n",
              "  1.0    7.389056e+00  8.618652        NaN  6.184990\n",
              "  1.0    8.341242e+00  8.618652        NaN  6.184990\n",
              "  1.0    9.416131e+00  8.618652        NaN  6.184990\n",
              "  1.0    1.062953e+01  8.618652        NaN  6.184990\n",
              "  1.0    1.199930e+01  8.618652        NaN  6.184990\n",
              "  1.0    1.354558e+01  8.618652        NaN  6.184990\n",
              "  1.0    1.529113e+01  8.618652        NaN  6.184990\n",
              "  1.0    1.726161e+01  8.618652        NaN  6.184990\n",
              "  1.0    1.948601e+01  8.618652        NaN  6.184990\n",
              "  1.0    2.199707e+01  8.618652        NaN  6.184990\n",
              "  1.0    2.483170e+01  8.618652        NaN  6.184990\n",
              "  1.0    2.803162e+01  8.618652        NaN  6.184990\n",
              "  1.0    3.164390e+01  8.618652        NaN  6.184990\n",
              "  1.0    3.572167e+01  8.618652        NaN  6.184990\n",
              "  1.0    4.032492e+01  8.618652        NaN  6.184990\n",
              "  1.0    4.552137e+01  8.618652        NaN  6.184990\n",
              "  1.0    5.138745e+01  8.618652        NaN  6.184990\n",
              "  1.0    5.800946e+01  8.618652        NaN  6.184990\n",
              "  1.0    6.548481e+01  8.618652        NaN  6.184990\n",
              "  1.0    7.392347e+01  8.618652        NaN  6.184990\n",
              "  1.0    8.344956e+01  8.618652        NaN  6.184990\n",
              "  1.0    9.420324e+01  8.618652        NaN  6.184990\n",
              "  1.0    1.063427e+02  8.618652        NaN  6.184990\n",
              "  1.0    1.200465e+02  8.618652        NaN  6.184990\n",
              "  1.0    1.355162e+02  8.618652        NaN  6.184990\n",
              "  1.0    1.529794e+02  8.618652        NaN  6.184990\n",
              "  1.0    1.726929e+02  8.618652        NaN  6.184990\n",
              "  1.0    1.949469e+02  8.618652        NaN  6.184990\n",
              "  1.0    2.200686e+02  8.618652        NaN  6.184990\n",
              "  1.0    2.484276e+02  8.618652        NaN  6.184990\n",
              "  1.0    2.804411e+02  8.618652        NaN  6.184990\n",
              "  1.0    3.165799e+02  8.618652        NaN  6.184990\n",
              "  1.0    3.573758e+02  8.618652        NaN  6.184990\n",
              "  1.0    4.034288e+02  8.618652        NaN  6.184990\n",
              "  1.0    4.554164e+02  8.618652        NaN  6.184990\n",
              "  1.0    5.141033e+02  8.618652        NaN  6.184990\n",
              "  1.0    5.803529e+02  8.618652        NaN  6.184990\n",
              "  1.0    6.551397e+02  8.618652        NaN  6.184990\n",
              "  1.0    7.395638e+02  8.618652        NaN  6.184990\n",
              "  1.0    8.348672e+02  8.618652        NaN  6.184990\n",
              "  1.0    9.424519e+02  8.618652        NaN  6.184990\n",
              "  1.0    1.063900e+03  8.618652        NaN  6.184990\n",
              "  1.0    1.200999e+03  8.618652        NaN  6.184990\n",
              "  1.0    1.355765e+03  8.618652        NaN  6.184990\n",
              "  1.0    1.530475e+03  8.618652        NaN  6.184990\n",
              "  1.0    1.727698e+03  8.618652        NaN  6.184990\n",
              "  1.0    1.950337e+03  8.618652        NaN  6.184990\n",
              "  1.0    2.201666e+03  8.618652        NaN  6.184990\n",
              "  1.0    2.485382e+03  8.618652        NaN  6.184990\n",
              "  1.0    2.805660e+03  8.618652        NaN  6.184990\n",
              "  1.0    3.167209e+03  8.618652        NaN  6.184990\n",
              "  1.0    3.575349e+03  8.618652        NaN  6.184990\n",
              "  1.0    4.036084e+03  8.618652        NaN  6.184990\n",
              "  1.0    4.556192e+03  8.618652        NaN  6.184990\n",
              "  1.0    5.143322e+03  8.618652        NaN  6.184990\n",
              "  1.0    5.806113e+03  8.618652        NaN  6.184990\n",
              "  1.0    6.554314e+03  8.618652        NaN  6.184990\n",
              "  1.0    7.398932e+03  8.618652        NaN  6.184990\n",
              "  1.0    8.352390e+03  8.618652        NaN  6.184990\n",
              "  1.0    9.428715e+03  8.618652        NaN  6.184990\n",
              "  1.0    1.064374e+04  8.618652        NaN  6.184990\n",
              "  1.0    1.201534e+04  8.618652        NaN  6.184990\n",
              "  1.0    1.356369e+04  8.618652        NaN  6.184990\n",
              "  1.0    1.531156e+04  8.618652        NaN  6.184990\n",
              "  1.0    1.728468e+04  8.618652        NaN  6.184990\n",
              "  1.0    1.951206e+04  8.618652        NaN  6.184990\n",
              "  1.0    2.202647e+04  8.618652        NaN  6.184990\n",
              "\n",
              "RMSE was used to select the optimal model using the smallest value.\n",
              "The final values used for the model were alpha = 0 and lambda = 0.5795783."
            ]
          },
          "metadata": {
            "tags": []
          }
        }
      ]
    },
    {
      "cell_type": "code",
      "metadata": {
        "colab": {
          "base_uri": "https://localhost:8080/",
          "height": 35
        },
        "id": "nMQwNRi3UTTc",
        "outputId": "a6bdacef-10a4-40eb-91ad-b43bbc695964"
      },
      "source": [
        "pred = predict.train(fit, newdata = x.test)\n",
        "mean((y.test-pred)^2)"
      ],
      "execution_count": 80,
      "outputs": [
        {
          "output_type": "display_data",
          "data": {
            "text/plain": [
              "[1] 27.19152"
            ],
            "text/latex": "27.1915228256407",
            "text/markdown": "27.1915228256407",
            "text/html": [
              "27.1915228256407"
            ]
          },
          "metadata": {
            "tags": []
          }
        }
      ]
    },
    {
      "cell_type": "code",
      "metadata": {
        "id": "MbsoCQl7VVC-"
      },
      "source": [
        "myGrid = expand.grid(alpha = seq(0,1,by=0.2), lambda = exp(seq(10,-2, length = 10)))"
      ],
      "execution_count": 83,
      "outputs": []
    },
    {
      "cell_type": "code",
      "metadata": {
        "colab": {
          "base_uri": "https://localhost:8080/",
          "height": 447
        },
        "id": "b0SdLKs5Vdds",
        "outputId": "38cbbadf-5861-4708-a417-9f879cf8030f"
      },
      "source": [
        "set.seed(1)\n",
        "fit = train(x.train, y.train, method = \"glmnet\", trControl = myControl, tunreGrid = myGrid)\n",
        "fit"
      ],
      "execution_count": 85,
      "outputs": [
        {
          "output_type": "display_data",
          "data": {
            "text/plain": [
              "glmnet \n",
              "\n",
              "253 samples\n",
              " 13 predictor\n",
              "\n",
              "No pre-processing\n",
              "Resampling: Cross-Validated (10 fold) \n",
              "Summary of sample sizes: 228, 228, 229, 225, 228, 229, ... \n",
              "Resampling results across tuning parameters:\n",
              "\n",
              "  alpha  lambda      RMSE      Rsquared   MAE     \n",
              "  0.10   0.01309253  4.596732  0.7320047  3.257398\n",
              "  0.10   0.13092533  4.575520  0.7343205  3.230858\n",
              "  0.10   1.30925330  4.680772  0.7302572  3.378485\n",
              "  0.55   0.01309253  4.594438  0.7322887  3.255153\n",
              "  0.55   0.13092533  4.579123  0.7350748  3.230251\n",
              "  0.55   1.30925330  4.890200  0.7168642  3.551565\n",
              "  1.00   0.01309253  4.591760  0.7326029  3.251771\n",
              "  1.00   0.13092533  4.626816  0.7313639  3.289978\n",
              "  1.00   1.30925330  5.093136  0.7049635  3.688943\n",
              "\n",
              "RMSE was used to select the optimal model using the smallest value.\n",
              "The final values used for the model were alpha = 0.1 and lambda = 0.1309253."
            ]
          },
          "metadata": {
            "tags": []
          }
        }
      ]
    },
    {
      "cell_type": "code",
      "metadata": {
        "id": "MNUqm9kvU8DB"
      },
      "source": [
        "##regularization for classification(logistic regression)"
      ],
      "execution_count": 86,
      "outputs": []
    },
    {
      "cell_type": "code",
      "metadata": {
        "id": "XCZpR2I9V48m"
      },
      "source": [
        "hdata = read.csv(\"Heart.csv\", stringsAsFactors = T)"
      ],
      "execution_count": 93,
      "outputs": []
    },
    {
      "cell_type": "code",
      "metadata": {
        "colab": {
          "base_uri": "https://localhost:8080/",
          "height": 281
        },
        "id": "G77SxF3vWi6u",
        "outputId": "d4364007-7af6-4bac-ca74-c7aa89f547d2"
      },
      "source": [
        "head(hdata)"
      ],
      "execution_count": 94,
      "outputs": [
        {
          "output_type": "display_data",
          "data": {
            "text/plain": [
              "  X Age Sex ChestPain    RestBP Chol Fbs RestECG MaxHR ExAng Oldpeak Slope Ca\n",
              "1 1 63  1   typical      145    233  1   2       150   0     2.3     3     0 \n",
              "2 2 67  1   asymptomatic 160    286  0   2       108   1     1.5     2     3 \n",
              "3 3 67  1   asymptomatic 120    229  0   2       129   1     2.6     2     2 \n",
              "4 4 37  1   nonanginal   130    250  0   0       187   0     3.5     3     0 \n",
              "5 5 41  0   nontypical   130    204  0   2       172   0     1.4     1     0 \n",
              "6 6 56  1   nontypical   120    236  0   0       178   0     0.8     1     0 \n",
              "  Thal       AHD\n",
              "1 fixed      No \n",
              "2 normal     Yes\n",
              "3 reversable Yes\n",
              "4 normal     No \n",
              "5 normal     No \n",
              "6 normal     No "
            ],
            "text/latex": "A data.frame: 6 × 15\n\\begin{tabular}{r|lllllllllllllll}\n  & X & Age & Sex & ChestPain & RestBP & Chol & Fbs & RestECG & MaxHR & ExAng & Oldpeak & Slope & Ca & Thal & AHD\\\\\n  & <int> & <int> & <int> & <fct> & <int> & <int> & <int> & <int> & <int> & <int> & <dbl> & <int> & <int> & <fct> & <fct>\\\\\n\\hline\n\t1 & 1 & 63 & 1 & typical      & 145 & 233 & 1 & 2 & 150 & 0 & 2.3 & 3 & 0 & fixed      & No \\\\\n\t2 & 2 & 67 & 1 & asymptomatic & 160 & 286 & 0 & 2 & 108 & 1 & 1.5 & 2 & 3 & normal     & Yes\\\\\n\t3 & 3 & 67 & 1 & asymptomatic & 120 & 229 & 0 & 2 & 129 & 1 & 2.6 & 2 & 2 & reversable & Yes\\\\\n\t4 & 4 & 37 & 1 & nonanginal   & 130 & 250 & 0 & 0 & 187 & 0 & 3.5 & 3 & 0 & normal     & No \\\\\n\t5 & 5 & 41 & 0 & nontypical   & 130 & 204 & 0 & 2 & 172 & 0 & 1.4 & 1 & 0 & normal     & No \\\\\n\t6 & 6 & 56 & 1 & nontypical   & 120 & 236 & 0 & 0 & 178 & 0 & 0.8 & 1 & 0 & normal     & No \\\\\n\\end{tabular}\n",
            "text/markdown": "\nA data.frame: 6 × 15\n\n| <!--/--> | X &lt;int&gt; | Age &lt;int&gt; | Sex &lt;int&gt; | ChestPain &lt;fct&gt; | RestBP &lt;int&gt; | Chol &lt;int&gt; | Fbs &lt;int&gt; | RestECG &lt;int&gt; | MaxHR &lt;int&gt; | ExAng &lt;int&gt; | Oldpeak &lt;dbl&gt; | Slope &lt;int&gt; | Ca &lt;int&gt; | Thal &lt;fct&gt; | AHD &lt;fct&gt; |\n|---|---|---|---|---|---|---|---|---|---|---|---|---|---|---|---|\n| 1 | 1 | 63 | 1 | typical      | 145 | 233 | 1 | 2 | 150 | 0 | 2.3 | 3 | 0 | fixed      | No  |\n| 2 | 2 | 67 | 1 | asymptomatic | 160 | 286 | 0 | 2 | 108 | 1 | 1.5 | 2 | 3 | normal     | Yes |\n| 3 | 3 | 67 | 1 | asymptomatic | 120 | 229 | 0 | 2 | 129 | 1 | 2.6 | 2 | 2 | reversable | Yes |\n| 4 | 4 | 37 | 1 | nonanginal   | 130 | 250 | 0 | 0 | 187 | 0 | 3.5 | 3 | 0 | normal     | No  |\n| 5 | 5 | 41 | 0 | nontypical   | 130 | 204 | 0 | 2 | 172 | 0 | 1.4 | 1 | 0 | normal     | No  |\n| 6 | 6 | 56 | 1 | nontypical   | 120 | 236 | 0 | 0 | 178 | 0 | 0.8 | 1 | 0 | normal     | No  |\n\n",
            "text/html": [
              "<table class=\"dataframe\">\n",
              "<caption>A data.frame: 6 × 15</caption>\n",
              "<thead>\n",
              "\t<tr><th></th><th scope=col>X</th><th scope=col>Age</th><th scope=col>Sex</th><th scope=col>ChestPain</th><th scope=col>RestBP</th><th scope=col>Chol</th><th scope=col>Fbs</th><th scope=col>RestECG</th><th scope=col>MaxHR</th><th scope=col>ExAng</th><th scope=col>Oldpeak</th><th scope=col>Slope</th><th scope=col>Ca</th><th scope=col>Thal</th><th scope=col>AHD</th></tr>\n",
              "\t<tr><th></th><th scope=col>&lt;int&gt;</th><th scope=col>&lt;int&gt;</th><th scope=col>&lt;int&gt;</th><th scope=col>&lt;fct&gt;</th><th scope=col>&lt;int&gt;</th><th scope=col>&lt;int&gt;</th><th scope=col>&lt;int&gt;</th><th scope=col>&lt;int&gt;</th><th scope=col>&lt;int&gt;</th><th scope=col>&lt;int&gt;</th><th scope=col>&lt;dbl&gt;</th><th scope=col>&lt;int&gt;</th><th scope=col>&lt;int&gt;</th><th scope=col>&lt;fct&gt;</th><th scope=col>&lt;fct&gt;</th></tr>\n",
              "</thead>\n",
              "<tbody>\n",
              "\t<tr><th scope=row>1</th><td>1</td><td>63</td><td>1</td><td>typical     </td><td>145</td><td>233</td><td>1</td><td>2</td><td>150</td><td>0</td><td>2.3</td><td>3</td><td>0</td><td>fixed     </td><td>No </td></tr>\n",
              "\t<tr><th scope=row>2</th><td>2</td><td>67</td><td>1</td><td>asymptomatic</td><td>160</td><td>286</td><td>0</td><td>2</td><td>108</td><td>1</td><td>1.5</td><td>2</td><td>3</td><td>normal    </td><td>Yes</td></tr>\n",
              "\t<tr><th scope=row>3</th><td>3</td><td>67</td><td>1</td><td>asymptomatic</td><td>120</td><td>229</td><td>0</td><td>2</td><td>129</td><td>1</td><td>2.6</td><td>2</td><td>2</td><td>reversable</td><td>Yes</td></tr>\n",
              "\t<tr><th scope=row>4</th><td>4</td><td>37</td><td>1</td><td>nonanginal  </td><td>130</td><td>250</td><td>0</td><td>0</td><td>187</td><td>0</td><td>3.5</td><td>3</td><td>0</td><td>normal    </td><td>No </td></tr>\n",
              "\t<tr><th scope=row>5</th><td>5</td><td>41</td><td>0</td><td>nontypical  </td><td>130</td><td>204</td><td>0</td><td>2</td><td>172</td><td>0</td><td>1.4</td><td>1</td><td>0</td><td>normal    </td><td>No </td></tr>\n",
              "\t<tr><th scope=row>6</th><td>6</td><td>56</td><td>1</td><td>nontypical  </td><td>120</td><td>236</td><td>0</td><td>0</td><td>178</td><td>0</td><td>0.8</td><td>1</td><td>0</td><td>normal    </td><td>No </td></tr>\n",
              "</tbody>\n",
              "</table>\n"
            ]
          },
          "metadata": {
            "tags": []
          }
        }
      ]
    },
    {
      "cell_type": "code",
      "metadata": {
        "id": "pSN9CgxSW1XW"
      },
      "source": [
        "hdata$X = NULL"
      ],
      "execution_count": 95,
      "outputs": []
    },
    {
      "cell_type": "code",
      "metadata": {
        "colab": {
          "base_uri": "https://localhost:8080/"
        },
        "id": "3W2qqqk7W65p",
        "outputId": "c4dbf47f-8bda-4ed3-b8ee-498a626dc6d8"
      },
      "source": [
        "str(hdata)"
      ],
      "execution_count": 96,
      "outputs": [
        {
          "output_type": "stream",
          "text": [
            "'data.frame':\t303 obs. of  14 variables:\n",
            " $ Age      : int  63 67 67 37 41 56 62 57 63 53 ...\n",
            " $ Sex      : int  1 1 1 1 0 1 0 0 1 1 ...\n",
            " $ ChestPain: Factor w/ 4 levels \"asymptomatic\",..: 4 1 1 2 3 3 1 1 1 1 ...\n",
            " $ RestBP   : int  145 160 120 130 130 120 140 120 130 140 ...\n",
            " $ Chol     : int  233 286 229 250 204 236 268 354 254 203 ...\n",
            " $ Fbs      : int  1 0 0 0 0 0 0 0 0 1 ...\n",
            " $ RestECG  : int  2 2 2 0 2 0 2 0 2 2 ...\n",
            " $ MaxHR    : int  150 108 129 187 172 178 160 163 147 155 ...\n",
            " $ ExAng    : int  0 1 1 0 0 0 0 1 0 1 ...\n",
            " $ Oldpeak  : num  2.3 1.5 2.6 3.5 1.4 0.8 3.6 0.6 1.4 3.1 ...\n",
            " $ Slope    : int  3 2 2 3 1 1 3 1 2 3 ...\n",
            " $ Ca       : int  0 3 2 0 0 0 2 0 1 0 ...\n",
            " $ Thal     : Factor w/ 3 levels \"fixed\",\"normal\",..: 1 2 3 2 2 2 2 2 3 3 ...\n",
            " $ AHD      : Factor w/ 2 levels \"No\",\"Yes\": 1 2 2 1 1 1 2 1 2 2 ...\n"
          ],
          "name": "stdout"
        }
      ]
    },
    {
      "cell_type": "code",
      "metadata": {
        "colab": {
          "base_uri": "https://localhost:8080/",
          "height": 35
        },
        "id": "K7SS_DziXFFm",
        "outputId": "deb8df75-a8e4-4f62-bd10-a9b1ac3c7223"
      },
      "source": [
        "sum(is.na(hdata))"
      ],
      "execution_count": 97,
      "outputs": [
        {
          "output_type": "display_data",
          "data": {
            "text/plain": [
              "[1] 6"
            ],
            "text/latex": "6",
            "text/markdown": "6",
            "text/html": [
              "6"
            ]
          },
          "metadata": {
            "tags": []
          }
        }
      ]
    },
    {
      "cell_type": "code",
      "metadata": {
        "colab": {
          "base_uri": "https://localhost:8080/",
          "height": 35
        },
        "id": "0ynenkHZXP4T",
        "outputId": "6b6b7b19-abfe-4115-9fa9-251c1b0ee2bf"
      },
      "source": [
        "dim(hdata)"
      ],
      "execution_count": 98,
      "outputs": [
        {
          "output_type": "display_data",
          "data": {
            "text/plain": [
              "[1] 303  14"
            ],
            "text/latex": "\\begin{enumerate*}\n\\item 303\n\\item 14\n\\end{enumerate*}\n",
            "text/markdown": "1. 303\n2. 14\n\n\n",
            "text/html": [
              "<style>\n",
              ".list-inline {list-style: none; margin:0; padding: 0}\n",
              ".list-inline>li {display: inline-block}\n",
              ".list-inline>li:not(:last-child)::after {content: \"\\00b7\"; padding: 0 .5ex}\n",
              "</style>\n",
              "<ol class=list-inline><li>303</li><li>14</li></ol>\n"
            ]
          },
          "metadata": {
            "tags": []
          }
        }
      ]
    },
    {
      "cell_type": "code",
      "metadata": {
        "id": "WtFZxsXvXRES"
      },
      "source": [
        "hdata = na.omit(hdata)"
      ],
      "execution_count": 99,
      "outputs": []
    },
    {
      "cell_type": "code",
      "metadata": {
        "id": "RcknyB4jXUtE"
      },
      "source": [
        "n = dim(hdata)[1]"
      ],
      "execution_count": 100,
      "outputs": []
    },
    {
      "cell_type": "code",
      "metadata": {
        "id": "ysR0eT5wXW0l"
      },
      "source": [
        "set.seed(1)"
      ],
      "execution_count": 101,
      "outputs": []
    },
    {
      "cell_type": "code",
      "metadata": {
        "id": "aDJ7gFh1XX1T"
      },
      "source": [
        "train = sample(n, n/2)"
      ],
      "execution_count": 102,
      "outputs": []
    },
    {
      "cell_type": "code",
      "metadata": {
        "id": "VIbLD5W-XZ6d"
      },
      "source": [
        "x = model.matrix(AHD~., data = hdata)"
      ],
      "execution_count": 103,
      "outputs": []
    },
    {
      "cell_type": "code",
      "metadata": {
        "id": "DhF41AKFXgAn"
      },
      "source": [
        "x.train = x[train,]\n",
        "x.test = x[-train,]\n",
        "y.train = hdata$AHD[train]\n",
        "y.test = hdata$AHD[-train]"
      ],
      "execution_count": 105,
      "outputs": []
    },
    {
      "cell_type": "code",
      "metadata": {
        "id": "P2_qNrKcXqYP"
      },
      "source": [
        "mycontrol = trainControl(method = \"cv\", number = 10, allowParallel = T, classProbs = T)"
      ],
      "execution_count": 106,
      "outputs": []
    },
    {
      "cell_type": "code",
      "metadata": {
        "id": "VN1Q_SAVX3PD"
      },
      "source": [
        "set.seed(1)"
      ],
      "execution_count": 107,
      "outputs": []
    },
    {
      "cell_type": "code",
      "metadata": {
        "id": "C3AxASWwX4hx"
      },
      "source": [
        "hfit = train(x.train, y.train, method = \"glmnet\", trControl = mycontrol)"
      ],
      "execution_count": 110,
      "outputs": []
    },
    {
      "cell_type": "code",
      "metadata": {
        "colab": {
          "base_uri": "https://localhost:8080/"
        },
        "id": "Foe-eqniYAjQ",
        "outputId": "336b748a-9a1b-4fe3-fcc3-b29677099fdc"
      },
      "source": [
        "install.packages(\"e1071\")"
      ],
      "execution_count": 109,
      "outputs": [
        {
          "output_type": "stream",
          "text": [
            "Installing package into ‘/usr/local/lib/R/site-library’\n",
            "(as ‘lib’ is unspecified)\n",
            "\n",
            "also installing the dependency ‘proxy’\n",
            "\n",
            "\n"
          ],
          "name": "stderr"
        }
      ]
    },
    {
      "cell_type": "code",
      "metadata": {
        "colab": {
          "base_uri": "https://localhost:8080/",
          "height": 465
        },
        "id": "SUBpOom3YKde",
        "outputId": "bf74d57b-44ef-4f9f-83cc-c5b23cf618cd"
      },
      "source": [
        "hfit"
      ],
      "execution_count": 111,
      "outputs": [
        {
          "output_type": "display_data",
          "data": {
            "text/plain": [
              "glmnet \n",
              "\n",
              "148 samples\n",
              " 17 predictor\n",
              "  2 classes: 'No', 'Yes' \n",
              "\n",
              "No pre-processing\n",
              "Resampling: Cross-Validated (10 fold) \n",
              "Summary of sample sizes: 133, 132, 133, 134, 133, 134, ... \n",
              "Resampling results across tuning parameters:\n",
              "\n",
              "  alpha  lambda        Accuracy   Kappa    \n",
              "  0.10   0.0004612472  0.8047619  0.6069557\n",
              "  0.10   0.0046124725  0.8047619  0.6069557\n",
              "  0.10   0.0461247245  0.7976190  0.5889928\n",
              "  0.55   0.0004612472  0.8047619  0.6069557\n",
              "  0.55   0.0046124725  0.8047619  0.6069557\n",
              "  0.55   0.0461247245  0.7842857  0.5630256\n",
              "  1.00   0.0004612472  0.8047619  0.6069557\n",
              "  1.00   0.0046124725  0.8042857  0.6068101\n",
              "  1.00   0.0461247245  0.7771429  0.5469660\n",
              "\n",
              "Accuracy was used to select the optimal model using the largest value.\n",
              "The final values used for the model were alpha = 0.1 and lambda = 0.004612472."
            ]
          },
          "metadata": {
            "tags": []
          }
        }
      ]
    },
    {
      "cell_type": "code",
      "metadata": {
        "colab": {
          "base_uri": "https://localhost:8080/",
          "height": 764
        },
        "id": "-jZS7vp6YSeG",
        "outputId": "a0aa2626-38bd-4334-e59b-d304f04db0a6"
      },
      "source": [
        "set.seed(1)\n",
        "hfit1 = train(x.train, y.train, method = \"glmnet\", trControl = mycontrol, tuneLength =5 )\n",
        "hfit1"
      ],
      "execution_count": 112,
      "outputs": [
        {
          "output_type": "display_data",
          "data": {
            "text/plain": [
              "glmnet \n",
              "\n",
              "148 samples\n",
              " 17 predictor\n",
              "  2 classes: 'No', 'Yes' \n",
              "\n",
              "No pre-processing\n",
              "Resampling: Cross-Validated (10 fold) \n",
              "Summary of sample sizes: 134, 133, 134, 132, 134, 133, ... \n",
              "Resampling results across tuning parameters:\n",
              "\n",
              "  alpha  lambda        Accuracy   Kappa    \n",
              "  0.100  0.0002140920  0.7848214  0.5627409\n",
              "  0.100  0.0009937269  0.7914881  0.5757782\n",
              "  0.100  0.0046124718  0.8052976  0.6027790\n",
              "  0.100  0.0214091987  0.8120238  0.6151044\n",
              "  0.100  0.0993727020  0.7923810  0.5773967\n",
              "  0.325  0.0002140920  0.7848214  0.5627409\n",
              "  0.325  0.0009937269  0.7914881  0.5757782\n",
              "  0.325  0.0046124718  0.8052976  0.6027790\n",
              "  0.325  0.0214091987  0.8053571  0.6024060\n",
              "  0.325  0.0993727020  0.7910119  0.5735393\n",
              "  0.550  0.0002140920  0.7848214  0.5627409\n",
              "  0.550  0.0009937269  0.7914881  0.5757782\n",
              "  0.550  0.0046124718  0.8052976  0.6027790\n",
              "  0.550  0.0214091987  0.8053571  0.6024060\n",
              "  0.550  0.0993727020  0.7972619  0.5828217\n",
              "  0.775  0.0002140920  0.7848214  0.5627409\n",
              "  0.775  0.0009937269  0.7914881  0.5757782\n",
              "  0.775  0.0046124718  0.8052976  0.6027790\n",
              "  0.775  0.0214091987  0.7991071  0.5906996\n",
              "  0.775  0.0993727020  0.7910119  0.5699371\n",
              "  1.000  0.0002140920  0.7848214  0.5627409\n",
              "  1.000  0.0009937269  0.7986310  0.5900512\n",
              "  1.000  0.0046124718  0.8052976  0.6027790\n",
              "  1.000  0.0214091987  0.7776786  0.5490456\n",
              "  1.000  0.0993727020  0.7709524  0.5220689\n",
              "\n",
              "Accuracy was used to select the optimal model using the largest value.\n",
              "The final values used for the model were alpha = 0.1 and lambda = 0.0214092."
            ]
          },
          "metadata": {
            "tags": []
          }
        }
      ]
    },
    {
      "cell_type": "code",
      "metadata": {
        "id": "-BsPmZgNYbpE"
      },
      "source": [
        "hpred = predict(hfit, x.test)"
      ],
      "execution_count": 113,
      "outputs": []
    },
    {
      "cell_type": "code",
      "metadata": {
        "colab": {
          "base_uri": "https://localhost:8080/",
          "height": 104
        },
        "id": "gMK_yuTdYuAK",
        "outputId": "6f24d01e-d379-4004-8eb1-530c3a9420b6"
      },
      "source": [
        "hpred"
      ],
      "execution_count": 114,
      "outputs": [
        {
          "output_type": "display_data",
          "data": {
            "text/plain": [
              "  [1] Yes Yes Yes No  No  Yes No  Yes No  No  No  No  No  No  Yes Yes No  No \n",
              " [19] Yes Yes Yes No  No  No  Yes Yes Yes No  Yes No  Yes Yes No  No  Yes Yes\n",
              " [37] Yes No  Yes Yes No  No  Yes No  No  Yes Yes Yes No  Yes Yes No  No  No \n",
              " [55] No  Yes Yes Yes No  Yes Yes No  No  No  Yes No  Yes Yes No  No  No  Yes\n",
              " [73] No  No  Yes Yes Yes Yes Yes No  Yes No  No  No  No  Yes No  Yes Yes No \n",
              " [91] Yes Yes Yes Yes No  No  Yes Yes No  No  No  No  No  No  No  No  No  Yes\n",
              "[109] Yes Yes No  Yes No  No  No  Yes No  No  No  No  No  No  Yes No  Yes No \n",
              "[127] Yes No  No  No  No  No  No  Yes No  No  No  Yes No  No  No  No  Yes No \n",
              "[145] Yes No  No  Yes No \n",
              "Levels: No Yes"
            ],
            "text/latex": "\\begin{enumerate*}\n\\item Yes\n\\item Yes\n\\item Yes\n\\item No\n\\item No\n\\item Yes\n\\item No\n\\item Yes\n\\item No\n\\item No\n\\item No\n\\item No\n\\item No\n\\item No\n\\item Yes\n\\item Yes\n\\item No\n\\item No\n\\item Yes\n\\item Yes\n\\item Yes\n\\item No\n\\item No\n\\item No\n\\item Yes\n\\item Yes\n\\item Yes\n\\item No\n\\item Yes\n\\item No\n\\item Yes\n\\item Yes\n\\item No\n\\item No\n\\item Yes\n\\item Yes\n\\item Yes\n\\item No\n\\item Yes\n\\item Yes\n\\item No\n\\item No\n\\item Yes\n\\item No\n\\item No\n\\item Yes\n\\item Yes\n\\item Yes\n\\item No\n\\item Yes\n\\item Yes\n\\item No\n\\item No\n\\item No\n\\item No\n\\item Yes\n\\item Yes\n\\item Yes\n\\item No\n\\item Yes\n\\item Yes\n\\item No\n\\item No\n\\item No\n\\item Yes\n\\item No\n\\item Yes\n\\item Yes\n\\item No\n\\item No\n\\item No\n\\item Yes\n\\item No\n\\item No\n\\item Yes\n\\item Yes\n\\item Yes\n\\item Yes\n\\item Yes\n\\item No\n\\item Yes\n\\item No\n\\item No\n\\item No\n\\item No\n\\item Yes\n\\item No\n\\item Yes\n\\item Yes\n\\item No\n\\item Yes\n\\item Yes\n\\item Yes\n\\item Yes\n\\item No\n\\item No\n\\item Yes\n\\item Yes\n\\item No\n\\item No\n\\item No\n\\item No\n\\item No\n\\item No\n\\item No\n\\item No\n\\item No\n\\item Yes\n\\item Yes\n\\item Yes\n\\item No\n\\item Yes\n\\item No\n\\item No\n\\item No\n\\item Yes\n\\item No\n\\item No\n\\item No\n\\item No\n\\item No\n\\item No\n\\item Yes\n\\item No\n\\item Yes\n\\item No\n\\item Yes\n\\item No\n\\item No\n\\item No\n\\item No\n\\item No\n\\item No\n\\item Yes\n\\item No\n\\item No\n\\item No\n\\item Yes\n\\item No\n\\item No\n\\item No\n\\item No\n\\item Yes\n\\item No\n\\item Yes\n\\item No\n\\item No\n\\item Yes\n\\item No\n\\end{enumerate*}\n\n\\emph{Levels}: \\begin{enumerate*}\n\\item 'No'\n\\item 'Yes'\n\\end{enumerate*}\n",
            "text/markdown": "1. Yes\n2. Yes\n3. Yes\n4. No\n5. No\n6. Yes\n7. No\n8. Yes\n9. No\n10. No\n11. No\n12. No\n13. No\n14. No\n15. Yes\n16. Yes\n17. No\n18. No\n19. Yes\n20. Yes\n21. Yes\n22. No\n23. No\n24. No\n25. Yes\n26. Yes\n27. Yes\n28. No\n29. Yes\n30. No\n31. Yes\n32. Yes\n33. No\n34. No\n35. Yes\n36. Yes\n37. Yes\n38. No\n39. Yes\n40. Yes\n41. No\n42. No\n43. Yes\n44. No\n45. No\n46. Yes\n47. Yes\n48. Yes\n49. No\n50. Yes\n51. Yes\n52. No\n53. No\n54. No\n55. No\n56. Yes\n57. Yes\n58. Yes\n59. No\n60. Yes\n61. Yes\n62. No\n63. No\n64. No\n65. Yes\n66. No\n67. Yes\n68. Yes\n69. No\n70. No\n71. No\n72. Yes\n73. No\n74. No\n75. Yes\n76. Yes\n77. Yes\n78. Yes\n79. Yes\n80. No\n81. Yes\n82. No\n83. No\n84. No\n85. No\n86. Yes\n87. No\n88. Yes\n89. Yes\n90. No\n91. Yes\n92. Yes\n93. Yes\n94. Yes\n95. No\n96. No\n97. Yes\n98. Yes\n99. No\n100. No\n101. No\n102. No\n103. No\n104. No\n105. No\n106. No\n107. No\n108. Yes\n109. Yes\n110. Yes\n111. No\n112. Yes\n113. No\n114. No\n115. No\n116. Yes\n117. No\n118. No\n119. No\n120. No\n121. No\n122. No\n123. Yes\n124. No\n125. Yes\n126. No\n127. Yes\n128. No\n129. No\n130. No\n131. No\n132. No\n133. No\n134. Yes\n135. No\n136. No\n137. No\n138. Yes\n139. No\n140. No\n141. No\n142. No\n143. Yes\n144. No\n145. Yes\n146. No\n147. No\n148. Yes\n149. No\n\n\n\n**Levels**: 1. 'No'\n2. 'Yes'\n\n\n",
            "text/html": [
              "<style>\n",
              ".list-inline {list-style: none; margin:0; padding: 0}\n",
              ".list-inline>li {display: inline-block}\n",
              ".list-inline>li:not(:last-child)::after {content: \"\\00b7\"; padding: 0 .5ex}\n",
              "</style>\n",
              "<ol class=list-inline><li>Yes</li><li>Yes</li><li>Yes</li><li>No</li><li>No</li><li>Yes</li><li>No</li><li>Yes</li><li>No</li><li>No</li><li>No</li><li>No</li><li>No</li><li>No</li><li>Yes</li><li>Yes</li><li>No</li><li>No</li><li>Yes</li><li>Yes</li><li>Yes</li><li>No</li><li>No</li><li>No</li><li>Yes</li><li>Yes</li><li>Yes</li><li>No</li><li>Yes</li><li>No</li><li>Yes</li><li>Yes</li><li>No</li><li>No</li><li>Yes</li><li>Yes</li><li>Yes</li><li>No</li><li>Yes</li><li>Yes</li><li>No</li><li>No</li><li>Yes</li><li>No</li><li>No</li><li>Yes</li><li>Yes</li><li>Yes</li><li>No</li><li>Yes</li><li>Yes</li><li>No</li><li>No</li><li>No</li><li>No</li><li>Yes</li><li>Yes</li><li>Yes</li><li>No</li><li>Yes</li><li>Yes</li><li>No</li><li>No</li><li>No</li><li>Yes</li><li>No</li><li>Yes</li><li>Yes</li><li>No</li><li>No</li><li>No</li><li>Yes</li><li>No</li><li>No</li><li>Yes</li><li>Yes</li><li>Yes</li><li>Yes</li><li>Yes</li><li>No</li><li>Yes</li><li>No</li><li>No</li><li>No</li><li>No</li><li>Yes</li><li>No</li><li>Yes</li><li>Yes</li><li>No</li><li>Yes</li><li>Yes</li><li>Yes</li><li>Yes</li><li>No</li><li>No</li><li>Yes</li><li>Yes</li><li>No</li><li>No</li><li>No</li><li>No</li><li>No</li><li>No</li><li>No</li><li>No</li><li>No</li><li>Yes</li><li>Yes</li><li>Yes</li><li>No</li><li>Yes</li><li>No</li><li>No</li><li>No</li><li>Yes</li><li>No</li><li>No</li><li>No</li><li>No</li><li>No</li><li>No</li><li>Yes</li><li>No</li><li>Yes</li><li>No</li><li>Yes</li><li>No</li><li>No</li><li>No</li><li>No</li><li>No</li><li>No</li><li>Yes</li><li>No</li><li>No</li><li>No</li><li>Yes</li><li>No</li><li>No</li><li>No</li><li>No</li><li>Yes</li><li>No</li><li>Yes</li><li>No</li><li>No</li><li>Yes</li><li>No</li></ol>\n",
              "\n",
              "<details>\n",
              "\t<summary style=display:list-item;cursor:pointer>\n",
              "\t\t<strong>Levels</strong>:\n",
              "\t</summary>\n",
              "\t<style>\n",
              "\t.list-inline {list-style: none; margin:0; padding: 0}\n",
              "\t.list-inline>li {display: inline-block}\n",
              "\t.list-inline>li:not(:last-child)::after {content: \"\\00b7\"; padding: 0 .5ex}\n",
              "\t</style>\n",
              "\t<ol class=list-inline><li>'No'</li><li>'Yes'</li></ol>\n",
              "</details>"
            ]
          },
          "metadata": {
            "tags": []
          }
        }
      ]
    },
    {
      "cell_type": "code",
      "metadata": {
        "colab": {
          "base_uri": "https://localhost:8080/",
          "height": 1000
        },
        "id": "ScnFTuofYvRE",
        "outputId": "0570cc56-896f-4de1-fd37-8e38dfddc3ab"
      },
      "source": [
        "predict(hfit, x.test, type = \"prob\")"
      ],
      "execution_count": 115,
      "outputs": [
        {
          "output_type": "display_data",
          "data": {
            "text/plain": [
              "    No          Yes        \n",
              "1   0.001816421 0.99818358 \n",
              "2   0.006374675 0.99362533 \n",
              "3   0.393661701 0.60633830 \n",
              "4   0.980277596 0.01972240 \n",
              "5   0.948898479 0.05110152 \n",
              "6   0.071391004 0.92860900 \n",
              "7   0.856951091 0.14304891 \n",
              "8   0.030546961 0.96945304 \n",
              "9   0.761292186 0.23870781 \n",
              "10  0.912032417 0.08796758 \n",
              "11  0.863194001 0.13680600 \n",
              "12  0.708682169 0.29131783 \n",
              "13  0.730952198 0.26904780 \n",
              "14  0.991483580 0.00851642 \n",
              "15  0.062219988 0.93778001 \n",
              "16  0.083453410 0.91654659 \n",
              "17  0.848897001 0.15110300 \n",
              "18  0.809566841 0.19043316 \n",
              "19  0.047108009 0.95289199 \n",
              "20  0.044146062 0.95585394 \n",
              "21  0.274047633 0.72595237 \n",
              "22  0.949170419 0.05082958 \n",
              "23  0.764335010 0.23566499 \n",
              "24  0.928323427 0.07167657 \n",
              "25  0.086937930 0.91306207 \n",
              "26  0.009156751 0.99084325 \n",
              "27  0.391841586 0.60815841 \n",
              "28  0.671703043 0.32829696 \n",
              "29  0.281463507 0.71853649 \n",
              "30  0.771729043 0.22827096 \n",
              "⋮   ⋮           ⋮          \n",
              "120 0.984571850 0.015428150\n",
              "121 0.967843056 0.032156944\n",
              "122 0.995744778 0.004255222\n",
              "123 0.392603594 0.607396406\n",
              "124 0.526749805 0.473250195\n",
              "125 0.152226756 0.847773244\n",
              "126 0.950497688 0.049502312\n",
              "127 0.039597541 0.960402459\n",
              "128 0.988946817 0.011053183\n",
              "129 0.873254324 0.126745676\n",
              "130 0.814871141 0.185128859\n",
              "131 0.936521527 0.063478473\n",
              "132 0.861408664 0.138591336\n",
              "133 0.956292794 0.043707206\n",
              "134 0.030082481 0.969917519\n",
              "135 0.724260404 0.275739596\n",
              "136 0.587109698 0.412890302\n",
              "137 0.949543709 0.050456291\n",
              "138 0.050309028 0.949690972\n",
              "139 0.782049193 0.217950807\n",
              "140 0.897556864 0.102443136\n",
              "141 0.701946924 0.298053076\n",
              "142 0.931754958 0.068245042\n",
              "143 0.123412563 0.876587437\n",
              "144 0.799282320 0.200717680\n",
              "145 0.008846118 0.991153882\n",
              "146 0.889415952 0.110584048\n",
              "147 0.535399010 0.464600990\n",
              "148 0.035979863 0.964020137\n",
              "149 0.935523922 0.064476078"
            ],
            "text/latex": "A data.frame: 149 × 2\n\\begin{tabular}{ll}\n No & Yes\\\\\n <dbl> & <dbl>\\\\\n\\hline\n\t 0.001816421 & 0.99818358\\\\\n\t 0.006374675 & 0.99362533\\\\\n\t 0.393661701 & 0.60633830\\\\\n\t 0.980277596 & 0.01972240\\\\\n\t 0.948898479 & 0.05110152\\\\\n\t 0.071391004 & 0.92860900\\\\\n\t 0.856951091 & 0.14304891\\\\\n\t 0.030546961 & 0.96945304\\\\\n\t 0.761292186 & 0.23870781\\\\\n\t 0.912032417 & 0.08796758\\\\\n\t 0.863194001 & 0.13680600\\\\\n\t 0.708682169 & 0.29131783\\\\\n\t 0.730952198 & 0.26904780\\\\\n\t 0.991483580 & 0.00851642\\\\\n\t 0.062219988 & 0.93778001\\\\\n\t 0.083453410 & 0.91654659\\\\\n\t 0.848897001 & 0.15110300\\\\\n\t 0.809566841 & 0.19043316\\\\\n\t 0.047108009 & 0.95289199\\\\\n\t 0.044146062 & 0.95585394\\\\\n\t 0.274047633 & 0.72595237\\\\\n\t 0.949170419 & 0.05082958\\\\\n\t 0.764335010 & 0.23566499\\\\\n\t 0.928323427 & 0.07167657\\\\\n\t 0.086937930 & 0.91306207\\\\\n\t 0.009156751 & 0.99084325\\\\\n\t 0.391841586 & 0.60815841\\\\\n\t 0.671703043 & 0.32829696\\\\\n\t 0.281463507 & 0.71853649\\\\\n\t 0.771729043 & 0.22827096\\\\\n\t ⋮ & ⋮\\\\\n\t 0.984571850 & 0.015428150\\\\\n\t 0.967843056 & 0.032156944\\\\\n\t 0.995744778 & 0.004255222\\\\\n\t 0.392603594 & 0.607396406\\\\\n\t 0.526749805 & 0.473250195\\\\\n\t 0.152226756 & 0.847773244\\\\\n\t 0.950497688 & 0.049502312\\\\\n\t 0.039597541 & 0.960402459\\\\\n\t 0.988946817 & 0.011053183\\\\\n\t 0.873254324 & 0.126745676\\\\\n\t 0.814871141 & 0.185128859\\\\\n\t 0.936521527 & 0.063478473\\\\\n\t 0.861408664 & 0.138591336\\\\\n\t 0.956292794 & 0.043707206\\\\\n\t 0.030082481 & 0.969917519\\\\\n\t 0.724260404 & 0.275739596\\\\\n\t 0.587109698 & 0.412890302\\\\\n\t 0.949543709 & 0.050456291\\\\\n\t 0.050309028 & 0.949690972\\\\\n\t 0.782049193 & 0.217950807\\\\\n\t 0.897556864 & 0.102443136\\\\\n\t 0.701946924 & 0.298053076\\\\\n\t 0.931754958 & 0.068245042\\\\\n\t 0.123412563 & 0.876587437\\\\\n\t 0.799282320 & 0.200717680\\\\\n\t 0.008846118 & 0.991153882\\\\\n\t 0.889415952 & 0.110584048\\\\\n\t 0.535399010 & 0.464600990\\\\\n\t 0.035979863 & 0.964020137\\\\\n\t 0.935523922 & 0.064476078\\\\\n\\end{tabular}\n",
            "text/markdown": "\nA data.frame: 149 × 2\n\n| No &lt;dbl&gt; | Yes &lt;dbl&gt; |\n|---|---|\n| 0.001816421 | 0.99818358 |\n| 0.006374675 | 0.99362533 |\n| 0.393661701 | 0.60633830 |\n| 0.980277596 | 0.01972240 |\n| 0.948898479 | 0.05110152 |\n| 0.071391004 | 0.92860900 |\n| 0.856951091 | 0.14304891 |\n| 0.030546961 | 0.96945304 |\n| 0.761292186 | 0.23870781 |\n| 0.912032417 | 0.08796758 |\n| 0.863194001 | 0.13680600 |\n| 0.708682169 | 0.29131783 |\n| 0.730952198 | 0.26904780 |\n| 0.991483580 | 0.00851642 |\n| 0.062219988 | 0.93778001 |\n| 0.083453410 | 0.91654659 |\n| 0.848897001 | 0.15110300 |\n| 0.809566841 | 0.19043316 |\n| 0.047108009 | 0.95289199 |\n| 0.044146062 | 0.95585394 |\n| 0.274047633 | 0.72595237 |\n| 0.949170419 | 0.05082958 |\n| 0.764335010 | 0.23566499 |\n| 0.928323427 | 0.07167657 |\n| 0.086937930 | 0.91306207 |\n| 0.009156751 | 0.99084325 |\n| 0.391841586 | 0.60815841 |\n| 0.671703043 | 0.32829696 |\n| 0.281463507 | 0.71853649 |\n| 0.771729043 | 0.22827096 |\n| ⋮ | ⋮ |\n| 0.984571850 | 0.015428150 |\n| 0.967843056 | 0.032156944 |\n| 0.995744778 | 0.004255222 |\n| 0.392603594 | 0.607396406 |\n| 0.526749805 | 0.473250195 |\n| 0.152226756 | 0.847773244 |\n| 0.950497688 | 0.049502312 |\n| 0.039597541 | 0.960402459 |\n| 0.988946817 | 0.011053183 |\n| 0.873254324 | 0.126745676 |\n| 0.814871141 | 0.185128859 |\n| 0.936521527 | 0.063478473 |\n| 0.861408664 | 0.138591336 |\n| 0.956292794 | 0.043707206 |\n| 0.030082481 | 0.969917519 |\n| 0.724260404 | 0.275739596 |\n| 0.587109698 | 0.412890302 |\n| 0.949543709 | 0.050456291 |\n| 0.050309028 | 0.949690972 |\n| 0.782049193 | 0.217950807 |\n| 0.897556864 | 0.102443136 |\n| 0.701946924 | 0.298053076 |\n| 0.931754958 | 0.068245042 |\n| 0.123412563 | 0.876587437 |\n| 0.799282320 | 0.200717680 |\n| 0.008846118 | 0.991153882 |\n| 0.889415952 | 0.110584048 |\n| 0.535399010 | 0.464600990 |\n| 0.035979863 | 0.964020137 |\n| 0.935523922 | 0.064476078 |\n\n",
            "text/html": [
              "<table class=\"dataframe\">\n",
              "<caption>A data.frame: 149 × 2</caption>\n",
              "<thead>\n",
              "\t<tr><th scope=col>No</th><th scope=col>Yes</th></tr>\n",
              "\t<tr><th scope=col>&lt;dbl&gt;</th><th scope=col>&lt;dbl&gt;</th></tr>\n",
              "</thead>\n",
              "<tbody>\n",
              "\t<tr><td>0.001816421</td><td>0.99818358</td></tr>\n",
              "\t<tr><td>0.006374675</td><td>0.99362533</td></tr>\n",
              "\t<tr><td>0.393661701</td><td>0.60633830</td></tr>\n",
              "\t<tr><td>0.980277596</td><td>0.01972240</td></tr>\n",
              "\t<tr><td>0.948898479</td><td>0.05110152</td></tr>\n",
              "\t<tr><td>0.071391004</td><td>0.92860900</td></tr>\n",
              "\t<tr><td>0.856951091</td><td>0.14304891</td></tr>\n",
              "\t<tr><td>0.030546961</td><td>0.96945304</td></tr>\n",
              "\t<tr><td>0.761292186</td><td>0.23870781</td></tr>\n",
              "\t<tr><td>0.912032417</td><td>0.08796758</td></tr>\n",
              "\t<tr><td>0.863194001</td><td>0.13680600</td></tr>\n",
              "\t<tr><td>0.708682169</td><td>0.29131783</td></tr>\n",
              "\t<tr><td>0.730952198</td><td>0.26904780</td></tr>\n",
              "\t<tr><td>0.991483580</td><td>0.00851642</td></tr>\n",
              "\t<tr><td>0.062219988</td><td>0.93778001</td></tr>\n",
              "\t<tr><td>0.083453410</td><td>0.91654659</td></tr>\n",
              "\t<tr><td>0.848897001</td><td>0.15110300</td></tr>\n",
              "\t<tr><td>0.809566841</td><td>0.19043316</td></tr>\n",
              "\t<tr><td>0.047108009</td><td>0.95289199</td></tr>\n",
              "\t<tr><td>0.044146062</td><td>0.95585394</td></tr>\n",
              "\t<tr><td>0.274047633</td><td>0.72595237</td></tr>\n",
              "\t<tr><td>0.949170419</td><td>0.05082958</td></tr>\n",
              "\t<tr><td>0.764335010</td><td>0.23566499</td></tr>\n",
              "\t<tr><td>0.928323427</td><td>0.07167657</td></tr>\n",
              "\t<tr><td>0.086937930</td><td>0.91306207</td></tr>\n",
              "\t<tr><td>0.009156751</td><td>0.99084325</td></tr>\n",
              "\t<tr><td>0.391841586</td><td>0.60815841</td></tr>\n",
              "\t<tr><td>0.671703043</td><td>0.32829696</td></tr>\n",
              "\t<tr><td>0.281463507</td><td>0.71853649</td></tr>\n",
              "\t<tr><td>0.771729043</td><td>0.22827096</td></tr>\n",
              "\t<tr><td>⋮</td><td>⋮</td></tr>\n",
              "\t<tr><td>0.984571850</td><td>0.015428150</td></tr>\n",
              "\t<tr><td>0.967843056</td><td>0.032156944</td></tr>\n",
              "\t<tr><td>0.995744778</td><td>0.004255222</td></tr>\n",
              "\t<tr><td>0.392603594</td><td>0.607396406</td></tr>\n",
              "\t<tr><td>0.526749805</td><td>0.473250195</td></tr>\n",
              "\t<tr><td>0.152226756</td><td>0.847773244</td></tr>\n",
              "\t<tr><td>0.950497688</td><td>0.049502312</td></tr>\n",
              "\t<tr><td>0.039597541</td><td>0.960402459</td></tr>\n",
              "\t<tr><td>0.988946817</td><td>0.011053183</td></tr>\n",
              "\t<tr><td>0.873254324</td><td>0.126745676</td></tr>\n",
              "\t<tr><td>0.814871141</td><td>0.185128859</td></tr>\n",
              "\t<tr><td>0.936521527</td><td>0.063478473</td></tr>\n",
              "\t<tr><td>0.861408664</td><td>0.138591336</td></tr>\n",
              "\t<tr><td>0.956292794</td><td>0.043707206</td></tr>\n",
              "\t<tr><td>0.030082481</td><td>0.969917519</td></tr>\n",
              "\t<tr><td>0.724260404</td><td>0.275739596</td></tr>\n",
              "\t<tr><td>0.587109698</td><td>0.412890302</td></tr>\n",
              "\t<tr><td>0.949543709</td><td>0.050456291</td></tr>\n",
              "\t<tr><td>0.050309028</td><td>0.949690972</td></tr>\n",
              "\t<tr><td>0.782049193</td><td>0.217950807</td></tr>\n",
              "\t<tr><td>0.897556864</td><td>0.102443136</td></tr>\n",
              "\t<tr><td>0.701946924</td><td>0.298053076</td></tr>\n",
              "\t<tr><td>0.931754958</td><td>0.068245042</td></tr>\n",
              "\t<tr><td>0.123412563</td><td>0.876587437</td></tr>\n",
              "\t<tr><td>0.799282320</td><td>0.200717680</td></tr>\n",
              "\t<tr><td>0.008846118</td><td>0.991153882</td></tr>\n",
              "\t<tr><td>0.889415952</td><td>0.110584048</td></tr>\n",
              "\t<tr><td>0.535399010</td><td>0.464600990</td></tr>\n",
              "\t<tr><td>0.035979863</td><td>0.964020137</td></tr>\n",
              "\t<tr><td>0.935523922</td><td>0.064476078</td></tr>\n",
              "</tbody>\n",
              "</table>\n"
            ]
          },
          "metadata": {
            "tags": []
          }
        }
      ]
    },
    {
      "cell_type": "code",
      "metadata": {
        "colab": {
          "base_uri": "https://localhost:8080/",
          "height": 52
        },
        "id": "AZVuCz-DY0fz",
        "outputId": "2c6d379a-d0f9-448d-b480-0c60486abdfc"
      },
      "source": [
        "mean(y.test!=hpred) ## test classification error\n",
        "mean(y.test ==hpred) ## test accuracy"
      ],
      "execution_count": 116,
      "outputs": [
        {
          "output_type": "display_data",
          "data": {
            "text/plain": [
              "[1] 0.1610738"
            ],
            "text/latex": "0.161073825503356",
            "text/markdown": "0.161073825503356",
            "text/html": [
              "0.161073825503356"
            ]
          },
          "metadata": {
            "tags": []
          }
        },
        {
          "output_type": "display_data",
          "data": {
            "text/plain": [
              "[1] 0.8389262"
            ],
            "text/latex": "0.838926174496644",
            "text/markdown": "0.838926174496644",
            "text/html": [
              "0.838926174496644"
            ]
          },
          "metadata": {
            "tags": []
          }
        }
      ]
    },
    {
      "cell_type": "code",
      "metadata": {
        "id": "MzBnNDw0ZDrO"
      },
      "source": [
        "h.lasso = glmnet(x.train, y.train, alpha = 1, family = \"binomial\", lambda = 0.1)"
      ],
      "execution_count": 122,
      "outputs": []
    },
    {
      "cell_type": "code",
      "metadata": {
        "colab": {
          "base_uri": "https://localhost:8080/",
          "height": 111
        },
        "id": "19WFIyYjZOkz",
        "outputId": "70e8908b-17e6-4d98-f68a-3e4f74b2b8f6"
      },
      "source": [
        "h.lasso"
      ],
      "execution_count": 123,
      "outputs": [
        {
          "output_type": "display_data",
          "data": {
            "text/plain": [
              "\n",
              "Call:  glmnet(x = x.train, y = y.train, family = \"binomial\", alpha = 1,      lambda = 0.1) \n",
              "\n",
              "  Df  %Dev Lambda\n",
              "1  6 27.36    0.1"
            ]
          },
          "metadata": {
            "tags": []
          }
        }
      ]
    },
    {
      "cell_type": "code",
      "metadata": {
        "colab": {
          "base_uri": "https://localhost:8080/",
          "height": 391
        },
        "id": "Pyu77oSXZXnf",
        "outputId": "90dc0a71-393d-4feb-c0f8-17f7af672ed0"
      },
      "source": [
        "coef(h.lasso)"
      ],
      "execution_count": 124,
      "outputs": [
        {
          "output_type": "display_data",
          "data": {
            "text/plain": [
              "18 x 1 sparse Matrix of class \"dgCMatrix\"\n",
              "                              s0\n",
              "(Intercept)          0.065463478\n",
              "(Intercept)          .          \n",
              "Age                  .          \n",
              "Sex                  0.193386908\n",
              "ChestPainnonanginal  .          \n",
              "ChestPainnontypical  .          \n",
              "ChestPaintypical     .          \n",
              "RestBP               .          \n",
              "Chol                 .          \n",
              "Fbs                  .          \n",
              "RestECG              .          \n",
              "MaxHR               -0.004682457\n",
              "ExAng                0.657607456\n",
              "Oldpeak              0.191633640\n",
              "Slope                .          \n",
              "Ca                   0.255605486\n",
              "Thalnormal          -0.571366112\n",
              "Thalreversable       .          "
            ]
          },
          "metadata": {
            "tags": []
          }
        }
      ]
    },
    {
      "cell_type": "code",
      "metadata": {
        "colab": {
          "base_uri": "https://localhost:8080/",
          "height": 127
        },
        "id": "Pm6-xJfNZaW8",
        "outputId": "adb4c8ac-c134-4831-dead-59a1e75f0ffe"
      },
      "source": [
        "hfit$bestTune"
      ],
      "execution_count": 125,
      "outputs": [
        {
          "output_type": "display_data",
          "data": {
            "text/plain": [
              "  alpha lambda     \n",
              "2 0.1   0.004612472"
            ],
            "text/latex": "A data.frame: 1 × 2\n\\begin{tabular}{r|ll}\n  & alpha & lambda\\\\\n  & <dbl> & <dbl>\\\\\n\\hline\n\t2 & 0.1 & 0.004612472\\\\\n\\end{tabular}\n",
            "text/markdown": "\nA data.frame: 1 × 2\n\n| <!--/--> | alpha &lt;dbl&gt; | lambda &lt;dbl&gt; |\n|---|---|---|\n| 2 | 0.1 | 0.004612472 |\n\n",
            "text/html": [
              "<table class=\"dataframe\">\n",
              "<caption>A data.frame: 1 × 2</caption>\n",
              "<thead>\n",
              "\t<tr><th></th><th scope=col>alpha</th><th scope=col>lambda</th></tr>\n",
              "\t<tr><th></th><th scope=col>&lt;dbl&gt;</th><th scope=col>&lt;dbl&gt;</th></tr>\n",
              "</thead>\n",
              "<tbody>\n",
              "\t<tr><th scope=row>2</th><td>0.1</td><td>0.004612472</td></tr>\n",
              "</tbody>\n",
              "</table>\n"
            ]
          },
          "metadata": {
            "tags": []
          }
        }
      ]
    },
    {
      "cell_type": "code",
      "metadata": {
        "id": "mUYoOrieZxmC"
      },
      "source": [
        "x = model.matrix(AHD~., data = hdata)[,-1]\n",
        "x.train = x[train,]\n",
        "x.test = x[-train,]\n",
        "y.train = hdata$AHD[train]\n",
        "y.test = hdata$AHD[-train]"
      ],
      "execution_count": 126,
      "outputs": []
    },
    {
      "cell_type": "code",
      "metadata": {
        "colab": {
          "base_uri": "https://localhost:8080/",
          "height": 764
        },
        "id": "BkCvxOjmaGJN",
        "outputId": "26d49aa8-a023-4a11-a750-4b8766b4e473"
      },
      "source": [
        "mycontrol = trainControl(method = \"cv\", number = 10, allowParallel = T, classProbs = T)\n",
        "set.seed(1)\n",
        "hfit = train(x.train, y.train, method = \"glmnet\", trControl = mycontrol, tuneLength = 5)\n",
        "hfit"
      ],
      "execution_count": 127,
      "outputs": [
        {
          "output_type": "display_data",
          "data": {
            "text/plain": [
              "glmnet \n",
              "\n",
              "148 samples\n",
              " 16 predictor\n",
              "  2 classes: 'No', 'Yes' \n",
              "\n",
              "No pre-processing\n",
              "Resampling: Cross-Validated (10 fold) \n",
              "Summary of sample sizes: 134, 133, 134, 132, 134, 133, ... \n",
              "Resampling results across tuning parameters:\n",
              "\n",
              "  alpha  lambda        Accuracy   Kappa    \n",
              "  0.100  0.0002140920  0.7848214  0.5627409\n",
              "  0.100  0.0009937269  0.7914881  0.5757782\n",
              "  0.100  0.0046124718  0.8052976  0.6027790\n",
              "  0.100  0.0214091987  0.8120238  0.6151044\n",
              "  0.100  0.0993727020  0.7923810  0.5773967\n",
              "  0.325  0.0002140920  0.7848214  0.5627409\n",
              "  0.325  0.0009937269  0.7914881  0.5757782\n",
              "  0.325  0.0046124718  0.8052976  0.6027790\n",
              "  0.325  0.0214091987  0.8053571  0.6024060\n",
              "  0.325  0.0993727020  0.7910119  0.5735393\n",
              "  0.550  0.0002140920  0.7848214  0.5627409\n",
              "  0.550  0.0009937269  0.7914881  0.5757782\n",
              "  0.550  0.0046124718  0.8052976  0.6027790\n",
              "  0.550  0.0214091987  0.8053571  0.6024060\n",
              "  0.550  0.0993727020  0.7972619  0.5828217\n",
              "  0.775  0.0002140920  0.7848214  0.5627409\n",
              "  0.775  0.0009937269  0.7914881  0.5757782\n",
              "  0.775  0.0046124718  0.8052976  0.6027790\n",
              "  0.775  0.0214091987  0.7991071  0.5906996\n",
              "  0.775  0.0993727020  0.7910119  0.5699371\n",
              "  1.000  0.0002140920  0.7848214  0.5627409\n",
              "  1.000  0.0009937269  0.7986310  0.5900512\n",
              "  1.000  0.0046124718  0.8052976  0.6027790\n",
              "  1.000  0.0214091987  0.7776786  0.5490456\n",
              "  1.000  0.0993727020  0.7709524  0.5220689\n",
              "\n",
              "Accuracy was used to select the optimal model using the largest value.\n",
              "The final values used for the model were alpha = 0.1 and lambda = 0.0214092."
            ]
          },
          "metadata": {
            "tags": []
          }
        }
      ]
    },
    {
      "cell_type": "code",
      "metadata": {
        "colab": {
          "base_uri": "https://localhost:8080/",
          "height": 139
        },
        "id": "ksvFrRl7aXTK",
        "outputId": "22cdcf0c-a86f-456d-ea9e-1be8004bb1b5"
      },
      "source": [
        "hpred = predict(hfit, x.test)\n",
        "hpred\n",
        "mean(y.test != hpred) ## test classification error\n",
        "mean(y.test == hpred) ##test accurary"
      ],
      "execution_count": 128,
      "outputs": [
        {
          "output_type": "display_data",
          "data": {
            "text/plain": [
              "  [1] Yes Yes Yes No  No  Yes No  Yes No  No  No  No  No  No  Yes Yes No  No \n",
              " [19] Yes Yes Yes No  No  No  Yes Yes Yes No  Yes No  Yes Yes No  No  Yes Yes\n",
              " [37] Yes No  Yes Yes No  No  Yes No  No  Yes Yes Yes No  Yes Yes No  No  No \n",
              " [55] No  Yes Yes Yes No  Yes Yes No  No  No  No  No  Yes Yes No  No  No  Yes\n",
              " [73] No  No  Yes Yes Yes Yes Yes No  Yes No  No  No  No  Yes No  Yes Yes No \n",
              " [91] Yes Yes Yes Yes No  No  Yes Yes No  No  No  No  No  No  No  No  No  Yes\n",
              "[109] Yes Yes No  Yes No  No  No  Yes No  No  No  No  No  No  Yes No  Yes No \n",
              "[127] Yes No  No  No  No  No  No  Yes No  No  No  Yes No  No  No  No  Yes No \n",
              "[145] Yes No  Yes Yes No \n",
              "Levels: No Yes"
            ],
            "text/latex": "\\begin{enumerate*}\n\\item Yes\n\\item Yes\n\\item Yes\n\\item No\n\\item No\n\\item Yes\n\\item No\n\\item Yes\n\\item No\n\\item No\n\\item No\n\\item No\n\\item No\n\\item No\n\\item Yes\n\\item Yes\n\\item No\n\\item No\n\\item Yes\n\\item Yes\n\\item Yes\n\\item No\n\\item No\n\\item No\n\\item Yes\n\\item Yes\n\\item Yes\n\\item No\n\\item Yes\n\\item No\n\\item Yes\n\\item Yes\n\\item No\n\\item No\n\\item Yes\n\\item Yes\n\\item Yes\n\\item No\n\\item Yes\n\\item Yes\n\\item No\n\\item No\n\\item Yes\n\\item No\n\\item No\n\\item Yes\n\\item Yes\n\\item Yes\n\\item No\n\\item Yes\n\\item Yes\n\\item No\n\\item No\n\\item No\n\\item No\n\\item Yes\n\\item Yes\n\\item Yes\n\\item No\n\\item Yes\n\\item Yes\n\\item No\n\\item No\n\\item No\n\\item No\n\\item No\n\\item Yes\n\\item Yes\n\\item No\n\\item No\n\\item No\n\\item Yes\n\\item No\n\\item No\n\\item Yes\n\\item Yes\n\\item Yes\n\\item Yes\n\\item Yes\n\\item No\n\\item Yes\n\\item No\n\\item No\n\\item No\n\\item No\n\\item Yes\n\\item No\n\\item Yes\n\\item Yes\n\\item No\n\\item Yes\n\\item Yes\n\\item Yes\n\\item Yes\n\\item No\n\\item No\n\\item Yes\n\\item Yes\n\\item No\n\\item No\n\\item No\n\\item No\n\\item No\n\\item No\n\\item No\n\\item No\n\\item No\n\\item Yes\n\\item Yes\n\\item Yes\n\\item No\n\\item Yes\n\\item No\n\\item No\n\\item No\n\\item Yes\n\\item No\n\\item No\n\\item No\n\\item No\n\\item No\n\\item No\n\\item Yes\n\\item No\n\\item Yes\n\\item No\n\\item Yes\n\\item No\n\\item No\n\\item No\n\\item No\n\\item No\n\\item No\n\\item Yes\n\\item No\n\\item No\n\\item No\n\\item Yes\n\\item No\n\\item No\n\\item No\n\\item No\n\\item Yes\n\\item No\n\\item Yes\n\\item No\n\\item Yes\n\\item Yes\n\\item No\n\\end{enumerate*}\n\n\\emph{Levels}: \\begin{enumerate*}\n\\item 'No'\n\\item 'Yes'\n\\end{enumerate*}\n",
            "text/markdown": "1. Yes\n2. Yes\n3. Yes\n4. No\n5. No\n6. Yes\n7. No\n8. Yes\n9. No\n10. No\n11. No\n12. No\n13. No\n14. No\n15. Yes\n16. Yes\n17. No\n18. No\n19. Yes\n20. Yes\n21. Yes\n22. No\n23. No\n24. No\n25. Yes\n26. Yes\n27. Yes\n28. No\n29. Yes\n30. No\n31. Yes\n32. Yes\n33. No\n34. No\n35. Yes\n36. Yes\n37. Yes\n38. No\n39. Yes\n40. Yes\n41. No\n42. No\n43. Yes\n44. No\n45. No\n46. Yes\n47. Yes\n48. Yes\n49. No\n50. Yes\n51. Yes\n52. No\n53. No\n54. No\n55. No\n56. Yes\n57. Yes\n58. Yes\n59. No\n60. Yes\n61. Yes\n62. No\n63. No\n64. No\n65. No\n66. No\n67. Yes\n68. Yes\n69. No\n70. No\n71. No\n72. Yes\n73. No\n74. No\n75. Yes\n76. Yes\n77. Yes\n78. Yes\n79. Yes\n80. No\n81. Yes\n82. No\n83. No\n84. No\n85. No\n86. Yes\n87. No\n88. Yes\n89. Yes\n90. No\n91. Yes\n92. Yes\n93. Yes\n94. Yes\n95. No\n96. No\n97. Yes\n98. Yes\n99. No\n100. No\n101. No\n102. No\n103. No\n104. No\n105. No\n106. No\n107. No\n108. Yes\n109. Yes\n110. Yes\n111. No\n112. Yes\n113. No\n114. No\n115. No\n116. Yes\n117. No\n118. No\n119. No\n120. No\n121. No\n122. No\n123. Yes\n124. No\n125. Yes\n126. No\n127. Yes\n128. No\n129. No\n130. No\n131. No\n132. No\n133. No\n134. Yes\n135. No\n136. No\n137. No\n138. Yes\n139. No\n140. No\n141. No\n142. No\n143. Yes\n144. No\n145. Yes\n146. No\n147. Yes\n148. Yes\n149. No\n\n\n\n**Levels**: 1. 'No'\n2. 'Yes'\n\n\n",
            "text/html": [
              "<style>\n",
              ".list-inline {list-style: none; margin:0; padding: 0}\n",
              ".list-inline>li {display: inline-block}\n",
              ".list-inline>li:not(:last-child)::after {content: \"\\00b7\"; padding: 0 .5ex}\n",
              "</style>\n",
              "<ol class=list-inline><li>Yes</li><li>Yes</li><li>Yes</li><li>No</li><li>No</li><li>Yes</li><li>No</li><li>Yes</li><li>No</li><li>No</li><li>No</li><li>No</li><li>No</li><li>No</li><li>Yes</li><li>Yes</li><li>No</li><li>No</li><li>Yes</li><li>Yes</li><li>Yes</li><li>No</li><li>No</li><li>No</li><li>Yes</li><li>Yes</li><li>Yes</li><li>No</li><li>Yes</li><li>No</li><li>Yes</li><li>Yes</li><li>No</li><li>No</li><li>Yes</li><li>Yes</li><li>Yes</li><li>No</li><li>Yes</li><li>Yes</li><li>No</li><li>No</li><li>Yes</li><li>No</li><li>No</li><li>Yes</li><li>Yes</li><li>Yes</li><li>No</li><li>Yes</li><li>Yes</li><li>No</li><li>No</li><li>No</li><li>No</li><li>Yes</li><li>Yes</li><li>Yes</li><li>No</li><li>Yes</li><li>Yes</li><li>No</li><li>No</li><li>No</li><li>No</li><li>No</li><li>Yes</li><li>Yes</li><li>No</li><li>No</li><li>No</li><li>Yes</li><li>No</li><li>No</li><li>Yes</li><li>Yes</li><li>Yes</li><li>Yes</li><li>Yes</li><li>No</li><li>Yes</li><li>No</li><li>No</li><li>No</li><li>No</li><li>Yes</li><li>No</li><li>Yes</li><li>Yes</li><li>No</li><li>Yes</li><li>Yes</li><li>Yes</li><li>Yes</li><li>No</li><li>No</li><li>Yes</li><li>Yes</li><li>No</li><li>No</li><li>No</li><li>No</li><li>No</li><li>No</li><li>No</li><li>No</li><li>No</li><li>Yes</li><li>Yes</li><li>Yes</li><li>No</li><li>Yes</li><li>No</li><li>No</li><li>No</li><li>Yes</li><li>No</li><li>No</li><li>No</li><li>No</li><li>No</li><li>No</li><li>Yes</li><li>No</li><li>Yes</li><li>No</li><li>Yes</li><li>No</li><li>No</li><li>No</li><li>No</li><li>No</li><li>No</li><li>Yes</li><li>No</li><li>No</li><li>No</li><li>Yes</li><li>No</li><li>No</li><li>No</li><li>No</li><li>Yes</li><li>No</li><li>Yes</li><li>No</li><li>Yes</li><li>Yes</li><li>No</li></ol>\n",
              "\n",
              "<details>\n",
              "\t<summary style=display:list-item;cursor:pointer>\n",
              "\t\t<strong>Levels</strong>:\n",
              "\t</summary>\n",
              "\t<style>\n",
              "\t.list-inline {list-style: none; margin:0; padding: 0}\n",
              "\t.list-inline>li {display: inline-block}\n",
              "\t.list-inline>li:not(:last-child)::after {content: \"\\00b7\"; padding: 0 .5ex}\n",
              "\t</style>\n",
              "\t<ol class=list-inline><li>'No'</li><li>'Yes'</li></ol>\n",
              "</details>"
            ]
          },
          "metadata": {
            "tags": []
          }
        },
        {
          "output_type": "display_data",
          "data": {
            "text/plain": [
              "[1] 0.147651"
            ],
            "text/latex": "0.147651006711409",
            "text/markdown": "0.147651006711409",
            "text/html": [
              "0.147651006711409"
            ]
          },
          "metadata": {
            "tags": []
          }
        },
        {
          "output_type": "display_data",
          "data": {
            "text/plain": [
              "[1] 0.852349"
            ],
            "text/latex": "0.852348993288591",
            "text/markdown": "0.852348993288591",
            "text/html": [
              "0.852348993288591"
            ]
          },
          "metadata": {
            "tags": []
          }
        }
      ]
    },
    {
      "cell_type": "code",
      "metadata": {
        "colab": {
          "base_uri": "https://localhost:8080/",
          "height": 1000
        },
        "id": "AeBdo_0xanXt",
        "outputId": "f01fc41a-12a4-44e0-a068-aa8283a52734"
      },
      "source": [
        "predict(hfit, x.test, type = \"prob\")\n",
        "\n",
        "hfit$bestTune"
      ],
      "execution_count": 129,
      "outputs": [
        {
          "output_type": "display_data",
          "data": {
            "text/plain": [
              "    No          Yes       \n",
              "1   0.009328218 0.99067178\n",
              "2   0.016239607 0.98376039\n",
              "3   0.476399829 0.52360017\n",
              "4   0.955775599 0.04422440\n",
              "5   0.924159559 0.07584044\n",
              "6   0.135306992 0.86469301\n",
              "7   0.816956541 0.18304346\n",
              "8   0.058772313 0.94122769\n",
              "9   0.676575762 0.32342424\n",
              "10  0.878156843 0.12184316\n",
              "11  0.810820250 0.18917975\n",
              "12  0.720134542 0.27986546\n",
              "13  0.670338950 0.32966105\n",
              "14  0.978737941 0.02126206\n",
              "15  0.086551193 0.91344881\n",
              "16  0.124173704 0.87582630\n",
              "17  0.812557077 0.18744292\n",
              "18  0.813378904 0.18662110\n",
              "19  0.072902121 0.92709788\n",
              "20  0.076454264 0.92354574\n",
              "21  0.290340768 0.70965923\n",
              "22  0.907204898 0.09279510\n",
              "23  0.692812514 0.30718749\n",
              "24  0.907314575 0.09268542\n",
              "25  0.127320942 0.87267906\n",
              "26  0.022416586 0.97758341\n",
              "27  0.428100647 0.57189935\n",
              "28  0.623442333 0.37655767\n",
              "29  0.394608282 0.60539172\n",
              "30  0.710336828 0.28966317\n",
              "⋮   ⋮           ⋮         \n",
              "120 0.96890617  0.03109383\n",
              "121 0.94383237  0.05616763\n",
              "122 0.98363268  0.01636732\n",
              "123 0.44347730  0.55652270\n",
              "124 0.51810664  0.48189336\n",
              "125 0.21428649  0.78571351\n",
              "126 0.92238692  0.07761308\n",
              "127 0.07414398  0.92585602\n",
              "128 0.97281167  0.02718833\n",
              "129 0.85244380  0.14755620\n",
              "130 0.76118152  0.23881848\n",
              "131 0.89810100  0.10189900\n",
              "132 0.83886963  0.16113037\n",
              "133 0.93030577  0.06969423\n",
              "134 0.06059861  0.93940139\n",
              "135 0.60449815  0.39550185\n",
              "136 0.60583226  0.39416774\n",
              "137 0.91864190  0.08135810\n",
              "138 0.07857424  0.92142576\n",
              "139 0.76115410  0.23884590\n",
              "140 0.86078546  0.13921454\n",
              "141 0.72768555  0.27231445\n",
              "142 0.89014132  0.10985868\n",
              "143 0.12897976  0.87102024\n",
              "144 0.80913803  0.19086197\n",
              "145 0.01915995  0.98084005\n",
              "146 0.83130755  0.16869245\n",
              "147 0.48255740  0.51744260\n",
              "148 0.06861706  0.93138294\n",
              "149 0.90546666  0.09453334"
            ],
            "text/latex": "A data.frame: 149 × 2\n\\begin{tabular}{ll}\n No & Yes\\\\\n <dbl> & <dbl>\\\\\n\\hline\n\t 0.009328218 & 0.99067178\\\\\n\t 0.016239607 & 0.98376039\\\\\n\t 0.476399829 & 0.52360017\\\\\n\t 0.955775599 & 0.04422440\\\\\n\t 0.924159559 & 0.07584044\\\\\n\t 0.135306992 & 0.86469301\\\\\n\t 0.816956541 & 0.18304346\\\\\n\t 0.058772313 & 0.94122769\\\\\n\t 0.676575762 & 0.32342424\\\\\n\t 0.878156843 & 0.12184316\\\\\n\t 0.810820250 & 0.18917975\\\\\n\t 0.720134542 & 0.27986546\\\\\n\t 0.670338950 & 0.32966105\\\\\n\t 0.978737941 & 0.02126206\\\\\n\t 0.086551193 & 0.91344881\\\\\n\t 0.124173704 & 0.87582630\\\\\n\t 0.812557077 & 0.18744292\\\\\n\t 0.813378904 & 0.18662110\\\\\n\t 0.072902121 & 0.92709788\\\\\n\t 0.076454264 & 0.92354574\\\\\n\t 0.290340768 & 0.70965923\\\\\n\t 0.907204898 & 0.09279510\\\\\n\t 0.692812514 & 0.30718749\\\\\n\t 0.907314575 & 0.09268542\\\\\n\t 0.127320942 & 0.87267906\\\\\n\t 0.022416586 & 0.97758341\\\\\n\t 0.428100647 & 0.57189935\\\\\n\t 0.623442333 & 0.37655767\\\\\n\t 0.394608282 & 0.60539172\\\\\n\t 0.710336828 & 0.28966317\\\\\n\t ⋮ & ⋮\\\\\n\t 0.96890617 & 0.03109383\\\\\n\t 0.94383237 & 0.05616763\\\\\n\t 0.98363268 & 0.01636732\\\\\n\t 0.44347730 & 0.55652270\\\\\n\t 0.51810664 & 0.48189336\\\\\n\t 0.21428649 & 0.78571351\\\\\n\t 0.92238692 & 0.07761308\\\\\n\t 0.07414398 & 0.92585602\\\\\n\t 0.97281167 & 0.02718833\\\\\n\t 0.85244380 & 0.14755620\\\\\n\t 0.76118152 & 0.23881848\\\\\n\t 0.89810100 & 0.10189900\\\\\n\t 0.83886963 & 0.16113037\\\\\n\t 0.93030577 & 0.06969423\\\\\n\t 0.06059861 & 0.93940139\\\\\n\t 0.60449815 & 0.39550185\\\\\n\t 0.60583226 & 0.39416774\\\\\n\t 0.91864190 & 0.08135810\\\\\n\t 0.07857424 & 0.92142576\\\\\n\t 0.76115410 & 0.23884590\\\\\n\t 0.86078546 & 0.13921454\\\\\n\t 0.72768555 & 0.27231445\\\\\n\t 0.89014132 & 0.10985868\\\\\n\t 0.12897976 & 0.87102024\\\\\n\t 0.80913803 & 0.19086197\\\\\n\t 0.01915995 & 0.98084005\\\\\n\t 0.83130755 & 0.16869245\\\\\n\t 0.48255740 & 0.51744260\\\\\n\t 0.06861706 & 0.93138294\\\\\n\t 0.90546666 & 0.09453334\\\\\n\\end{tabular}\n",
            "text/markdown": "\nA data.frame: 149 × 2\n\n| No &lt;dbl&gt; | Yes &lt;dbl&gt; |\n|---|---|\n| 0.009328218 | 0.99067178 |\n| 0.016239607 | 0.98376039 |\n| 0.476399829 | 0.52360017 |\n| 0.955775599 | 0.04422440 |\n| 0.924159559 | 0.07584044 |\n| 0.135306992 | 0.86469301 |\n| 0.816956541 | 0.18304346 |\n| 0.058772313 | 0.94122769 |\n| 0.676575762 | 0.32342424 |\n| 0.878156843 | 0.12184316 |\n| 0.810820250 | 0.18917975 |\n| 0.720134542 | 0.27986546 |\n| 0.670338950 | 0.32966105 |\n| 0.978737941 | 0.02126206 |\n| 0.086551193 | 0.91344881 |\n| 0.124173704 | 0.87582630 |\n| 0.812557077 | 0.18744292 |\n| 0.813378904 | 0.18662110 |\n| 0.072902121 | 0.92709788 |\n| 0.076454264 | 0.92354574 |\n| 0.290340768 | 0.70965923 |\n| 0.907204898 | 0.09279510 |\n| 0.692812514 | 0.30718749 |\n| 0.907314575 | 0.09268542 |\n| 0.127320942 | 0.87267906 |\n| 0.022416586 | 0.97758341 |\n| 0.428100647 | 0.57189935 |\n| 0.623442333 | 0.37655767 |\n| 0.394608282 | 0.60539172 |\n| 0.710336828 | 0.28966317 |\n| ⋮ | ⋮ |\n| 0.96890617 | 0.03109383 |\n| 0.94383237 | 0.05616763 |\n| 0.98363268 | 0.01636732 |\n| 0.44347730 | 0.55652270 |\n| 0.51810664 | 0.48189336 |\n| 0.21428649 | 0.78571351 |\n| 0.92238692 | 0.07761308 |\n| 0.07414398 | 0.92585602 |\n| 0.97281167 | 0.02718833 |\n| 0.85244380 | 0.14755620 |\n| 0.76118152 | 0.23881848 |\n| 0.89810100 | 0.10189900 |\n| 0.83886963 | 0.16113037 |\n| 0.93030577 | 0.06969423 |\n| 0.06059861 | 0.93940139 |\n| 0.60449815 | 0.39550185 |\n| 0.60583226 | 0.39416774 |\n| 0.91864190 | 0.08135810 |\n| 0.07857424 | 0.92142576 |\n| 0.76115410 | 0.23884590 |\n| 0.86078546 | 0.13921454 |\n| 0.72768555 | 0.27231445 |\n| 0.89014132 | 0.10985868 |\n| 0.12897976 | 0.87102024 |\n| 0.80913803 | 0.19086197 |\n| 0.01915995 | 0.98084005 |\n| 0.83130755 | 0.16869245 |\n| 0.48255740 | 0.51744260 |\n| 0.06861706 | 0.93138294 |\n| 0.90546666 | 0.09453334 |\n\n",
            "text/html": [
              "<table class=\"dataframe\">\n",
              "<caption>A data.frame: 149 × 2</caption>\n",
              "<thead>\n",
              "\t<tr><th scope=col>No</th><th scope=col>Yes</th></tr>\n",
              "\t<tr><th scope=col>&lt;dbl&gt;</th><th scope=col>&lt;dbl&gt;</th></tr>\n",
              "</thead>\n",
              "<tbody>\n",
              "\t<tr><td>0.009328218</td><td>0.99067178</td></tr>\n",
              "\t<tr><td>0.016239607</td><td>0.98376039</td></tr>\n",
              "\t<tr><td>0.476399829</td><td>0.52360017</td></tr>\n",
              "\t<tr><td>0.955775599</td><td>0.04422440</td></tr>\n",
              "\t<tr><td>0.924159559</td><td>0.07584044</td></tr>\n",
              "\t<tr><td>0.135306992</td><td>0.86469301</td></tr>\n",
              "\t<tr><td>0.816956541</td><td>0.18304346</td></tr>\n",
              "\t<tr><td>0.058772313</td><td>0.94122769</td></tr>\n",
              "\t<tr><td>0.676575762</td><td>0.32342424</td></tr>\n",
              "\t<tr><td>0.878156843</td><td>0.12184316</td></tr>\n",
              "\t<tr><td>0.810820250</td><td>0.18917975</td></tr>\n",
              "\t<tr><td>0.720134542</td><td>0.27986546</td></tr>\n",
              "\t<tr><td>0.670338950</td><td>0.32966105</td></tr>\n",
              "\t<tr><td>0.978737941</td><td>0.02126206</td></tr>\n",
              "\t<tr><td>0.086551193</td><td>0.91344881</td></tr>\n",
              "\t<tr><td>0.124173704</td><td>0.87582630</td></tr>\n",
              "\t<tr><td>0.812557077</td><td>0.18744292</td></tr>\n",
              "\t<tr><td>0.813378904</td><td>0.18662110</td></tr>\n",
              "\t<tr><td>0.072902121</td><td>0.92709788</td></tr>\n",
              "\t<tr><td>0.076454264</td><td>0.92354574</td></tr>\n",
              "\t<tr><td>0.290340768</td><td>0.70965923</td></tr>\n",
              "\t<tr><td>0.907204898</td><td>0.09279510</td></tr>\n",
              "\t<tr><td>0.692812514</td><td>0.30718749</td></tr>\n",
              "\t<tr><td>0.907314575</td><td>0.09268542</td></tr>\n",
              "\t<tr><td>0.127320942</td><td>0.87267906</td></tr>\n",
              "\t<tr><td>0.022416586</td><td>0.97758341</td></tr>\n",
              "\t<tr><td>0.428100647</td><td>0.57189935</td></tr>\n",
              "\t<tr><td>0.623442333</td><td>0.37655767</td></tr>\n",
              "\t<tr><td>0.394608282</td><td>0.60539172</td></tr>\n",
              "\t<tr><td>0.710336828</td><td>0.28966317</td></tr>\n",
              "\t<tr><td>⋮</td><td>⋮</td></tr>\n",
              "\t<tr><td>0.96890617</td><td>0.03109383</td></tr>\n",
              "\t<tr><td>0.94383237</td><td>0.05616763</td></tr>\n",
              "\t<tr><td>0.98363268</td><td>0.01636732</td></tr>\n",
              "\t<tr><td>0.44347730</td><td>0.55652270</td></tr>\n",
              "\t<tr><td>0.51810664</td><td>0.48189336</td></tr>\n",
              "\t<tr><td>0.21428649</td><td>0.78571351</td></tr>\n",
              "\t<tr><td>0.92238692</td><td>0.07761308</td></tr>\n",
              "\t<tr><td>0.07414398</td><td>0.92585602</td></tr>\n",
              "\t<tr><td>0.97281167</td><td>0.02718833</td></tr>\n",
              "\t<tr><td>0.85244380</td><td>0.14755620</td></tr>\n",
              "\t<tr><td>0.76118152</td><td>0.23881848</td></tr>\n",
              "\t<tr><td>0.89810100</td><td>0.10189900</td></tr>\n",
              "\t<tr><td>0.83886963</td><td>0.16113037</td></tr>\n",
              "\t<tr><td>0.93030577</td><td>0.06969423</td></tr>\n",
              "\t<tr><td>0.06059861</td><td>0.93940139</td></tr>\n",
              "\t<tr><td>0.60449815</td><td>0.39550185</td></tr>\n",
              "\t<tr><td>0.60583226</td><td>0.39416774</td></tr>\n",
              "\t<tr><td>0.91864190</td><td>0.08135810</td></tr>\n",
              "\t<tr><td>0.07857424</td><td>0.92142576</td></tr>\n",
              "\t<tr><td>0.76115410</td><td>0.23884590</td></tr>\n",
              "\t<tr><td>0.86078546</td><td>0.13921454</td></tr>\n",
              "\t<tr><td>0.72768555</td><td>0.27231445</td></tr>\n",
              "\t<tr><td>0.89014132</td><td>0.10985868</td></tr>\n",
              "\t<tr><td>0.12897976</td><td>0.87102024</td></tr>\n",
              "\t<tr><td>0.80913803</td><td>0.19086197</td></tr>\n",
              "\t<tr><td>0.01915995</td><td>0.98084005</td></tr>\n",
              "\t<tr><td>0.83130755</td><td>0.16869245</td></tr>\n",
              "\t<tr><td>0.48255740</td><td>0.51744260</td></tr>\n",
              "\t<tr><td>0.06861706</td><td>0.93138294</td></tr>\n",
              "\t<tr><td>0.90546666</td><td>0.09453334</td></tr>\n",
              "</tbody>\n",
              "</table>\n"
            ]
          },
          "metadata": {
            "tags": []
          }
        },
        {
          "output_type": "display_data",
          "data": {
            "text/plain": [
              "  alpha lambda   \n",
              "4 0.1   0.0214092"
            ],
            "text/latex": "A data.frame: 1 × 2\n\\begin{tabular}{r|ll}\n  & alpha & lambda\\\\\n  & <dbl> & <dbl>\\\\\n\\hline\n\t4 & 0.1 & 0.0214092\\\\\n\\end{tabular}\n",
            "text/markdown": "\nA data.frame: 1 × 2\n\n| <!--/--> | alpha &lt;dbl&gt; | lambda &lt;dbl&gt; |\n|---|---|---|\n| 4 | 0.1 | 0.0214092 |\n\n",
            "text/html": [
              "<table class=\"dataframe\">\n",
              "<caption>A data.frame: 1 × 2</caption>\n",
              "<thead>\n",
              "\t<tr><th></th><th scope=col>alpha</th><th scope=col>lambda</th></tr>\n",
              "\t<tr><th></th><th scope=col>&lt;dbl&gt;</th><th scope=col>&lt;dbl&gt;</th></tr>\n",
              "</thead>\n",
              "<tbody>\n",
              "\t<tr><th scope=row>4</th><td>0.1</td><td>0.0214092</td></tr>\n",
              "</tbody>\n",
              "</table>\n"
            ]
          },
          "metadata": {
            "tags": []
          }
        }
      ]
    },
    {
      "cell_type": "code",
      "metadata": {
        "colab": {
          "base_uri": "https://localhost:8080/",
          "height": 409
        },
        "id": "9Ri8Uo19ZjtT",
        "outputId": "31376788-fb5c-4227-bf9b-71471903f07d"
      },
      "source": [
        "h = glmnet(x.train, y.train, alpha = hfit$bestTune[1], family = \"binomial\", lambda = hfit$bestTune[2])\n",
        "h\n",
        "coef(f)"
      ],
      "execution_count": 130,
      "outputs": [
        {
          "output_type": "display_data",
          "data": {
            "text/plain": [
              "\n",
              "Call:  glmnet(x = x.train, y = y.train, family = \"binomial\", alpha = hfit$bestTune[1],      lambda = hfit$bestTune[2]) \n",
              "\n",
              "  Df %Dev  Lambda\n",
              "1 16 49.5 0.02141"
            ]
          },
          "metadata": {
            "tags": []
          }
        },
        {
          "output_type": "display_data",
          "data": {
            "text/plain": [
              "14 x 1 sparse Matrix of class \"dgCMatrix\"\n",
              "                       s0\n",
              "(Intercept)  34.652506843\n",
              "crim         -0.091916107\n",
              "zn            0.029899187\n",
              "indus         0.032137218\n",
              "chas          2.309590315\n",
              "nox         -13.574814598\n",
              "rm            4.105080985\n",
              "age          -0.003547556\n",
              "dis          -1.263815040\n",
              "rad           0.378411988\n",
              "tax          -0.019072924\n",
              "ptratio      -0.980232220\n",
              "black         0.006801121\n",
              "lstat        -0.486443115"
            ]
          },
          "metadata": {
            "tags": []
          }
        }
      ]
    },
    {
      "cell_type": "code",
      "metadata": {
        "id": "xQh7Alctaw3i"
      },
      "source": [
        ""
      ],
      "execution_count": null,
      "outputs": []
    }
  ]
}