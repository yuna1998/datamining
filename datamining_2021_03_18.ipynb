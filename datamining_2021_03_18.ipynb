{
  "nbformat": 4,
  "nbformat_minor": 0,
  "metadata": {
    "colab": {
      "name": "datamining_2021.03.18.ipynb",
      "provenance": [],
      "authorship_tag": "ABX9TyN2UiR5s8Zm4QCBdCLbBuPr",
      "include_colab_link": true
    },
    "kernelspec": {
      "name": "ir",
      "display_name": "R"
    }
  },
  "cells": [
    {
      "cell_type": "markdown",
      "metadata": {
        "id": "view-in-github",
        "colab_type": "text"
      },
      "source": [
        "<a href=\"https://colab.research.google.com/github/yuna1998/datamining/blob/main/datamining_2021_03_18.ipynb\" target=\"_parent\"><img src=\"https://colab.research.google.com/assets/colab-badge.svg\" alt=\"Open In Colab\"/></a>"
      ]
    },
    {
      "cell_type": "code",
      "metadata": {
        "id": "xPHDZWxq_v4B"
      },
      "source": [
        "library(bootstrap)"
      ],
      "execution_count": 3,
      "outputs": []
    },
    {
      "cell_type": "code",
      "metadata": {
        "colab": {
          "base_uri": "https://localhost:8080/"
        },
        "id": "24qUdC5q_3t3",
        "outputId": "97e39885-b8e8-4da9-951d-a0d6442bfb68"
      },
      "source": [
        "install.packages(\"bootstrap\")"
      ],
      "execution_count": 2,
      "outputs": [
        {
          "output_type": "stream",
          "text": [
            "Installing package into ‘/usr/local/lib/R/site-library’\n",
            "(as ‘lib’ is unspecified)\n",
            "\n"
          ],
          "name": "stderr"
        }
      ]
    },
    {
      "cell_type": "code",
      "metadata": {
        "id": "3ReASX2wAFLz"
      },
      "source": [
        "x <- c(1,2,3)"
      ],
      "execution_count": 5,
      "outputs": []
    },
    {
      "cell_type": "code",
      "metadata": {
        "colab": {
          "base_uri": "https://localhost:8080/",
          "height": 223
        },
        "id": "-Ju2iNvKAOax",
        "outputId": "148e1463-9f3e-44b2-b7eb-5ab299087524"
      },
      "source": [
        "jackknife(x, var)"
      ],
      "execution_count": 7,
      "outputs": [
        {
          "output_type": "display_data",
          "data": {
            "text/plain": [
              "$jack.se\n",
              "[1] 1\n",
              "\n",
              "$jack.bias\n",
              "[1] 0\n",
              "\n",
              "$jack.values\n",
              "[1] 0.5 2.0 0.5\n",
              "\n",
              "$call\n",
              "jackknife(x = x, theta = var)\n"
            ]
          },
          "metadata": {
            "tags": []
          }
        }
      ]
    },
    {
      "cell_type": "code",
      "metadata": {
        "id": "2m42z5dYAVAU"
      },
      "source": [
        ""
      ],
      "execution_count": null,
      "outputs": []
    }
  ]
}