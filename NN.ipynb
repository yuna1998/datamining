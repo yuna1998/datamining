{
  "nbformat": 4,
  "nbformat_minor": 0,
  "metadata": {
    "colab": {
      "name": "NN.ipynb",
      "provenance": [],
      "authorship_tag": "ABX9TyOs/av7ny+p7/xrHch64/g1",
      "include_colab_link": true
    },
    "kernelspec": {
      "name": "ir",
      "display_name": "R"
    },
    "language_info": {
      "name": "R"
    }
  },
  "cells": [
    {
      "cell_type": "markdown",
      "metadata": {
        "id": "view-in-github",
        "colab_type": "text"
      },
      "source": [
        "<a href=\"https://colab.research.google.com/github/yuna1998/datamining/blob/main/NN.ipynb\" target=\"_parent\"><img src=\"https://colab.research.google.com/assets/colab-badge.svg\" alt=\"Open In Colab\"/></a>"
      ]
    },
    {
      "cell_type": "code",
      "metadata": {
        "id": "MQW98CmPtVnE"
      },
      "source": [
        "#neuralnet package with Heart data"
      ],
      "execution_count": 1,
      "outputs": []
    },
    {
      "cell_type": "code",
      "metadata": {
        "id": "SentDZxGy4Bn"
      },
      "source": [
        "hdata = read.csv(\"Heart.csv\", stringsAsFactors = T)"
      ],
      "execution_count": 2,
      "outputs": []
    },
    {
      "cell_type": "code",
      "metadata": {
        "id": "tEn0er040ZGw"
      },
      "source": [
        "hdata$X = NULL"
      ],
      "execution_count": 3,
      "outputs": []
    },
    {
      "cell_type": "code",
      "metadata": {
        "id": "TgAaOjRd0bcB"
      },
      "source": [
        "hdata = na.omit(hdata)"
      ],
      "execution_count": 4,
      "outputs": []
    },
    {
      "cell_type": "code",
      "metadata": {
        "id": "uYiN7QmE0rs1"
      },
      "source": [
        "n = dim(hdata)[1]"
      ],
      "execution_count": 5,
      "outputs": []
    },
    {
      "cell_type": "code",
      "metadata": {
        "colab": {
          "base_uri": "https://localhost:8080/",
          "height": 35
        },
        "id": "hybwCf6900du",
        "outputId": "6a73fa1b-91f7-413a-a838-287f026f819a"
      },
      "source": [
        "n"
      ],
      "execution_count": 8,
      "outputs": [
        {
          "output_type": "display_data",
          "data": {
            "text/plain": [
              "[1] 297"
            ],
            "text/latex": "297",
            "text/markdown": "297",
            "text/html": [
              "297"
            ]
          },
          "metadata": {
            "tags": []
          }
        }
      ]
    },
    {
      "cell_type": "code",
      "metadata": {
        "id": "9j-TfddK0t_v"
      },
      "source": [
        "set.seed(1)"
      ],
      "execution_count": 6,
      "outputs": []
    },
    {
      "cell_type": "code",
      "metadata": {
        "id": "648ZmXXJ0vNP"
      },
      "source": [
        "train = sample(n, n/2)"
      ],
      "execution_count": 7,
      "outputs": []
    },
    {
      "cell_type": "code",
      "metadata": {
        "id": "HvBUhOeo0weF"
      },
      "source": [
        "normalize = function(x) ( x- min(x)) / (max(x) - min(x))"
      ],
      "execution_count": 9,
      "outputs": []
    },
    {
      "cell_type": "code",
      "metadata": {
        "id": "xWyKCCJv1At5"
      },
      "source": [
        "X = model.matrix(~. -1, data = hdata[,-14])"
      ],
      "execution_count": 11,
      "outputs": []
    },
    {
      "cell_type": "code",
      "metadata": {
        "id": "gdB80aCB1GKn"
      },
      "source": [
        "nX = apply(X, 2, normalize)"
      ],
      "execution_count": 12,
      "outputs": []
    },
    {
      "cell_type": "code",
      "metadata": {
        "id": "420cGjpn1NHq"
      },
      "source": [
        "nhdata = data.frame(nX, AHD = hdata$AHD)"
      ],
      "execution_count": 13,
      "outputs": []
    },
    {
      "cell_type": "code",
      "metadata": {
        "colab": {
          "base_uri": "https://localhost:8080/"
        },
        "id": "QTHaoVOd1QXs",
        "outputId": "423dc82f-a66b-4a8b-8874-647fc810be14"
      },
      "source": [
        "install.packages(\"neuralnet\")"
      ],
      "execution_count": 14,
      "outputs": [
        {
          "output_type": "stream",
          "text": [
            "Installing package into ‘/usr/local/lib/R/site-library’\n",
            "(as ‘lib’ is unspecified)\n",
            "\n",
            "also installing the dependency ‘Deriv’\n",
            "\n",
            "\n"
          ],
          "name": "stderr"
        }
      ]
    },
    {
      "cell_type": "code",
      "metadata": {
        "id": "9jvLY4Ap1TWy"
      },
      "source": [
        "library(neuralnet)"
      ],
      "execution_count": 15,
      "outputs": []
    },
    {
      "cell_type": "code",
      "metadata": {
        "id": "q9tBSPDh1VY5"
      },
      "source": [
        "fith = neuralnet( (AHD == \"Yes\")~. , data = nhdata[train,], err.fct = \"ce\", act.fct = \"logistic\", linear.output = F, hidden =c(10,10)\n",
        "\n",
        "##ce = cross entropy"
      ],
      "execution_count": 16,
      "outputs": []
    },
    {
      "cell_type": "code",
      "metadata": {
        "id": "2iN0QK352BZZ"
      },
      "source": [
        "plot(fith)"
      ],
      "execution_count": 19,
      "outputs": []
    },
    {
      "cell_type": "code",
      "metadata": {
        "id": "2-kAc3gm1hcc"
      },
      "source": [
        "ph = predict(fith, nhdata[-train,])"
      ],
      "execution_count": 17,
      "outputs": []
    },
    {
      "cell_type": "code",
      "metadata": {
        "colab": {
          "base_uri": "https://localhost:8080/",
          "height": 1000
        },
        "id": "g7u2g2Xs1lx9",
        "outputId": "151e2b05-78d4-4049-8e23-372b883884c3"
      },
      "source": [
        "ph"
      ],
      "execution_count": 18,
      "outputs": [
        {
          "output_type": "display_data",
          "data": {
            "text/plain": [
              "    [,1]        \n",
              "2   1.000000e+00\n",
              "3   1.000000e+00\n",
              "4   1.000000e+00\n",
              "5   6.498000e-14\n",
              "6   1.248620e-12\n",
              "7   9.088533e-13\n",
              "8   9.929930e-01\n",
              "10  1.000000e+00\n",
              "11  1.336762e-13\n",
              "12  2.403733e-10\n",
              "15  1.249414e-01\n",
              "18  8.685626e-05\n",
              "21  5.558654e-15\n",
              "27  3.875897e-12\n",
              "30  1.000000e+00\n",
              "32  1.000000e+00\n",
              "35  1.654987e-11\n",
              "36  8.133362e-08\n",
              "38  1.000000e+00\n",
              "41  3.561573e-01\n",
              "46  1.000000e+00\n",
              "47  8.793362e-01\n",
              "52  1.942510e-05\n",
              "54  1.820748e-21\n",
              "55  1.000000e+00\n",
              "56  1.000000e+00\n",
              "57  1.000000e+00\n",
              "58  4.679750e-02\n",
              "59  9.999244e-01\n",
              "62  7.371165e-17\n",
              "⋮   ⋮           \n",
              "242 6.011687e-13\n",
              "243 2.504734e-06\n",
              "245 6.346543e-13\n",
              "246 1.957739e-05\n",
              "247 1.000000e+00\n",
              "249 1.000000e+00\n",
              "250 1.235236e-09\n",
              "253 1.000000e+00\n",
              "256 5.993755e-13\n",
              "259 4.923385e-10\n",
              "260 9.991736e-01\n",
              "261 1.139656e-04\n",
              "262 2.081833e-01\n",
              "264 4.219149e-05\n",
              "265 1.000000e+00\n",
              "268 3.938815e-04\n",
              "269 1.853748e-06\n",
              "270 8.264501e-08\n",
              "271 1.000000e+00\n",
              "275 3.097694e-03\n",
              "277 6.263828e-12\n",
              "279 6.231704e-09\n",
              "280 3.887875e-14\n",
              "287 9.999998e-01\n",
              "290 1.052900e-06\n",
              "294 1.000000e+00\n",
              "295 4.190418e-07\n",
              "298 9.999992e-01\n",
              "300 9.999917e-01\n",
              "302 4.546642e-13"
            ],
            "text/latex": "A matrix: 149 × 1 of type dbl\n\\begin{tabular}{r|l}\n\t2 & 1.000000e+00\\\\\n\t3 & 1.000000e+00\\\\\n\t4 & 1.000000e+00\\\\\n\t5 & 6.498000e-14\\\\\n\t6 & 1.248620e-12\\\\\n\t7 & 9.088533e-13\\\\\n\t8 & 9.929930e-01\\\\\n\t10 & 1.000000e+00\\\\\n\t11 & 1.336762e-13\\\\\n\t12 & 2.403733e-10\\\\\n\t15 & 1.249414e-01\\\\\n\t18 & 8.685626e-05\\\\\n\t21 & 5.558654e-15\\\\\n\t27 & 3.875897e-12\\\\\n\t30 & 1.000000e+00\\\\\n\t32 & 1.000000e+00\\\\\n\t35 & 1.654987e-11\\\\\n\t36 & 8.133362e-08\\\\\n\t38 & 1.000000e+00\\\\\n\t41 & 3.561573e-01\\\\\n\t46 & 1.000000e+00\\\\\n\t47 & 8.793362e-01\\\\\n\t52 & 1.942510e-05\\\\\n\t54 & 1.820748e-21\\\\\n\t55 & 1.000000e+00\\\\\n\t56 & 1.000000e+00\\\\\n\t57 & 1.000000e+00\\\\\n\t58 & 4.679750e-02\\\\\n\t59 & 9.999244e-01\\\\\n\t62 & 7.371165e-17\\\\\n\t⋮ & ⋮\\\\\n\t242 & 6.011687e-13\\\\\n\t243 & 2.504734e-06\\\\\n\t245 & 6.346543e-13\\\\\n\t246 & 1.957739e-05\\\\\n\t247 & 1.000000e+00\\\\\n\t249 & 1.000000e+00\\\\\n\t250 & 1.235236e-09\\\\\n\t253 & 1.000000e+00\\\\\n\t256 & 5.993755e-13\\\\\n\t259 & 4.923385e-10\\\\\n\t260 & 9.991736e-01\\\\\n\t261 & 1.139656e-04\\\\\n\t262 & 2.081833e-01\\\\\n\t264 & 4.219149e-05\\\\\n\t265 & 1.000000e+00\\\\\n\t268 & 3.938815e-04\\\\\n\t269 & 1.853748e-06\\\\\n\t270 & 8.264501e-08\\\\\n\t271 & 1.000000e+00\\\\\n\t275 & 3.097694e-03\\\\\n\t277 & 6.263828e-12\\\\\n\t279 & 6.231704e-09\\\\\n\t280 & 3.887875e-14\\\\\n\t287 & 9.999998e-01\\\\\n\t290 & 1.052900e-06\\\\\n\t294 & 1.000000e+00\\\\\n\t295 & 4.190418e-07\\\\\n\t298 & 9.999992e-01\\\\\n\t300 & 9.999917e-01\\\\\n\t302 & 4.546642e-13\\\\\n\\end{tabular}\n",
            "text/markdown": "\nA matrix: 149 × 1 of type dbl\n\n| 2 | 1.000000e+00 |\n| 3 | 1.000000e+00 |\n| 4 | 1.000000e+00 |\n| 5 | 6.498000e-14 |\n| 6 | 1.248620e-12 |\n| 7 | 9.088533e-13 |\n| 8 | 9.929930e-01 |\n| 10 | 1.000000e+00 |\n| 11 | 1.336762e-13 |\n| 12 | 2.403733e-10 |\n| 15 | 1.249414e-01 |\n| 18 | 8.685626e-05 |\n| 21 | 5.558654e-15 |\n| 27 | 3.875897e-12 |\n| 30 | 1.000000e+00 |\n| 32 | 1.000000e+00 |\n| 35 | 1.654987e-11 |\n| 36 | 8.133362e-08 |\n| 38 | 1.000000e+00 |\n| 41 | 3.561573e-01 |\n| 46 | 1.000000e+00 |\n| 47 | 8.793362e-01 |\n| 52 | 1.942510e-05 |\n| 54 | 1.820748e-21 |\n| 55 | 1.000000e+00 |\n| 56 | 1.000000e+00 |\n| 57 | 1.000000e+00 |\n| 58 | 4.679750e-02 |\n| 59 | 9.999244e-01 |\n| 62 | 7.371165e-17 |\n| ⋮ | ⋮ |\n| 242 | 6.011687e-13 |\n| 243 | 2.504734e-06 |\n| 245 | 6.346543e-13 |\n| 246 | 1.957739e-05 |\n| 247 | 1.000000e+00 |\n| 249 | 1.000000e+00 |\n| 250 | 1.235236e-09 |\n| 253 | 1.000000e+00 |\n| 256 | 5.993755e-13 |\n| 259 | 4.923385e-10 |\n| 260 | 9.991736e-01 |\n| 261 | 1.139656e-04 |\n| 262 | 2.081833e-01 |\n| 264 | 4.219149e-05 |\n| 265 | 1.000000e+00 |\n| 268 | 3.938815e-04 |\n| 269 | 1.853748e-06 |\n| 270 | 8.264501e-08 |\n| 271 | 1.000000e+00 |\n| 275 | 3.097694e-03 |\n| 277 | 6.263828e-12 |\n| 279 | 6.231704e-09 |\n| 280 | 3.887875e-14 |\n| 287 | 9.999998e-01 |\n| 290 | 1.052900e-06 |\n| 294 | 1.000000e+00 |\n| 295 | 4.190418e-07 |\n| 298 | 9.999992e-01 |\n| 300 | 9.999917e-01 |\n| 302 | 4.546642e-13 |\n\n",
            "text/html": [
              "<table class=\"dataframe\">\n",
              "<caption>A matrix: 149 × 1 of type dbl</caption>\n",
              "<tbody>\n",
              "\t<tr><th scope=row>2</th><td>1.000000e+00</td></tr>\n",
              "\t<tr><th scope=row>3</th><td>1.000000e+00</td></tr>\n",
              "\t<tr><th scope=row>4</th><td>1.000000e+00</td></tr>\n",
              "\t<tr><th scope=row>5</th><td>6.498000e-14</td></tr>\n",
              "\t<tr><th scope=row>6</th><td>1.248620e-12</td></tr>\n",
              "\t<tr><th scope=row>7</th><td>9.088533e-13</td></tr>\n",
              "\t<tr><th scope=row>8</th><td>9.929930e-01</td></tr>\n",
              "\t<tr><th scope=row>10</th><td>1.000000e+00</td></tr>\n",
              "\t<tr><th scope=row>11</th><td>1.336762e-13</td></tr>\n",
              "\t<tr><th scope=row>12</th><td>2.403733e-10</td></tr>\n",
              "\t<tr><th scope=row>15</th><td>1.249414e-01</td></tr>\n",
              "\t<tr><th scope=row>18</th><td>8.685626e-05</td></tr>\n",
              "\t<tr><th scope=row>21</th><td>5.558654e-15</td></tr>\n",
              "\t<tr><th scope=row>27</th><td>3.875897e-12</td></tr>\n",
              "\t<tr><th scope=row>30</th><td>1.000000e+00</td></tr>\n",
              "\t<tr><th scope=row>32</th><td>1.000000e+00</td></tr>\n",
              "\t<tr><th scope=row>35</th><td>1.654987e-11</td></tr>\n",
              "\t<tr><th scope=row>36</th><td>8.133362e-08</td></tr>\n",
              "\t<tr><th scope=row>38</th><td>1.000000e+00</td></tr>\n",
              "\t<tr><th scope=row>41</th><td>3.561573e-01</td></tr>\n",
              "\t<tr><th scope=row>46</th><td>1.000000e+00</td></tr>\n",
              "\t<tr><th scope=row>47</th><td>8.793362e-01</td></tr>\n",
              "\t<tr><th scope=row>52</th><td>1.942510e-05</td></tr>\n",
              "\t<tr><th scope=row>54</th><td>1.820748e-21</td></tr>\n",
              "\t<tr><th scope=row>55</th><td>1.000000e+00</td></tr>\n",
              "\t<tr><th scope=row>56</th><td>1.000000e+00</td></tr>\n",
              "\t<tr><th scope=row>57</th><td>1.000000e+00</td></tr>\n",
              "\t<tr><th scope=row>58</th><td>4.679750e-02</td></tr>\n",
              "\t<tr><th scope=row>59</th><td>9.999244e-01</td></tr>\n",
              "\t<tr><th scope=row>62</th><td>7.371165e-17</td></tr>\n",
              "\t<tr><th scope=row>⋮</th><td>⋮</td></tr>\n",
              "\t<tr><th scope=row>242</th><td>6.011687e-13</td></tr>\n",
              "\t<tr><th scope=row>243</th><td>2.504734e-06</td></tr>\n",
              "\t<tr><th scope=row>245</th><td>6.346543e-13</td></tr>\n",
              "\t<tr><th scope=row>246</th><td>1.957739e-05</td></tr>\n",
              "\t<tr><th scope=row>247</th><td>1.000000e+00</td></tr>\n",
              "\t<tr><th scope=row>249</th><td>1.000000e+00</td></tr>\n",
              "\t<tr><th scope=row>250</th><td>1.235236e-09</td></tr>\n",
              "\t<tr><th scope=row>253</th><td>1.000000e+00</td></tr>\n",
              "\t<tr><th scope=row>256</th><td>5.993755e-13</td></tr>\n",
              "\t<tr><th scope=row>259</th><td>4.923385e-10</td></tr>\n",
              "\t<tr><th scope=row>260</th><td>9.991736e-01</td></tr>\n",
              "\t<tr><th scope=row>261</th><td>1.139656e-04</td></tr>\n",
              "\t<tr><th scope=row>262</th><td>2.081833e-01</td></tr>\n",
              "\t<tr><th scope=row>264</th><td>4.219149e-05</td></tr>\n",
              "\t<tr><th scope=row>265</th><td>1.000000e+00</td></tr>\n",
              "\t<tr><th scope=row>268</th><td>3.938815e-04</td></tr>\n",
              "\t<tr><th scope=row>269</th><td>1.853748e-06</td></tr>\n",
              "\t<tr><th scope=row>270</th><td>8.264501e-08</td></tr>\n",
              "\t<tr><th scope=row>271</th><td>1.000000e+00</td></tr>\n",
              "\t<tr><th scope=row>275</th><td>3.097694e-03</td></tr>\n",
              "\t<tr><th scope=row>277</th><td>6.263828e-12</td></tr>\n",
              "\t<tr><th scope=row>279</th><td>6.231704e-09</td></tr>\n",
              "\t<tr><th scope=row>280</th><td>3.887875e-14</td></tr>\n",
              "\t<tr><th scope=row>287</th><td>9.999998e-01</td></tr>\n",
              "\t<tr><th scope=row>290</th><td>1.052900e-06</td></tr>\n",
              "\t<tr><th scope=row>294</th><td>1.000000e+00</td></tr>\n",
              "\t<tr><th scope=row>295</th><td>4.190418e-07</td></tr>\n",
              "\t<tr><th scope=row>298</th><td>9.999992e-01</td></tr>\n",
              "\t<tr><th scope=row>300</th><td>9.999917e-01</td></tr>\n",
              "\t<tr><th scope=row>302</th><td>4.546642e-13</td></tr>\n",
              "</tbody>\n",
              "</table>\n"
            ]
          },
          "metadata": {
            "tags": []
          }
        }
      ]
    },
    {
      "cell_type": "code",
      "metadata": {
        "id": "nNV8kqAP1mOD"
      },
      "source": [
        "pcl = ifelse( ph > 0.5, \"Yes\", \"No\")"
      ],
      "execution_count": 24,
      "outputs": []
    },
    {
      "cell_type": "code",
      "metadata": {
        "colab": {
          "base_uri": "https://localhost:8080/",
          "height": 92
        },
        "id": "jOYXCj9O2PsS",
        "outputId": "1fbac60e-ccb2-4c66-c5a1-25c49a152e1b"
      },
      "source": [
        "table(pcl , nhdata$AHD[-train])"
      ],
      "execution_count": 25,
      "outputs": [
        {
          "output_type": "display_data",
          "data": {
            "text/plain": [
              "     \n",
              "pcl   No Yes\n",
              "  No  63  17\n",
              "  Yes 14  55"
            ]
          },
          "metadata": {
            "tags": []
          }
        }
      ]
    },
    {
      "cell_type": "code",
      "metadata": {
        "id": "XqXQ1oz02YFL"
      },
      "source": [
        "acc = function(x, y) mean(x==y)"
      ],
      "execution_count": 22,
      "outputs": []
    },
    {
      "cell_type": "code",
      "metadata": {
        "colab": {
          "base_uri": "https://localhost:8080/",
          "height": 35
        },
        "id": "N1kLn_iX2ar0",
        "outputId": "a47c3128-3b72-4221-fe4a-b5ddc7162d90"
      },
      "source": [
        "acc(pcl, nhdata$AHD[-train])"
      ],
      "execution_count": 26,
      "outputs": [
        {
          "output_type": "display_data",
          "data": {
            "text/plain": [
              "[1] 0.7919463"
            ],
            "text/latex": "0.791946308724832",
            "text/markdown": "0.791946308724832",
            "text/html": [
              "0.791946308724832"
            ]
          },
          "metadata": {
            "tags": []
          }
        }
      ]
    },
    {
      "cell_type": "code",
      "metadata": {
        "id": "9dEnao1x2dEh"
      },
      "source": [
        "## h2o package with samll set of MNIST data"
      ],
      "execution_count": 27,
      "outputs": []
    },
    {
      "cell_type": "code",
      "metadata": {
        "colab": {
          "base_uri": "https://localhost:8080/"
        },
        "id": "H22AfSa-249K",
        "outputId": "c4ee769a-8223-4836-b1e0-2b5c8fbc8b4f"
      },
      "source": [
        "install.packages(\"h2o\")\n",
        "library(h2o)"
      ],
      "execution_count": 28,
      "outputs": [
        {
          "output_type": "stream",
          "text": [
            "Installing package into ‘/usr/local/lib/R/site-library’\n",
            "(as ‘lib’ is unspecified)\n",
            "\n",
            "also installing the dependencies ‘bitops’, ‘RCurl’\n",
            "\n",
            "\n",
            "\n",
            "----------------------------------------------------------------------\n",
            "\n",
            "Your next step is to start H2O:\n",
            "    > h2o.init()\n",
            "\n",
            "For H2O package documentation, ask for help:\n",
            "    > ??h2o\n",
            "\n",
            "After starting H2O, you can use the Web UI at http://localhost:54321\n",
            "For more information visit https://docs.h2o.ai\n",
            "\n",
            "----------------------------------------------------------------------\n",
            "\n",
            "\n",
            "\n",
            "Attaching package: ‘h2o’\n",
            "\n",
            "\n",
            "The following objects are masked from ‘package:stats’:\n",
            "\n",
            "    cor, sd, var\n",
            "\n",
            "\n",
            "The following objects are masked from ‘package:base’:\n",
            "\n",
            "    &&, %*%, %in%, ||, apply, as.factor, as.numeric, colnames,\n",
            "    colnames<-, ifelse, is.character, is.factor, is.numeric, log,\n",
            "    log10, log1p, log2, round, signif, trunc\n",
            "\n",
            "\n"
          ],
          "name": "stderr"
        }
      ]
    },
    {
      "cell_type": "code",
      "metadata": {
        "id": "5KEHmuyS29DB"
      },
      "source": [
        "train0 = read.csv(\"mnist.csv\")"
      ],
      "execution_count": 29,
      "outputs": []
    },
    {
      "cell_type": "code",
      "metadata": {
        "colab": {
          "base_uri": "https://localhost:8080/",
          "height": 35
        },
        "id": "fJqZ4hoB5HGR",
        "outputId": "12adb294-6c5c-4b9f-8b47-1843b4131c67"
      },
      "source": [
        "dim(train0)"
      ],
      "execution_count": 30,
      "outputs": [
        {
          "output_type": "display_data",
          "data": {
            "text/plain": [
              "[1] 20000     1"
            ],
            "text/latex": "\\begin{enumerate*}\n\\item 20000\n\\item 1\n\\end{enumerate*}\n",
            "text/markdown": "1. 20000\n2. 1\n\n\n",
            "text/html": [
              "<style>\n",
              ".list-inline {list-style: none; margin:0; padding: 0}\n",
              ".list-inline>li {display: inline-block}\n",
              ".list-inline>li:not(:last-child)::after {content: \"\\00b7\"; padding: 0 .5ex}\n",
              "</style>\n",
              "<ol class=list-inline><li>20000</li><li>1</li></ol>\n"
            ]
          },
          "metadata": {
            "tags": []
          }
        }
      ]
    },
    {
      "cell_type": "code",
      "metadata": {
        "colab": {
          "base_uri": "https://localhost:8080/",
          "height": 176
        },
        "id": "aCG_baWg55L1",
        "outputId": "3a012d03-d108-456d-c49c-ef4c284b4c20"
      },
      "source": [
        "train0[1:10,1:10]"
      ],
      "execution_count": 39,
      "outputs": [
        {
          "output_type": "error",
          "ename": "ERROR",
          "evalue": "ignored",
          "traceback": [
            "Error in `[.data.frame`(train0, 1:10, 1:10): undefined columns selected\nTraceback:\n",
            "1. train0[1:10, 1:10]",
            "2. `[.data.frame`(train0, 1:10, 1:10)",
            "3. stop(\"undefined columns selected\")"
          ]
        }
      ]
    },
    {
      "cell_type": "code",
      "metadata": {
        "id": "Mipu8wSp57nI"
      },
      "source": [
        "test = read.csv(\"mnist.csv\")"
      ],
      "execution_count": 32,
      "outputs": []
    },
    {
      "cell_type": "code",
      "metadata": {
        "colab": {
          "base_uri": "https://localhost:8080/"
        },
        "id": "cIL1HUXb-USE",
        "outputId": "4cc6ab46-b659-4538-f748-b1414c720da2"
      },
      "source": [
        "h2o.init()"
      ],
      "execution_count": 38,
      "outputs": [
        {
          "output_type": "stream",
          "text": [
            "\n",
            "H2O is not running yet, starting it now...\n",
            "\n",
            "Note:  In case of errors look at the following log files:\n",
            "    /tmp/RtmpMstnmi/file3a38f542d2/h2o_UnknownUser_started_from_r.out\n",
            "    /tmp/RtmpMstnmi/file3a10767700/h2o_UnknownUser_started_from_r.err\n",
            "\n",
            "\n",
            "Starting H2O JVM and connecting: ... Connection successful!\n",
            "\n",
            "R is connected to the H2O cluster: \n",
            "    H2O cluster uptime:         2 seconds 909 milliseconds \n",
            "    H2O cluster timezone:       Etc/UTC \n",
            "    H2O data parsing timezone:  UTC \n",
            "    H2O cluster version:        3.32.1.3 \n",
            "    H2O cluster version age:    19 days  \n",
            "    H2O cluster name:           H2O_started_from_R_root_rct199 \n",
            "    H2O cluster total nodes:    1 \n",
            "    H2O cluster total memory:   3.17 GB \n",
            "    H2O cluster total cores:    2 \n",
            "    H2O cluster allowed cores:  2 \n",
            "    H2O cluster healthy:        TRUE \n",
            "    H2O Connection ip:          localhost \n",
            "    H2O Connection port:        54321 \n",
            "    H2O Connection proxy:       NA \n",
            "    H2O Internal Security:      FALSE \n",
            "    H2O API Extensions:         Amazon S3, XGBoost, Algos, AutoML, Core V3, TargetEncoder, Core V4 \n",
            "    R Version:                  R version 4.1.0 (2021-05-18) \n",
            "\n"
          ],
          "name": "stdout"
        }
      ]
    },
    {
      "cell_type": "code",
      "metadata": {
        "colab": {
          "base_uri": "https://localhost:8080/",
          "height": 35
        },
        "id": "XGoTv4hi6dFJ",
        "outputId": "2622bb46-4b77-40a9-8d41-9f3f41036766"
      },
      "source": [
        "dim(test)"
      ],
      "execution_count": 33,
      "outputs": [
        {
          "output_type": "display_data",
          "data": {
            "text/plain": [
              "[1] 20000     1"
            ],
            "text/latex": "\\begin{enumerate*}\n\\item 20000\n\\item 1\n\\end{enumerate*}\n",
            "text/markdown": "1. 20000\n2. 1\n\n\n",
            "text/html": [
              "<style>\n",
              ".list-inline {list-style: none; margin:0; padding: 0}\n",
              ".list-inline>li {display: inline-block}\n",
              ".list-inline>li:not(:last-child)::after {content: \"\\00b7\"; padding: 0 .5ex}\n",
              "</style>\n",
              "<ol class=list-inline><li>20000</li><li>1</li></ol>\n"
            ]
          },
          "metadata": {
            "tags": []
          }
        }
      ]
    },
    {
      "cell_type": "code",
      "metadata": {
        "id": "1yVbkgQR6dqP"
      },
      "source": [
        "rescale = function(x) x/255"
      ],
      "execution_count": 34,
      "outputs": []
    },
    {
      "cell_type": "code",
      "metadata": {
        "id": "HBOE-Irk6fkF"
      },
      "source": [
        "train0 = data.frame(y = train0$y , train0[,-1]/255)"
      ],
      "execution_count": 36,
      "outputs": []
    },
    {
      "cell_type": "code",
      "metadata": {
        "id": "-QPGnWhf957j"
      },
      "source": [
        "test = data.frame(y = test$y , test[,-1]/255)"
      ],
      "execution_count": 37,
      "outputs": []
    },
    {
      "cell_type": "code",
      "metadata": {
        "id": "ZQ5aJCOu-QkY"
      },
      "source": [
        "n = dim(train0)[1]"
      ],
      "execution_count": 40,
      "outputs": []
    },
    {
      "cell_type": "code",
      "metadata": {
        "colab": {
          "base_uri": "https://localhost:8080/",
          "height": 35
        },
        "id": "2p6FoKfM-f5G",
        "outputId": "750f1150-2bc6-4c3d-c1a8-633373059168"
      },
      "source": [
        "n"
      ],
      "execution_count": 41,
      "outputs": [
        {
          "output_type": "display_data",
          "data": {
            "text/plain": [
              "[1] 0"
            ],
            "text/latex": "0",
            "text/markdown": "0",
            "text/html": [
              "0"
            ]
          },
          "metadata": {
            "tags": []
          }
        }
      ]
    },
    {
      "cell_type": "code",
      "metadata": {
        "id": "7x8_MaaM-gVM"
      },
      "source": [
        "set.seed(10)"
      ],
      "execution_count": 42,
      "outputs": []
    },
    {
      "cell_type": "code",
      "metadata": {
        "id": "SUmU7ts3-hg3"
      },
      "source": [
        "tr = sample(n, 0.8*n)\n",
        "train1 = train0[tr,]\n",
        "val = train0[-tr,]\n",
        "train1 = as.h2o(train1)\n",
        "val = as.h2o(val)\n",
        "test = as.h2o(test)\n",
        "y = \"y\"\n",
        "x = setdiff(names(train1),y)\n",
        "train1[,y] = as.factor(train[,y])\n",
        "val[,y] = as.factor(val[,y])\n",
        "test[,y] = as.factor(test[,y])\n",
        "\n",
        "model12 <- h2o.deeplearning(x = x, \n",
        "                y = y,\n",
        "                training_frame = val,\n",
        "                distribution = \"multinomial\",\n",
        "                activation = \"RectifierWithDropout\",\n",
        "                hidden = c(256, 128, 128),\n",
        "                input_dropout_ratio = 0.2,\n",
        "                hidden_dropout_ratios = c(0.4, 0.2, 0.3),\n",
        "                mini_batch_size = 10,\n",
        "                l1 = le-5,\n",
        "                epochs = 50 # update the weigths)\n",
        "\n",
        "print(model12)\n",
        "\n",
        "## warning : some values all zero\n"
      ],
      "execution_count": null,
      "outputs": []
    },
    {
      "cell_type": "code",
      "metadata": {
        "id": "d8SlChrH8syb"
      },
      "source": [
        "model3 <- h2o.deeplearning(x = x, \n",
        "                y = y,\n",
        "                training_frame = val,\n",
        "                distribution = \"multinomial\",\n",
        "                activation = \"RectifierWithDropout\",\n",
        "                hidden = c(256, 128, 128, 256),\n",
        "                input_dropout_ratio = 0.2,\n",
        "                hidden_dropout_ratios = c(0.4, 0.2, 0.3, 0.5),\n",
        "                mini_batch_size = 10,\n",
        "                l1 = le-5,\n",
        "                epochs = 50 # update the weigths)\n",
        "\n",
        "print(model3)\n",
        "\n",
        "acc= function(x,y) mean(x==y)\n",
        "pred3 = predict(model3, test)\n",
        "table(as.vector( pred3$predict), as.vector(test$y))\n",
        "acc(as.vector(pred3$predict), as.vector(test$y))"
      ],
      "execution_count": null,
      "outputs": []
    },
    {
      "cell_type": "code",
      "metadata": {
        "colab": {
          "base_uri": "https://localhost:8080/"
        },
        "id": "2NFBeNgeCan8",
        "outputId": "3d6a7714-30f3-4da8-e211-dc5021789864"
      },
      "source": [
        "install.packages(\"keras\")"
      ],
      "execution_count": 1,
      "outputs": [
        {
          "output_type": "stream",
          "text": [
            "Installing package into ‘/usr/local/lib/R/site-library’\n",
            "(as ‘lib’ is unspecified)\n",
            "\n",
            "also installing the dependencies ‘png’, ‘config’, ‘reticulate’, ‘tensorflow’, ‘tfruns’, ‘zeallot’\n",
            "\n",
            "\n"
          ],
          "name": "stderr"
        }
      ]
    },
    {
      "cell_type": "code",
      "metadata": {
        "id": "diZo16qDDMR4"
      },
      "source": [
        "library(keras)"
      ],
      "execution_count": 3,
      "outputs": []
    },
    {
      "cell_type": "code",
      "metadata": {
        "id": "GlxKLtJ6DqJ8"
      },
      "source": [
        "mnist <- dataset_mnist()"
      ],
      "execution_count": 14,
      "outputs": []
    },
    {
      "cell_type": "code",
      "metadata": {
        "id": "i6uKrcIC-_au"
      },
      "source": [
        "## MNIST data fully connected neural network\n",
        "library(keras)\n",
        "mnist = dataset_mnist()\n",
        "x_train = mnist$train$x\n",
        "y_train = mnist$train$y_train\n",
        "x_test = mnist$test$x\n",
        "y_test = mnist$test$y"
      ],
      "execution_count": 9,
      "outputs": []
    },
    {
      "cell_type": "code",
      "metadata": {
        "id": "07ssbx2ZFoHU"
      },
      "source": [
        "x_train = mnist$train$x"
      ],
      "execution_count": 15,
      "outputs": []
    },
    {
      "cell_type": "code",
      "metadata": {
        "id": "xhJB6YIlFoDS"
      },
      "source": [
        "y_train = mnist$train$y"
      ],
      "execution_count": 16,
      "outputs": []
    },
    {
      "cell_type": "code",
      "metadata": {
        "id": "ZOMIuPfzFn-I"
      },
      "source": [
        "x_test = mnist$test$x"
      ],
      "execution_count": 17,
      "outputs": []
    },
    {
      "cell_type": "code",
      "metadata": {
        "id": "MbwTrOTUFn46"
      },
      "source": [
        "y_test = mnist$test$y"
      ],
      "execution_count": 18,
      "outputs": []
    },
    {
      "cell_type": "code",
      "metadata": {
        "id": "tKSrftauFn0A"
      },
      "source": [
        "x_train = array_reshape( x_train, c(nrow(x_train),784))"
      ],
      "execution_count": 19,
      "outputs": []
    },
    {
      "cell_type": "code",
      "metadata": {
        "id": "vxXMFZavFntQ"
      },
      "source": [
        "x_test = array_reshape( x_test, c( nrow(x_test), 784))"
      ],
      "execution_count": 20,
      "outputs": []
    },
    {
      "cell_type": "code",
      "metadata": {
        "id": "otbT8dBKFnqw"
      },
      "source": [
        "x_train <- x_train/255"
      ],
      "execution_count": 21,
      "outputs": []
    },
    {
      "cell_type": "code",
      "metadata": {
        "id": "0jJTTjtAFnRu"
      },
      "source": [
        "x_test = x_test /255"
      ],
      "execution_count": 22,
      "outputs": []
    },
    {
      "cell_type": "code",
      "metadata": {
        "colab": {
          "base_uri": "https://localhost:8080/",
          "height": 35
        },
        "id": "XKzPUq7CGZ9i",
        "outputId": "885c42ea-7dd2-45bb-fd24-a033146cfc9d"
      },
      "source": [
        "dim(x_train)"
      ],
      "execution_count": 23,
      "outputs": [
        {
          "output_type": "display_data",
          "data": {
            "text/plain": [
              "[1] 60000   784"
            ],
            "text/latex": "\\begin{enumerate*}\n\\item 60000\n\\item 784\n\\end{enumerate*}\n",
            "text/markdown": "1. 60000\n2. 784\n\n\n",
            "text/html": [
              "<style>\n",
              ".list-inline {list-style: none; margin:0; padding: 0}\n",
              ".list-inline>li {display: inline-block}\n",
              ".list-inline>li:not(:last-child)::after {content: \"\\00b7\"; padding: 0 .5ex}\n",
              "</style>\n",
              "<ol class=list-inline><li>60000</li><li>784</li></ol>\n"
            ]
          },
          "metadata": {
            "tags": []
          }
        }
      ]
    },
    {
      "cell_type": "code",
      "metadata": {
        "id": "QbNPLQpDGeEL"
      },
      "source": [
        "y_train = to_categorical(y_train, 10)"
      ],
      "execution_count": 24,
      "outputs": []
    },
    {
      "cell_type": "code",
      "metadata": {
        "id": "iFcxVD1pPtPE"
      },
      "source": [
        "y_test = to_categorical(y_test, 10)"
      ],
      "execution_count": 25,
      "outputs": []
    },
    {
      "cell_type": "code",
      "metadata": {
        "id": "_4xDCuwIDcNm"
      },
      "source": [
        "\n",
        "#reshape\n",
        "x_train = array_reshape(x_train, c(nrow(x_train), 784))\n",
        "x_test <- array_reshape(x_test, c(nrow(x_test), 784))"
      ],
      "execution_count": 10,
      "outputs": []
    },
    {
      "cell_type": "code",
      "metadata": {
        "id": "jm3kMzsdEJnh"
      },
      "source": [
        "\n",
        "#normalization\n",
        "x_train  = x_train /255\n",
        "x_test = x_test/255"
      ],
      "execution_count": 11,
      "outputs": []
    },
    {
      "cell_type": "code",
      "metadata": {
        "colab": {
          "base_uri": "https://localhost:8080/",
          "height": 35
        },
        "id": "4G_HFZtYFiH9",
        "outputId": "b21fc787-ede5-4127-aac0-562e7a2d04a7"
      },
      "source": [
        "dim(x_train)"
      ],
      "execution_count": 13,
      "outputs": [
        {
          "output_type": "display_data",
          "data": {
            "text/plain": [
              "[1] 60000   784"
            ],
            "text/latex": "\\begin{enumerate*}\n\\item 60000\n\\item 784\n\\end{enumerate*}\n",
            "text/markdown": "1. 60000\n2. 784\n\n\n",
            "text/html": [
              "<style>\n",
              ".list-inline {list-style: none; margin:0; padding: 0}\n",
              ".list-inline>li {display: inline-block}\n",
              ".list-inline>li:not(:last-child)::after {content: \"\\00b7\"; padding: 0 .5ex}\n",
              "</style>\n",
              "<ol class=list-inline><li>60000</li><li>784</li></ol>\n"
            ]
          },
          "metadata": {
            "tags": []
          }
        }
      ]
    },
    {
      "cell_type": "code",
      "metadata": {
        "id": "o2wucRsCELwA"
      },
      "source": [
        "model <- keras_model_sequential()"
      ],
      "execution_count": 27,
      "outputs": []
    },
    {
      "cell_type": "code",
      "metadata": {
        "id": "O7Mo73m8P5PM"
      },
      "source": [
        "model %>%\n",
        "    layer_dense( units = 256, activation = \"relu\", input_shape = c(784)) %>%\n",
        "    layer_dropout(rate = 0.4) %>%\n",
        "    layer_dense(units = 128, activation = \"relu\") %>%\n",
        "    layer_dropout(rate = 0.3 ) %>%\n",
        "    layer_dense(units = 128, activation = \"relu\") %>%\n",
        "    layer_dropout(rate = 0.1) %>%\n",
        "    layer_dense(units = 10, activation = \"softmax\")"
      ],
      "execution_count": 28,
      "outputs": []
    },
    {
      "cell_type": "code",
      "metadata": {
        "colab": {
          "base_uri": "https://localhost:8080/"
        },
        "id": "g_er7pirSkbm",
        "outputId": "cb9d11d9-fa77-42cd-f854-8d5adbb27224"
      },
      "source": [
        "summary(model)"
      ],
      "execution_count": 29,
      "outputs": [
        {
          "output_type": "stream",
          "text": [
            "Model: \"sequential\"\n",
            "________________________________________________________________________________\n",
            "Layer (type)                        Output Shape                    Param #     \n",
            "================================================================================\n",
            "dense_3 (Dense)                     (None, 256)                     200960      \n",
            "________________________________________________________________________________\n",
            "dropout_2 (Dropout)                 (None, 256)                     0           \n",
            "________________________________________________________________________________\n",
            "dense_2 (Dense)                     (None, 128)                     32896       \n",
            "________________________________________________________________________________\n",
            "dropout_1 (Dropout)                 (None, 128)                     0           \n",
            "________________________________________________________________________________\n",
            "dense_1 (Dense)                     (None, 128)                     16512       \n",
            "________________________________________________________________________________\n",
            "dropout (Dropout)                   (None, 128)                     0           \n",
            "________________________________________________________________________________\n",
            "dense (Dense)                       (None, 10)                      1290        \n",
            "================================================================================\n",
            "Total params: 251,658\n",
            "Trainable params: 251,658\n",
            "Non-trainable params: 0\n",
            "________________________________________________________________________________\n"
          ],
          "name": "stdout"
        }
      ]
    },
    {
      "cell_type": "code",
      "metadata": {
        "id": "NmXl1BsbUNxj"
      },
      "source": [
        "model %>% compile(\n",
        "    loss = \"categorical_crossentropy\",\n",
        "    optimizer = optimizer_rmsprop(),\n",
        "    metrics = c(\"accuracy\")\n",
        ")"
      ],
      "execution_count": 30,
      "outputs": []
    },
    {
      "cell_type": "code",
      "metadata": {
        "id": "TDlgzW-YUdC4"
      },
      "source": [
        "history <- model %>% fit(\n",
        "    x_train, y_train,\n",
        "    epochs = 30, batch_size = 128,\n",
        "    validation_split = 0.2\n",
        ")"
      ],
      "execution_count": 31,
      "outputs": []
    },
    {
      "cell_type": "code",
      "metadata": {
        "colab": {
          "base_uri": "https://localhost:8080/",
          "height": 35
        },
        "id": "bdO9e1rSUoe7",
        "outputId": "5401d85a-7396-45ee-fedb-fcf92223f859"
      },
      "source": [
        "model %>% evaluate(x_test, y_test) -> evalm\n",
        "evalm"
      ],
      "execution_count": 32,
      "outputs": [
        {
          "output_type": "display_data",
          "data": {
            "text/plain": [
              "     loss  accuracy \n",
              "0.1055662 0.9800000 "
            ],
            "text/latex": "\\begin{description*}\n\\item[loss] 0.10556623339653\n\\item[accuracy] 0.980000019073486\n\\end{description*}\n",
            "text/markdown": "loss\n:   0.10556623339653accuracy\n:   0.980000019073486\n\n",
            "text/html": [
              "<style>\n",
              ".dl-inline {width: auto; margin:0; padding: 0}\n",
              ".dl-inline>dt, .dl-inline>dd {float: none; width: auto; display: inline-block}\n",
              ".dl-inline>dt::after {content: \":\\0020\"; padding-right: .5ex}\n",
              ".dl-inline>dt:not(:first-of-type) {padding-left: .5ex}\n",
              "</style><dl class=dl-inline><dt>loss</dt><dd>0.10556623339653</dd><dt>accuracy</dt><dd>0.980000019073486</dd></dl>\n"
            ]
          },
          "metadata": {
            "tags": []
          }
        }
      ]
    },
    {
      "cell_type": "code",
      "metadata": {
        "id": "gr3kwa-fUukB"
      },
      "source": [
        "model %>% predict_classes(x_test) -> pred.d\n",
        "dim(y_test)[1] ->K"
      ],
      "execution_count": 33,
      "outputs": []
    },
    {
      "cell_type": "code",
      "metadata": {
        "id": "ig17nAOeU1IM"
      },
      "source": [
        "tclass <- numeric(K)"
      ],
      "execution_count": 34,
      "outputs": []
    },
    {
      "cell_type": "code",
      "metadata": {
        "id": "iw33iUL-VO2X"
      },
      "source": [
        "for (i in 1:K){\n",
        "    tclass[i] <- which(y_test[i,]==1) -1\n",
        "}"
      ],
      "execution_count": 35,
      "outputs": []
    },
    {
      "cell_type": "code",
      "metadata": {
        "colab": {
          "base_uri": "https://localhost:8080/",
          "height": 241
        },
        "id": "DcTIU2DFVWrf",
        "outputId": "0c14820b-380d-4aa1-a1ff-be9fc2d54543"
      },
      "source": [
        "table(pred.d, tclass)"
      ],
      "execution_count": 36,
      "outputs": [
        {
          "output_type": "display_data",
          "data": {
            "text/plain": [
              "      tclass\n",
              "pred.d    0    1    2    3    4    5    6    7    8    9\n",
              "     0  972    0    4    1    1    3    5    1    4    4\n",
              "     1    1 1127    2    0    0    0    2    3    1    2\n",
              "     2    0    1 1009    5    2    0    0    7    2    0\n",
              "     3    1    2    2  982    0    5    0    1    3    2\n",
              "     4    0    0    3    0  956    1    3    0    4    5\n",
              "     5    0    0    0    8    0  868    4    0    3    2\n",
              "     6    3    3    3    0    4    7  944    0    4    0\n",
              "     7    1    0    5    7    4    1    0 1010    5    6\n",
              "     8    2    2    3    3    2    4    0    3  944    0\n",
              "     9    0    0    1    4   13    3    0    3    4  988"
            ]
          },
          "metadata": {
            "tags": []
          }
        }
      ]
    },
    {
      "cell_type": "code",
      "metadata": {
        "id": "B-NR8o19Vgdb"
      },
      "source": [
        "##fully connexted NN -> ignored the geometry of the image data\n",
        "## convolution NN"
      ],
      "execution_count": null,
      "outputs": []
    },
    {
      "cell_type": "code",
      "metadata": {
        "id": "uw2LnxOjVY4U"
      },
      "source": [
        ""
      ],
      "execution_count": null,
      "outputs": []
    }
  ]
}