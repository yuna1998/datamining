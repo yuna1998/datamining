{
  "nbformat": 4,
  "nbformat_minor": 0,
  "metadata": {
    "colab": {
      "name": "Classification.ipynb",
      "provenance": [],
      "authorship_tag": "ABX9TyMOra9qf+iWTEpVmROGCufP",
      "include_colab_link": true
    },
    "kernelspec": {
      "name": "ir",
      "display_name": "R"
    },
    "language_info": {
      "name": "R"
    }
  },
  "cells": [
    {
      "cell_type": "markdown",
      "metadata": {
        "id": "view-in-github",
        "colab_type": "text"
      },
      "source": [
        "<a href=\"https://colab.research.google.com/github/yuna1998/datamining/blob/main/Classification.ipynb\" target=\"_parent\"><img src=\"https://colab.research.google.com/assets/colab-badge.svg\" alt=\"Open In Colab\"/></a>"
      ]
    },
    {
      "cell_type": "code",
      "metadata": {
        "colab": {
          "base_uri": "https://localhost:8080/"
        },
        "id": "QJLo63jcy_8r",
        "outputId": "3ce8a71a-1f35-488c-dd5d-bf2ff11e5de5"
      },
      "source": [
        "install.packages(\"ISLR\")"
      ],
      "execution_count": 2,
      "outputs": [
        {
          "output_type": "stream",
          "text": [
            "Installing package into ‘/usr/local/lib/R/site-library’\n",
            "(as ‘lib’ is unspecified)\n",
            "\n"
          ],
          "name": "stderr"
        }
      ]
    },
    {
      "cell_type": "code",
      "metadata": {
        "id": "Tx1AIxyDyx7e"
      },
      "source": [
        "library(ISLR)"
      ],
      "execution_count": 3,
      "outputs": []
    },
    {
      "cell_type": "code",
      "metadata": {
        "colab": {
          "base_uri": "https://localhost:8080/",
          "height": 281
        },
        "id": "S3zHQbBRy6R5",
        "outputId": "57c305b7-8326-4746-c619-0ec3b71e2d41"
      },
      "source": [
        "head(Default)"
      ],
      "execution_count": 4,
      "outputs": [
        {
          "output_type": "display_data",
          "data": {
            "text/plain": [
              "  default student balance   income   \n",
              "1 No      No       729.5265 44361.625\n",
              "2 No      Yes      817.1804 12106.135\n",
              "3 No      No      1073.5492 31767.139\n",
              "4 No      No       529.2506 35704.494\n",
              "5 No      No       785.6559 38463.496\n",
              "6 No      Yes      919.5885  7491.559"
            ],
            "text/latex": "A data.frame: 6 × 4\n\\begin{tabular}{r|llll}\n  & default & student & balance & income\\\\\n  & <fct> & <fct> & <dbl> & <dbl>\\\\\n\\hline\n\t1 & No & No  &  729.5265 & 44361.625\\\\\n\t2 & No & Yes &  817.1804 & 12106.135\\\\\n\t3 & No & No  & 1073.5492 & 31767.139\\\\\n\t4 & No & No  &  529.2506 & 35704.494\\\\\n\t5 & No & No  &  785.6559 & 38463.496\\\\\n\t6 & No & Yes &  919.5885 &  7491.559\\\\\n\\end{tabular}\n",
            "text/markdown": "\nA data.frame: 6 × 4\n\n| <!--/--> | default &lt;fct&gt; | student &lt;fct&gt; | balance &lt;dbl&gt; | income &lt;dbl&gt; |\n|---|---|---|---|---|\n| 1 | No | No  |  729.5265 | 44361.625 |\n| 2 | No | Yes |  817.1804 | 12106.135 |\n| 3 | No | No  | 1073.5492 | 31767.139 |\n| 4 | No | No  |  529.2506 | 35704.494 |\n| 5 | No | No  |  785.6559 | 38463.496 |\n| 6 | No | Yes |  919.5885 |  7491.559 |\n\n",
            "text/html": [
              "<table class=\"dataframe\">\n",
              "<caption>A data.frame: 6 × 4</caption>\n",
              "<thead>\n",
              "\t<tr><th></th><th scope=col>default</th><th scope=col>student</th><th scope=col>balance</th><th scope=col>income</th></tr>\n",
              "\t<tr><th></th><th scope=col>&lt;fct&gt;</th><th scope=col>&lt;fct&gt;</th><th scope=col>&lt;dbl&gt;</th><th scope=col>&lt;dbl&gt;</th></tr>\n",
              "</thead>\n",
              "<tbody>\n",
              "\t<tr><th scope=row>1</th><td>No</td><td>No </td><td> 729.5265</td><td>44361.625</td></tr>\n",
              "\t<tr><th scope=row>2</th><td>No</td><td>Yes</td><td> 817.1804</td><td>12106.135</td></tr>\n",
              "\t<tr><th scope=row>3</th><td>No</td><td>No </td><td>1073.5492</td><td>31767.139</td></tr>\n",
              "\t<tr><th scope=row>4</th><td>No</td><td>No </td><td> 529.2506</td><td>35704.494</td></tr>\n",
              "\t<tr><th scope=row>5</th><td>No</td><td>No </td><td> 785.6559</td><td>38463.496</td></tr>\n",
              "\t<tr><th scope=row>6</th><td>No</td><td>Yes</td><td> 919.5885</td><td> 7491.559</td></tr>\n",
              "</tbody>\n",
              "</table>\n"
            ]
          },
          "metadata": {
            "tags": []
          }
        }
      ]
    },
    {
      "cell_type": "code",
      "metadata": {
        "colab": {
          "base_uri": "https://localhost:8080/"
        },
        "id": "KZfK6j7DzKLc",
        "outputId": "01c1d134-ea5b-419d-c1f8-a1002a21e4eb"
      },
      "source": [
        "str(Default)"
      ],
      "execution_count": 5,
      "outputs": [
        {
          "output_type": "stream",
          "text": [
            "'data.frame':\t10000 obs. of  4 variables:\n",
            " $ default: Factor w/ 2 levels \"No\",\"Yes\": 1 1 1 1 1 1 1 1 1 1 ...\n",
            " $ student: Factor w/ 2 levels \"No\",\"Yes\": 1 2 1 1 1 2 1 2 1 1 ...\n",
            " $ balance: num  730 817 1074 529 786 ...\n",
            " $ income : num  44362 12106 31767 35704 38463 ...\n"
          ],
          "name": "stdout"
        }
      ]
    },
    {
      "cell_type": "code",
      "metadata": {
        "id": "eUpkGAuBzNax"
      },
      "source": [
        "##For interpretation purpose, we use all the obs"
      ],
      "execution_count": 6,
      "outputs": []
    },
    {
      "cell_type": "code",
      "metadata": {
        "id": "PAGBwhu4zZKB"
      },
      "source": [
        "fb <- glm(default~balance, data = Default, family = binomial)"
      ],
      "execution_count": 8,
      "outputs": []
    },
    {
      "cell_type": "code",
      "metadata": {
        "colab": {
          "base_uri": "https://localhost:8080/",
          "height": 428
        },
        "id": "aMG9HTmVzgPG",
        "outputId": "66f76e13-a79a-481a-dd33-95d325ae5acf"
      },
      "source": [
        "summary(fb)"
      ],
      "execution_count": 9,
      "outputs": [
        {
          "output_type": "display_data",
          "data": {
            "text/plain": [
              "\n",
              "Call:\n",
              "glm(formula = default ~ balance, family = binomial, data = Default)\n",
              "\n",
              "Deviance Residuals: \n",
              "    Min       1Q   Median       3Q      Max  \n",
              "-2.2697  -0.1465  -0.0589  -0.0221   3.7589  \n",
              "\n",
              "Coefficients:\n",
              "              Estimate Std. Error z value Pr(>|z|)    \n",
              "(Intercept) -1.065e+01  3.612e-01  -29.49   <2e-16 ***\n",
              "balance      5.499e-03  2.204e-04   24.95   <2e-16 ***\n",
              "---\n",
              "Signif. codes:  0 ‘***’ 0.001 ‘**’ 0.01 ‘*’ 0.05 ‘.’ 0.1 ‘ ’ 1\n",
              "\n",
              "(Dispersion parameter for binomial family taken to be 1)\n",
              "\n",
              "    Null deviance: 2920.6  on 9999  degrees of freedom\n",
              "Residual deviance: 1596.5  on 9998  degrees of freedom\n",
              "AIC: 1600.5\n",
              "\n",
              "Number of Fisher Scoring iterations: 8\n"
            ]
          },
          "metadata": {
            "tags": []
          }
        }
      ]
    },
    {
      "cell_type": "code",
      "metadata": {
        "id": "cWOAi46Qzodo"
      },
      "source": [
        "##balance is not important"
      ],
      "execution_count": null,
      "outputs": []
    },
    {
      "cell_type": "code",
      "metadata": {
        "colab": {
          "base_uri": "https://localhost:8080/",
          "height": 35
        },
        "id": "DbM-VFxh0Eju",
        "outputId": "26da4086-1240-4a79-e685-3d97dd2c730e"
      },
      "source": [
        "predict(fb, newdata = data.frame(balance = c(1000,2000)))"
      ],
      "execution_count": 10,
      "outputs": [
        {
          "output_type": "display_data",
          "data": {
            "text/plain": [
              "         1          2 \n",
              "-5.1524137  0.3465032 "
            ],
            "text/latex": "\\begin{description*}\n\\item[1] -5.1524136829503\n\\item[2] 0.346503247961188\n\\end{description*}\n",
            "text/markdown": "1\n:   -5.15241368295032\n:   0.346503247961188\n\n",
            "text/html": [
              "<style>\n",
              ".dl-inline {width: auto; margin:0; padding: 0}\n",
              ".dl-inline>dt, .dl-inline>dd {float: none; width: auto; display: inline-block}\n",
              ".dl-inline>dt::after {content: \":\\0020\"; padding-right: .5ex}\n",
              ".dl-inline>dt:not(:first-of-type) {padding-left: .5ex}\n",
              "</style><dl class=dl-inline><dt>1</dt><dd>-5.1524136829503</dd><dt>2</dt><dd>0.346503247961188</dd></dl>\n"
            ]
          },
          "metadata": {
            "tags": []
          }
        }
      ]
    },
    {
      "cell_type": "code",
      "metadata": {
        "colab": {
          "base_uri": "https://localhost:8080/",
          "height": 35
        },
        "id": "9b4qOZXL0Smx",
        "outputId": "220e5908-c00d-49bd-dcc8-58c42d751ae9"
      },
      "source": [
        "predict(fb, newdata = data.frame(balance = c(1000,2000)), type = \"response\")"
      ],
      "execution_count": 11,
      "outputs": [
        {
          "output_type": "display_data",
          "data": {
            "text/plain": [
              "          1           2 \n",
              "0.005752145 0.585769370 "
            ],
            "text/latex": "\\begin{description*}\n\\item[1] 0.00575214508582016\n\\item[2] 0.585769369615353\n\\end{description*}\n",
            "text/markdown": "1\n:   0.005752145085820162\n:   0.585769369615353\n\n",
            "text/html": [
              "<style>\n",
              ".dl-inline {width: auto; margin:0; padding: 0}\n",
              ".dl-inline>dt, .dl-inline>dd {float: none; width: auto; display: inline-block}\n",
              ".dl-inline>dt::after {content: \":\\0020\"; padding-right: .5ex}\n",
              ".dl-inline>dt:not(:first-of-type) {padding-left: .5ex}\n",
              "</style><dl class=dl-inline><dt>1</dt><dd>0.00575214508582016</dd><dt>2</dt><dd>0.585769369615353</dd></dl>\n"
            ]
          },
          "metadata": {
            "tags": []
          }
        }
      ]
    },
    {
      "cell_type": "code",
      "metadata": {
        "id": "YTW9rgU70W8K"
      },
      "source": [
        "fs <- glm(default~student, data = Default, family = binomial)"
      ],
      "execution_count": 12,
      "outputs": []
    },
    {
      "cell_type": "code",
      "metadata": {
        "colab": {
          "base_uri": "https://localhost:8080/",
          "height": 428
        },
        "id": "detwwG-O0fYa",
        "outputId": "8b3757fe-a5c8-46f1-8047-24d25bb83cae"
      },
      "source": [
        "summary(fs)"
      ],
      "execution_count": 13,
      "outputs": [
        {
          "output_type": "display_data",
          "data": {
            "text/plain": [
              "\n",
              "Call:\n",
              "glm(formula = default ~ student, family = binomial, data = Default)\n",
              "\n",
              "Deviance Residuals: \n",
              "    Min       1Q   Median       3Q      Max  \n",
              "-0.2970  -0.2970  -0.2434  -0.2434   2.6585  \n",
              "\n",
              "Coefficients:\n",
              "            Estimate Std. Error z value Pr(>|z|)    \n",
              "(Intercept) -3.50413    0.07071  -49.55  < 2e-16 ***\n",
              "studentYes   0.40489    0.11502    3.52 0.000431 ***\n",
              "---\n",
              "Signif. codes:  0 ‘***’ 0.001 ‘**’ 0.01 ‘*’ 0.05 ‘.’ 0.1 ‘ ’ 1\n",
              "\n",
              "(Dispersion parameter for binomial family taken to be 1)\n",
              "\n",
              "    Null deviance: 2920.6  on 9999  degrees of freedom\n",
              "Residual deviance: 2908.7  on 9998  degrees of freedom\n",
              "AIC: 2912.7\n",
              "\n",
              "Number of Fisher Scoring iterations: 6\n"
            ]
          },
          "metadata": {
            "tags": []
          }
        }
      ]
    },
    {
      "cell_type": "code",
      "metadata": {
        "id": "7ZyJ49NM0gth"
      },
      "source": [
        "#Student : dummy variable -> higher prob"
      ],
      "execution_count": null,
      "outputs": []
    },
    {
      "cell_type": "code",
      "metadata": {
        "colab": {
          "base_uri": "https://localhost:8080/",
          "height": 35
        },
        "id": "LM1sdE6V0kXT",
        "outputId": "038a8cc8-06a8-40ca-f561-1fd122fc7d30"
      },
      "source": [
        "predict(fs, newdata = data.frame(student = c(\"No\", \"Yes\")))"
      ],
      "execution_count": 14,
      "outputs": [
        {
          "output_type": "display_data",
          "data": {
            "text/plain": [
              "        1         2 \n",
              "-3.504128 -3.099241 "
            ],
            "text/latex": "\\begin{description*}\n\\item[1] -3.50412776245332\n\\item[2] -3.09924068141779\n\\end{description*}\n",
            "text/markdown": "1\n:   -3.504127762453322\n:   -3.09924068141779\n\n",
            "text/html": [
              "<style>\n",
              ".dl-inline {width: auto; margin:0; padding: 0}\n",
              ".dl-inline>dt, .dl-inline>dd {float: none; width: auto; display: inline-block}\n",
              ".dl-inline>dt::after {content: \":\\0020\"; padding-right: .5ex}\n",
              ".dl-inline>dt:not(:first-of-type) {padding-left: .5ex}\n",
              "</style><dl class=dl-inline><dt>1</dt><dd>-3.50412776245332</dd><dt>2</dt><dd>-3.09924068141779</dd></dl>\n"
            ]
          },
          "metadata": {
            "tags": []
          }
        }
      ]
    },
    {
      "cell_type": "code",
      "metadata": {
        "colab": {
          "base_uri": "https://localhost:8080/",
          "height": 35
        },
        "id": "jeGRc3jH0sjR",
        "outputId": "c81c274c-6ee5-4328-cc49-4ddf9874365d"
      },
      "source": [
        "predict(fs, newdata = data.frame(student = c(\"No\", \"Yes\")), type = \"response\")"
      ],
      "execution_count": 15,
      "outputs": [
        {
          "output_type": "display_data",
          "data": {
            "text/plain": [
              "         1          2 \n",
              "0.02919501 0.04313859 "
            ],
            "text/latex": "\\begin{description*}\n\\item[1] 0.0291950113382475\n\\item[2] 0.0431385869565212\n\\end{description*}\n",
            "text/markdown": "1\n:   0.02919501133824752\n:   0.0431385869565212\n\n",
            "text/html": [
              "<style>\n",
              ".dl-inline {width: auto; margin:0; padding: 0}\n",
              ".dl-inline>dt, .dl-inline>dd {float: none; width: auto; display: inline-block}\n",
              ".dl-inline>dt::after {content: \":\\0020\"; padding-right: .5ex}\n",
              ".dl-inline>dt:not(:first-of-type) {padding-left: .5ex}\n",
              "</style><dl class=dl-inline><dt>1</dt><dd>0.0291950113382475</dd><dt>2</dt><dd>0.0431385869565212</dd></dl>\n"
            ]
          },
          "metadata": {
            "tags": []
          }
        }
      ]
    },
    {
      "cell_type": "code",
      "metadata": {
        "id": "xdZLcRah0vor"
      },
      "source": [
        "fit <- glm(default~., data = Default, family = binomial)"
      ],
      "execution_count": 16,
      "outputs": []
    },
    {
      "cell_type": "code",
      "metadata": {
        "colab": {
          "base_uri": "https://localhost:8080/",
          "height": 465
        },
        "id": "Q4cDtahf04JS",
        "outputId": "35a06951-35fb-4620-b6ec-a2c9d1155d8a"
      },
      "source": [
        "summary(fit)"
      ],
      "execution_count": 17,
      "outputs": [
        {
          "output_type": "display_data",
          "data": {
            "text/plain": [
              "\n",
              "Call:\n",
              "glm(formula = default ~ ., family = binomial, data = Default)\n",
              "\n",
              "Deviance Residuals: \n",
              "    Min       1Q   Median       3Q      Max  \n",
              "-2.4691  -0.1418  -0.0557  -0.0203   3.7383  \n",
              "\n",
              "Coefficients:\n",
              "              Estimate Std. Error z value Pr(>|z|)    \n",
              "(Intercept) -1.087e+01  4.923e-01 -22.080  < 2e-16 ***\n",
              "studentYes  -6.468e-01  2.363e-01  -2.738  0.00619 ** \n",
              "balance      5.737e-03  2.319e-04  24.738  < 2e-16 ***\n",
              "income       3.033e-06  8.203e-06   0.370  0.71152    \n",
              "---\n",
              "Signif. codes:  0 ‘***’ 0.001 ‘**’ 0.01 ‘*’ 0.05 ‘.’ 0.1 ‘ ’ 1\n",
              "\n",
              "(Dispersion parameter for binomial family taken to be 1)\n",
              "\n",
              "    Null deviance: 2920.6  on 9999  degrees of freedom\n",
              "Residual deviance: 1571.5  on 9996  degrees of freedom\n",
              "AIC: 1579.5\n",
              "\n",
              "Number of Fisher Scoring iterations: 8\n"
            ]
          },
          "metadata": {
            "tags": []
          }
        }
      ]
    },
    {
      "cell_type": "code",
      "metadata": {
        "id": "NzlsUn5F06Pb"
      },
      "source": [
        "#Studet effective negative. student, income, balance -=> cor"
      ],
      "execution_count": null,
      "outputs": []
    },
    {
      "cell_type": "code",
      "metadata": {
        "colab": {
          "base_uri": "https://localhost:8080/",
          "height": 35
        },
        "id": "_eZQKjX-1Doh",
        "outputId": "d4c59c3d-3749-478f-f7ae-f0b913d5c21b"
      },
      "source": [
        "predict(fit, newdata = data.frame(student = c(\"Yes\", \"No\"), balance = rep(1500,2), income = rep(40000)), type = \"response\")"
      ],
      "execution_count": 20,
      "outputs": [
        {
          "output_type": "display_data",
          "data": {
            "text/plain": [
              "         1          2 \n",
              "0.05788194 0.10499192 "
            ],
            "text/latex": "\\begin{description*}\n\\item[1] 0.0578819434433743\n\\item[2] 0.104991924149154\n\\end{description*}\n",
            "text/markdown": "1\n:   0.05788194344337432\n:   0.104991924149154\n\n",
            "text/html": [
              "<style>\n",
              ".dl-inline {width: auto; margin:0; padding: 0}\n",
              ".dl-inline>dt, .dl-inline>dd {float: none; width: auto; display: inline-block}\n",
              ".dl-inline>dt::after {content: \":\\0020\"; padding-right: .5ex}\n",
              ".dl-inline>dt:not(:first-of-type) {padding-left: .5ex}\n",
              "</style><dl class=dl-inline><dt>1</dt><dd>0.0578819434433743</dd><dt>2</dt><dd>0.104991924149154</dd></dl>\n"
            ]
          },
          "metadata": {
            "tags": []
          }
        }
      ]
    },
    {
      "cell_type": "code",
      "metadata": {
        "id": "HHeG_Wbj1Z3X"
      },
      "source": [
        "#iris data has multi-class response : \"setosa\" ,\"versicolor\", \"virginica\""
      ],
      "execution_count": 21,
      "outputs": []
    },
    {
      "cell_type": "code",
      "metadata": {
        "id": "bt_UAnaQ2H60"
      },
      "source": [
        "library(nnet)"
      ],
      "execution_count": 22,
      "outputs": []
    },
    {
      "cell_type": "code",
      "metadata": {
        "id": "JsdeHX_r2euD"
      },
      "source": [
        "n <- dim(iris)[1]"
      ],
      "execution_count": 25,
      "outputs": []
    },
    {
      "cell_type": "code",
      "metadata": {
        "id": "dYCA9Wvb2jPk"
      },
      "source": [
        "set.seed(1)"
      ],
      "execution_count": 26,
      "outputs": []
    },
    {
      "cell_type": "code",
      "metadata": {
        "id": "AA4zzOGQ2dGl"
      },
      "source": [
        "train <- sample(n, n/2)"
      ],
      "execution_count": 27,
      "outputs": []
    },
    {
      "cell_type": "code",
      "metadata": {
        "id": "u3W1l4Me2Iws"
      },
      "source": [
        "iris.train = iris[train,]"
      ],
      "execution_count": 28,
      "outputs": []
    },
    {
      "cell_type": "code",
      "metadata": {
        "id": "WUt2z-uv2K4f"
      },
      "source": [
        "iris.test = iris[-train,]"
      ],
      "execution_count": 29,
      "outputs": []
    },
    {
      "cell_type": "code",
      "metadata": {
        "colab": {
          "base_uri": "https://localhost:8080/"
        },
        "id": "4AxrWr4c2ntR",
        "outputId": "b979ed60-e277-4845-9326-745381e9db12"
      },
      "source": [
        "fm = multinom(Species~., data = iris.train)"
      ],
      "execution_count": 30,
      "outputs": [
        {
          "output_type": "stream",
          "text": [
            "# weights:  18 (10 variable)\n",
            "initial  value 82.395922 \n",
            "iter  10 value 5.908155\n",
            "iter  20 value 4.633743\n",
            "iter  30 value 4.306237\n",
            "iter  40 value 4.265719\n",
            "iter  50 value 4.258118\n",
            "iter  60 value 4.257885\n",
            "iter  70 value 4.257371\n",
            "iter  80 value 4.257278\n",
            "final  value 4.257252 \n",
            "converged\n"
          ],
          "name": "stdout"
        }
      ]
    },
    {
      "cell_type": "code",
      "metadata": {
        "colab": {
          "base_uri": "https://localhost:8080/",
          "height": 297
        },
        "id": "JZKoTbRY2tVW",
        "outputId": "4017653f-221e-4528-ca84-9313270be9b8"
      },
      "source": [
        "summary(fm)"
      ],
      "execution_count": 31,
      "outputs": [
        {
          "output_type": "display_data",
          "data": {
            "text/plain": [
              "Call:\n",
              "multinom(formula = Species ~ ., data = iris.train)\n",
              "\n",
              "Coefficients:\n",
              "           (Intercept) Sepal.Length Sepal.Width Petal.Length Petal.Width\n",
              "versicolor    17.53598    -5.245426   -8.823389     12.90287   0.5086761\n",
              "virginica    -22.99845    -5.356535  -15.004168     19.97821  14.6388790\n",
              "\n",
              "Std. Errors:\n",
              "           (Intercept) Sepal.Length Sepal.Width Petal.Length Petal.Width\n",
              "versicolor    24.10054     32.43267    17.60789     73.84797    36.77721\n",
              "virginica     26.10561     32.34470    17.92378     74.20255    37.18942\n",
              "\n",
              "Residual Deviance: 8.514503 \n",
              "AIC: 28.5145 "
            ]
          },
          "metadata": {
            "tags": []
          }
        }
      ]
    },
    {
      "cell_type": "code",
      "metadata": {
        "id": "GDnxHNGS2vAx"
      },
      "source": [
        "pm <- predict(fm, newdata = iris.test)"
      ],
      "execution_count": 32,
      "outputs": []
    },
    {
      "cell_type": "code",
      "metadata": {
        "colab": {
          "base_uri": "https://localhost:8080/",
          "height": 173
        },
        "id": "0uxjgn0o2yae",
        "outputId": "fc9940e4-2915-4ffc-cd1c-538bdd529970"
      },
      "source": [
        "pm"
      ],
      "execution_count": 33,
      "outputs": [
        {
          "output_type": "display_data",
          "data": {
            "text/plain": [
              " [1] setosa     setosa     setosa     setosa     setosa     setosa    \n",
              " [7] setosa     setosa     setosa     setosa     setosa     setosa    \n",
              "[13] setosa     setosa     setosa     setosa     setosa     setosa    \n",
              "[19] setosa     setosa     setosa     setosa     versicolor versicolor\n",
              "[25] versicolor versicolor versicolor versicolor versicolor versicolor\n",
              "[31] versicolor versicolor versicolor versicolor versicolor versicolor\n",
              "[37] versicolor versicolor versicolor versicolor versicolor versicolor\n",
              "[43] versicolor versicolor versicolor versicolor versicolor versicolor\n",
              "[49] versicolor versicolor versicolor versicolor virginica  virginica \n",
              "[55] versicolor virginica  virginica  virginica  virginica  virginica \n",
              "[61] virginica  virginica  virginica  virginica  virginica  virginica \n",
              "[67] virginica  virginica  virginica  virginica  versicolor virginica \n",
              "[73] virginica  virginica  virginica \n",
              "Levels: setosa versicolor virginica"
            ],
            "text/latex": "\\begin{enumerate*}\n\\item setosa\n\\item setosa\n\\item setosa\n\\item setosa\n\\item setosa\n\\item setosa\n\\item setosa\n\\item setosa\n\\item setosa\n\\item setosa\n\\item setosa\n\\item setosa\n\\item setosa\n\\item setosa\n\\item setosa\n\\item setosa\n\\item setosa\n\\item setosa\n\\item setosa\n\\item setosa\n\\item setosa\n\\item setosa\n\\item versicolor\n\\item versicolor\n\\item versicolor\n\\item versicolor\n\\item versicolor\n\\item versicolor\n\\item versicolor\n\\item versicolor\n\\item versicolor\n\\item versicolor\n\\item versicolor\n\\item versicolor\n\\item versicolor\n\\item versicolor\n\\item versicolor\n\\item versicolor\n\\item versicolor\n\\item versicolor\n\\item versicolor\n\\item versicolor\n\\item versicolor\n\\item versicolor\n\\item versicolor\n\\item versicolor\n\\item versicolor\n\\item versicolor\n\\item versicolor\n\\item versicolor\n\\item versicolor\n\\item versicolor\n\\item virginica\n\\item virginica\n\\item versicolor\n\\item virginica\n\\item virginica\n\\item virginica\n\\item virginica\n\\item virginica\n\\item virginica\n\\item virginica\n\\item virginica\n\\item virginica\n\\item virginica\n\\item virginica\n\\item virginica\n\\item virginica\n\\item virginica\n\\item virginica\n\\item versicolor\n\\item virginica\n\\item virginica\n\\item virginica\n\\item virginica\n\\end{enumerate*}\n\n\\emph{Levels}: \\begin{enumerate*}\n\\item 'setosa'\n\\item 'versicolor'\n\\item 'virginica'\n\\end{enumerate*}\n",
            "text/markdown": "1. setosa\n2. setosa\n3. setosa\n4. setosa\n5. setosa\n6. setosa\n7. setosa\n8. setosa\n9. setosa\n10. setosa\n11. setosa\n12. setosa\n13. setosa\n14. setosa\n15. setosa\n16. setosa\n17. setosa\n18. setosa\n19. setosa\n20. setosa\n21. setosa\n22. setosa\n23. versicolor\n24. versicolor\n25. versicolor\n26. versicolor\n27. versicolor\n28. versicolor\n29. versicolor\n30. versicolor\n31. versicolor\n32. versicolor\n33. versicolor\n34. versicolor\n35. versicolor\n36. versicolor\n37. versicolor\n38. versicolor\n39. versicolor\n40. versicolor\n41. versicolor\n42. versicolor\n43. versicolor\n44. versicolor\n45. versicolor\n46. versicolor\n47. versicolor\n48. versicolor\n49. versicolor\n50. versicolor\n51. versicolor\n52. versicolor\n53. virginica\n54. virginica\n55. versicolor\n56. virginica\n57. virginica\n58. virginica\n59. virginica\n60. virginica\n61. virginica\n62. virginica\n63. virginica\n64. virginica\n65. virginica\n66. virginica\n67. virginica\n68. virginica\n69. virginica\n70. virginica\n71. versicolor\n72. virginica\n73. virginica\n74. virginica\n75. virginica\n\n\n\n**Levels**: 1. 'setosa'\n2. 'versicolor'\n3. 'virginica'\n\n\n",
            "text/html": [
              "<style>\n",
              ".list-inline {list-style: none; margin:0; padding: 0}\n",
              ".list-inline>li {display: inline-block}\n",
              ".list-inline>li:not(:last-child)::after {content: \"\\00b7\"; padding: 0 .5ex}\n",
              "</style>\n",
              "<ol class=list-inline><li>setosa</li><li>setosa</li><li>setosa</li><li>setosa</li><li>setosa</li><li>setosa</li><li>setosa</li><li>setosa</li><li>setosa</li><li>setosa</li><li>setosa</li><li>setosa</li><li>setosa</li><li>setosa</li><li>setosa</li><li>setosa</li><li>setosa</li><li>setosa</li><li>setosa</li><li>setosa</li><li>setosa</li><li>setosa</li><li>versicolor</li><li>versicolor</li><li>versicolor</li><li>versicolor</li><li>versicolor</li><li>versicolor</li><li>versicolor</li><li>versicolor</li><li>versicolor</li><li>versicolor</li><li>versicolor</li><li>versicolor</li><li>versicolor</li><li>versicolor</li><li>versicolor</li><li>versicolor</li><li>versicolor</li><li>versicolor</li><li>versicolor</li><li>versicolor</li><li>versicolor</li><li>versicolor</li><li>versicolor</li><li>versicolor</li><li>versicolor</li><li>versicolor</li><li>versicolor</li><li>versicolor</li><li>versicolor</li><li>versicolor</li><li>virginica</li><li>virginica</li><li>versicolor</li><li>virginica</li><li>virginica</li><li>virginica</li><li>virginica</li><li>virginica</li><li>virginica</li><li>virginica</li><li>virginica</li><li>virginica</li><li>virginica</li><li>virginica</li><li>virginica</li><li>virginica</li><li>virginica</li><li>virginica</li><li>versicolor</li><li>virginica</li><li>virginica</li><li>virginica</li><li>virginica</li></ol>\n",
              "\n",
              "<details>\n",
              "\t<summary style=display:list-item;cursor:pointer>\n",
              "\t\t<strong>Levels</strong>:\n",
              "\t</summary>\n",
              "\t<style>\n",
              "\t.list-inline {list-style: none; margin:0; padding: 0}\n",
              "\t.list-inline>li {display: inline-block}\n",
              "\t.list-inline>li:not(:last-child)::after {content: \"\\00b7\"; padding: 0 .5ex}\n",
              "\t</style>\n",
              "\t<ol class=list-inline><li>'setosa'</li><li>'versicolor'</li><li>'virginica'</li></ol>\n",
              "</details>"
            ]
          },
          "metadata": {
            "tags": []
          }
        }
      ]
    },
    {
      "cell_type": "code",
      "metadata": {
        "colab": {
          "base_uri": "https://localhost:8080/",
          "height": 111
        },
        "id": "WFdtGHze2y1b",
        "outputId": "d4f910b7-311b-4be1-abe4-10ba51c1911b"
      },
      "source": [
        "table(pm, iris.test$Species)"
      ],
      "execution_count": 34,
      "outputs": [
        {
          "output_type": "display_data",
          "data": {
            "text/plain": [
              "            \n",
              "pm           setosa versicolor virginica\n",
              "  setosa         22          0         0\n",
              "  versicolor      0         30         2\n",
              "  virginica       0          0        21"
            ]
          },
          "metadata": {
            "tags": []
          }
        }
      ]
    },
    {
      "cell_type": "code",
      "metadata": {
        "colab": {
          "base_uri": "https://localhost:8080/",
          "height": 35
        },
        "id": "in5GKf3b21Ce",
        "outputId": "9a2fb958-0de0-4fcf-8fa5-1838e82a0197"
      },
      "source": [
        "mean(pm != iris.test$Species)"
      ],
      "execution_count": 35,
      "outputs": [
        {
          "output_type": "display_data",
          "data": {
            "text/plain": [
              "[1] 0.02666667"
            ],
            "text/latex": "0.0266666666666667",
            "text/markdown": "0.0266666666666667",
            "text/html": [
              "0.0266666666666667"
            ]
          },
          "metadata": {
            "tags": []
          }
        }
      ]
    },
    {
      "cell_type": "code",
      "metadata": {
        "id": "O1qbpplr24FA"
      },
      "source": [
        "##KNN classification"
      ],
      "execution_count": 36,
      "outputs": []
    },
    {
      "cell_type": "code",
      "metadata": {
        "colab": {
          "base_uri": "https://localhost:8080/"
        },
        "id": "wK7jmIxNBt0H",
        "outputId": "393c8a81-0936-4f26-865e-5f9901e9ed84"
      },
      "source": [
        "install.packages(\"class\")"
      ],
      "execution_count": 37,
      "outputs": [
        {
          "output_type": "stream",
          "text": [
            "Installing package into ‘/usr/local/lib/R/site-library’\n",
            "(as ‘lib’ is unspecified)\n",
            "\n"
          ],
          "name": "stderr"
        }
      ]
    },
    {
      "cell_type": "code",
      "metadata": {
        "id": "0GakEdLaBv37"
      },
      "source": [
        "library(class)"
      ],
      "execution_count": 38,
      "outputs": []
    },
    {
      "cell_type": "code",
      "metadata": {
        "colab": {
          "base_uri": "https://localhost:8080/",
          "height": 281
        },
        "id": "xpMeYOmEByOS",
        "outputId": "5c21fada-317e-4b54-ecc4-2c6e6e1f87e7"
      },
      "source": [
        "head(iris.train)"
      ],
      "execution_count": 41,
      "outputs": [
        {
          "output_type": "display_data",
          "data": {
            "text/plain": [
              "    Sepal.Length Sepal.Width Petal.Length Petal.Width Species   \n",
              "68  5.8          2.7         4.1          1.0         versicolor\n",
              "129 6.4          2.8         5.6          2.1         virginica \n",
              "43  4.4          3.2         1.3          0.2         setosa    \n",
              "14  4.3          3.0         1.1          0.1         setosa    \n",
              "51  7.0          3.2         4.7          1.4         versicolor\n",
              "85  5.4          3.0         4.5          1.5         versicolor"
            ],
            "text/latex": "A data.frame: 6 × 5\n\\begin{tabular}{r|lllll}\n  & Sepal.Length & Sepal.Width & Petal.Length & Petal.Width & Species\\\\\n  & <dbl> & <dbl> & <dbl> & <dbl> & <fct>\\\\\n\\hline\n\t68 & 5.8 & 2.7 & 4.1 & 1.0 & versicolor\\\\\n\t129 & 6.4 & 2.8 & 5.6 & 2.1 & virginica \\\\\n\t43 & 4.4 & 3.2 & 1.3 & 0.2 & setosa    \\\\\n\t14 & 4.3 & 3.0 & 1.1 & 0.1 & setosa    \\\\\n\t51 & 7.0 & 3.2 & 4.7 & 1.4 & versicolor\\\\\n\t85 & 5.4 & 3.0 & 4.5 & 1.5 & versicolor\\\\\n\\end{tabular}\n",
            "text/markdown": "\nA data.frame: 6 × 5\n\n| <!--/--> | Sepal.Length &lt;dbl&gt; | Sepal.Width &lt;dbl&gt; | Petal.Length &lt;dbl&gt; | Petal.Width &lt;dbl&gt; | Species &lt;fct&gt; |\n|---|---|---|---|---|---|\n| 68 | 5.8 | 2.7 | 4.1 | 1.0 | versicolor |\n| 129 | 6.4 | 2.8 | 5.6 | 2.1 | virginica  |\n| 43 | 4.4 | 3.2 | 1.3 | 0.2 | setosa     |\n| 14 | 4.3 | 3.0 | 1.1 | 0.1 | setosa     |\n| 51 | 7.0 | 3.2 | 4.7 | 1.4 | versicolor |\n| 85 | 5.4 | 3.0 | 4.5 | 1.5 | versicolor |\n\n",
            "text/html": [
              "<table class=\"dataframe\">\n",
              "<caption>A data.frame: 6 × 5</caption>\n",
              "<thead>\n",
              "\t<tr><th></th><th scope=col>Sepal.Length</th><th scope=col>Sepal.Width</th><th scope=col>Petal.Length</th><th scope=col>Petal.Width</th><th scope=col>Species</th></tr>\n",
              "\t<tr><th></th><th scope=col>&lt;dbl&gt;</th><th scope=col>&lt;dbl&gt;</th><th scope=col>&lt;dbl&gt;</th><th scope=col>&lt;dbl&gt;</th><th scope=col>&lt;fct&gt;</th></tr>\n",
              "</thead>\n",
              "<tbody>\n",
              "\t<tr><th scope=row>68</th><td>5.8</td><td>2.7</td><td>4.1</td><td>1.0</td><td>versicolor</td></tr>\n",
              "\t<tr><th scope=row>129</th><td>6.4</td><td>2.8</td><td>5.6</td><td>2.1</td><td>virginica </td></tr>\n",
              "\t<tr><th scope=row>43</th><td>4.4</td><td>3.2</td><td>1.3</td><td>0.2</td><td>setosa    </td></tr>\n",
              "\t<tr><th scope=row>14</th><td>4.3</td><td>3.0</td><td>1.1</td><td>0.1</td><td>setosa    </td></tr>\n",
              "\t<tr><th scope=row>51</th><td>7.0</td><td>3.2</td><td>4.7</td><td>1.4</td><td>versicolor</td></tr>\n",
              "\t<tr><th scope=row>85</th><td>5.4</td><td>3.0</td><td>4.5</td><td>1.5</td><td>versicolor</td></tr>\n",
              "</tbody>\n",
              "</table>\n"
            ]
          },
          "metadata": {
            "tags": []
          }
        }
      ]
    },
    {
      "cell_type": "code",
      "metadata": {
        "colab": {
          "base_uri": "https://localhost:8080/",
          "height": 281
        },
        "id": "Pp9V_iXnB4iJ",
        "outputId": "8332f196-b854-4263-a2b1-980f23177d19"
      },
      "source": [
        " head(iris.test)"
      ],
      "execution_count": 42,
      "outputs": [
        {
          "output_type": "display_data",
          "data": {
            "text/plain": [
              "  Sepal.Length Sepal.Width Petal.Length Petal.Width Species\n",
              "1 5.1          3.5         1.4          0.2         setosa \n",
              "3 4.7          3.2         1.3          0.2         setosa \n",
              "4 4.6          3.1         1.5          0.2         setosa \n",
              "5 5.0          3.6         1.4          0.2         setosa \n",
              "8 5.0          3.4         1.5          0.2         setosa \n",
              "9 4.4          2.9         1.4          0.2         setosa "
            ],
            "text/latex": "A data.frame: 6 × 5\n\\begin{tabular}{r|lllll}\n  & Sepal.Length & Sepal.Width & Petal.Length & Petal.Width & Species\\\\\n  & <dbl> & <dbl> & <dbl> & <dbl> & <fct>\\\\\n\\hline\n\t1 & 5.1 & 3.5 & 1.4 & 0.2 & setosa\\\\\n\t3 & 4.7 & 3.2 & 1.3 & 0.2 & setosa\\\\\n\t4 & 4.6 & 3.1 & 1.5 & 0.2 & setosa\\\\\n\t5 & 5.0 & 3.6 & 1.4 & 0.2 & setosa\\\\\n\t8 & 5.0 & 3.4 & 1.5 & 0.2 & setosa\\\\\n\t9 & 4.4 & 2.9 & 1.4 & 0.2 & setosa\\\\\n\\end{tabular}\n",
            "text/markdown": "\nA data.frame: 6 × 5\n\n| <!--/--> | Sepal.Length &lt;dbl&gt; | Sepal.Width &lt;dbl&gt; | Petal.Length &lt;dbl&gt; | Petal.Width &lt;dbl&gt; | Species &lt;fct&gt; |\n|---|---|---|---|---|---|\n| 1 | 5.1 | 3.5 | 1.4 | 0.2 | setosa |\n| 3 | 4.7 | 3.2 | 1.3 | 0.2 | setosa |\n| 4 | 4.6 | 3.1 | 1.5 | 0.2 | setosa |\n| 5 | 5.0 | 3.6 | 1.4 | 0.2 | setosa |\n| 8 | 5.0 | 3.4 | 1.5 | 0.2 | setosa |\n| 9 | 4.4 | 2.9 | 1.4 | 0.2 | setosa |\n\n",
            "text/html": [
              "<table class=\"dataframe\">\n",
              "<caption>A data.frame: 6 × 5</caption>\n",
              "<thead>\n",
              "\t<tr><th></th><th scope=col>Sepal.Length</th><th scope=col>Sepal.Width</th><th scope=col>Petal.Length</th><th scope=col>Petal.Width</th><th scope=col>Species</th></tr>\n",
              "\t<tr><th></th><th scope=col>&lt;dbl&gt;</th><th scope=col>&lt;dbl&gt;</th><th scope=col>&lt;dbl&gt;</th><th scope=col>&lt;dbl&gt;</th><th scope=col>&lt;fct&gt;</th></tr>\n",
              "</thead>\n",
              "<tbody>\n",
              "\t<tr><th scope=row>1</th><td>5.1</td><td>3.5</td><td>1.4</td><td>0.2</td><td>setosa</td></tr>\n",
              "\t<tr><th scope=row>3</th><td>4.7</td><td>3.2</td><td>1.3</td><td>0.2</td><td>setosa</td></tr>\n",
              "\t<tr><th scope=row>4</th><td>4.6</td><td>3.1</td><td>1.5</td><td>0.2</td><td>setosa</td></tr>\n",
              "\t<tr><th scope=row>5</th><td>5.0</td><td>3.6</td><td>1.4</td><td>0.2</td><td>setosa</td></tr>\n",
              "\t<tr><th scope=row>8</th><td>5.0</td><td>3.4</td><td>1.5</td><td>0.2</td><td>setosa</td></tr>\n",
              "\t<tr><th scope=row>9</th><td>4.4</td><td>2.9</td><td>1.4</td><td>0.2</td><td>setosa</td></tr>\n",
              "</tbody>\n",
              "</table>\n"
            ]
          },
          "metadata": {
            "tags": []
          }
        }
      ]
    },
    {
      "cell_type": "code",
      "metadata": {
        "id": "CTb5o7lqB_5_"
      },
      "source": [
        "pred = knn(iris.train[,1:4], iris.test[,1:4], iris.train$Species,k=1)"
      ],
      "execution_count": 44,
      "outputs": []
    },
    {
      "cell_type": "code",
      "metadata": {
        "colab": {
          "base_uri": "https://localhost:8080/",
          "height": 111
        },
        "id": "nJlqIiorCIYm",
        "outputId": "804f46d1-2aff-4c59-9c27-820ab0203f7d"
      },
      "source": [
        "table(pred, iris.test$Species)"
      ],
      "execution_count": 45,
      "outputs": [
        {
          "output_type": "display_data",
          "data": {
            "text/plain": [
              "            \n",
              "pred         setosa versicolor virginica\n",
              "  setosa         22          0         0\n",
              "  versicolor      0         29         1\n",
              "  virginica       0          1        22"
            ]
          },
          "metadata": {
            "tags": []
          }
        }
      ]
    },
    {
      "cell_type": "code",
      "metadata": {
        "colab": {
          "base_uri": "https://localhost:8080/",
          "height": 35
        },
        "id": "3kmRUS3mCO4m",
        "outputId": "9a151ca5-2f1e-4694-dbdf-38a2e9a75440"
      },
      "source": [
        "mean(pred != iris.test$Species)"
      ],
      "execution_count": 46,
      "outputs": [
        {
          "output_type": "display_data",
          "data": {
            "text/plain": [
              "[1] 0.02666667"
            ],
            "text/latex": "0.0266666666666667",
            "text/markdown": "0.0266666666666667",
            "text/html": [
              "0.0266666666666667"
            ]
          },
          "metadata": {
            "tags": []
          }
        }
      ]
    },
    {
      "cell_type": "code",
      "metadata": {
        "id": "rspdl730CSQ3"
      },
      "source": [
        "##knn.cv  : LOOCK"
      ],
      "execution_count": 47,
      "outputs": []
    },
    {
      "cell_type": "code",
      "metadata": {
        "id": "w6KhKUzlCnzU"
      },
      "source": [
        "error <- numeric(20)"
      ],
      "execution_count": 49,
      "outputs": []
    },
    {
      "cell_type": "code",
      "metadata": {
        "id": "6XP8kcWmCllB"
      },
      "source": [
        "for (k in 1: 20){\n",
        "    pred = knn.cv(iris.train[,1:4], iris.train$Species,k=k)\n",
        "    error[k] = mean(pred != iris.train$Species)\n",
        "}"
      ],
      "execution_count": 50,
      "outputs": []
    },
    {
      "cell_type": "code",
      "metadata": {
        "colab": {
          "base_uri": "https://localhost:8080/",
          "height": 173
        },
        "id": "wxXh9VqgCcFd",
        "outputId": "5ba255df-ac47-4e38-b2aa-64fc9652cdb7"
      },
      "source": [
        "knn.cv(iris.train[,1:4], iris.train$Species,k=1)"
      ],
      "execution_count": 48,
      "outputs": [
        {
          "output_type": "display_data",
          "data": {
            "text/plain": [
              " [1] versicolor virginica  setosa     setosa     versicolor versicolor\n",
              " [7] setosa     virginica  versicolor setosa     virginica  versicolor\n",
              "[13] setosa     virginica  virginica  setosa     virginica  virginica \n",
              "[19] versicolor setosa     virginica  versicolor virginica  setosa    \n",
              "[25] setosa     versicolor setosa     setosa     virginica  setosa    \n",
              "[31] versicolor virginica  setosa     virginica  setosa     virginica \n",
              "[37] setosa     virginica  virginica  setosa     setosa     setosa    \n",
              "[43] virginica  setosa     setosa     setosa     setosa     versicolor\n",
              "[49] virginica  versicolor virginica  versicolor versicolor versicolor\n",
              "[55] versicolor setosa     virginica  virginica  setosa     versicolor\n",
              "[61] setosa     virginica  setosa     versicolor virginica  virginica \n",
              "[67] versicolor virginica  versicolor virginica  setosa     setosa    \n",
              "[73] virginica  versicolor versicolor\n",
              "Levels: setosa versicolor virginica"
            ],
            "text/latex": "\\begin{enumerate*}\n\\item versicolor\n\\item virginica\n\\item setosa\n\\item setosa\n\\item versicolor\n\\item versicolor\n\\item setosa\n\\item virginica\n\\item versicolor\n\\item setosa\n\\item virginica\n\\item versicolor\n\\item setosa\n\\item virginica\n\\item virginica\n\\item setosa\n\\item virginica\n\\item virginica\n\\item versicolor\n\\item setosa\n\\item virginica\n\\item versicolor\n\\item virginica\n\\item setosa\n\\item setosa\n\\item versicolor\n\\item setosa\n\\item setosa\n\\item virginica\n\\item setosa\n\\item versicolor\n\\item virginica\n\\item setosa\n\\item virginica\n\\item setosa\n\\item virginica\n\\item setosa\n\\item virginica\n\\item virginica\n\\item setosa\n\\item setosa\n\\item setosa\n\\item virginica\n\\item setosa\n\\item setosa\n\\item setosa\n\\item setosa\n\\item versicolor\n\\item virginica\n\\item versicolor\n\\item virginica\n\\item versicolor\n\\item versicolor\n\\item versicolor\n\\item versicolor\n\\item setosa\n\\item virginica\n\\item virginica\n\\item setosa\n\\item versicolor\n\\item setosa\n\\item virginica\n\\item setosa\n\\item versicolor\n\\item virginica\n\\item virginica\n\\item versicolor\n\\item virginica\n\\item versicolor\n\\item virginica\n\\item setosa\n\\item setosa\n\\item virginica\n\\item versicolor\n\\item versicolor\n\\end{enumerate*}\n\n\\emph{Levels}: \\begin{enumerate*}\n\\item 'setosa'\n\\item 'versicolor'\n\\item 'virginica'\n\\end{enumerate*}\n",
            "text/markdown": "1. versicolor\n2. virginica\n3. setosa\n4. setosa\n5. versicolor\n6. versicolor\n7. setosa\n8. virginica\n9. versicolor\n10. setosa\n11. virginica\n12. versicolor\n13. setosa\n14. virginica\n15. virginica\n16. setosa\n17. virginica\n18. virginica\n19. versicolor\n20. setosa\n21. virginica\n22. versicolor\n23. virginica\n24. setosa\n25. setosa\n26. versicolor\n27. setosa\n28. setosa\n29. virginica\n30. setosa\n31. versicolor\n32. virginica\n33. setosa\n34. virginica\n35. setosa\n36. virginica\n37. setosa\n38. virginica\n39. virginica\n40. setosa\n41. setosa\n42. setosa\n43. virginica\n44. setosa\n45. setosa\n46. setosa\n47. setosa\n48. versicolor\n49. virginica\n50. versicolor\n51. virginica\n52. versicolor\n53. versicolor\n54. versicolor\n55. versicolor\n56. setosa\n57. virginica\n58. virginica\n59. setosa\n60. versicolor\n61. setosa\n62. virginica\n63. setosa\n64. versicolor\n65. virginica\n66. virginica\n67. versicolor\n68. virginica\n69. versicolor\n70. virginica\n71. setosa\n72. setosa\n73. virginica\n74. versicolor\n75. versicolor\n\n\n\n**Levels**: 1. 'setosa'\n2. 'versicolor'\n3. 'virginica'\n\n\n",
            "text/html": [
              "<style>\n",
              ".list-inline {list-style: none; margin:0; padding: 0}\n",
              ".list-inline>li {display: inline-block}\n",
              ".list-inline>li:not(:last-child)::after {content: \"\\00b7\"; padding: 0 .5ex}\n",
              "</style>\n",
              "<ol class=list-inline><li>versicolor</li><li>virginica</li><li>setosa</li><li>setosa</li><li>versicolor</li><li>versicolor</li><li>setosa</li><li>virginica</li><li>versicolor</li><li>setosa</li><li>virginica</li><li>versicolor</li><li>setosa</li><li>virginica</li><li>virginica</li><li>setosa</li><li>virginica</li><li>virginica</li><li>versicolor</li><li>setosa</li><li>virginica</li><li>versicolor</li><li>virginica</li><li>setosa</li><li>setosa</li><li>versicolor</li><li>setosa</li><li>setosa</li><li>virginica</li><li>setosa</li><li>versicolor</li><li>virginica</li><li>setosa</li><li>virginica</li><li>setosa</li><li>virginica</li><li>setosa</li><li>virginica</li><li>virginica</li><li>setosa</li><li>setosa</li><li>setosa</li><li>virginica</li><li>setosa</li><li>setosa</li><li>setosa</li><li>setosa</li><li>versicolor</li><li>virginica</li><li>versicolor</li><li>virginica</li><li>versicolor</li><li>versicolor</li><li>versicolor</li><li>versicolor</li><li>setosa</li><li>virginica</li><li>virginica</li><li>setosa</li><li>versicolor</li><li>setosa</li><li>virginica</li><li>setosa</li><li>versicolor</li><li>virginica</li><li>virginica</li><li>versicolor</li><li>virginica</li><li>versicolor</li><li>virginica</li><li>setosa</li><li>setosa</li><li>virginica</li><li>versicolor</li><li>versicolor</li></ol>\n",
              "\n",
              "<details>\n",
              "\t<summary style=display:list-item;cursor:pointer>\n",
              "\t\t<strong>Levels</strong>:\n",
              "\t</summary>\n",
              "\t<style>\n",
              "\t.list-inline {list-style: none; margin:0; padding: 0}\n",
              "\t.list-inline>li {display: inline-block}\n",
              "\t.list-inline>li:not(:last-child)::after {content: \"\\00b7\"; padding: 0 .5ex}\n",
              "\t</style>\n",
              "\t<ol class=list-inline><li>'setosa'</li><li>'versicolor'</li><li>'virginica'</li></ol>\n",
              "</details>"
            ]
          },
          "metadata": {
            "tags": []
          }
        }
      ]
    },
    {
      "cell_type": "code",
      "metadata": {
        "colab": {
          "base_uri": "https://localhost:8080/",
          "height": 87
        },
        "id": "d3Y7lJusCj8a",
        "outputId": "f6bd7635-410c-4691-9423-e6c38b5f0917"
      },
      "source": [
        "error"
      ],
      "execution_count": 51,
      "outputs": [
        {
          "output_type": "display_data",
          "data": {
            "text/plain": [
              " [1] 0.06666667 0.06666667 0.06666667 0.04000000 0.05333333 0.08000000\n",
              " [7] 0.08000000 0.06666667 0.05333333 0.06666667 0.06666667 0.09333333\n",
              "[13] 0.08000000 0.08000000 0.06666667 0.09333333 0.08000000 0.06666667\n",
              "[19] 0.09333333 0.08000000"
            ],
            "text/latex": "\\begin{enumerate*}\n\\item 0.0666666666666667\n\\item 0.0666666666666667\n\\item 0.0666666666666667\n\\item 0.04\n\\item 0.0533333333333333\n\\item 0.08\n\\item 0.08\n\\item 0.0666666666666667\n\\item 0.0533333333333333\n\\item 0.0666666666666667\n\\item 0.0666666666666667\n\\item 0.0933333333333333\n\\item 0.08\n\\item 0.08\n\\item 0.0666666666666667\n\\item 0.0933333333333333\n\\item 0.08\n\\item 0.0666666666666667\n\\item 0.0933333333333333\n\\item 0.08\n\\end{enumerate*}\n",
            "text/markdown": "1. 0.0666666666666667\n2. 0.0666666666666667\n3. 0.0666666666666667\n4. 0.04\n5. 0.0533333333333333\n6. 0.08\n7. 0.08\n8. 0.0666666666666667\n9. 0.0533333333333333\n10. 0.0666666666666667\n11. 0.0666666666666667\n12. 0.0933333333333333\n13. 0.08\n14. 0.08\n15. 0.0666666666666667\n16. 0.0933333333333333\n17. 0.08\n18. 0.0666666666666667\n19. 0.0933333333333333\n20. 0.08\n\n\n",
            "text/html": [
              "<style>\n",
              ".list-inline {list-style: none; margin:0; padding: 0}\n",
              ".list-inline>li {display: inline-block}\n",
              ".list-inline>li:not(:last-child)::after {content: \"\\00b7\"; padding: 0 .5ex}\n",
              "</style>\n",
              "<ol class=list-inline><li>0.0666666666666667</li><li>0.0666666666666667</li><li>0.0666666666666667</li><li>0.04</li><li>0.0533333333333333</li><li>0.08</li><li>0.08</li><li>0.0666666666666667</li><li>0.0533333333333333</li><li>0.0666666666666667</li><li>0.0666666666666667</li><li>0.0933333333333333</li><li>0.08</li><li>0.08</li><li>0.0666666666666667</li><li>0.0933333333333333</li><li>0.08</li><li>0.0666666666666667</li><li>0.0933333333333333</li><li>0.08</li></ol>\n"
            ]
          },
          "metadata": {
            "tags": []
          }
        }
      ]
    },
    {
      "cell_type": "code",
      "metadata": {
        "colab": {
          "base_uri": "https://localhost:8080/",
          "height": 35
        },
        "id": "qf_OMqCvCz4U",
        "outputId": "d4550af7-508e-4624-e3a5-b5a35512fcc1"
      },
      "source": [
        "which.min(error)"
      ],
      "execution_count": 52,
      "outputs": [
        {
          "output_type": "display_data",
          "data": {
            "text/plain": [
              "[1] 4"
            ],
            "text/latex": "4",
            "text/markdown": "4",
            "text/html": [
              "4"
            ]
          },
          "metadata": {
            "tags": []
          }
        }
      ]
    },
    {
      "cell_type": "code",
      "metadata": {
        "id": "0Cu38fZ7C3df"
      },
      "source": [
        "## optimal k = 4"
      ],
      "execution_count": 53,
      "outputs": []
    },
    {
      "cell_type": "code",
      "metadata": {
        "colab": {
          "base_uri": "https://localhost:8080/",
          "height": 128
        },
        "id": "-EwEwzLnC6El",
        "outputId": "558e964a-18ac-4abd-d6ac-41477a204cc1"
      },
      "source": [
        " pred = knn(iris.train[, 1:4], iris.test[, 1:4], iris.train$Species, k = 4)\n",
        " table(pred, iris.test$Species)\n",
        " mean(pred != iris.test$Species) #test classification error rate estimate"
      ],
      "execution_count": 57,
      "outputs": [
        {
          "output_type": "display_data",
          "data": {
            "text/plain": [
              "            \n",
              "pred         setosa versicolor virginica\n",
              "  setosa         22          0         0\n",
              "  versicolor      0         29         1\n",
              "  virginica       0          1        22"
            ]
          },
          "metadata": {
            "tags": []
          }
        },
        {
          "output_type": "display_data",
          "data": {
            "text/plain": [
              "[1] 0.02666667"
            ],
            "text/latex": "0.0266666666666667",
            "text/markdown": "0.0266666666666667",
            "text/html": [
              "0.0266666666666667"
            ]
          },
          "metadata": {
            "tags": []
          }
        }
      ]
    },
    {
      "cell_type": "code",
      "metadata": {
        "id": "DcjmBaqsDEOT"
      },
      "source": [
        ""
      ],
      "execution_count": null,
      "outputs": []
    }
  ]
}