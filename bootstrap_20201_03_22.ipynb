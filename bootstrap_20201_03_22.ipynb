{
  "nbformat": 4,
  "nbformat_minor": 0,
  "metadata": {
    "colab": {
      "name": "bootstrap_20201_03_22.ipynb",
      "provenance": [],
      "authorship_tag": "ABX9TyN329NlfdSlvD9g5SZkAjMD",
      "include_colab_link": true
    },
    "kernelspec": {
      "name": "ir",
      "display_name": "R"
    },
    "language_info": {
      "name": "R"
    }
  },
  "cells": [
    {
      "cell_type": "markdown",
      "metadata": {
        "id": "view-in-github",
        "colab_type": "text"
      },
      "source": [
        "<a href=\"https://colab.research.google.com/github/yuna1998/datamining/blob/main/bootstrap_20201_03_22.ipynb\" target=\"_parent\"><img src=\"https://colab.research.google.com/assets/colab-badge.svg\" alt=\"Open In Colab\"/></a>"
      ]
    },
    {
      "cell_type": "code",
      "metadata": {
        "id": "KGNjYqLQTDcH"
      },
      "source": [
        "##bootstrap variation\n",
        "library(ISLR)"
      ],
      "execution_count": 3,
      "outputs": []
    },
    {
      "cell_type": "code",
      "metadata": {
        "colab": {
          "base_uri": "https://localhost:8080/"
        },
        "id": "NXoMphEOTL8C",
        "outputId": "179215c0-fbd7-4d61-98af-facd03187cf6"
      },
      "source": [
        "install.packages(\"ISLR\")"
      ],
      "execution_count": 2,
      "outputs": [
        {
          "output_type": "stream",
          "text": [
            "Installing package into ‘/usr/local/lib/R/site-library’\n",
            "(as ‘lib’ is unspecified)\n",
            "\n"
          ],
          "name": "stderr"
        }
      ]
    },
    {
      "cell_type": "code",
      "metadata": {
        "colab": {
          "base_uri": "https://localhost:8080/",
          "height": 281
        },
        "id": "iPsFkuLFTTxI",
        "outputId": "4f70c7c1-863f-4802-dad5-0031a1026326"
      },
      "source": [
        "head(Portfolio)"
      ],
      "execution_count": 4,
      "outputs": [
        {
          "output_type": "display_data",
          "data": {
            "text/plain": [
              "  X          Y         \n",
              "1 -0.8952509 -0.2349235\n",
              "2 -1.5624543 -0.8851760\n",
              "3 -0.4170899  0.2718880\n",
              "4  1.0443557 -0.7341975\n",
              "5 -0.3155684  0.8419834\n",
              "6 -1.7371238 -2.0371910"
            ],
            "text/latex": "A data.frame: 6 × 2\n\\begin{tabular}{r|ll}\n  & X & Y\\\\\n  & <dbl> & <dbl>\\\\\n\\hline\n\t1 & -0.8952509 & -0.2349235\\\\\n\t2 & -1.5624543 & -0.8851760\\\\\n\t3 & -0.4170899 &  0.2718880\\\\\n\t4 &  1.0443557 & -0.7341975\\\\\n\t5 & -0.3155684 &  0.8419834\\\\\n\t6 & -1.7371238 & -2.0371910\\\\\n\\end{tabular}\n",
            "text/markdown": "\nA data.frame: 6 × 2\n\n| <!--/--> | X &lt;dbl&gt; | Y &lt;dbl&gt; |\n|---|---|---|\n| 1 | -0.8952509 | -0.2349235 |\n| 2 | -1.5624543 | -0.8851760 |\n| 3 | -0.4170899 |  0.2718880 |\n| 4 |  1.0443557 | -0.7341975 |\n| 5 | -0.3155684 |  0.8419834 |\n| 6 | -1.7371238 | -2.0371910 |\n\n",
            "text/html": [
              "<table class=\"dataframe\">\n",
              "<caption>A data.frame: 6 × 2</caption>\n",
              "<thead>\n",
              "\t<tr><th></th><th scope=col>X</th><th scope=col>Y</th></tr>\n",
              "\t<tr><th></th><th scope=col>&lt;dbl&gt;</th><th scope=col>&lt;dbl&gt;</th></tr>\n",
              "</thead>\n",
              "<tbody>\n",
              "\t<tr><th scope=row>1</th><td>-0.8952509</td><td>-0.2349235</td></tr>\n",
              "\t<tr><th scope=row>2</th><td>-1.5624543</td><td>-0.8851760</td></tr>\n",
              "\t<tr><th scope=row>3</th><td>-0.4170899</td><td> 0.2718880</td></tr>\n",
              "\t<tr><th scope=row>4</th><td> 1.0443557</td><td>-0.7341975</td></tr>\n",
              "\t<tr><th scope=row>5</th><td>-0.3155684</td><td> 0.8419834</td></tr>\n",
              "\t<tr><th scope=row>6</th><td>-1.7371238</td><td>-2.0371910</td></tr>\n",
              "</tbody>\n",
              "</table>\n"
            ]
          },
          "metadata": {
            "tags": []
          }
        }
      ]
    },
    {
      "cell_type": "code",
      "metadata": {
        "colab": {
          "base_uri": "https://localhost:8080/",
          "height": 35
        },
        "id": "G9N5rojbTYXF",
        "outputId": "824882f4-2e60-4049-d3f9-09d3df097603"
      },
      "source": [
        "dim(Portfolio)"
      ],
      "execution_count": 6,
      "outputs": [
        {
          "output_type": "display_data",
          "data": {
            "text/plain": [
              "[1] 100   2"
            ],
            "text/latex": "\\begin{enumerate*}\n\\item 100\n\\item 2\n\\end{enumerate*}\n",
            "text/markdown": "1. 100\n2. 2\n\n\n",
            "text/html": [
              "<style>\n",
              ".list-inline {list-style: none; margin:0; padding: 0}\n",
              ".list-inline>li {display: inline-block}\n",
              ".list-inline>li:not(:last-child)::after {content: \"\\00b7\"; padding: 0 .5ex}\n",
              "</style>\n",
              "<ol class=list-inline><li>100</li><li>2</li></ol>\n"
            ]
          },
          "metadata": {
            "tags": []
          }
        }
      ]
    },
    {
      "cell_type": "code",
      "metadata": {
        "id": "jK9lhFlRTapS"
      },
      "source": [
        "alpha.ftn <- function(data,ind){\n",
        "    x = data[ind,1]\n",
        "    y = data[ind,2]\n",
        "    alpha <- (var(y) - cov(x,y))/(var(x)+var(y)-2*cov(x,y))\n",
        "    return(alpha)\n",
        "}"
      ],
      "execution_count": 9,
      "outputs": []
    },
    {
      "cell_type": "code",
      "metadata": {
        "colab": {
          "base_uri": "https://localhost:8080/",
          "height": 35
        },
        "id": "4Hik-UDVTyzz",
        "outputId": "e3c024b7-e775-401e-e5f5-4990234c54a7"
      },
      "source": [
        "alpha.ftn(Portfolio,1:100)"
      ],
      "execution_count": 10,
      "outputs": [
        {
          "output_type": "display_data",
          "data": {
            "text/plain": [
              "[1] 0.5758321"
            ],
            "text/latex": "0.57583207459283",
            "text/markdown": "0.57583207459283",
            "text/html": [
              "0.57583207459283"
            ]
          },
          "metadata": {
            "tags": []
          }
        }
      ]
    },
    {
      "cell_type": "code",
      "metadata": {
        "id": "qpdVwIUkT4We"
      },
      "source": [
        "##bootstrap standard error\n",
        "library(boot)"
      ],
      "execution_count": 11,
      "outputs": []
    },
    {
      "cell_type": "code",
      "metadata": {
        "colab": {
          "base_uri": "https://localhost:8080/",
          "height": 223
        },
        "id": "l5M0DFrBUB-c",
        "outputId": "5b04cd50-13b4-41c2-99b0-ec126601036c"
      },
      "source": [
        "boot(Portfolio, alpha.ftn, R=1000)"
      ],
      "execution_count": 12,
      "outputs": [
        {
          "output_type": "display_data",
          "data": {
            "text/plain": [
              "\n",
              "ORDINARY NONPARAMETRIC BOOTSTRAP\n",
              "\n",
              "\n",
              "Call:\n",
              "boot(data = Portfolio, statistic = alpha.ftn, R = 1000)\n",
              "\n",
              "\n",
              "Bootstrap Statistics :\n",
              "     original      bias    std. error\n",
              "t1* 0.5758321 0.004769444  0.09310515"
            ]
          },
          "metadata": {
            "tags": []
          }
        }
      ]
    },
    {
      "cell_type": "code",
      "metadata": {
        "colab": {
          "base_uri": "https://localhost:8080/",
          "height": 223
        },
        "id": "2RYEquGUUJOE",
        "outputId": "d1a5278e-880e-43d3-8cf3-97650eeadcb2"
      },
      "source": [
        "boot(Portfolio, alpha.ftn, R=1000)"
      ],
      "execution_count": 13,
      "outputs": [
        {
          "output_type": "display_data",
          "data": {
            "text/plain": [
              "\n",
              "ORDINARY NONPARAMETRIC BOOTSTRAP\n",
              "\n",
              "\n",
              "Call:\n",
              "boot(data = Portfolio, statistic = alpha.ftn, R = 1000)\n",
              "\n",
              "\n",
              "Bootstrap Statistics :\n",
              "     original      bias    std. error\n",
              "t1* 0.5758321 0.007925825  0.08986067"
            ]
          },
          "metadata": {
            "tags": []
          }
        }
      ]
    },
    {
      "cell_type": "code",
      "metadata": {
        "id": "Q8vAWw8iUON8"
      },
      "source": [
        "##monte carlio 사용하기 때문에 실행할 때 마다 계속 값이 바뀜\n",
        "##-> set.seed() 사용하면 값 안바뀜"
      ],
      "execution_count": 14,
      "outputs": []
    },
    {
      "cell_type": "code",
      "metadata": {
        "id": "6E3srBxoUXiE"
      },
      "source": [
        "set.seed(1)"
      ],
      "execution_count": 15,
      "outputs": []
    },
    {
      "cell_type": "code",
      "metadata": {
        "colab": {
          "base_uri": "https://localhost:8080/",
          "height": 223
        },
        "id": "Tbx7rgytUYbJ",
        "outputId": "b05fa147-2896-4144-c40a-5380029b6e9d"
      },
      "source": [
        "boot(Portfolio, alpha.ftn, R=1000)"
      ],
      "execution_count": 16,
      "outputs": [
        {
          "output_type": "display_data",
          "data": {
            "text/plain": [
              "\n",
              "ORDINARY NONPARAMETRIC BOOTSTRAP\n",
              "\n",
              "\n",
              "Call:\n",
              "boot(data = Portfolio, statistic = alpha.ftn, R = 1000)\n",
              "\n",
              "\n",
              "Bootstrap Statistics :\n",
              "     original       bias    std. error\n",
              "t1* 0.5758321 -0.001596422  0.09376093"
            ]
          },
          "metadata": {
            "tags": []
          }
        }
      ]
    },
    {
      "cell_type": "code",
      "metadata": {
        "colab": {
          "base_uri": "https://localhost:8080/",
          "height": 223
        },
        "id": "k2i-LDwtUZiL",
        "outputId": "9c6a19cb-269b-40e9-b32b-fb419d6d4845"
      },
      "source": [
        "set.seed(10)\n",
        "boot(Portfolio, alpha.ftn, R=1000)"
      ],
      "execution_count": 17,
      "outputs": [
        {
          "output_type": "display_data",
          "data": {
            "text/plain": [
              "\n",
              "ORDINARY NONPARAMETRIC BOOTSTRAP\n",
              "\n",
              "\n",
              "Call:\n",
              "boot(data = Portfolio, statistic = alpha.ftn, R = 1000)\n",
              "\n",
              "\n",
              "Bootstrap Statistics :\n",
              "     original      bias    std. error\n",
              "t1* 0.5758321 0.006939861  0.09231654"
            ]
          },
          "metadata": {
            "tags": []
          }
        }
      ]
    }
  ]
}